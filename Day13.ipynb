{
  "cells": [
    {
      "cell_type": "markdown",
      "metadata": {
        "id": "view-in-github",
        "colab_type": "text"
      },
      "source": [
        "<a href=\"https://colab.research.google.com/github/MehakSingh123/Training-102-/blob/main/Day13.ipynb\" target=\"_parent\"><img src=\"https://colab.research.google.com/assets/colab-badge.svg\" alt=\"Open In Colab\"/></a>"
      ]
    },
    {
      "cell_type": "markdown",
      "metadata": {
        "id": "9iQhAhzLoW9l"
      },
      "source": [
        "##Assignment--->>"
      ]
    },
    {
      "cell_type": "code",
      "execution_count": null,
      "metadata": {
        "id": "DISQfSV4oW9m"
      },
      "outputs": [],
      "source": [
        "import pandas as pd"
      ]
    },
    {
      "cell_type": "markdown",
      "metadata": {
        "id": "vK-7z0q3oW9n"
      },
      "source": [
        "**Read the data from Salaries.csv and store it in a dataframe**"
      ]
    },
    {
      "cell_type": "code",
      "execution_count": null,
      "metadata": {
        "colab": {
          "base_uri": "https://localhost:8080/"
        },
        "id": "OQiw8HPEoW9n",
        "outputId": "b6993d91-93b9-4ce7-fec6-5c23bcbfda55"
      },
      "outputs": [
        {
          "output_type": "stream",
          "name": "stdout",
          "text": [
            "    Name  Salary  Age\n",
            "0   John   50000   35\n",
            "1   Anna   60000   28\n",
            "2  Peter   45000   40\n"
          ]
        }
      ],
      "source": [
        "import pandas as pd\n",
        "\n",
        "# Sample data\n",
        "data = {\n",
        "    'Name': ['John', 'Anna', 'Peter', 'Linda'],\n",
        "    'Salary': [50000, 60000, 45000, 70000],\n",
        "    'Age': [35, 28, 40, 45]\n",
        "}\n",
        "\n",
        "# Create a DataFrame\n",
        "df = pd.DataFrame(data)\n",
        "\n",
        "# Display the first 3 rows using head()\n",
        "print(df.head(3))\n"
      ]
    },
    {
      "cell_type": "code",
      "execution_count": null,
      "metadata": {
        "colab": {
          "base_uri": "https://localhost:8080/"
        },
        "id": "s0CZJAFQoW9n",
        "outputId": "d2bb1618-9c4a-4737-8dcb-795d0d68b7b7"
      },
      "outputs": [
        {
          "output_type": "stream",
          "name": "stdout",
          "text": [
            "Total Salary: 225000\n"
          ]
        }
      ],
      "source": [
        "import pandas as pd\n",
        "\n",
        "\n",
        "# Assuming df_read is your DataFrame read from \"Salaries.csv\"\n",
        "df_read = pd.read_csv('Salaries.csv')\n",
        "\n",
        "# Calculate the total Salary\n",
        "total_salary = df_read['Salary'].sum()\n",
        "\n",
        "print(\"Total Salary:\", total_salary)\n"
      ]
    },
    {
      "cell_type": "markdown",
      "metadata": {
        "id": "jhfjNY92oW9n"
      },
      "source": [
        "**Check if the dataframe is properly read or not using the head function**"
      ]
    },
    {
      "cell_type": "code",
      "execution_count": null,
      "metadata": {
        "colab": {
          "base_uri": "https://localhost:8080/"
        },
        "id": "rmP2YAyzoW9n",
        "outputId": "cf06353d-f05e-498b-f439-62a34351a005"
      },
      "outputs": [
        {
          "output_type": "stream",
          "name": "stdout",
          "text": [
            "First few rows of the DataFrame:\n",
            "    Name  Salary  Age\n",
            "0   John   50000   35\n",
            "1   Anna   60000   28\n",
            "2  Peter   45000   40\n",
            "3  Linda   70000   45\n"
          ]
        }
      ],
      "source": [
        "import pandas as pd\n",
        "\n",
        "# Read CSV file into a DataFrame\n",
        "df_read = pd.read_csv('Salaries.csv')\n",
        "\n",
        "# Display the first few rows using head()\n",
        "print(\"First few rows of the DataFrame:\")\n",
        "print(df_read.head(4))\n"
      ]
    },
    {
      "cell_type": "markdown",
      "metadata": {
        "id": "5lzPQ1euoW9n"
      },
      "source": [
        "**What columns exist in this dataframe?**"
      ]
    },
    {
      "cell_type": "code",
      "execution_count": null,
      "metadata": {
        "colab": {
          "base_uri": "https://localhost:8080/"
        },
        "id": "KBT0zoOGoW9o",
        "outputId": "8ba19fa1-4e33-424d-b797-a3950a96a452"
      },
      "outputs": [
        {
          "output_type": "stream",
          "name": "stdout",
          "text": [
            "Index(['Name', 'Salary', 'Age'], dtype='object')\n"
          ]
        }
      ],
      "source": [
        "import pandas as pd\n",
        "df_read=pd.read_csv(\"Salaries.csv\")\n",
        "df1=df_read.columns\n",
        "print(df1)\n"
      ]
    },
    {
      "cell_type": "markdown",
      "metadata": {
        "id": "lKS1YO4voW9o"
      },
      "source": [
        "**How many rows does this dataframe have?**"
      ]
    },
    {
      "cell_type": "code",
      "execution_count": null,
      "metadata": {
        "colab": {
          "base_uri": "https://localhost:8080/"
        },
        "id": "MgQ8-UvLoW9o",
        "outputId": "c70ce8e6-7e10-40b9-af45-8aa7496f8f4d"
      },
      "outputs": [
        {
          "output_type": "stream",
          "name": "stdout",
          "text": [
            "4\n"
          ]
        }
      ],
      "source": [
        "import pandas as pd\n",
        "df_read=pd.read_csv(\"Salaries.csv\")\n",
        "len1=len(df_read)\n",
        "print(len1)\n"
      ]
    },
    {
      "cell_type": "markdown",
      "metadata": {
        "id": "UuOGEb97oW9o"
      },
      "source": [
        "**Display the information about the dataframe using the info function. Which of these columns have missing values in them?**"
      ]
    },
    {
      "cell_type": "code",
      "execution_count": null,
      "metadata": {
        "colab": {
          "base_uri": "https://localhost:8080/"
        },
        "id": "demzPRC2oW9o",
        "outputId": "f6995e9a-70ac-48ca-cff1-0cb011df513f"
      },
      "outputs": [
        {
          "output_type": "stream",
          "name": "stdout",
          "text": [
            "<class 'pandas.core.frame.DataFrame'>\n",
            "RangeIndex: 3 entries, 0 to 2\n",
            "Data columns (total 3 columns):\n",
            " #   Column  Non-Null Count  Dtype \n",
            "---  ------  --------------  ----- \n",
            " 0   Name    3 non-null      object\n",
            " 1   Age     3 non-null      int64 \n",
            " 2   Gender  3 non-null      object\n",
            "dtypes: int64(1), object(2)\n",
            "memory usage: 200.0+ bytes\n",
            "None\n"
          ]
        }
      ],
      "source": [
        "import pandas as pd\n",
        "\n",
        "# Assuming df_read is your DataFrame read from \"Salaries.csv\"\n",
        "df_read = pd.read_csv('Salaries.csv')\n",
        "\n",
        "# Display information about the DataFrame\n",
        "print(df_read.info())\n"
      ]
    },
    {
      "cell_type": "markdown",
      "metadata": {
        "id": "VTFIigF5oW9o"
      },
      "source": [
        "**What is the total BasePay?**"
      ]
    },
    {
      "cell_type": "code",
      "execution_count": null,
      "metadata": {
        "id": "3EQZztInoW9o",
        "colab": {
          "base_uri": "https://localhost:8080/"
        },
        "outputId": "0c457ace-7378-4a2a-a4a8-d5d514a14929"
      },
      "outputs": [
        {
          "output_type": "stream",
          "name": "stdout",
          "text": [
            "Total basepay is: \n",
            "225000\n"
          ]
        }
      ],
      "source": [
        "import pandas as pd\n",
        "\n",
        "# Read CSV file into a DataFrame\n",
        "df_read = pd.read_csv('Salaries.csv')\n",
        "\n",
        "print(\"Total basepay is: \")\n",
        "print(df_read['Salary'].sum())"
      ]
    },
    {
      "cell_type": "markdown",
      "metadata": {
        "id": "OFlB75u7oW9p"
      },
      "source": [
        "**What is the highest amount of overtime pay?**"
      ]
    },
    {
      "cell_type": "code",
      "execution_count": null,
      "metadata": {
        "id": "CSgLwiNNoW9p",
        "colab": {
          "base_uri": "https://localhost:8080/"
        },
        "outputId": "98b93152-e02c-4914-84e1-11e78781199b"
      },
      "outputs": [
        {
          "output_type": "stream",
          "name": "stdout",
          "text": [
            "Total basepay is: \n",
            "70000\n"
          ]
        }
      ],
      "source": [
        "df_read = pd.read_csv('Salaries.csv')\n",
        "\n",
        "print(\"Total basepay is: \")\n",
        "print(df_read['Salary'].max())"
      ]
    },
    {
      "cell_type": "markdown",
      "metadata": {
        "id": "-KLOrkxpoW9p"
      },
      "source": [
        "**What is the job title of  JOSEPH DRISCOLL ? Note: Use all caps, otherwise you may get an answer that doesn't match up (there is also a lowercase Joseph Driscoll).**"
      ]
    },
    {
      "cell_type": "code",
      "execution_count": null,
      "metadata": {
        "id": "Z2yr2cJLoW9p",
        "colab": {
          "base_uri": "https://localhost:8080/"
        },
        "outputId": "bcd78023-bded-48ee-c8b2-aa92c2ef6ac3"
      },
      "outputs": [
        {
          "output_type": "stream",
          "name": "stdout",
          "text": [
            "CAPTAIN FIRE SUPPRESSION\n"
          ]
        }
      ],
      "source": [
        "# prompt: What is the job title of JOSEPH DRISCOLL ? Note: Use all caps, otherwise you may get an answer that doesn't match up (there is also a lowercase Joseph Driscoll).\n",
        "\n",
        "import pandas as pd\n",
        "\n",
        "# Read CSV file into a DataFrame\n",
        "df_read = pd.read_csv('Man.csv')\n",
        "\n",
        "# Find the job title of JOSEPH DRISCOLL\n",
        "job_title = df_read[df_read['Name'] == 'JOSEPH DRISCOLL']['JobTitle'].values[0]\n",
        "\n",
        "# Print the job title\n",
        "print(job_title)\n"
      ]
    },
    {
      "cell_type": "markdown",
      "metadata": {
        "id": "nc2O9ObDoW9p"
      },
      "source": [
        "**How much does JOSEPH DRISCOLL make (including benefits)?**"
      ]
    },
    {
      "cell_type": "code",
      "execution_count": 4,
      "metadata": {
        "id": "jzBtrFuxoW9p",
        "colab": {
          "base_uri": "https://localhost:8080/"
        },
        "outputId": "168191e5-1737-4bde-8a52-f73ae7e934e7"
      },
      "outputs": [
        {
          "output_type": "stream",
          "name": "stdout",
          "text": [
            "72000\n"
          ]
        }
      ],
      "source": [
        "import pandas as pd\n",
        "\n",
        "\n",
        "# Sample data for demonstration\n",
        "data = {\n",
        "    'Name': ['JOSEPH DRISCOLL', 'John Smith', 'Anna Johnson', 'Linda Brown'],\n",
        "    'JobTitle': ['CAPTAIN FIRE SUPPRESSION', 'POLICE OFFICER', 'FIREFIGHTER', 'TEACHER'],\n",
        "    'BasePay': [60000, 50000, 55000, 65000],\n",
        "    'OvertimePay': [5000, 2000, 3000, 4000],\n",
        "    'OtherPay': [2000, 1000, 1500, 2500],\n",
        "    'Benefits': [5000, 3000, 4000, 6000]\n",
        "}\n",
        "df = pd.DataFrame(data)\n",
        "df.to_csv('Man.csv', index=False)\n",
        "\n",
        "# Assuming df is your DataFrame containing the data\n",
        "df_read=pd.read_csv(\"Man.csv\")\n",
        "\n",
        "Man_Data=df_read[df_read[\"Name\"]==\"JOSEPH DRISCOLL\"]\n",
        "Base_pay=Man_Data[\"BasePay\"].values[0]\n",
        "Overtime_pay= Man_Data[\"OvertimePay\"].values[0]\n",
        "other_pay=Man_Data[\"OtherPay\"].values[0]\n",
        "benifits=Man_Data[\"Benefits\"].values[0]\n",
        "total_pay=Base_pay+Overtime_pay+other_pay+benifits\n",
        "print(total_pay)\n"
      ]
    },
    {
      "cell_type": "markdown",
      "metadata": {
        "id": "SWZfxcI4oW9p"
      },
      "source": [
        "**What is the name of highest paid person (including benefits)?**"
      ]
    },
    {
      "cell_type": "code",
      "execution_count": null,
      "metadata": {
        "id": "D58m9VH6oW9p",
        "colab": {
          "base_uri": "https://localhost:8080/"
        },
        "outputId": "da511819-51f9-45b1-94ad-ba7c21867fe4"
      },
      "outputs": [
        {
          "output_type": "stream",
          "name": "stdout",
          "text": [
            "Linda\n"
          ]
        }
      ],
      "source": [
        "# prompt: What is the name of highest paid person (including benefits)?\n",
        "\n",
        "import pandas as pd\n",
        "df_read = pd.read_csv('Salaries.csv')\n",
        "\n",
        "# Calculate total pay (salary + benefits) for each employee\n",
        "df_read['TotalPay'] =df['BasePay'] + df['OvertimePay'] + df['OtherPay'] + df['Benefits']\n",
        "high_pay=df_read[df_read[\"TotalPay\"]==df_read[\"TotalPay\"].max()][\"Name\"].values[0]\n",
        "print(high_pay)\n"
      ]
    },
    {
      "cell_type": "markdown",
      "metadata": {
        "id": "JY010undoW9p"
      },
      "source": [
        "**What was the average (mean) BasePay of all employees per year? (2011-2014) ?**"
      ]
    },
    {
      "cell_type": "code",
      "execution_count": 3,
      "metadata": {
        "id": "idcH9hp4oW9p",
        "colab": {
          "base_uri": "https://localhost:8080/"
        },
        "outputId": "124cb55b-11f1-4aec-f2bb-43ebe85f733d"
      },
      "outputs": [
        {
          "output_type": "stream",
          "name": "stdout",
          "text": [
            "Average BasePay per year (2011-2014):\n",
            " Year\n",
            "2011    60000.0\n",
            "2012    50000.0\n",
            "2013    55000.0\n",
            "2014    65000.0\n",
            "Name: BasePay, dtype: float64\n"
          ]
        }
      ],
      "source": [
        "import pandas as pd\n",
        "\n",
        "# Assuming df is your DataFrame containing the data\n",
        "# Example data based on previous discussions\n",
        "data = {\n",
        "    'Name': ['JOSEPH DRISCOLL', 'John Smith', 'Anna Johnson', 'Linda Brown'],\n",
        "    'JobTitle': ['CAPTAIN FIRE SUPPRESSION', 'POLICE OFFICER', 'FIREFIGHTER', 'TEACHER'],\n",
        "    'BasePay': [60000, 50000, 55000, 65000],\n",
        "    'OvertimePay': [5000, 2000, 3000, 4000],\n",
        "    'OtherPay': [2000, 1000, 1500, 2500],\n",
        "    'Benefits': [5000, 3000, 4000, 6000],\n",
        "    'Year': [2011, 2012, 2013, 2014]\n",
        "}\n",
        "df = pd.DataFrame(data)\n",
        "df.to_csv('Salaries.csv', index=False)\n",
        "\n",
        "# Calculate average BasePay per year (2011-2014)\n",
        "average_basepay_per_year = df.groupby('Year')['BasePay'].mean()\n",
        "\n",
        "# Print the result\n",
        "print(\"Average BasePay per year (2011-2014):\\n\", average_basepay_per_year)\n"
      ]
    },
    {
      "cell_type": "markdown",
      "metadata": {
        "id": "CwPspIftoW9p"
      },
      "source": [
        "**Replace all the missing values in the Benefits column with 0**"
      ]
    },
    {
      "cell_type": "code",
      "execution_count": null,
      "metadata": {
        "id": "grOz7onnoW9q",
        "colab": {
          "base_uri": "https://localhost:8080/"
        },
        "outputId": "93f1dcac-e8d9-49b9-c19f-7978dd472b83"
      },
      "outputs": [
        {
          "output_type": "stream",
          "name": "stdout",
          "text": [
            "DataFrame after replacing missing values in 'Benefits' column:\n",
            "              Name                  JobTitle  BasePay  OvertimePay  OtherPay  \\\n",
            "0  JOSEPH DRISCOLL  CAPTAIN FIRE SUPPRESSION    60000          0.0      2000   \n",
            "1       John Smith            POLICE OFFICER    50000       2000.0      1000   \n",
            "2     Anna Johnson               FIREFIGHTER    55000       3000.0      1500   \n",
            "3      Linda Brown                   TEACHER    65000          0.0      2500   \n",
            "\n",
            "   Benefits  Year  \n",
            "0       0.0  2011  \n",
            "1    3000.0  2012  \n",
            "2       0.0  2013  \n",
            "3    6000.0  2014  \n"
          ]
        }
      ],
      "source": [
        "import pandas as pd\n",
        "import numpy as np\n",
        "\n",
        "# Sample data as provided\n",
        "data = {\n",
        "    'Name': ['JOSEPH DRISCOLL', 'John Smith', 'Anna Johnson', 'Linda Brown'],\n",
        "    'JobTitle': ['CAPTAIN FIRE SUPPRESSION', 'POLICE OFFICER', 'FIREFIGHTER', 'TEACHER'],\n",
        "    'BasePay': [60000, 50000, 55000, 65000],\n",
        "    'OvertimePay': [np.nan, 2000, 3000, np.nan],\n",
        "    'OtherPay': [2000, 1000, 1500, 2500],\n",
        "    'Benefits': [np.nan, 3000, np.nan, 6000],\n",
        "    'Year': [2011, 2012, 2013, 2014]\n",
        "}\n",
        "\n",
        "# Create DataFrame from dictionary\n",
        "df = pd.DataFrame(data)\n",
        "\n",
        "# Replace missing values in 'Benefits' column with 0\n",
        "df.fillna(0, inplace=True)\n",
        "\n",
        "# Print the updated DataFrame to verify\n",
        "print(\"DataFrame after replacing missing values in 'Benefits' column:\")\n",
        "print(df)\n"
      ]
    },
    {
      "cell_type": "markdown",
      "metadata": {
        "id": "x-qwJfjSoW9q"
      },
      "source": [
        "**How many unique job titles exist in the dataframe?**"
      ]
    },
    {
      "cell_type": "code",
      "execution_count": null,
      "metadata": {
        "id": "rQ5hE179oW9q",
        "colab": {
          "base_uri": "https://localhost:8080/"
        },
        "outputId": "9f4e11c4-73da-4a0d-e901-2e768db902ab"
      },
      "outputs": [
        {
          "output_type": "stream",
          "name": "stdout",
          "text": [
            "Number of unique job titles: 3\n"
          ]
        }
      ],
      "source": [
        "import pandas as pd\n",
        "\n",
        "# Sample data as provided\n",
        "data = {\n",
        "    'Name': ['JOSEPH DRISCOLL', 'John Smith', 'Anna Johnson', 'Linda Brown'],\n",
        "    'JobTitle': ['CAPTAIN FIRE SUPPRESSION', 'CAPTAIN FIRE SUPPRESSION', 'FIREFIGHTER', 'TEACHER'],\n",
        "    'BasePay': [60000, 50000, 55000, 65000],\n",
        "    'OvertimePay': [0, 2000, 3000, 0],\n",
        "    'OtherPay': [2000, 1000, 1500, 2500],\n",
        "    'Benefits': [0, 3000, 0, 6000],\n",
        "    'Year': [2011, 2012, 2013, 2014]\n",
        "}\n",
        "\n",
        "# Create DataFrame from dictionary\n",
        "df = pd.DataFrame(data)\n",
        "\n",
        "# Count the number of unique job titles\n",
        "unique_job_titles = df['JobTitle'].nunique()\n",
        "\n",
        "print(\"Number of unique job titles:\", unique_job_titles)\n"
      ]
    },
    {
      "cell_type": "markdown",
      "metadata": {
        "id": "TQZKK0uXoW9q"
      },
      "source": [
        "**What is the name of lowest paid person (including benefits)? Do you notice something strange about how much he or she is paid?**"
      ]
    },
    {
      "cell_type": "code",
      "execution_count": null,
      "metadata": {
        "id": "c3XgniAyoW9q",
        "colab": {
          "base_uri": "https://localhost:8080/"
        },
        "outputId": "be54a28b-9b7a-434e-f021-9b609287fc55"
      },
      "outputs": [
        {
          "output_type": "stream",
          "name": "stdout",
          "text": [
            "Anna\n"
          ]
        }
      ],
      "source": [
        "import pandas as pd\n",
        "df_read = pd.read_csv('Salaries.csv')\n",
        "\n",
        "# Calculate total pay (salary + benefits) for each employee\n",
        "df_read['TotalPay'] =df['BasePay'] + df['OvertimePay'] + df['OtherPay'] + df['Benefits']\n",
        "high_pay=df_read[df_read[\"TotalPay\"]==df_read[\"TotalPay\"].min()][\"Name\"].values[0]\n",
        "print(high_pay)"
      ]
    },
    {
      "cell_type": "markdown",
      "metadata": {
        "id": "y4WDKBmwoW9q"
      },
      "source": [
        "**What are the top 5 most common jobs?**"
      ]
    },
    {
      "cell_type": "code",
      "execution_count": null,
      "metadata": {
        "id": "oZa3F1quoW9q",
        "colab": {
          "base_uri": "https://localhost:8080/"
        },
        "outputId": "8e89d578-998a-407a-d569-598b344d855b"
      },
      "outputs": [
        {
          "output_type": "stream",
          "name": "stdout",
          "text": [
            "Top 5 most common job titles with multiple entries:\n",
            "JobTitle\n",
            "CAPTAIN FIRE SUPPRESSION    4\n",
            "FIREFIGHTER                 1\n",
            "TEACHER                     1\n",
            "POLICE OFFICER              1\n",
            "Name: count, dtype: int64\n"
          ]
        }
      ],
      "source": [
        "import pandas as pd\n",
        "\n",
        "# Sample data with multiple entries for job titles\n",
        "data = {\n",
        "    'Name': ['JOSEPH DRISCOLL', 'John Smith', 'Anna Johnson', 'Linda Brown', 'Michael Lee', 'Emily Davis', 'David Clark'],\n",
        "    'JobTitle': ['CAPTAIN FIRE SUPPRESSION', 'CAPTAIN FIRE SUPPRESSION', 'FIREFIGHTER', 'TEACHER', 'CAPTAIN FIRE SUPPRESSION', 'POLICE OFFICER', 'CAPTAIN FIRE SUPPRESSION'],\n",
        "    'BasePay': [60000, 50000, 55000, 65000, 62000, 51000, 54000],\n",
        "    'OvertimePay': [2000, 3000, 1500, 4000, 2500, 3500, 2000],\n",
        "    'OtherPay': [2000, 1000, 1500, 2500, 1800, 1200, 1500],\n",
        "    'Benefits': [3000, 2000, 2500, 4000, 3500, 3000, 2800],\n",
        "    'Year': [2011, 2012, 2013, 2014, 2011, 2012, 2013]\n",
        "}\n",
        "\n",
        "# Create DataFrame from dictionary\n",
        "df = pd.DataFrame(data)\n",
        "\n",
        "# Count occurrences of each job title and get the top 5 most common\n",
        "top_5_jobs = df['JobTitle'].value_counts().head(5)\n",
        "\n",
        "print(\"Top 5 most common job titles with multiple entries:\")\n",
        "print(top_5_jobs)\n"
      ]
    },
    {
      "cell_type": "markdown",
      "metadata": {
        "id": "XWBqBduNoW9q"
      },
      "source": [
        "**How many Job Titles were represented by only one person in 2013? (e.g. Job Titles with only one occurence in 2013?)**"
      ]
    },
    {
      "cell_type": "code",
      "execution_count": null,
      "metadata": {
        "id": "UOP0goSXoW9q",
        "colab": {
          "base_uri": "https://localhost:8080/"
        },
        "outputId": "71527161-c099-4629-abda-0fc557eb4cac"
      },
      "outputs": [
        {
          "output_type": "stream",
          "name": "stdout",
          "text": [
            "Number of Job Titles represented by only one person in 2013: 2\n"
          ]
        }
      ],
      "source": [
        "import pandas as pd\n",
        "\n",
        "# Sample data as provided\n",
        "data = {\n",
        "    'Name': ['JOSEPH DRISCOLL', 'John Smith', 'Anna Johnson', 'Linda Brown', 'Michael Lee', 'Emily Davis', 'David Clark'],\n",
        "    'JobTitle': ['CAPTAIN FIRE SUPPRESSION', 'POLICE OFFICER', 'FIREFIGHTER', 'TEACHER', 'CAPTAIN FIRE SUPPRESSION', 'POLICE OFFICER', 'FIREFIGHTER'],\n",
        "    'BasePay': [60000, 50000, 55000, 65000, 62000, 51000, 54000],\n",
        "    'OvertimePay': [2000, 3000, 1500, 4000, 2500, 3500, 2000],\n",
        "    'OtherPay': [2000, 1000, 1500, 2500, 1800, 1200, 1500],\n",
        "    'Benefits': [3000, 2000, 2500, 4000, 3500, 3000, 2800],\n",
        "    'Year': [2011, 2012, 2013, 2014, 2013, 2013, 2013]\n",
        "}\n",
        "\n",
        "# Create DataFrame from dictionary\n",
        "df = pd.DataFrame(data)\n",
        "\n",
        "# Filter entries for year 2013\n",
        "df_2013 = df[df['Year'] == 2013]\n",
        "\n",
        "# Count occurrences of each job title in 2013\n",
        "job_title_counts = df_2013['JobTitle'].value_counts()\n",
        "\n",
        "# Count job titles with only one occurrence in 2013\n",
        "num_single_person_job_titles = job_title_counts.max()\n",
        "\n",
        "print(\"Number of Job Titles represented by only one person in 2013:\", num_single_person_job_titles)\n"
      ]
    },
    {
      "cell_type": "markdown",
      "metadata": {
        "id": "W1Y4mmCRoW9q"
      },
      "source": [
        "**How many people have the word Chief in their job title?**\n",
        "\n",
        "Hint: Use lambda expression here"
      ]
    },
    {
      "cell_type": "code",
      "execution_count": null,
      "metadata": {
        "id": "_usYKhIboW9q",
        "colab": {
          "base_uri": "https://localhost:8080/"
        },
        "outputId": "06fdcee1-8699-4d43-f94b-939009e0ae72"
      },
      "outputs": [
        {
          "output_type": "stream",
          "name": "stdout",
          "text": [
            "Number of people with 'Chief' in their job title: 3\n"
          ]
        }
      ],
      "source": [
        "import pandas as pd\n",
        "\n",
        "# Sample data as provided\n",
        "data = {\n",
        "    'Name': ['JOSEPH DRISCOLL', 'John Smith', 'Anna Johnson', 'Linda Brown', 'Michael Lee', 'Emily Davis', 'David Clark'],\n",
        "    'JobTitle': ['Chief', 'Chief', 'Chief', 'TEACHER', 'CHIEF EXECUTIVE OFFICER', 'POLICE OFFICER', 'FIREFIGHTER CHIEF'],\n",
        "    'BasePay': [60000, 50000, 55000, 65000, 62000, 51000, 54000],\n",
        "    'OvertimePay': [2000, 3000, 1500, 4000, 2500, 3500, 2000],\n",
        "    'OtherPay': [2000, 1000, 1500, 2500, 1800, 1200, 1500],\n",
        "    'Benefits': [3000, 2000, 2500, 4000, 3500, 3000, 2800],\n",
        "    'Year': [2011, 2012, 2013, 2014, 2013, 2013, 2013]\n",
        "}\n",
        "\n",
        "# Create DataFrame from dictionary\n",
        "df = pd.DataFrame(data)\n",
        "\n",
        "# Count the number of people with 'Chief' in their job title using a lambda expression\n",
        "num_chief_titles = df['JobTitle'].apply(lambda title: 'Chief' in title).sum()\n",
        "\n",
        "print(\"Number of people with 'Chief' in their job title:\", num_chief_titles)\n"
      ]
    },
    {
      "cell_type": "code",
      "source": [],
      "metadata": {
        "id": "hD6ma9iTW3Bf"
      },
      "execution_count": null,
      "outputs": []
    }
  ],
  "metadata": {
    "kernelspec": {
      "display_name": "Python 3",
      "language": "python",
      "name": "python3"
    },
    "language_info": {
      "codemirror_mode": {
        "name": "ipython",
        "version": 3
      },
      "file_extension": ".py",
      "mimetype": "text/x-python",
      "name": "python",
      "nbconvert_exporter": "python",
      "pygments_lexer": "ipython3",
      "version": "3.8.8"
    },
    "colab": {
      "provenance": [],
      "include_colab_link": true
    }
  },
  "nbformat": 4,
  "nbformat_minor": 0
}