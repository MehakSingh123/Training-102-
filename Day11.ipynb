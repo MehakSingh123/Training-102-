{
  "nbformat": 4,
  "nbformat_minor": 0,
  "metadata": {
    "colab": {
      "provenance": [],
      "authorship_tag": "ABX9TyOmuhS9k/Bvy0eZb5JwODHU",
      "include_colab_link": true
    },
    "kernelspec": {
      "name": "python3",
      "display_name": "Python 3"
    },
    "language_info": {
      "name": "python"
    }
  },
  "cells": [
    {
      "cell_type": "markdown",
      "metadata": {
        "id": "view-in-github",
        "colab_type": "text"
      },
      "source": [
        "<a href=\"https://colab.research.google.com/github/MehakSingh123/Training-102-/blob/main/Day11.ipynb\" target=\"_parent\"><img src=\"https://colab.research.google.com/assets/colab-badge.svg\" alt=\"Open In Colab\"/></a>"
      ]
    },
    {
      "cell_type": "markdown",
      "source": [
        "1. **Event Reminder Application**\n",
        "   - Your task is to create an event reminder application. The application should accept the event name and event date (in `YYYY-MM-DD` format) from the user and calculate how many days are left until the event.\n"
      ],
      "metadata": {
        "id": "gd6AkeZWlYiE"
      }
    },
    {
      "cell_type": "code",
      "execution_count": null,
      "metadata": {
        "colab": {
          "base_uri": "https://localhost:8080/"
        },
        "id": "0T4sDxUDdTmV",
        "outputId": "38ebfd9f-e7d1-4888-b794-9460ff3104ae"
      },
      "outputs": [
        {
          "output_type": "stream",
          "name": "stdout",
          "text": [
            "Enter the event name: golf\n",
            "Enter the event date (YYYY-MM-DD): 2024-11-12\n",
            "Current time is 2024-06-18\n",
            "There are 147 days until golf.\n"
          ]
        }
      ],
      "source": [
        "import datetime\n",
        "\n",
        "def days_until_event(event_name, event_date):\n",
        "    # Parse the event date\n",
        "    event_date = datetime.datetime.strptime(event_date, '%Y-%m-%d').date()\n",
        "\n",
        "    # Get the current date\n",
        "    current_date = datetime.date.today()\n",
        "    print(f\"Current time is {current_date}\")\n",
        "\n",
        "    # Calculate the difference between the event date and the current date\n",
        "    delta = event_date - current_date\n",
        "\n",
        "    # Return the number of days until the event\n",
        "    return delta.days\n",
        "\n",
        "# Get the event name and date from the user\n",
        "event_name = input(\"Enter the event name: \")\n",
        "event_date = input(\"Enter the event date (YYYY-MM-DD): \")\n",
        "\n",
        "# Calculate the number of days until the event\n",
        "days_until = days_until_event(event_name, event_date)\n",
        "\n",
        "# Print the number of days until the event\n",
        "if days_until > 0:\n",
        "    print(f\"There are {days_until} days until {event_name}.\")\n",
        "elif days_until == 0:\n",
        "    print(f\"Today is the day of {event_name}!\")\n",
        "else:\n",
        "    print(f\"{event_name} has already passed.\")\n"
      ]
    },
    {
      "cell_type": "markdown",
      "source": [
        "2. **Time Duration Calculation**\n",
        "   - Write a program that asks the user to input two times (start time and end time) in `HH:MM:SS` format. Calculate and print the duration"
      ],
      "metadata": {
        "id": "Z0c_DRjkm13P"
      }
    },
    {
      "cell_type": "code",
      "source": [
        "# prompt: 2. **Time Duration Calculation**\n",
        "#    - Write a program that asks the user to input two times (start time and end time) in `HH:MM:SS` format. Calculate and print the duration b\n",
        "\n",
        "def calculate_duration(start_time, end_time):\n",
        "  # Convert the start and end times to datetime objects\n",
        "  start_time = datetime.datetime.strptime(start_time, '%H:%M:%S')\n",
        "  end_time = datetime.datetime.strptime(end_time, '%H:%M:%S')\n",
        "\n",
        "  # Calculate the difference between the end time and the start time\n",
        "  delta = end_time - start_time\n",
        "\n",
        "  # Extract the hours, minutes, and seconds from the timedelta object\n",
        "  hours = delta.seconds // 3600\n",
        "  minutes = (delta.seconds // 60) % 60\n",
        "  seconds = delta.seconds % 60\n",
        "\n",
        "  # Print the duration\n",
        "  print(f\"Duration: {hours:02d}:{minutes:02d}:{seconds:02d}\")\n",
        "\n",
        "# Get the start and end times from the user\n",
        "start_time = input(\"Enter the start time (HH:MM:SS): \")\n",
        "end_time = input(\"Enter the end time (HH:MM:SS): \")\n",
        "\n",
        "# Calculate and print the duration\n",
        "calculate_duration(start_time, end_time)\n"
      ],
      "metadata": {
        "colab": {
          "base_uri": "https://localhost:8080/"
        },
        "id": "LjtEiwYUlw5A",
        "outputId": "7f9fe8b6-db30-4939-9298-d54f6da6ed81"
      },
      "execution_count": null,
      "outputs": [
        {
          "output_type": "stream",
          "name": "stdout",
          "text": [
            "Enter the start time (HH:MM:SS): 2:30:00\n",
            "Enter the end time (HH:MM:SS): 4:30:00\n",
            "Duration: 02:00:00\n"
          ]
        }
      ]
    },
    {
      "cell_type": "markdown",
      "source": [
        "3. **Date of Birth and Age Calculation**\n",
        "   - Create a program that asks the user for their date of birth in `YYYY-MM-DD` format and calculates their current age in years, months, and days.\n",
        "\n"
      ],
      "metadata": {
        "id": "8bI1JIpenp-5"
      }
    },
    {
      "cell_type": "code",
      "source": [
        "# prompt: 3. **Date of Birth and Age Calculation**\n",
        "#    - Create a program that asks the user for their date of birth in `YYYY-MM-DD` format and calculates their current age in years, months, and days.\n",
        "\n",
        "from datetime import datetime\n",
        "\n",
        "def calculate_age(birth_date):\n",
        "  # Get the current date\n",
        "  current_date = datetime.today()\n",
        "\n",
        "  # Parse the birth date\n",
        "  birth_date = datetime.strptime(birth_date, '%Y-%m-%d')\n",
        "\n",
        "  # Calculate the difference between the current date and the birth date\n",
        "  delta = current_date - birth_date\n",
        "\n",
        "  # Calculate the years, months, and days\n",
        "  years = delta.days // 365\n",
        "  months = (delta.days % 365) // 30\n",
        "  days = (delta.days % 365) % 30\n",
        "\n",
        "  # Print the age\n",
        "  print(f\"You are {years} years, {months} months, and {days} days old.\")\n",
        "\n",
        "# Get the date of birth from the user\n",
        "birth_date = input(\"Enter your date of birth (YYYY-MM-DD): \")\n",
        "\n",
        "# Calculate and print the age\n",
        "calculate_age(birth_date)\n"
      ],
      "metadata": {
        "colab": {
          "base_uri": "https://localhost:8080/"
        },
        "id": "lcfwIRe-nKcF",
        "outputId": "ce7b9819-75f8-412a-ad14-45d913d76de4"
      },
      "execution_count": null,
      "outputs": [
        {
          "output_type": "stream",
          "name": "stdout",
          "text": [
            "Enter your date of birth (YYYY-MM-DD): 2004-12-4\n",
            "You are 19 years, 6 months, and 21 days old.\n"
          ]
        }
      ]
    },
    {
      "cell_type": "markdown",
      "source": [
        "4. **Weekly Report Generator**\n",
        "   - Write a script that generates a weekly report file named `report_<date>.txt`, where `<date>` is the current date. The file should contain a timestamp of when the report was generated.\n"
      ],
      "metadata": {
        "id": "mQ8OS5eypJHK"
      }
    },
    {
      "cell_type": "code",
      "source": [
        "# prompt: 4. **Weekly Report Generator**\n",
        "#    - Write a script that generates a weekly report file named `report_<date>.txt`, where `<date>` is the current date. The file should contain a timestamp of when the report was generated.\n",
        "\n",
        "import datetime\n",
        "\n",
        "# Get the current date\n",
        "today = datetime.date.today()\n",
        "\n",
        "# Format the date for the file name\n",
        "date_str = today.strftime(\"%Y-%m-%d\")\n",
        "\n",
        "# Create the file name\n",
        "file_name = f\"report_{date_str}.txt\"\n",
        "\n",
        "# Open the file for writing\n",
        "with open(file_name, \"w\") as f:\n",
        "  # Get the current time\n",
        "  now = datetime.datetime.now()\n",
        "\n",
        "  # Write the timestamp to the file\n",
        "  f.write(f\"Report generated on: {now}\\n\")\n"
      ],
      "metadata": {
        "id": "zi_h1_-Yn4xJ"
      },
      "execution_count": null,
      "outputs": []
    },
    {
      "cell_type": "markdown",
      "source": [
        "5. **Project Deadline Tracker**\n",
        "   - Develop a program to track project deadlines. The user should be able to enter the project name and the deadline date. The program should display a message if the deadline is within 7 days from the current date.\n"
      ],
      "metadata": {
        "id": "CQb9OYhUp2_F"
      }
    },
    {
      "cell_type": "code",
      "source": [
        "# prompt: 5. **Project Deadline Tracker**\n",
        "#    - Develop a program to track project deadlines. The user should be able to enter the project name and the deadline date. The program should display a message if the deadline is within 7 days from the current date.\n",
        "\n",
        "from datetime import datetime, timedelta\n",
        "\n",
        "def track_deadline(project_name, deadline_date):\n",
        "  # Parse the deadline date\n",
        "  deadline_date = datetime.strptime(deadline_date, '%Y-%m-%d')\n",
        "\n",
        "  # Get the current date\n",
        "  current_date = datetime.today()\n",
        "\n",
        "  # Calculate the difference between the deadline date and the current date\n",
        "  delta = deadline_date - current_date\n",
        "\n",
        "  # Check if the deadline is within 7 days\n",
        "  if delta <= timedelta(days=7):\n",
        "    print(f\"WARNING: The deadline for {project_name} is within 7 days!\")\n",
        "  else:\n",
        "    print(f\"The deadline for {project_name} is {delta.days} days away.\")\n",
        "\n",
        "# Get the project name and deadline date from the user\n",
        "project_name = input(\"Enter the project name: \")\n",
        "deadline_date = input(\"Enter the deadline date (YYYY-MM-DD): \")\n",
        "\n",
        "# Track the deadline\n",
        "track_deadline(project_name, deadline_date)\n"
      ],
      "metadata": {
        "id": "k5AH8LPNp3rq"
      },
      "execution_count": null,
      "outputs": []
    },
    {
      "cell_type": "markdown",
      "source": [
        "6. **Meeting Scheduler**\n",
        "   - Create a meeting scheduler program that accepts the meeting date and time (in `YYYY-MM-DD HH:MM` format) from the user and calculates the number of days, hours, and minutes left until the meeting.\n"
      ],
      "metadata": {
        "id": "NGvwBlI2qX9y"
      }
    },
    {
      "cell_type": "code",
      "source": [
        "# prompt: 6. **Meeting Scheduler**\n",
        "#    - Create a meeting scheduler program that accepts the meeting date and time (in `YYYY-MM-DD HH:MM` format) from the user and calculates the number of days, hours, and minutes left until the meeting.\n",
        "\n",
        "import datetime\n",
        "\n",
        "def meeting_scheduler(meeting_datetime):\n",
        "  # Parse the meeting date and time\n",
        "  meeting_datetime = datetime.datetime.strptime(meeting_datetime, '%Y-%m-%d %H:%M')\n",
        "\n",
        "  # Get the current date and time\n",
        "  current_datetime = datetime.datetime.now()\n",
        "\n",
        "  # Calculate the difference between the meeting date and time and the current date and time\n",
        "  delta = meeting_datetime - current_datetime\n",
        "\n",
        "  # Calculate the number of days, hours, and minutes left until the meeting\n",
        "  days = delta.days\n",
        "  hours = delta.seconds // 3600\n",
        "  minutes = (delta.seconds // 60) % 60\n",
        "\n",
        "  # Print the number of days, hours, and minutes left until the meeting\n",
        "  print(f\"There are {days} days, {hours} hours, and {minutes} minutes left until the meeting.\")\n",
        "\n",
        "# Get the meeting date and time from the user\n",
        "meeting_datetime = input(\"Enter the meeting date and time (YYYY-MM-DD HH:MM): \")\n",
        "\n",
        "# Schedule the meeting\n",
        "meeting_scheduler(meeting_datetime)\n"
      ],
      "metadata": {
        "colab": {
          "base_uri": "https://localhost:8080/"
        },
        "id": "W20EPZEAqYrX",
        "outputId": "457f4b89-804b-4097-c0ee-aa8dcc4bb841"
      },
      "execution_count": null,
      "outputs": [
        {
          "output_type": "stream",
          "name": "stdout",
          "text": [
            "Enter the meeting date and time (YYYY-MM-DD HH:MM): 2024-12-12  2:00\n",
            "There are 176 days, 21 hours, and 8 minutes left until the meeting.\n"
          ]
        }
      ]
    },
    {
      "cell_type": "markdown",
      "source": [
        "7. **Time Zone Converter**\n",
        "   - Write a program that converts the current local time to UTC (Coordinated Universal Time). Display both the local time and the converted UTC time.\n",
        "\n"
      ],
      "metadata": {
        "id": "kracDVlErrWy"
      }
    },
    {
      "cell_type": "code",
      "source": [
        "# prompt: 7. **Time Zone Converter**\n",
        "#    - Write a program that converts the current local time to UTC (Coordinated Universal Time). Display both the local time and the converted UTC time.\n",
        "\n",
        "import datetime\n",
        "\n",
        "# Get the current local time\n",
        "local_time = datetime.datetime.now()\n",
        "\n",
        "# Convert the local time to UTC\n",
        "utc_time = local_time.astimezone(datetime.timezone.utc)\n",
        "\n",
        "# Print the local time and the converted UTC time\n",
        "print(f\"Local time: {local_time}\")\n",
        "print(f\"UTC time: {utc_time}\")\n"
      ],
      "metadata": {
        "colab": {
          "base_uri": "https://localhost:8080/"
        },
        "id": "8VEHWMPPrsN6",
        "outputId": "33ab9fe3-a007-406b-b8b0-14262bb738e1"
      },
      "execution_count": null,
      "outputs": [
        {
          "output_type": "stream",
          "name": "stdout",
          "text": [
            "Local time: 2024-06-18 04:50:45.896331\n",
            "UTC time: 2024-06-18 04:50:45.896331+00:00\n"
          ]
        }
      ]
    },
    {
      "cell_type": "markdown",
      "source": [
        "8. **Day of the Week Calculator**\n",
        "   - Write a script that asks the user to input a date (in `YYYY-MM-DD` format) and prints the day of the week for that date."
      ],
      "metadata": {
        "id": "tDXDkDrgsL7I"
      }
    },
    {
      "cell_type": "code",
      "source": [
        "# prompt: 8. **Day of the Week Calculator**\n",
        "#    - Write a script that asks the user to input a date (in `YYYY-MM-DD` format) and prints the day of the week for that date.\n",
        "\n",
        "def get_day_of_week(date):\n",
        "  # Parse the date\n",
        "  date = datetime.datetime.strptime(date, '%Y-%m-%d')\n",
        "\n",
        "  # Get the day of the week\n",
        "  day_of_week = date.strftime(\"%A\")\n",
        "\n",
        "  # Print the day of the week\n",
        "  print(f\"Day of the week: {day_of_week}\")\n",
        "\n",
        "# Get the date from the user\n",
        "date = input(\"Enter a date (YYYY-MM-DD): \")\n",
        "\n",
        "# Get the day of the week\n",
        "get_day_of_week(date)\n"
      ],
      "metadata": {
        "colab": {
          "base_uri": "https://localhost:8080/"
        },
        "id": "ejGqwMtqruEw",
        "outputId": "0951f46e-a0dd-41cd-ca8e-51c74695ae62"
      },
      "execution_count": null,
      "outputs": [
        {
          "output_type": "stream",
          "name": "stdout",
          "text": [
            "Enter a date (YYYY-MM-DD): 2024-11-12\n",
            "Day of the week: Tuesday\n"
          ]
        }
      ]
    },
    {
      "cell_type": "markdown",
      "source": [
        "\n",
        "9. **Recurring Event Notifier**\n",
        "   - Develop a program that calculates the next 5 occurrences of a recurring event given a start date and a recurrence interval in days. Display the dates of these occurrences.\n",
        "\n"
      ],
      "metadata": {
        "id": "-WQa6SrZu6WD"
      }
    },
    {
      "cell_type": "code",
      "source": [
        "# prompt: 9. **Recurring Event Notifier**\n",
        "#    - Develop a program that calculates the next 5 occurrences of a recurring event given a start date and a recurrence interval in days. Display the dates of these occurrences.\n",
        "\n",
        "import datetime\n",
        "\n",
        "def recurring_event_notifier(start_date, interval):\n",
        "  # Parse the start date\n",
        "  start_date = datetime.datetime.strptime(start_date, '%Y-%m-%d')\n",
        "\n",
        "  # Initialize a list to store the next 5 occurrences\n",
        "  occurrences = []\n",
        "\n",
        "  # Calculate the next 5 occurrences\n",
        "  for i in range(5):\n",
        "    next_occurrence = start_date + datetime.timedelta(days=i * interval)\n",
        "    occurrences.append(next_occurrence)\n",
        "\n",
        "  # Print the dates of the next 5 occurrences\n",
        "  for occurrence in occurrences:\n",
        "    print(occurrence.strftime('%Y-%m-%d'))\n",
        "\n",
        "# Get the start date and recurrence interval from the user\n",
        "start_date = input(\"Enter the start date (YYYY-MM-DD): \")\n",
        "interval = int(input(\"Enter the recurrence interval in days: \"))\n",
        "\n",
        "# Notify the user about the next 5 occurrences\n",
        "recurring_event_notifier(start_date, interval)\n"
      ],
      "metadata": {
        "colab": {
          "base_uri": "https://localhost:8080/"
        },
        "id": "eImBllKCsRPt",
        "outputId": "ba51ab63-7773-4c2d-84cb-6e91b5a5a92e"
      },
      "execution_count": null,
      "outputs": [
        {
          "output_type": "stream",
          "name": "stdout",
          "text": [
            "Enter the start date (YYYY-MM-DD): 2024-7-11\n",
            "Enter the recurrence interval in days: 4\n",
            "2024-07-11\n",
            "2024-07-15\n",
            "2024-07-19\n",
            "2024-07-23\n",
            "2024-07-27\n"
          ]
        }
      ]
    },
    {
      "cell_type": "markdown",
      "source": [
        "\n",
        "10. **Time Since Event**\n",
        "    - Create a program that asks the user to input a past date and time (in `YYYY-MM-DD HH:MM:SS` format) and calculates how much time has passed since that event. Display the result in years, months, days, hours, minutes, and seconds.\n"
      ],
      "metadata": {
        "id": "7ioe1Hrdvd63"
      }
    },
    {
      "cell_type": "code",
      "source": [
        "# prompt: 10. **Time Since Event**\n",
        "#     - Create a program that asks the user to input a past date and time (in `YYYY-MM-DD HH:MM:SS` format) and calculates how much time has passed since that event. Display the result in years, months, days, hours, minutes, and seconds.\n",
        "\n",
        "import datetime\n",
        "\n",
        "def time_since_event(past_datetime):\n",
        "  # Parse the past date and time\n",
        "  past_datetime = datetime.datetime.strptime(past_datetime, '%Y-%m-%d %H:%M:%S')\n",
        "\n",
        "  # Get the current date and time\n",
        "  current_datetime = datetime.datetime.now()\n",
        "\n",
        "  # Calculate the difference between the current date and time and the past date and time\n",
        "  delta = current_datetime - past_datetime\n",
        "\n",
        "  # Extract the years, months, days, hours, minutes, and seconds\n",
        "  years = delta.days // 365\n",
        "  months = (delta.days % 365) // 30\n",
        "  days = (delta.days % 365) % 30\n",
        "  hours = delta.seconds // 3600\n",
        "  minutes = (delta.seconds // 60) % 60\n",
        "  seconds = delta.seconds % 60\n",
        "\n",
        "  # Print the time since the event\n",
        "  print(f\"Time since the event: {years} years, {months} months, {days} days, {hours} hours, {minutes} minutes, and {seconds} seconds.\")\n",
        "\n",
        "# Get the past date and time from the user\n",
        "past_datetime = input(\"Enter the past date and time (YYYY-MM-DD HH:MM:SS): \")\n",
        "\n",
        "# Calculate and print the time since the event\n",
        "time_since_event(past_datetime)\n"
      ],
      "metadata": {
        "id": "JcKzWIzLu9ZJ"
      },
      "execution_count": null,
      "outputs": []
    },
    {
      "cell_type": "markdown",
      "source": [
        "11. **Time Difference Between Cities**\n",
        "    - Write a program that calculates the time difference between two cities given their respective time zones. Display the current time in both cities and the difference in hours and minutes.\n",
        "\n"
      ],
      "metadata": {
        "id": "XjppcOuLwVvP"
      }
    },
    {
      "cell_type": "code",
      "source": [
        "# prompt: 11. **Time Difference Between Cities**\n",
        "#     - Write a program that calculates the time difference between two cities given their respective time zones. Display the current time in both cities and the difference in hours and minutes.\n",
        "\n",
        "import datetime\n",
        "import pytz\n",
        "\n",
        "def time_difference(city1, city2):\n",
        "  # Get the current time in each city\n",
        "  current_time_city1 = datetime.datetime.now(pytz.timezone(city1))\n",
        "  current_time_city2 = datetime.datetime.now(pytz.timezone(city2))\n",
        "\n",
        "  # Calculate the time difference\n",
        "  time_difference = current_time_city1 - current_time_city2\n",
        "\n",
        "  # Extract the hours and minutes from the time difference\n",
        "  hours = time_difference.seconds // 3600\n",
        "  minutes = (time_difference.seconds // 60) % 60\n",
        "\n",
        "  # Print the current time in both cities and the time difference\n",
        "  print(f\"Current time in {city1}: {current_time_city1}\")\n",
        "  print(f\"Current time in {city2}: {current_time_city2}\")\n",
        "  print(f\"Time difference: {hours} hours and {minutes} minutes\")\n",
        "\n",
        "# Get the names of the two cities from the user\n",
        "city1 = input(\"Enter the first city: \")\n",
        "city2 = input(\"Enter the second city: \")\n",
        "\n",
        "# Calculate and print the time difference\n",
        "time_difference(city1, city2)\n"
      ],
      "metadata": {
        "id": "yLmAoXygwWbR"
      },
      "execution_count": null,
      "outputs": []
    },
    {
      "cell_type": "markdown",
      "source": [
        "    - Create a script that takes a file path as input and prints the last modification date and time of the file. If the file does not exist, display an appropriate message.\n",
        "\n"
      ],
      "metadata": {
        "id": "f8WTHwAY_x_E"
      }
    },
    {
      "cell_type": "code",
      "source": [
        "# prompt:     - Create a script that takes a file path as input and prints the last modification date and time of the file. If the file does not exist, display an appropriate message.\n",
        "\n",
        "import os\n",
        "\n",
        "def get_file_modification_date(file_path):\n",
        "  # Check if the file exists\n",
        "  if os.path.exists(file_path):\n",
        "    # Get the last modification time of the file\n",
        "    modification_time = os.path.getmtime(file_path)\n",
        "    print( modification_time )\n",
        "\n",
        "    # Convert the modification time to a datetime object\n",
        "    modification_datetime = datetime.datetime.fromtimestamp(modification_time)\n",
        "\n",
        "    # Print the last modification date and time\n",
        "    print(f\"Last modification date and time: {modification_datetime}\")\n",
        "  else:\n",
        "    # Print an error message if the file does not exist\n",
        "    print(f\"File not found: {file_path}\")\n",
        "\n",
        "# Get the file path from the user\n",
        "file_path = input(\"Enter the file path: \")\n",
        "\n",
        "# Get the last modification date and time of the file\n",
        "get_file_modification_date(file_path)\n"
      ],
      "metadata": {
        "colab": {
          "base_uri": "https://localhost:8080/"
        },
        "id": "1DRV_I89_r_O",
        "outputId": "14abb047-2ac1-43de-9ed5-a1a5fec92aa6"
      },
      "execution_count": null,
      "outputs": [
        {
          "output_type": "stream",
          "name": "stdout",
          "text": [
            "Enter the file path: /content/report_2024-06-18.txt\n",
            "1718706649.2354798\n",
            "Last modification date and time: 2024-06-18 10:30:49.235480\n"
          ]
        }
      ]
    },
    {
      "cell_type": "markdown",
      "source": [
        "13. **Work Shift Scheduler**\n",
        "    - Develop a program that asks the user to input the start date and time of their work shift and the duration of the shift in hours. Calculate and display the end date and time of the shift.\n"
      ],
      "metadata": {
        "id": "7RzMNA2OAvbH"
      }
    },
    {
      "cell_type": "code",
      "source": [
        "# prompt: 13. **Work Shift Scheduler**\n",
        "#     - Develop a program that asks the user to input the start date and time of their work shift and the duration of the shift in hours. Calculate and display the end date and time of the shift.\n",
        "\n",
        "import datetime\n",
        "\n",
        "def work_shift_scheduler(start_datetime, duration):\n",
        "  # Calculate the end date and time of the shift\n",
        "  end_datetime = start_datetime + datetime.timedelta(hours=duration)\n",
        "\n",
        "  # Print the start and end date and time of the shift\n",
        "  print(f\"Start date and time: {start_datetime}\")\n",
        "  print(f\"End date and time: {end_datetime}\")\n",
        "\n",
        "# Get the start date and time of the shift from the user\n",
        "start_date = input(\"Enter the start date (YYYY-MM-DD): \")\n",
        "start_time = input(\"Enter the start time (HH:MM): \")\n",
        "\n",
        "# Combine the start date and time into a datetime object\n",
        "start_datetime = datetime.datetime.strptime(f\"{start_date} {start_time}\", '%Y-%m-%d %H:%M')\n",
        "\n",
        "# Get the duration of the shift from the user\n",
        "duration = int(input(\"Enter the duration of the shift in hours: \"))\n",
        "\n",
        "# Schedule the work shift\n",
        "work_shift_scheduler(start_datetime, duration)\n"
      ],
      "metadata": {
        "colab": {
          "base_uri": "https://localhost:8080/"
        },
        "id": "P3xyNv8cAHaf",
        "outputId": "0052aa12-c58f-49ac-ed36-6e2cc334c558"
      },
      "execution_count": null,
      "outputs": [
        {
          "output_type": "stream",
          "name": "stdout",
          "text": [
            "Enter the start date (YYYY-MM-DD): 2024-12-12\n",
            "Enter the start time (HH:MM): 3:00\n",
            "Enter the duration of the shift in hours: 5\n",
            "Start date and time: 2024-12-12 03:00:00\n",
            "End date and time: 2024-12-12 08:00:00\n"
          ]
        }
      ]
    },
    {
      "cell_type": "markdown",
      "source": [
        "14. **Birthdays in a Month**\n",
        "    - Write a program that accepts a list of names and their birthdates. Then, ask the user to input a month (as a number). Display the names of people whose birthdays are in that month.\n",
        "\n"
      ],
      "metadata": {
        "id": "32v0Q3zSBSkG"
      }
    },
    {
      "cell_type": "code",
      "source": [
        "# prompt: 14. **Birthdays in a Month**\n",
        "#     - Write a program that accepts a list of names and their birthdates. Then, ask the user to input a month (as a number). Display the names of people whose birthdays are in that month.\n",
        "\n",
        "birthdays = {\n",
        "    \"Alice\": \"January 15\",\n",
        "    \"Bob\": \"February 23\",\n",
        "    \"Carol\": \"March 10\",\n",
        "    \"Dave\": \"April 5\",\n",
        "    \"Eve\": \"May 20\",\n",
        "    \"Frank\": \"June 12\",\n",
        "    \"Grace\": \"July 8\",\n",
        "    \"Harry\": \"August 19\",\n",
        "    \"Ivy\": \"September 25\",\n",
        "    \"Jack\": \"October 3\",\n",
        "    \"Kelly\": \"November 17\",\n",
        "    \"Lisa\": \"December 28\"\n",
        "}\n",
        "\n",
        "month = int(input(\"Enter a month (1-12): \"))\n",
        "\n",
        "for name, birthday in birthdays.items():\n",
        "    month_str = birthday.split()[1]\n",
        "    month_num = int(month_str)\n",
        "    if month_num == month:\n",
        "        print(name)\n"
      ],
      "metadata": {
        "colab": {
          "base_uri": "https://localhost:8080/"
        },
        "id": "D0QQss8VA9Pj",
        "outputId": "4925d796-1fb0-47bb-f5ef-0cecb12b9579"
      },
      "execution_count": null,
      "outputs": [
        {
          "output_type": "stream",
          "name": "stdout",
          "text": [
            "Enter a month (1-12): 12\n",
            "Frank\n"
          ]
        }
      ]
    },
    {
      "cell_type": "markdown",
      "source": [
        "15. **Future Date Calculator**\n",
        "    - Create a program that asks the user to input a number of days, weeks, or months and calculates the future date from today based on the input.\n"
      ],
      "metadata": {
        "id": "gvAOd8H6B1O4"
      }
    },
    {
      "cell_type": "code",
      "source": [
        "# prompt: 15. **Future Date Calculator**\n",
        "#     - Create a program that asks the user to input a number of days, weeks, or months and calculates the future date from today based on the input.\n",
        "\n",
        "def future_date_calculator(num, unit):\n",
        "  # Get the current date\n",
        "  current_date = datetime.date.today()\n",
        "\n",
        "  # Calculate the future date based on the input\n",
        "  if unit == \"days\":\n",
        "    future_date = current_date + datetime.timedelta(days=num)\n",
        "  elif unit == \"weeks\":\n",
        "    future_date = current_date + datetime.timedelta(weeks=num)\n",
        "  elif unit == \"months\":\n",
        "    future_date = current_date + datetime.timedelta(days=num * 30)\n",
        "  else:\n",
        "    print(\"Invalid unit. Please enter 'days', 'weeks', or 'months'.\")\n",
        "    return\n",
        "\n",
        "  # Print the future date\n",
        "  print(f\"The future date is: {future_date}\")\n",
        "\n",
        "# Get the number and unit from the user\n",
        "num = int(input(\"Enter the number of days, weeks, or months: \"))\n",
        "unit = input(\"Enter the unit (days, weeks, or months): \").lower()\n",
        "\n",
        "# Calculate and print the future date\n",
        "future_date_calculator(num, unit)\n"
      ],
      "metadata": {
        "colab": {
          "base_uri": "https://localhost:8080/"
        },
        "id": "dt1jPJqeBpV3",
        "outputId": "909aec62-5553-41c1-91c2-75cd37f46c51"
      },
      "execution_count": null,
      "outputs": [
        {
          "output_type": "stream",
          "name": "stdout",
          "text": [
            "Enter the number of days, weeks, or months: 7\n",
            "Enter the unit (days, weeks, or months): days\n",
            "The future date is: 2024-06-25\n"
          ]
        }
      ]
    },
    {
      "cell_type": "markdown",
      "source": [
        "Practice Questions on math module:                                                                                                                                            \n",
        "\n",
        "1. Write a program that asks the user to input the radius of a circle. Calculate and print the area and circumference of the circle using the value of π from the math module.\n",
        "\n"
      ],
      "metadata": {
        "id": "LhhrTO8jCndu"
      }
    },
    {
      "cell_type": "code",
      "source": [
        "# prompt: 1. Write a program that asks the user to input the radius of a circle. Calculate and print the area and circumference of the circle using the value of π from the math module.\n",
        "\n",
        "import math\n",
        "\n",
        "# Get the radius of the circle from the user\n",
        "radius = float(input(\"Enter the radius of the circle: \"))\n",
        "\n",
        "# Calculate the area of the circle\n",
        "area = math.pi * radius ** 2\n",
        "\n",
        "# Calculate the circumference of the circle\n",
        "circumference = 2 * math.pi * radius\n",
        "\n",
        "# Print the area and circumference of the circle\n",
        "print(f\"Area of the circle: {area}\")\n",
        "print(f\"Circumference of the circle: {circumference}\")\n"
      ],
      "metadata": {
        "colab": {
          "base_uri": "https://localhost:8080/"
        },
        "id": "EzFnPb_3CEtp",
        "outputId": "464ecd07-7b44-423a-ad55-e7e3c2a73c90"
      },
      "execution_count": null,
      "outputs": [
        {
          "output_type": "stream",
          "name": "stdout",
          "text": [
            "Enter the radius of the circle: 3\n",
            "Area of the circle: 28.274333882308138\n",
            "Circumference of the circle: 18.84955592153876\n"
          ]
        }
      ]
    },
    {
      "cell_type": "markdown",
      "source": [
        "2. Create a program that accepts the lengths of the two shorter sides of a right triangle. Calculate and print the length of the hypotenuse using the Pythagorean theorem.\n"
      ],
      "metadata": {
        "id": "Bz4xdOQDCxG9"
      }
    },
    {
      "cell_type": "code",
      "source": [
        "# prompt: 2. Create a program that accepts the lengths of the two shorter sides of a right triangle. Calculate and print the length of the hypotenuse using the Pythagorean theorem.\n",
        "\n",
        "import math\n",
        "\n",
        "def calculate_hypotenuse(a, b):\n",
        "  \"\"\"\n",
        "  Calculates the length of the hypotenuse of a right triangle given the lengths of the two shorter sides.\n",
        "\n",
        "  Args:\n",
        "    a: The length of one of the shorter sides.\n",
        "    b: The length of the other shorter side.\n",
        "\n",
        "  Returns:\n",
        "    The length of the hypotenuse.\n",
        "  \"\"\"\n",
        "\n",
        "  # Use the Pythagorean theorem to calculate the length of the hypotenuse\n",
        "  hypotenuse = math.sqrt(a ** 2 + b ** 2)\n",
        "\n",
        "  # Return the length of the hypotenuse\n",
        "  return hypotenuse\n",
        "\n",
        "# Get the lengths of the two shorter sides from the user\n",
        "a = float(input(\"Enter the length of one of the shorter sides: \"))\n",
        "b = float(input(\"Enter the length of the other shorter side: \"))\n",
        "\n",
        "# Calculate and print the length of the hypotenuse\n",
        "hypotenuse = calculate_hypotenuse(a, b)\n",
        "print(f\"The length of the hypotenuse is: {hypotenuse}\")\n"
      ],
      "metadata": {
        "colab": {
          "base_uri": "https://localhost:8080/"
        },
        "id": "jEv1xCVICyHh",
        "outputId": "1cf0887a-f961-48e4-9daf-94fafe061312"
      },
      "execution_count": null,
      "outputs": [
        {
          "output_type": "stream",
          "name": "stdout",
          "text": [
            "Enter the length of one of the shorter sides: 12\n",
            "Enter the length of the other shorter side: 12\n",
            "The length of the hypotenuse is: 16.97056274847714\n"
          ]
        }
      ]
    },
    {
      "cell_type": "markdown",
      "source": [
        "3. Develop a program to calculate compound interest. Ask the user for the principal amount, the annual interest rate, the number of times interest is compounded per year, and the number of years. Use the math module to perform the calculations.\n"
      ],
      "metadata": {
        "id": "s5LR0y5QC6qY"
      }
    },
    {
      "cell_type": "code",
      "source": [
        "# prompt: 3. Develop a program to calculate compound interest. Ask the user for the principal amount, the annual interest rate, the number of times interest is compounded per year, and the number of years. Use the math module to perform the calculations.\n",
        "\n",
        "def compound_interest(principal, rate, times_compounded, years):\n",
        "  \"\"\"\n",
        "  Calculates the compound interest earned on a given principal amount.\n",
        "\n",
        "  Args:\n",
        "    principal: The principal amount.\n",
        "    rate: The annual interest rate.\n",
        "    times_compounded: The number of times interest is compounded per year.\n",
        "    years: The number of years.\n",
        "\n",
        "  Returns:\n",
        "    The amount of compound interest earned.\n",
        "  \"\"\"\n",
        "\n",
        "  # Calculate the annual interest rate in decimal form\n",
        "  annual_rate = rate / 100\n",
        "\n",
        "  # Calculate the number of times interest is compounded in total\n",
        "  total_compounding = times_compounded * years\n",
        "\n",
        "  # Use the compound interest formula to calculate the amount of interest earned\n",
        "  interest = principal * (1 + annual_rate / times_compounded) ** total_compounding - principal\n",
        "\n",
        "  # Return the amount of interest earned\n",
        "  return interest\n",
        "\n",
        "# Get the principal amount, annual interest rate, number of times interest is compounded per year, and number of years from the user\n",
        "principal = float(input(\"Enter the principal amount: \"))\n",
        "rate = float(input(\"Enter the annual interest rate: \"))\n",
        "times_compounded = int(input(\"Enter the number of times interest is compounded per year: \"))\n",
        "years = int(input(\"Enter the number of years: \"))\n",
        "\n",
        "# Calculate and print the amount of compound interest earned\n",
        "interest = compound_interest(principal, rate, times_compounded, years)\n",
        "print(f\"The amount of compound interest earned is: {interest}\")\n"
      ],
      "metadata": {
        "colab": {
          "base_uri": "https://localhost:8080/"
        },
        "id": "EuWKcXPbC7cY",
        "outputId": "f32face7-63f5-474c-e31c-5c853d5948aa"
      },
      "execution_count": null,
      "outputs": [
        {
          "output_type": "stream",
          "name": "stdout",
          "text": [
            "Enter the principal amount: 1000\n",
            "Enter the annual interest rate: 2\n",
            "Enter the number of times interest is compounded per year: 2\n",
            "Enter the number of years: 5\n",
            "The amount of compound interest earned is: 104.62212541120448\n"
          ]
        }
      ]
    },
    {
      "cell_type": "markdown",
      "source": [
        "4. Write a script that solves a quadratic equation of the form \\(ax^2 + bx + c = 0\\). Ask the user to input the coefficients a, b, and c. Calculate and print the solutions using the quadratic formula.\n"
      ],
      "metadata": {
        "id": "DSrZ2YejEEOs"
      }
    },
    {
      "cell_type": "code",
      "source": [
        "# prompt: 4. Write a script that solves a quadratic equation of the form \\(ax^2 + bx + c = 0\\). Ask the user to input the coefficients a, b, and c. Calculate and print the solutions using the quadratic formula.\n",
        "\n",
        "import math\n",
        "\n",
        "# Get the coefficients a, b, and c from the user\n",
        "a = float(input(\"Enter the coefficient a: \"))\n",
        "b = float(input(\"Enter the coefficient b: \"))\n",
        "c = float(input(\"Enter the coefficient c: \"))\n",
        "\n",
        "# Calculate the discriminant\n",
        "discriminant = b ** 2 - 4 * a * c\n",
        "\n",
        "# Check if the discriminant is negative\n",
        "if discriminant < 0:\n",
        "  print(\"The equation has no real solutions.\")\n",
        "elif discriminant == 0:\n",
        "  # Calculate the single solution\n",
        "  solution = -b / (2 * a)\n",
        "  print(f\"The equation has one solution: {solution}\")\n",
        "else:\n",
        "  # Calculate the two solutions\n",
        "  solution1 = (-b - math.sqrt(discriminant)) / (2 * a)\n",
        "  solution2 = (-b + math.sqrt(discriminant)) / (2 * a)\n",
        "  print(f\"The equation has two solutions: {solution1} and {solution2}\")\n"
      ],
      "metadata": {
        "colab": {
          "base_uri": "https://localhost:8080/"
        },
        "id": "oHeaReysD43Y",
        "outputId": "e8c6e87d-01aa-4a28-fc3c-301f5bc0f5e7"
      },
      "execution_count": null,
      "outputs": [
        {
          "output_type": "stream",
          "name": "stdout",
          "text": [
            "Enter the coefficient a: 2\n",
            "Enter the coefficient b: 3\n",
            "Enter the coefficient c: 5\n",
            "The equation has no real solutions.\n"
          ]
        }
      ]
    },
    {
      "cell_type": "markdown",
      "source": [
        "5. Create a program that asks the user to input a number and a base. Calculate and print the logarithm of the number to the given base using the math module.\n"
      ],
      "metadata": {
        "id": "GAgXISO3EUrD"
      }
    },
    {
      "cell_type": "code",
      "source": [
        "# prompt: 5. Create a program that asks the user to input a number and a base. Calculate and print the logarithm of the number to the given base using the math module.\n",
        "\n",
        "import math\n",
        "\n",
        "# Get the number and base from the user\n",
        "number = float(input(\"Enter a number: \"))\n",
        "base = float(input(\"Enter the base: \"))\n",
        "\n",
        "# Calculate the logarithm of the number to the given base\n",
        "logarithm = math.log(number, base)\n",
        "\n",
        "# Print the logarithm\n",
        "print(f\"The logarithm of {number} to the base {base} is: {logarithm}\")\n"
      ],
      "metadata": {
        "colab": {
          "base_uri": "https://localhost:8080/"
        },
        "id": "rtYmcSXfEVZI",
        "outputId": "a533974a-b64e-4cff-ed39-c031773a8471"
      },
      "execution_count": null,
      "outputs": [
        {
          "output_type": "stream",
          "name": "stdout",
          "text": [
            "Enter a number: 10\n",
            "Enter the base: 10\n",
            "The logarithm of 10.0 to the base 10.0 is: 1.0\n"
          ]
        }
      ]
    },
    {
      "cell_type": "markdown",
      "source": [
        "6. Develop a script that models exponential growth. Ask the user for the initial amount, the growth rate, and the number of periods. Calculate and print the final amount using the exponential function from the math module.\n"
      ],
      "metadata": {
        "id": "8CuroKt3Eb29"
      }
    },
    {
      "cell_type": "code",
      "source": [
        "# prompt: 6. Develop a script that models exponential growth. Ask the user for the initial amount, the growth rate, and the number of periods. Calculate and print the final amount using the exponential function from the math module.\n",
        "\n",
        "# Get the initial amount, growth rate, and number of periods from the user\n",
        "initial_amount = float(input(\"Enter the initial amount: \"))\n",
        "growth_rate = float(input(\"Enter the growth rate: \"))\n",
        "num_periods = int(input(\"Enter the number of periods: \"))\n",
        "\n",
        "# Calculate the final amount using the exponential function\n",
        "final_amount = initial_amount * (1 + growth_rate) ** num_periods\n",
        "\n",
        "# Print the final amount\n",
        "print(f\"The final amount is: {final_amount}\")\n"
      ],
      "metadata": {
        "colab": {
          "base_uri": "https://localhost:8080/"
        },
        "id": "8HvmFDn_Ecv-",
        "outputId": "9ff51d7f-6b0d-44df-d2cb-284b3017e16d"
      },
      "execution_count": null,
      "outputs": [
        {
          "output_type": "stream",
          "name": "stdout",
          "text": [
            "Enter the initial amount: 10\n",
            "Enter the growth rate: 2\n",
            "Enter the number of periods: 3\n",
            "The final amount is: 270.0\n"
          ]
        }
      ]
    },
    {
      "cell_type": "markdown",
      "source": [
        "7. Write a program that accepts an angle in degrees from the user. Convert the angle to radians and calculate the sine, cosine, and tangent of the angle. Print the results."
      ],
      "metadata": {
        "id": "9_0DDY06EoBE"
      }
    },
    {
      "cell_type": "code",
      "source": [
        "# prompt: 7. Write a program that accepts an angle in degrees from the user. Convert the angle to radians and calculate the sine, cosine, and tangent of the angle. Print the results.\n",
        "\n",
        "import math\n",
        "\n",
        "# Get the angle in degrees from the user\n",
        "angle_deg = float(input(\"Enter the angle in degrees: \"))\n",
        "\n",
        "# Convert the angle to radians\n",
        "angle_rad = math.radians(angle_deg)\n",
        "\n",
        "# Calculate the sine, cosine, and tangent of the angle\n",
        "sine = math.sin(angle_rad)\n",
        "cosine = math.cos(angle_rad)\n",
        "tangent = math.tan(angle_rad)\n",
        "\n",
        "# Print the results\n",
        "print(f\"Sine: {sine}\")\n",
        "print(f\"Cosine: {cosine}\")\n",
        "print(f\"Tangent: {tangent}\")\n"
      ],
      "metadata": {
        "colab": {
          "base_uri": "https://localhost:8080/"
        },
        "id": "CGjkKVvMEpHJ",
        "outputId": "f5e792c8-8344-45dd-f34a-669385e0f14f"
      },
      "execution_count": null,
      "outputs": [
        {
          "output_type": "stream",
          "name": "stdout",
          "text": [
            "Enter the angle in degrees: 12\n",
            "Sine: 0.20791169081775934\n",
            "Cosine: 0.9781476007338057\n",
            "Tangent: 0.21255656167002213\n"
          ]
        }
      ]
    },
    {
      "cell_type": "markdown",
      "source": [
        "8. Create a script that calculates the distance between two points in a 2D plane. Ask the user for the coordinates of the points (x1, y1) and (x2, y2). Use the distance formula to calculate and print the distance.\n",
        "\n"
      ],
      "metadata": {
        "id": "mSIRWO0JEywV"
      }
    },
    {
      "cell_type": "code",
      "source": [
        "# prompt: 8. Create a script that calculates the distance between two points in a 2D plane. Ask the user for the coordinates of the points (x1, y1) and (x2, y2). Use the distance formula to calculate and print the distance.\n",
        "\n",
        "import math\n",
        "\n",
        "# Get the coordinates of the points from the user\n",
        "x1 = float(input(\"Enter the x-coordinate of the first point: \"))\n",
        "y1 = float(input(\"Enter the y-coordinate of the first point: \"))\n",
        "x2 = float(input(\"Enter the x-coordinate of the second point: \"))\n",
        "y2 = float(input(\"Enter the y-coordinate of the second point: \"))\n",
        "\n",
        "# Calculate the distance between the points using the distance formula\n",
        "distance = math.sqrt((x2 - x1) ** 2 + (y2 - y1) ** 2)\n",
        "\n",
        "# Print the distance\n",
        "print(f\"The distance between the two points is: {distance}\")\n"
      ],
      "metadata": {
        "colab": {
          "base_uri": "https://localhost:8080/"
        },
        "id": "5HyfC6_BEzgP",
        "outputId": "0a5b171c-895a-44d1-d450-1754a18f328f"
      },
      "execution_count": null,
      "outputs": [
        {
          "output_type": "stream",
          "name": "stdout",
          "text": [
            "Enter the x-coordinate of the first point: 2\n",
            "Enter the y-coordinate of the first point: 3\n",
            "Enter the x-coordinate of the second point: 1\n",
            "Enter the y-coordinate of the second point: 5\n",
            "The distance between the two points is: 2.23606797749979\n"
          ]
        }
      ]
    },
    {
      "cell_type": "markdown",
      "source": [
        "\n",
        "9. Write a program that asks the user to input a non-negative integer. Calculate and print the factorial of the number using the math module.\n"
      ],
      "metadata": {
        "id": "XOeJ9CdDFVBq"
      }
    },
    {
      "cell_type": "code",
      "source": [
        "# prompt: 9. Write a program that asks the user to input a non-negative integer. Calculate and print the factorial of the number using the math module.\n",
        "\n",
        "# Get a non-negative integer from the user\n",
        "number = int(input(\"Enter a non-negative integer: \"))\n",
        "\n",
        "# Calculate the factorial of the number using the math module\n",
        "factorial = math.factorial(number)\n",
        "\n",
        "# Print the factorial\n",
        "print(f\"The factorial of {number} is: {factorial}\")\n"
      ],
      "metadata": {
        "colab": {
          "base_uri": "https://localhost:8080/"
        },
        "id": "kDkwhM-UFQpM",
        "outputId": "18464f89-dbff-433a-ffe4-c91a6c2fe860"
      },
      "execution_count": null,
      "outputs": [
        {
          "output_type": "stream",
          "name": "stdout",
          "text": [
            "Enter a non-negative integer: 5\n",
            "The factorial of 5 is: 120\n"
          ]
        }
      ]
    },
    {
      "cell_type": "markdown",
      "source": [
        "10. Develop a program that converts an angle given in degrees to radians and vice versa. Ask the user for the angle and the conversion direction. Perform and print the conversion.\n",
        "\n"
      ],
      "metadata": {
        "id": "wfYQ9a4PFe3U"
      }
    },
    {
      "cell_type": "code",
      "source": [
        "# prompt: 10. Develop a program that converts an angle given in degrees to radians and vice versa. Ask the user for the angle and the conversion direction. Perform and print the conversion.\n",
        "\n",
        "import math\n",
        "\n",
        "def convert_angle(angle, direction):\n",
        "  \"\"\"\n",
        "  Converts an angle between degrees and radians.\n",
        "\n",
        "  Args:\n",
        "    angle: The angle to convert.\n",
        "    direction: The conversion direction. Either \"degrees_to_radians\" or \"radians_to_degrees\".\n",
        "\n",
        "  Returns:\n",
        "    The converted angle.\n",
        "  \"\"\"\n",
        "\n",
        "  if direction == \"degrees_to_radians\":\n",
        "    return math.radians(angle)\n",
        "  elif direction == \"radians_to_degrees\":\n",
        "    return math.degrees(angle)\n",
        "  else:\n",
        "    raise ValueError(\"Invalid direction. Please enter 'degrees_to_radians' or 'radians_to_degrees'.\")\n",
        "\n",
        "# Get the angle and conversion direction from the user\n",
        "angle = float(input(\"Enter the angle: \"))\n",
        "direction = input(\"Enter the conversion direction (degrees_to_radians or radians_to_degrees): \").lower()\n",
        "\n",
        "# Convert and print the angle\n",
        "converted_angle = convert_angle(angle, direction)\n",
        "print(f\"The converted angle is: {converted_angle}\")\n"
      ],
      "metadata": {
        "colab": {
          "base_uri": "https://localhost:8080/"
        },
        "id": "sgS-Zg-ZFabr",
        "outputId": "5568cbe3-fadd-4078-e807-63ff7e162fec"
      },
      "execution_count": null,
      "outputs": [
        {
          "output_type": "stream",
          "name": "stdout",
          "text": [
            "Enter the angle: 12\n",
            "Enter the conversion direction (degrees_to_radians or radians_to_degrees): degrees_to_radians\n",
            "The converted angle is: 0.20943951023931956\n"
          ]
        }
      ]
    },
    {
      "cell_type": "code",
      "source": [],
      "metadata": {
        "id": "hsjS7BZFFnEZ"
      },
      "execution_count": null,
      "outputs": []
    }
  ]
}