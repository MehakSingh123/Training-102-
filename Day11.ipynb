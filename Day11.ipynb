{
  "nbformat": 4,
  "nbformat_minor": 0,
  "metadata": {
    "colab": {
      "provenance": [],
      "authorship_tag": "ABX9TyPcOHYPPv+ls+eSG0VitKoH",
      "include_colab_link": true
    },
    "kernelspec": {
      "name": "python3",
      "display_name": "Python 3"
    },
    "language_info": {
      "name": "python"
    }
  },
  "cells": [
    {
      "cell_type": "markdown",
      "metadata": {
        "id": "view-in-github",
        "colab_type": "text"
      },
      "source": [
        "<a href=\"https://colab.research.google.com/github/MehakSingh123/Training-102-/blob/main/Day11.ipynb\" target=\"_parent\"><img src=\"https://colab.research.google.com/assets/colab-badge.svg\" alt=\"Open In Colab\"/></a>"
      ]
    },
    {
      "cell_type": "markdown",
      "source": [
        "Errors and Exceptions in Python----->>>>\n",
        "\n",
        "Errors are the problems in a program due to which the program will stop the execution. On the other hand, exceptions are raised when some internal events occur which changes the normal flow of the program.\n",
        "Two types of Error occurs in python.\n",
        "\n",
        "\n",
        "1. Syntax errors\n",
        "\n",
        "2. Logical errors (Exceptions)\n",
        "\n",
        "\n",
        "\n",
        "\n",
        "\n",
        "\n",
        "\n",
        "Syntax errors--->>\n",
        "\n",
        "When the proper syntax of the language is not followed then a syntax error is thrown.\n",
        "\n",
        "\n",
        "logical errors(Exception)----->>\n",
        "\n",
        "When in the runtime an error that occurs after passing the syntax test is called exception or logical type. For example, when we divide any number by zero then the ZeroDivisionError exception is raised, or when we import a module that does not exist then ImportError is raised.\n",
        "\n",
        "\n",
        "IndexError---->>>\n",
        "When the wrong index of a list is retrieved.\n",
        "\n",
        "AssertionError\t---->\n",
        "\n",
        "It occurs when the assert statement fails\n",
        "\n",
        "AttributeError----->>>\n",
        "\n",
        "It occurs when an attribute assignment is failed.\n",
        "\n",
        "ImportError---->>>\n",
        "\n",
        "It occurs when an imported module is not found.\n",
        "\n",
        "KeyError\t---->>>\n",
        "\n",
        "It occurs when the key of the dictionary is not found.\n",
        "\n",
        "NameError\t------>>>\n",
        "\n",
        "It occurs when the variable is not defined.\n",
        "\n",
        "MemoryError\t----->>>\n",
        "\n",
        "It occurs when a program runs out of memory.\n",
        "\n",
        "TypeError\t----->>>\n",
        "\n",
        "It occurs when a function and operation are applied in an incorrect type."
      ],
      "metadata": {
        "id": "GoG-5bKBV2Eb"
      }
    },
    {
      "cell_type": "markdown",
      "source": [
        "ATM Withdrawal: Write a function that simulates an ATM withdrawal. The function should check if the account balance is sufficient for the withdrawal amount and raise an exception if not. Handle scenarios where the input withdrawal amount is not a number or is negative."
      ],
      "metadata": {
        "id": "SJ7JWKaKalxB"
      }
    },
    {
      "cell_type": "code",
      "execution_count": null,
      "metadata": {
        "colab": {
          "base_uri": "https://localhost:8080/"
        },
        "id": "Uy0Y8SmYVwOe",
        "outputId": "be36d630-321f-4c01-87e3-2a7bbc069b97"
      },
      "outputs": [
        {
          "output_type": "stream",
          "name": "stdout",
          "text": [
            "Not a valid amount\n",
            "Insufficient Balance\n",
            "The amount 500 has been deducted\n",
            "invalid literal for int() with base 10: 'abc'\n"
          ]
        }
      ],
      "source": [
        "def bank(amount, withdraw):\n",
        "    try:\n",
        "        withdraw = int(withdraw)\n",
        "        if withdraw <= 0:\n",
        "            raise ValueError(\"Not a valid amount\")\n",
        "        if withdraw > amount:\n",
        "            raise ValueError(\"Insufficient Balance\")\n",
        "        print(f\"The amount {withdraw} has been deducted\")\n",
        "    except ValueError as e:\n",
        "        print(e)\n",
        "\n",
        "# Example usage\n",
        "bank(1000, -10)  # Not a valid amount\n",
        "bank(1000, 1500) # Insufficient Balance\n",
        "bank(1000, 500)\n",
        "bank(1000,\"abc\")  # The amount 500 has been deducted\n"
      ]
    },
    {
      "cell_type": "markdown",
      "source": [
        "User Login System: Create a function that simulates a user login system. It should raise an exception if the username or password is incorrect and handle cases where the input values are empty strings."
      ],
      "metadata": {
        "id": "yXSLBWAlfAbu"
      }
    },
    {
      "cell_type": "code",
      "source": [
        "def check(username, password):\n",
        "  try:\n",
        "    user=input(\"Enter the username: \")\n",
        "    password1=int(input(\"Enter the password: \"))\n",
        "    if username == \"\" or password1 == \"\":\n",
        "        raise ValueError(\"Username or password cannot be empty\")\n",
        "    if(username==user and password1==password):\n",
        "      print(\"Correct password\")\n",
        "    else:\n",
        "      raise ValueError(\"Incorrect username or password\")\n",
        "  except ValueError as e:\n",
        "    print(e)\n",
        "check(\"mehak\", 123)\n"
      ],
      "metadata": {
        "colab": {
          "base_uri": "https://localhost:8080/"
        },
        "id": "eAYWhcsJcHDO",
        "outputId": "e2eeca3a-9b87-423a-87b5-dd75e43a7636"
      },
      "execution_count": null,
      "outputs": [
        {
          "output_type": "stream",
          "name": "stdout",
          "text": [
            "Enter the username: mehak\n",
            "Enter the password: 123\n",
            "Correct password\n"
          ]
        }
      ]
    },
    {
      "cell_type": "markdown",
      "source": [
        "Online Shopping Cart: Write a function that adds items to an online shopping cart. Handle scenarios where the item is out of stock, the item ID is invalid, or the quantity requested is more than the available stock."
      ],
      "metadata": {
        "id": "klkuKFwNg521"
      }
    },
    {
      "cell_type": "code",
      "source": [
        "# prompt: Online Shopping Cart: Write a function that adds items to an online shopping cart. Handle scenarios where the item is out of stock, the item ID is invalid, or the quantity requested is more than the available stock.\n",
        "\n",
        "def add_to_cart(item_id, quantity):\n",
        "  try:\n",
        "    # Check if item is in stock\n",
        "    if item_id not in stock:\n",
        "      raise ValueError(\"Item out of stock\")\n",
        "\n",
        "    # Check if quantity is valid\n",
        "    if quantity <= 0:\n",
        "      raise ValueError(\"Invalid quantity\")\n",
        "\n",
        "    # Check if enough stock is available\n",
        "    if quantity > stock[item_id]:\n",
        "      raise ValueError(\"Not enough stock available\")\n",
        "\n",
        "    # Add item to cart\n",
        "    cart[item_id] = quantity\n",
        "    print(f\"{quantity} of item {item_id} added to cart\")\n",
        "  except ValueError as e:\n",
        "    print(e)\n",
        "\n",
        "# Example usage\n",
        "stock = {\"apple\": 10, \"banana\": 5, \"orange\": 3}\n",
        "cart = {}\n",
        "\n",
        "add_to_cart(\"apple\", 2)  # 2 apples added to cart\n",
        "add_to_cart(\"banana\", 6)  # Not enough stock available\n",
        "add_to_cart(\"kiwi\", 1)  # Item out of stock\n",
        "add_to_cart(\"orange\", 0)  # Invalid quantity\n",
        "for key,value in cart.items():\n",
        "  print(f\"{key}:{value}\")\n"
      ],
      "metadata": {
        "colab": {
          "base_uri": "https://localhost:8080/"
        },
        "id": "Xs-eBa7bg6QS",
        "outputId": "ecd76b47-db42-4927-c96a-85882c1c985e"
      },
      "execution_count": null,
      "outputs": [
        {
          "output_type": "stream",
          "name": "stdout",
          "text": [
            "2 of item apple added to cart\n",
            "Not enough stock available\n",
            "Item out of stock\n",
            "Invalid quantity\n",
            "apple:2\n"
          ]
        }
      ]
    },
    {
      "cell_type": "markdown",
      "source": [
        "Temperature Conversion: Implement a function that converts temperatures between Fahrenheit and Celsius. Raise an exception if the input is not a number and handle this error gracefully."
      ],
      "metadata": {
        "id": "L-j3ZbjokbJc"
      }
    },
    {
      "cell_type": "code",
      "source": [
        "def convert(temp,unit):\n",
        "  try:\n",
        "    if(unit==\"F\"):\n",
        "      temp=int(temp)*(9/5)+32\n",
        "      print(f\"The temperature in Fahrenheit is {temp}\")\n",
        "    elif(unit==\"C\"):\n",
        "      temp=(temp-32)*(5/9)\n",
        "      print(f\"The temperature in Celsius is {temp}\")\n",
        "    if(temp<0):\n",
        "      raise ValueError(\"Temperature cannot be negative\")\n",
        "  except ValueError as e:\n",
        "    print(e)\n",
        "convert(23,\"F\")"
      ],
      "metadata": {
        "colab": {
          "base_uri": "https://localhost:8080/"
        },
        "id": "JYT7lcn8f6D2",
        "outputId": "c38ad3e0-4583-4107-d535-582787201c74"
      },
      "execution_count": null,
      "outputs": [
        {
          "output_type": "stream",
          "name": "stdout",
          "text": [
            "The temperature in Fahrenheit is 73.4\n"
          ]
        }
      ]
    },
    {
      "cell_type": "markdown",
      "source": [],
      "metadata": {
        "id": "x3dAzN1nnFWy"
      }
    },
    {
      "cell_type": "markdown",
      "source": [
        "Student Grades: Write a function that calculates the average grade of a list of student grades. Handle scenarios where the list might be empty, the grades might not be valid numbers, or some grades might be missing."
      ],
      "metadata": {
        "id": "Q2BwoHRknVPO"
      }
    },
    {
      "cell_type": "code",
      "source": [
        "def student(grades):\n",
        "  try:\n",
        "    grade_asked=float(input(\"Enter the grade: \"))\n",
        "    if grade_asked not in grades:\n",
        "      raise ValueError(\"Grade not found\")\n",
        "    if(len(grades)==0):\n",
        "      raise ValueError(\"List is empty\")\n",
        "    if(grade_asked in grades):\n",
        "      print(f\"The grade is {grade_asked}\")\n",
        "  except ValueError as e:\n",
        "    print(e)\n",
        "grades1=[1,2,3,4,5,6]\n",
        "grades2=[8,9,5,6]\n",
        "student(grades1)\n",
        "student(grades2)"
      ],
      "metadata": {
        "colab": {
          "base_uri": "https://localhost:8080/"
        },
        "id": "8kQJ88D1mXme",
        "outputId": "f47ff3a3-74c2-40e0-c72c-c97495dd33e4"
      },
      "execution_count": null,
      "outputs": [
        {
          "output_type": "stream",
          "name": "stdout",
          "text": [
            "Enter the grade: abc\n",
            "could not convert string to float: 'abc'\n",
            "Enter the grade: ss\n",
            "could not convert string to float: 'ss'\n"
          ]
        }
      ]
    },
    {
      "cell_type": "markdown",
      "source": [
        "Email Sending Service: Simulate an email sending service function that raises an exception if the email address is invalid, the server is unreachable, or the sending fails. Handle these exceptions and provide meaningful error messages."
      ],
      "metadata": {
        "id": "BuDPMh1todmb"
      }
    },
    {
      "cell_type": "code",
      "source": [
        "def send_email(email):\n",
        "  try:\n",
        "   if not isinstance(email, str):\n",
        "       raise ValueError(\"Email must be a string\")\n",
        "   if(email==\" \"):\n",
        "    raise ValueError(\"Email cannot be empty\")\n",
        "   email_check=email.split('@')[-1]\n",
        "   if(email_check==\"gmail.com\" or email_check==\"yahoo.com\" or email_check==\"hotmail.com\"):\n",
        "      print(\"Email sent successfully\")\n",
        "   else:\n",
        "     raise ValueError(\"Email is invalid\")\n",
        "\n",
        "  except ValueError as e:\n",
        "    print(e)\n",
        "\n",
        "send_email(\"mehak.co.in\")"
      ],
      "metadata": {
        "colab": {
          "base_uri": "https://localhost:8080/"
        },
        "id": "t4NsY9efoKLk",
        "outputId": "53cf3b25-26b5-4386-e9ad-5776434d96d1"
      },
      "execution_count": null,
      "outputs": [
        {
          "output_type": "stream",
          "name": "stdout",
          "text": [
            "Email is invalid\n"
          ]
        }
      ]
    },
    {
      "cell_type": "markdown",
      "source": [
        "Online Reservation System: Create a function that makes an online reservation for a hotel room. Handle cases where the room is already booked, the reservation date is in the past, or the input date format is incorrect."
      ],
      "metadata": {
        "id": "z1uR5uHQty86"
      }
    },
    {
      "cell_type": "code",
      "source": [
        "from datetime import date\n",
        "\n",
        "def hotel(room, date_required):\n",
        "    try:\n",
        "        booked_rooms = [\"101\", \"102\", \"103\"]\n",
        "\n",
        "        # Check if room is already booked\n",
        "        if room in booked_rooms:\n",
        "            raise ValueError(\"Room already booked\")\n",
        "\n",
        "        # Check if reservation date is in the past\n",
        "        if date_required < date.today():\n",
        "            raise ValueError(\"Reservation date must be today or in the future\")\n",
        "\n",
        "        # Check if date_required is a valid datetime.date object\n",
        "        if not isinstance(date_required, date):\n",
        "            raise ValueError(\"Invalid date format\")\n",
        "\n",
        "        # If all checks pass, book the room\n",
        "        print(\"Room is booked\")\n",
        "\n",
        "    except ValueError as e:\n",
        "        print(e)\n",
        "\n",
        "# Example usage\n",
        "hotel(\"105\", date(2024, 7, 1))  # Correct input using date object\n"
      ],
      "metadata": {
        "colab": {
          "base_uri": "https://localhost:8080/"
        },
        "id": "q-K5R7KQt05Y",
        "outputId": "fd597c87-c08a-495b-a9ee-755385f8ecfa"
      },
      "execution_count": null,
      "outputs": [
        {
          "output_type": "stream",
          "name": "stdout",
          "text": [
            "Room is booked\n"
          ]
        }
      ]
    },
    {
      "cell_type": "markdown",
      "source": [
        "Bank Account Transfer: Write a function that transfers money between two bank accounts. Raise an exception if the source account has insufficient funds or if the transfer amount is invalid. Handle these exceptions appropriately."
      ],
      "metadata": {
        "id": "rDUv0GsJzUiz"
      }
    },
    {
      "cell_type": "code",
      "source": [
        "def transfer(source, destination, amount,required_amount):\n",
        "  try:\n",
        "    if not isinstance(source,str):\n",
        "       raise ValueError(\"Invalid input\")\n",
        "    if not isinstance(destination,str) :\n",
        "     raise ValueError(\"Invalid input\")\n",
        "    if not isinstance(amount,(int,float)):\n",
        "     raise ValueError(\"Invalid input\")\n",
        "    if(source==destination):\n",
        "      raise ValueError(\"Source and destination accounts cannot be the same\")\n",
        "    if required_amount<=0:\n",
        "      raise ValueError(\"Amount cannot be negative\")\n",
        "    if(amount<required_amount):\n",
        "      raise ValueError(\"Insufficient balance\")\n",
        "    else:\n",
        "      print(\"Value has been tranfered\")\n",
        "      amount=amount-required_amount\n",
        "      print(f\"The amount {amount} is left in account\")\n",
        "  except ValueError as e:\n",
        "     print(e)\n",
        "transfer(\"abc\", \"def\", 1000,10)"
      ],
      "metadata": {
        "id": "m3ZTbfghp2as",
        "colab": {
          "base_uri": "https://localhost:8080/"
        },
        "outputId": "864b39e1-7beb-4108-c6bf-83992436f63d"
      },
      "execution_count": null,
      "outputs": [
        {
          "output_type": "stream",
          "name": "stdout",
          "text": [
            "Value has been tranfered\n",
            "The amount 990 is left in account\n"
          ]
        }
      ]
    },
    {
      "cell_type": "markdown",
      "source": [
        "File Parsing: Write a function that parses a configuration file. Handle scenarios where the file is missing, the file format is incorrect, or required configuration keys are missing."
      ],
      "metadata": {
        "id": "84UB4ZgUtjNJ"
      }
    },
    {
      "cell_type": "code",
      "source": [
        "import json\n",
        "\n",
        "def parse_config(file_path, required_keys=None):\n",
        "    if required_keys is None:\n",
        "        required_keys = []\n",
        "\n",
        "    try:\n",
        "        # Try to open and load the JSON configuration file\n",
        "        with open(file_path, 'r') as f:\n",
        "            config = json.load(f)\n",
        "    except FileNotFoundError:\n",
        "        raise ValueError(\"Config file not found\")\n",
        "    except json.JSONDecodeError:\n",
        "        raise ValueError(\"Invalid JSON format\")\n",
        "\n",
        "    # Check for required keys\n",
        "    for key in required_keys:\n",
        "        if key not in config:\n",
        "            raise ValueError(f\"Missing required configuration key: {key}\")\n",
        "\n",
        "    return config\n",
        "\n",
        "# Example usage\n",
        "required_keys = ['host', 'port', 'username', 'password']\n",
        "try:\n",
        "    name = parse_config('config.json', required_keys)\n",
        "    # Use the parsed configuration\n",
        "    print(\"Configuration successfully parsed:\", name)\n",
        "except ValueError as e:\n",
        "    print(f\"Error parsing config file: {e}\")\n"
      ],
      "metadata": {
        "colab": {
          "base_uri": "https://localhost:8080/"
        },
        "id": "9t2CNNLaG-in",
        "outputId": "695a6ed2-1e01-4ce6-d3ff-0b06bd1a0b5d"
      },
      "execution_count": null,
      "outputs": [
        {
          "output_type": "stream",
          "name": "stdout",
          "text": [
            "Configuration successfully parsed: {'host': 'localhost', 'port': 8080, 'username': 'admin', 'password': 'secret'}\n"
          ]
        }
      ]
    },
    {
      "cell_type": "markdown",
      "source": [
        "Currency Converter: Create a function that converts an amount from one currency to another using a predefined exchange rate. Handle scenarios where the input amount is not a number, the currency code is invalid, or the exchange rate is missing.\n"
      ],
      "metadata": {
        "id": "IRg_NMCG1q7q"
      }
    },
    {
      "cell_type": "code",
      "source": [
        "def convert_currency(amount, from_currency, to_currency, exchange_rates):\n",
        "    try:\n",
        "        # Check if amount is a number\n",
        "        if not isinstance(amount, (int, float)):\n",
        "            raise ValueError(\"Amount must be a number\")\n",
        "\n",
        "        # Check if from_currency and to_currency are valid\n",
        "        if from_currency not in exchange_rates:\n",
        "            raise ValueError(f\"Invalid from_currency code: {from_currency}\")\n",
        "        if to_currency not in exchange_rates:\n",
        "            raise ValueError(f\"Invalid to_currency code: {to_currency}\")\n",
        "\n",
        "        # Check if exchange rate exists\n",
        "        if to_currency not in exchange_rates[from_currency]:\n",
        "            raise ValueError(f\"Exchange rate from {from_currency} to {to_currency} is missing\")\n",
        "\n",
        "        # Perform the conversion\n",
        "        rate = exchange_rates[from_currency][to_currency]\n",
        "        converted_amount = amount * rate\n",
        "        return converted_amount\n",
        "\n",
        "    except ValueError as e:\n",
        "        return str(e)\n",
        "\n",
        "# Predefined exchange rates\n",
        "exchange_rates = {\n",
        "    'USD': {'EUR': 0.85, 'JPY': 110.0},\n",
        "    'EUR': {'USD': 1.18, 'JPY': 130.0},\n",
        "    'JPY': {'USD': 0.0091, 'EUR': 0.0077}\n",
        "}\n",
        "\n",
        "# Example usage\n",
        "amount_in_usd = 100\n",
        "converted_amount = convert_currency(amount_in_usd, 'USD', 'EUR', exchange_rates)\n",
        "if isinstance(converted_amount, (int, float)):\n",
        "    print(f\"{amount_in_usd} USD is {converted_amount:.2f} EUR\")\n",
        "else:\n",
        "    print(f\"Error: {converted_amount}\")\n"
      ],
      "metadata": {
        "colab": {
          "base_uri": "https://localhost:8080/"
        },
        "id": "utzoHxKVG_Jw",
        "outputId": "3cc08025-15f1-4b67-8060-15883eea3144"
      },
      "execution_count": null,
      "outputs": [
        {
          "output_type": "stream",
          "name": "stdout",
          "text": [
            "100 USD is 85.00 EUR\n"
          ]
        }
      ]
    },
    {
      "cell_type": "markdown",
      "source": [
        "Product Price Checker: Write a function that checks the price of a product from an online store's API. Handle cases where the product ID is invalid, the API is unreachable, or the response data is malformed."
      ],
      "metadata": {
        "id": "iE2YT01C183l"
      }
    },
    {
      "cell_type": "code",
      "source": [
        "# prompt: Product Price Checker: Write a function that checks the price of a product from an online store's API. Handle cases where the product ID is invalid, the API is unreachable, or the response data is malformed.\n",
        "\n",
        "import requests\n",
        "\n",
        "def check_price(product_id):\n",
        "    try:\n",
        "        # Make a request to the API\n",
        "        response = requests.get(f\"https://api.example.com/products/{product_id}\")\n",
        "\n",
        "        # Check if the request was successful\n",
        "        if response.status_code != 200:\n",
        "            raise ValueError(f\"Invalid product ID: {product_id}\")\n",
        "\n",
        "        # Parse the JSON response\n",
        "        data = response.json()\n",
        "\n",
        "        # Check if the data is valid\n",
        "        if \"price\" not in data:\n",
        "            raise ValueError(\"Malformed response data\")\n",
        "\n",
        "        # Return the product price\n",
        "        return data[\"price\"]\n",
        "\n",
        "    except requests.exceptions.RequestException as e:\n",
        "        raise ValueError(f\"API unreachable: {e}\")\n",
        "\n",
        "# Example usage\n",
        "try:\n",
        "    product_id = \"12345\"\n",
        "    price = check_price(product_id)\n",
        "    print(f\"The price of product {product_id} is {price}\")\n",
        "except ValueError as e:\n",
        "    print(f\"Error: {e}\")\n"
      ],
      "metadata": {
        "id": "YyavhvdJImUR",
        "colab": {
          "base_uri": "https://localhost:8080/"
        },
        "outputId": "7c5fc8e1-15cd-4bb3-e242-4ed902c83819"
      },
      "execution_count": null,
      "outputs": [
        {
          "output_type": "stream",
          "name": "stdout",
          "text": [
            "Error: API unreachable: HTTPSConnectionPool(host='api.example.com', port=443): Max retries exceeded with url: /products/12345 (Caused by NameResolutionError(\"<urllib3.connection.HTTPSConnection object at 0x7ca7403de590>: Failed to resolve 'api.example.com' ([Errno -2] Name or service not known)\"))\n"
          ]
        }
      ]
    },
    {
      "cell_type": "markdown",
      "source": [
        "Flight Booking System: Implement a function that books a flight ticket. Handle scenarios where the flight is fully booked, the passenger details are incomplete, or the payment processing fails."
      ],
      "metadata": {
        "id": "Zf9kKWlB5Xxx"
      }
    },
    {
      "cell_type": "code",
      "source": [
        "import random\n",
        "\n",
        "def book_flight(flight_number, passenger_name, seat_class, payment_info):\n",
        "    # Simulate random success or failure of booking (for demonstration)\n",
        "    booking_successful = random.choice([True, False])\n",
        "\n",
        "    try:\n",
        "        # Check if passenger details are complete\n",
        "        if not passenger_name:\n",
        "            raise ValueError(\"Passenger name is required\")\n",
        "\n",
        "        # Check if payment info is complete\n",
        "        if not payment_info:\n",
        "            raise ValueError(\"Payment information is required\")\n",
        "\n",
        "        # Simulate fully booked scenario (30% chance)\n",
        "        if random.random() < 0.3:\n",
        "            raise ValueError(\"Flight is fully booked\")\n",
        "\n",
        "        # Simulate payment processing failure\n",
        "        if not booking_successful:\n",
        "            raise ValueError(\"Payment processing failed\")\n",
        "\n",
        "        # Return booking confirmation\n",
        "        booking_reference = f\"{flight_number}-{random.randint(1000, 9999)}\"\n",
        "        return f\"Booking successful! Your booking reference is {booking_reference}\"\n",
        "\n",
        "    except ValueError as e:\n",
        "        return str(e)\n",
        "\n",
        "# Example usage\n",
        "try:\n",
        "    flight_number = \"ABC123\"\n",
        "    passenger_name = \"John Doe\"\n",
        "    seat_class = \"Economy\"\n",
        "    payment_info = {\"card_number\": \"1234 5678 9012 3456\", \"expiry_date\": \"12/23\", \"cvv\": \"123\"}\n",
        "\n",
        "    booking_result = book_flight(flight_number, passenger_name, seat_class, payment_info)\n",
        "    print(booking_result)\n",
        "except ValueError as e:\n",
        "    print(f\"Booking failed: {e}\")\n"
      ],
      "metadata": {
        "colab": {
          "base_uri": "https://localhost:8080/"
        },
        "id": "-AOHeL5123mB",
        "outputId": "37951263-2322-44b9-f893-1745a33c7598"
      },
      "execution_count": null,
      "outputs": [
        {
          "output_type": "stream",
          "name": "stdout",
          "text": [
            "Payment processing failed\n"
          ]
        }
      ]
    },
    {
      "cell_type": "markdown",
      "source": [
        "Quiz Application: Write a function that grades a multiple-choice quiz. Handle cases where the answer key is missing, the student's answers contain invalid choices, or the quiz data is corrupted."
      ],
      "metadata": {
        "id": "KkbP81126QtU"
      }
    },
    {
      "cell_type": "code",
      "source": [
        "def grade_quiz(answer_key, student_answers):\n",
        "    try:\n",
        "        # Check if answer key is provided and is a dictionary\n",
        "        if not isinstance(answer_key, dict):\n",
        "            raise ValueError(\"Answer key is missing or invalid\")\n",
        "\n",
        "        # Check if student answers are provided and is a dictionary\n",
        "        if not isinstance(student_answers, dict):\n",
        "            raise ValueError(\"Student answers are missing or invalid\")\n",
        "        for question, answer in answer_key.items():\n",
        "            if student_answers[question] not in answer:\n",
        "              raise ValueError(\"Invalid answer\")\n",
        "        return \"Quiz graded successfully\"\n",
        "    except ValueError as e:\n",
        "        return str(e)\n",
        "\n",
        "answer_key = {\n",
        "        \"Q1\": \"B\",\n",
        "        \"Q2\": \"A\",\n",
        "        \"Q3\": \"C\"\n",
        "    }\n",
        "\n",
        "student_answers = {\n",
        "        \"Q1\": \"B\",\n",
        "        \"Q2\": \"A\",\n",
        "        \"Q3\": \"C\"\n",
        "    }\n",
        "result = grade_quiz(answer_key, student_answers)\n",
        "print(result)"
      ],
      "metadata": {
        "colab": {
          "base_uri": "https://localhost:8080/"
        },
        "id": "rrHSAX1P6Jya",
        "outputId": "07953b42-5565-4e02-c980-77853c0bf20e"
      },
      "execution_count": null,
      "outputs": [
        {
          "output_type": "stream",
          "name": "stdout",
          "text": [
            "Quiz graded successfully\n"
          ]
        }
      ]
    },
    {
      "cell_type": "markdown",
      "source": [
        "Library Management System: Create a function that issues a book to a library member. Handle scenarios where the book is not available, the member's subscription is expired, or the member ID is invalid."
      ],
      "metadata": {
        "id": "7jd8zs5z8YBZ"
      }
    },
    {
      "cell_type": "code",
      "source": [
        "def issue_book(member_id, book_title, available_books, member_records):\n",
        "    try:\n",
        "        # Check if member ID is valid\n",
        "        if member_id not in member_records:\n",
        "            raise ValueError(\"Invalid member ID\")\n",
        "\n",
        "        # Check if member's subscription is active\n",
        "        if not member_records[member_id][\"subscription_active\"]:\n",
        "            raise ValueError(\"Member's subscription is expired\")\n",
        "\n",
        "        # Check if the book is available\n",
        "        if book_title not in available_books or available_books[book_title] <= 0:\n",
        "            raise ValueError(\"Book is not available\")\n",
        "\n",
        "        # Issue the book to the member\n",
        "        available_books[book_title] -= 1\n",
        "        return f\"Book '{book_title}' issued to member ID: {member_id}\"\n",
        "\n",
        "    except ValueError as e:\n",
        "        return f\"Issue book failed: {e}\"\n",
        "\n",
        "# Example usage\n",
        "try:\n",
        "    # Simulated data\n",
        "    available_books = {\n",
        "        \"Python Programming\": 3,\n",
        "        \"Introduction to Machine Learning\": 1,\n",
        "        \"Data Structures and Algorithms\": 0\n",
        "    }\n",
        "\n",
        "    member_records = {\n",
        "        \"001\": {\"name\": \"Alice\", \"subscription_active\": True},\n",
        "        \"002\": {\"name\": \"Bob\", \"subscription_active\": False}\n",
        "    }\n",
        "\n",
        "    member_id = \"001\"\n",
        "    book_title = \"Python Programming\"\n",
        "\n",
        "    result = issue_book(member_id, book_title, available_books, member_records)\n",
        "    print(result)\n",
        "except ValueError as e:\n",
        "    print(f\"Error: {e}\")\n"
      ],
      "metadata": {
        "colab": {
          "base_uri": "https://localhost:8080/"
        },
        "id": "-ql_CusX7jI-",
        "outputId": "3777c3ff-e0cc-4bc0-ea35-3b369488b731"
      },
      "execution_count": null,
      "outputs": [
        {
          "output_type": "stream",
          "name": "stdout",
          "text": [
            "Book 'Python Programming' issued to member ID: 001\n"
          ]
        }
      ]
    },
    {
      "cell_type": "markdown",
      "source": [
        "Inventory Management: Write a function that updates the inventory levels of products in a warehouse. Handle cases where the product ID is invalid, the update quantity is negative, or the database connection fails."
      ],
      "metadata": {
        "id": "0DhMm2sH_ON3"
      }
    },
    {
      "cell_type": "code",
      "source": [
        "import random  # For simulating database connection failure\n",
        "\n",
        "def update_inventory(product_id, update_quantity):\n",
        "    try:\n",
        "        # Simulate random database connection failure (for demonstration)\n",
        "        if random.random() < 0.1:  # 10% chance of database connection failure\n",
        "            raise ConnectionError(\"Database connection failed\")\n",
        "\n",
        "        # Check if product ID is valid (simulated validation)\n",
        "        valid_product_ids = [\"P001\", \"P002\", \"P003\"]\n",
        "        if product_id not in valid_product_ids:\n",
        "            raise ValueError(\"Invalid product ID\")\n",
        "\n",
        "        # Check if update quantity is negative\n",
        "        if update_quantity < 0:\n",
        "            raise ValueError(\"Update quantity cannot be negative\")\n",
        "\n",
        "        # Update inventory (simulate database update)\n",
        "        # Normally here you would perform database operations to update inventory levels\n",
        "        # This is simulated by printing the update\n",
        "        print(f\"Updating inventory for product ID {product_id} by {update_quantity}\")\n",
        "\n",
        "        return \"Inventory updated successfully\"\n",
        "\n",
        "    except ConnectionError as e:\n",
        "        return f\"Failed to update inventory: {e}\"\n",
        "\n",
        "    except ValueError as e:\n",
        "        return f\"Failed to update inventory: {e}\"\n",
        "\n",
        "# Example usage\n",
        "try:\n",
        "    product_id = \"P002\"\n",
        "    update_quantity = 10\n",
        "\n",
        "    result = update_inventory(product_id, update_quantity)\n",
        "    print(result)\n",
        "except ValueError as e:\n",
        "    print(f\"Error: {e}\")\n",
        "except ConnectionError as e:\n",
        "    print(f\"Error: {e}\")\n"
      ],
      "metadata": {
        "colab": {
          "base_uri": "https://localhost:8080/"
        },
        "id": "dQa1lWyk-5ov",
        "outputId": "5a5d17e5-e179-4459-96bf-2df1bf98ea40"
      },
      "execution_count": null,
      "outputs": [
        {
          "output_type": "stream",
          "name": "stdout",
          "text": [
            "Updating inventory for product ID P002 by 10\n",
            "Inventory updated successfully\n"
          ]
        }
      ]
    },
    {
      "cell_type": "markdown",
      "source": [
        "File Handling---->>>>\n",
        "\n",
        "Exception handling in Python is a mechanism to respond to runtime errors, preventing the program from crashing and allowing the program to handle errors gracefully. It helps in debugging, maintaining clean code, and providing user-friendly error messages.\n",
        "\n",
        "Key Concepts\n",
        "\n",
        "1. Exception: An exception is an error that occurs during the execution of a program. When an exception is raised, the normal flow of the program is interrupted.\n",
        "\n",
        "2. Try Block: The code that might raise an exception is placed inside a try block.\n",
        "\n",
        "3. Except Block: The code that handles the exception is placed inside an except block.\n",
        "\n",
        "4. Else Block: The code inside the else block is executed if no exceptions are raised.\n",
        "\n",
        "5. Finally Block: The code inside the finally block is executed regardless of whether an exception is raised or not.\n",
        "\n",
        "6. Raise: Used to raise an exception manually.\n",
        "\n",
        "\n",
        "\n",
        "Common Built-in Exceptions\n",
        "\n",
        "IndexError\n",
        "\n",
        "KeyError\n",
        "\n",
        "ValueError\n",
        "\n",
        "TypeError\n",
        "\n",
        "ZeroDivisionError\n",
        "\n",
        "FileNotFoundError\n",
        "\n",
        "IOError\n",
        "\n",
        "ImportError\n",
        "\n",
        "AttributeError\n",
        "\n",
        "RuntimeError"
      ],
      "metadata": {
        "id": "rd5FGqrzEBcr"
      }
    },
    {
      "cell_type": "markdown",
      "source": [
        "Your program needs to load user settings from a file named settings.txt. Write a function to read the entire content of this file."
      ],
      "metadata": {
        "id": "5_1CzeNwEUeG"
      }
    },
    {
      "cell_type": "code",
      "source": [
        "def read_settings_file(file_path):\n",
        "    try:\n",
        "        with open(file_path, 'r') as file:\n",
        "            content = file.read()\n",
        "            return content\n",
        "    except FileNotFoundError:\n",
        "        return f\"Error: The file '{file_path}' was not found.\"\n",
        "    except IOError as e:\n",
        "        return f\"Error: Failed to read the file '{file_path}'. {e}\"\n",
        "\n",
        "# Example usage\n",
        "file_path = 'settings.txt'\n",
        "try:\n",
        "    settings_content = read_settings_file(file_path)\n",
        "    print(\"Settings file content:\")\n",
        "    print(settings_content)\n",
        "except Exception as e:\n",
        "    print(f\"Error: {e}\")\n"
      ],
      "metadata": {
        "id": "sFCOt1NS_QTG",
        "colab": {
          "base_uri": "https://localhost:8080/"
        },
        "outputId": "88e90156-d83b-457b-be9a-8495bbd64eb4"
      },
      "execution_count": null,
      "outputs": [
        {
          "output_type": "stream",
          "name": "stdout",
          "text": [
            "Settings file content:\n",
            "Hello world\n"
          ]
        }
      ]
    },
    {
      "cell_type": "markdown",
      "source": [
        "Your application generates a report. Write a function to save the string \"Monthly Report: June\" to a file named report.txt."
      ],
      "metadata": {
        "id": "zXxHg9OvGDRS"
      }
    },
    {
      "cell_type": "markdown",
      "source": [],
      "metadata": {
        "id": "E_wdm31RGXdu"
      }
    },
    {
      "cell_type": "code",
      "source": [
        "def save_report():\n",
        "    try:\n",
        "        # Open the file named report.txt in write mode ('w')\n",
        "        with open('report.txt', 'w') as file:\n",
        "            file.write(\"Monthly Report: June\")\n",
        "        return \"Report saved successfully.\"\n",
        "    except IOError as e:\n",
        "        return f\"Error: Failed to save report. {e}\"\n",
        "\n",
        "# Example usage\n",
        "try:\n",
        "    result = save_report()\n",
        "    print(result)\n",
        "except Exception as e:\n",
        "    print(f\"Error: {e}\")\n"
      ],
      "metadata": {
        "colab": {
          "base_uri": "https://localhost:8080/"
        },
        "id": "iSZ9ogIaFphX",
        "outputId": "926163f4-3bb1-49f2-c630-eab6c897b9c9"
      },
      "execution_count": null,
      "outputs": [
        {
          "output_type": "stream",
          "name": "stdout",
          "text": [
            "Report saved successfully.\n"
          ]
        }
      ]
    },
    {
      "cell_type": "markdown",
      "source": [
        "A web server needs to log user access times. Write a script to append the string \"User accessed at 2023-06-15 10:00 AM\" to a file named access.log."
      ],
      "metadata": {
        "id": "zvRL2NMgGyeo"
      }
    },
    {
      "cell_type": "code",
      "source": [
        "from datetime import datetime\n",
        "\n",
        "def log_user_access():\n",
        "    try:\n",
        "        # Get current timestamp in the specified format\n",
        "        current_time = datetime.now().strftime(\"%Y-%m-%d %I:%M %p\")\n",
        "\n",
        "        # Prepare the log message\n",
        "        log_message = f\"User accessed at {current_time}\\n\"\n",
        "\n",
        "        # Append to access.log file\n",
        "        with open('access.log', 'a') as file:\n",
        "            file.write(log_message)\n",
        "\n",
        "        return \"Access logged successfully.\"\n",
        "\n",
        "    except IOError as e:\n",
        "        return f\"Error: Failed to log access. {e}\"\n",
        "\n",
        "# Example usage\n",
        "try:\n",
        "    result = log_user_access()\n",
        "    print(result)\n",
        "except Exception as e:\n",
        "    print(f\"Error: {e}\")\n"
      ],
      "metadata": {
        "colab": {
          "base_uri": "https://localhost:8080/"
        },
        "id": "phNknJskGrEn",
        "outputId": "9870fc82-a9d9-4630-e54e-5f9f796b1377"
      },
      "execution_count": null,
      "outputs": [
        {
          "output_type": "stream",
          "name": "stdout",
          "text": [
            "Access logged successfully.\n"
          ]
        }
      ]
    },
    {
      "cell_type": "markdown",
      "source": [
        "Your script needs to process a data file named data.csv. Write a function that attempts to read this file and handles the FileNotFoundError by creating an empty file with the same name."
      ],
      "metadata": {
        "id": "TzgRkMKIIfPj"
      }
    },
    {
      "cell_type": "code",
      "source": [
        "def process_data_file(file_path):\n",
        "    try:\n",
        "        # Attempt to read the file\n",
        "        with open(file_path, 'r') as file:\n",
        "            data = file.read()\n",
        "            return f\"File content:\\n{data}\"\n",
        "\n",
        "    except FileNotFoundError:\n",
        "        # Handle FileNotFoundError by creating an empty file\n",
        "        with open(file_path, 'w') as file:\n",
        "            file.write(\"\")\n",
        "        return f\"File '{file_path}' not found. Created an empty file.\"\n",
        "\n",
        "    except IOError as e:\n",
        "        return f\"Error: Failed to read or create the file '{file_path}'. {e}\"\n",
        "\n",
        "# Example usage\n",
        "file_path = 'report.txt'\n",
        "try:\n",
        "    result = process_data_file(file_path)\n",
        "    print(result)\n",
        "except Exception as e:\n",
        "    print(f\"Error: {e}\")\n"
      ],
      "metadata": {
        "colab": {
          "base_uri": "https://localhost:8080/"
        },
        "id": "1_cOuYVjHqwj",
        "outputId": "f5a7c1b9-594f-4df5-e4b2-9ff498f6a49d"
      },
      "execution_count": null,
      "outputs": [
        {
          "output_type": "stream",
          "name": "stdout",
          "text": [
            "File content:\n",
            "Monthly Report: June\n"
          ]
        }
      ]
    },
    {
      "cell_type": "markdown",
      "source": [
        "Your image processing software needs to read raw binary image data from a file named image.bin. Write a function to read and print the first 10 bytes."
      ],
      "metadata": {
        "id": "FciHKnjrJTT4"
      }
    },
    {
      "cell_type": "code",
      "source": [
        "def read_first_10_bytes(file_path):\n",
        "    try:\n",
        "        # Open the file in binary mode ('rb')\n",
        "        with open(file_path, 'rb') as file:\n",
        "            # Read the first 10 bytes\n",
        "            first_10_bytes = file.read(10)\n",
        "            # Print the first 10 bytes as hexadecimal representation\n",
        "            print(f\"First 10 bytes of {file_path}: {first_10_bytes.upper()}\")\n",
        "\n",
        "    except FileNotFoundError:\n",
        "        print(f\"Error: The file '{file_path}' was not found.\")\n",
        "    except IOError as e:\n",
        "        print(f\"Error: Failed to read the file '{file_path}'. {e}\")\n",
        "\n",
        "# Example usage\n",
        "file_path = 'first_10_bytes.bin'\n",
        "read_first_10_bytes(file_path)\n"
      ],
      "metadata": {
        "colab": {
          "base_uri": "https://localhost:8080/"
        },
        "id": "TYNxTh36Ii0e",
        "outputId": "3834aee8-5892-4fdc-ca72-e2cd039276de"
      },
      "execution_count": null,
      "outputs": [
        {
          "output_type": "stream",
          "name": "stdout",
          "text": [
            "First 10 bytes of first_10_bytes.bin: b'HELLO WORL'\n"
          ]
        }
      ]
    },
    {
      "cell_type": "markdown",
      "source": [
        "Before processing log data, your script needs to ensure the log file logfile.log exists. Write a function to check for the file's existence and create it if it doesn't exist"
      ],
      "metadata": {
        "id": "OCIVBbpqKsML"
      }
    },
    {
      "cell_type": "code",
      "source": [
        "import os\n",
        "\n",
        "def ensure_log_file_exists(file_path):\n",
        "    try:\n",
        "        # Check if the file exists\n",
        "        if not os.path.exists(file_path):\n",
        "            # If the file does not exist, create it\n",
        "            with open(file_path, 'w') as file:\n",
        "                pass\n",
        "            print(f\"File '{file_path}' created.\")\n",
        "        else:\n",
        "            print(f\"File '{file_path}' already exists.\")\n",
        "\n",
        "    except IOError as e:\n",
        "        print(f\"Error: Unable to create the file '{file_path}'. {e}\")\n",
        "\n",
        "# Example usage\n",
        "log_file_path = 'logfile.log'\n",
        "ensure_log_file_exists(log_file_path)\n"
      ],
      "metadata": {
        "colab": {
          "base_uri": "https://localhost:8080/"
        },
        "id": "GRBvDdAIJXG7",
        "outputId": "82efdfe5-030f-437a-e65d-daa59c6cf8b9"
      },
      "execution_count": null,
      "outputs": [
        {
          "output_type": "stream",
          "name": "stdout",
          "text": [
            "File 'logfile.log' created.\n"
          ]
        }
      ]
    },
    {
      "cell_type": "markdown",
      "source": [
        "Your monitoring tool needs to count the number of entries in a log file named server.log. Implement a function to count and return the number of lines.\n"
      ],
      "metadata": {
        "id": "fRXLwSgnL-wj"
      }
    },
    {
      "cell_type": "code",
      "source": [
        "import os\n",
        "\n",
        "def count_log_entries(file_path):\n",
        "    try:\n",
        "        if not os.path.exists(file_path):\n",
        "            # If the file does not exist, create it\n",
        "            with open(file_path, 'w') as file:\n",
        "                pass\n",
        "            print(f\"File '{file_path}' created.\")\n",
        "\n",
        "        # Open the file in read mode and count the lines\n",
        "        with open(file_path, 'r') as file:\n",
        "            count = 0\n",
        "            for line in file:\n",
        "                count += 1\n",
        "        return count\n",
        "    except IOError as e:\n",
        "        print(f\"Error: Unable to read the file '{file_path}'. {e}\")\n",
        "        return 0\n",
        "\n",
        "# Example usage\n",
        "log_file_path = 'server.log'\n",
        "num_entries = count_log_entries(log_file_path)\n",
        "print(f\"Number of entries in '{log_file_path}': {num_entries}\")\n"
      ],
      "metadata": {
        "colab": {
          "base_uri": "https://localhost:8080/"
        },
        "id": "QVSj0nHwK7HG",
        "outputId": "893d539e-db2e-43b9-ac9f-755f57fd958b"
      },
      "execution_count": null,
      "outputs": [
        {
          "output_type": "stream",
          "name": "stdout",
          "text": [
            "Number of entries in 'server.log': 2\n"
          ]
        }
      ]
    },
    {
      "cell_type": "markdown",
      "source": [
        "Activity on basis of random module---->>>>\n",
        "\n",
        "Assignment using Random module: Simulate Rock-Paper-Scissors game using the knowledge that you have acquired till now..\n"
      ],
      "metadata": {
        "id": "Ndu5xQ_2zpPK"
      }
    },
    {
      "cell_type": "code",
      "source": [
        "# prompt: Assignment using Random module: Simulate Rock-Paper-Scissors game using the knowledge that you have acquired till now.\n",
        "\n",
        "import random\n",
        "\n",
        "def play_rock_paper_scissors():\n",
        "    choices = [\"Rock\", \"Paper\", \"Scissors\"]\n",
        "\n",
        "    # Get player's choice\n",
        "    player_choice = input(\"Enter your choice (Rock, Paper, or Scissors): \").capitalize()\n",
        "    while player_choice not in choices:\n",
        "        player_choice = input(\"Invalid choice. Please enter Rock, Paper, or Scissors: \").capitalize()\n",
        "\n",
        "    # Get computer's choice\n",
        "    computer_choice = random.choice(choices)\n",
        "\n",
        "    # Determine the winner\n",
        "    if player_choice == computer_choice:\n",
        "        print(\"Tie!\")\n",
        "    elif( (player_choice == \"Rock\" and computer_choice == \"Scissors\") or\n",
        "         (player_choice == \"Paper\" and computer_choice == \"Rock\") or\n",
        "         (player_choice == \"Scissors\" and computer_choice == \"Paper\")):\n",
        "         print(\"You win!\")\n",
        "    else:\n",
        "        print(\"You lose!\")\n",
        "\n",
        "# Play the game\n",
        "play_rock_paper_scissors()\n"
      ],
      "metadata": {
        "id": "7wVJgFuiMD_B",
        "colab": {
          "base_uri": "https://localhost:8080/"
        },
        "outputId": "4bf6add4-0ed7-4977-c9f8-68fe6a83581d"
      },
      "execution_count": 6,
      "outputs": [
        {
          "output_type": "stream",
          "name": "stdout",
          "text": [
            "Enter your choice (Rock, Paper, or Scissors): paper\n",
            "You win!\n"
          ]
        }
      ]
    },
    {
      "cell_type": "code",
      "source": [],
      "metadata": {
        "id": "_llPqpXM6LUr"
      },
      "execution_count": 5,
      "outputs": []
    }
  ]
}