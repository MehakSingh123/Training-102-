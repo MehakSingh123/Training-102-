{
  "nbformat": 4,
  "nbformat_minor": 0,
  "metadata": {
    "colab": {
      "provenance": [],
      "authorship_tag": "ABX9TyPAYljwparyloSl+sTj97HI",
      "include_colab_link": true
    },
    "kernelspec": {
      "name": "python3",
      "display_name": "Python 3"
    },
    "language_info": {
      "name": "python"
    }
  },
  "cells": [
    {
      "cell_type": "markdown",
      "metadata": {
        "id": "view-in-github",
        "colab_type": "text"
      },
      "source": [
        "<a href=\"https://colab.research.google.com/github/MehakSingh123/Training-102-/blob/main/Day4.ipynb\" target=\"_parent\"><img src=\"https://colab.research.google.com/assets/colab-badge.svg\" alt=\"Open In Colab\"/></a>"
      ]
    },
    {
      "cell_type": "markdown",
      "source": [
        "Strings-->> It is a type of data type comprising of sequence of characters.\n",
        "These are immutable in nature.It can be implemented with inverted commas \" \".\n",
        "It is case senstive in nature.\n",
        "There are various methods of strings-->>\n",
        "\n",
        "1.upper() :\n",
        "The upper() method converts a string to upper case.\n",
        "\n",
        "2.lower()\n",
        "The lower() method converts a string to lower case.\n",
        "\n",
        "3.strip() :\n",
        "The strip() method removes any white spaces before and after the string.\n",
        "\n",
        "4.rstrip() :\n",
        "the rstrip() removes any trailing characters\n",
        "\n",
        "5.replace() :\n",
        "The replace() method replaces all occurences of a string with another string\n",
        "\n",
        "6.split() :\n",
        "The split() method splits the given string at the specified instance and returns the separated strings as list items.\n",
        "\n",
        "7.capitalize() :\n",
        "The capitalize() method turns only the first character of the string to uppercase and the rest other characters of the string are turned to lowercase. The string has no effect if the first character is already uppercase.\n",
        "\n",
        "8.center() :\n",
        "The center() method aligns the string to the center as per the parameters\n",
        "given by the user.\n",
        "\n",
        "9.count() :\n",
        "The count() method returns the number of times the given value has occurred within the given string.\n",
        "10.endswith() :\n",
        "The endswith() method checks if the string ends with a given value. If yes then return True, else return False.\n",
        "\n",
        "11.find() :\n",
        "The find() method searches for the first occurrence of the given value and returns the index where it is present. If given value is absent from the string then return -1.\n",
        "\n",
        "12.index() :\n",
        "The index() method searches for the first occurrence of the given value and returns the index where it is present. If given value is absent from the string then raise an exception.\n",
        "\n",
        "13.isalnum() :\n",
        "The isalnum() method returns True only if the entire string only consists of A-Z, a-z, 0-9. If any other characters or punctuations are present, then it returns False.\n",
        "\n",
        "16.isalpha() :\n",
        "The isalnum() method returns True only if the entire string only consists of A-Z, a-z. If any other characters or punctuations or numbers(0-9) are present, then it returns False.\n",
        "\n",
        "17.islower() :\n",
        "The islower() method returns True if all the characters in the string are lower case, else it returns False.\n",
        "\n",
        "18.isprintable() :\n",
        "The isprintable() method returns True if all the values within the given string are printable, if not, then return False.\n",
        "\n",
        "19.isspace() :\n",
        "The isspace() method returns True only and only if the string contains white spaces, else returns False.\n",
        "\n",
        "20.istitle() :\n",
        "The istitile() returns True only if the first letter of each word of the string is capitalized, else it returns False.\n",
        "\n",
        "21.isupper() :\n",
        "The isupper() method returns True if all the characters in the string are upper case, else it returns False.\n",
        "\n",
        "22.startswith() :\n",
        "The endswith() method checks if the string starts with a given value. If yes then return True, else return False.\n",
        "\n",
        "23.swapcase() :\n",
        "The swapcase() method changes the character casing of the string. Upper case are converted to lower case and lower case to upper case.\n",
        "\n",
        "24.title() :\n",
        "The title() method capitalizes each letter of the word within the string.\n",
        "\n",
        "25 .expandtabs()-->> It usesthe amount of space as argument to provide tab between each string word.For default it is 8 spaces.\n",
        "\n",
        "\n",
        "\n",
        "\n"
      ],
      "metadata": {
        "id": "wCxVV1daRFds"
      }
    },
    {
      "cell_type": "markdown",
      "source": [
        "Practice Question-->>\n",
        "1. String Manipulation:\n",
        "Write a Python program that reverses a given string.\n",
        "Given a string, write a function to count the number of vowels in it.\n",
        "Write a program to check if a string is a palindrome.\n",
        "Implement a function to capitalize the first letter of each word in a sentence."
      ],
      "metadata": {
        "id": "o8IOvQxzWMuO"
      }
    },
    {
      "cell_type": "code",
      "execution_count": null,
      "metadata": {
        "colab": {
          "base_uri": "https://localhost:8080/"
        },
        "id": "nkf5wDprRBPl",
        "outputId": "ce5a95d3-08fc-48bd-a92c-bb1576f8e520"
      },
      "outputs": [
        {
          "output_type": "stream",
          "name": "stdout",
          "text": [
            "dlroW olleH\n",
            "4\n",
            "Palindrome\n",
            "Hello World\n"
          ]
        }
      ],
      "source": [
        "str1=\"Hello World\"\n",
        "print(str1[::-1])\n",
        "\n",
        "def vowels(string):\n",
        "  count=0\n",
        "  for i in string:\n",
        "    if(i==\"a\" or i==\"e\" or i==\"i\" or i=='o' or i==\"u\"):\n",
        "      count+=1\n",
        "  print(count)\n",
        "vowels(\"aeiof\")\n",
        "\n",
        "def reverse(str1):\n",
        "  str2=str1[::-1]\n",
        "  if(str1==str2):\n",
        "    print(\"Palindrome\")\n",
        "  else:\n",
        "    print(\"Not Palindrome\")\n",
        "reverse(\"101\")\n",
        "\n",
        "def capitalize():\n",
        "  str1=\"hello world\"\n",
        "  str2=str1.title()\n",
        "  print(str2)\n",
        "capitalize()\n"
      ]
    },
    {
      "cell_type": "markdown",
      "source": [],
      "metadata": {
        "id": "ciooCuvGW8rg"
      }
    },
    {
      "cell_type": "markdown",
      "source": [
        "2. String Formatting:\n",
        "Create a formatted string using f-strings that includes variables and their values.\n",
        "Write a program to left-align a list of strings with a specified width.\n",
        "Given a list of names, format them into a bulleted list using string concatenation or join\n",
        "method."
      ],
      "metadata": {
        "id": "_5lm1XRQaC--"
      }
    },
    {
      "cell_type": "code",
      "source": [
        "str1=\"hello\"\n",
        "str2=\"bye\"\n",
        "print(f\"The variable is {str1} and value is {str2}\")\n",
        "str3=\"Hello\"\n",
        "print(str3.center(50))\n",
        "names = [\"Alice\", \"Bob\", \"Charlie\", \"David\"]\n",
        "\n",
        "bulleted_list = \"\"\n",
        "\n",
        "for name in names:\n",
        "    bulleted_list += f\"• {name}\\n\"\n",
        "\n",
        "print(bulleted_list)\n"
      ],
      "metadata": {
        "colab": {
          "base_uri": "https://localhost:8080/"
        },
        "id": "IkZnN6IjWxO0",
        "outputId": "f6bf972e-f11a-48f5-e81b-ce642e9e51d4"
      },
      "execution_count": null,
      "outputs": [
        {
          "output_type": "stream",
          "name": "stdout",
          "text": [
            "The variable is hello and value is bye\n",
            "                      Hello                       \n",
            "• Alice\n",
            "• Bob\n",
            "• Charlie\n",
            "• David\n",
            "\n"
          ]
        }
      ]
    },
    {
      "cell_type": "markdown",
      "source": [
        "3. String Searching and Counting:\n",
        "Write a function to find the index of the first occurrence of a substring in a given string.\n",
        "Count the occurrences of a specific word in a paragraph.\n",
        "Write a program to extract all email addresses from a given text."
      ],
      "metadata": {
        "id": "uJDuzTRFbwzK"
      }
    },
    {
      "cell_type": "code",
      "source": [
        "def show():\n",
        "  str1=\"hello where are you are\"\n",
        "  print(str1.find(\"are\"))\n",
        "show()\n",
        "\n",
        "def count():\n",
        "  word=\"abacdcvxsa\"\n",
        "  print(word.count(\"a\"))\n",
        "count()\n",
        "\n",
        "def email():\n",
        "\n",
        "\n"
      ],
      "metadata": {
        "colab": {
          "base_uri": "https://localhost:8080/"
        },
        "id": "FfFRfaPHaeQg",
        "outputId": "b239d322-3c0e-4414-9917-556065d20d7f"
      },
      "execution_count": null,
      "outputs": [
        {
          "output_type": "stream",
          "name": "stdout",
          "text": [
            "12\n",
            "3\n"
          ]
        }
      ]
    },
    {
      "cell_type": "markdown",
      "source": [
        "4. String Slicing and Concatenation:\n",
        "Given a sentence, extract the last three words.\n",
        "Concatenate two strings with a space in between.\n",
        "Write a program that removes leading and trailing whitespaces from a string."
      ],
      "metadata": {
        "id": "5iAsMyn1eAH1"
      }
    },
    {
      "cell_type": "code",
      "source": [
        " str1=\"Hello World\"\n",
        "print(str1[-3:])\n",
        "str2=\"No where\"\n",
        "print(str1+\" \"+str2)\n",
        "str3=\"   hello   \"\n",
        "print(str3.strip())\n"
      ],
      "metadata": {
        "colab": {
          "base_uri": "https://localhost:8080/"
        },
        "id": "SRABd4GmcPfr",
        "outputId": "b9090edb-3195-4216-ee56-108ecb66fa10"
      },
      "execution_count": null,
      "outputs": [
        {
          "output_type": "stream",
          "name": "stdout",
          "text": [
            "rld\n",
            "Hello World No where\n",
            "hello\n"
          ]
        }
      ]
    },
    {
      "cell_type": "markdown",
      "source": [
        "OPERATORS-->Use to perform various operation on basis of certain conditions.\n",
        "1.Assignment\n",
        "2.Airthematic\n",
        "3.Bitwise\n",
        "4.Comparison\n",
        "5.Identity\n",
        "6.Logical--> is , is not\n",
        "7.Membership Operator-->in, not in\n",
        "There is also a function called id() function use to find memory location of specifc string.\n"
      ],
      "metadata": {
        "id": "0YcVrmNwhoZv"
      }
    },
    {
      "cell_type": "markdown",
      "source": [
        "PRACTICE -->>\n",
        " 1.⁠ ⁠Given a string containing a sentence, use a string method to convert the entire string to uppercase.\n"
      ],
      "metadata": {
        "id": "b0ZLJelblZfY"
      }
    },
    {
      "cell_type": "code",
      "source": [
        "str1=\"Hello World\"\n",
        "print(str1.upper())"
      ],
      "metadata": {
        "id": "p-b3SNrie8j1",
        "colab": {
          "base_uri": "https://localhost:8080/"
        },
        "outputId": "b82bbb04-f921-4320-a3c7-305ca87422d8"
      },
      "execution_count": null,
      "outputs": [
        {
          "output_type": "stream",
          "name": "stdout",
          "text": [
            "HELLO WORLD\n"
          ]
        }
      ]
    },
    {
      "cell_type": "markdown",
      "source": [
        "2.⁠ ⁠You have a string with extra spaces at the beginning and end. Use a string method to remove these extra spaces.\n"
      ],
      "metadata": {
        "id": "-MymG95Dljv5"
      }
    },
    {
      "cell_type": "code",
      "source": [
        "str1=\"   Hello World   \"\n",
        "print(str1.strip())"
      ],
      "metadata": {
        "colab": {
          "base_uri": "https://localhost:8080/"
        },
        "id": "clqeT2TSlihX",
        "outputId": "360e3a88-663c-48e6-8ce1-541d7e7fa327"
      },
      "execution_count": null,
      "outputs": [
        {
          "output_type": "stream",
          "name": "stdout",
          "text": [
            "Hello World\n"
          ]
        }
      ]
    },
    {
      "cell_type": "markdown",
      "source": [
        " 3.⁠ ⁠Given a string, find the first occurrence of the substring \"Python\" and print its position.\n"
      ],
      "metadata": {
        "id": "2Pa8xKcCltto"
      }
    },
    {
      "cell_type": "code",
      "source": [
        "str1=\"Find the first occurrence of the substring Python\"\n",
        "print(str1.find(\"Python\"))"
      ],
      "metadata": {
        "colab": {
          "base_uri": "https://localhost:8080/"
        },
        "id": "DEXYbVRtlsDt",
        "outputId": "d371aabd-f73e-41cc-e468-8b8e8488ce67"
      },
      "execution_count": null,
      "outputs": [
        {
          "output_type": "stream",
          "name": "stdout",
          "text": [
            "43\n"
          ]
        }
      ]
    },
    {
      "cell_type": "markdown",
      "source": [
        " 4.⁠ ⁠You have a string with words separated by commas. Use a string method to split the string into a list of words.\n"
      ],
      "metadata": {
        "id": "PNf9StjYl3F5"
      }
    },
    {
      "cell_type": "code",
      "source": [
        "string=\"Hello,World,Python\"\n",
        "print(string.split(\",\"))"
      ],
      "metadata": {
        "colab": {
          "base_uri": "https://localhost:8080/"
        },
        "id": "9sJwpm6Sl1By",
        "outputId": "6585b333-11ae-4e09-9ddd-8710da1068b0"
      },
      "execution_count": null,
      "outputs": [
        {
          "output_type": "stream",
          "name": "stdout",
          "text": [
            "['Hello', 'World', 'Python']\n"
          ]
        }
      ]
    },
    {
      "cell_type": "markdown",
      "source": [
        " 5.⁠ ⁠Given a string containing a sentence, replace all occurrences of the word \"Java\" with \"Python\".\n"
      ],
      "metadata": {
        "id": "JAljWPYWmSZA"
      }
    },
    {
      "cell_type": "code",
      "source": [
        "string=\"Hello,World,Python\"\n",
        "print(string.replace(\"Python\",\"java\"))"
      ],
      "metadata": {
        "colab": {
          "base_uri": "https://localhost:8080/"
        },
        "id": "WvP1FveZmP79",
        "outputId": "8b0ca8f1-5444-401d-e323-31e01c574541"
      },
      "execution_count": null,
      "outputs": [
        {
          "output_type": "stream",
          "name": "stdout",
          "text": [
            "Hello,World,java\n"
          ]
        }
      ]
    },
    {
      "cell_type": "markdown",
      "source": [],
      "metadata": {
        "id": "2gexOjBHmhmu"
      }
    },
    {
      "cell_type": "markdown",
      "source": [
        " 6.⁠ ⁠You have a string containing a mix of uppercase and lowercase characters. Use a string method to convert the entire string to lowercase.\n"
      ],
      "metadata": {
        "id": "AWLPKpIUmrGP"
      }
    },
    {
      "cell_type": "code",
      "source": [
        "string=\"Hello,World,Python\"\n",
        "print(string.lower())"
      ],
      "metadata": {
        "colab": {
          "base_uri": "https://localhost:8080/"
        },
        "id": "Tf_HM165meh2",
        "outputId": "035231ca-c987-4463-ee35-d65a00645ef6"
      },
      "execution_count": null,
      "outputs": [
        {
          "output_type": "stream",
          "name": "stdout",
          "text": [
            "hello,world,python\n"
          ]
        }
      ]
    },
    {
      "cell_type": "markdown",
      "source": [
        " 7.⁠ ⁠Given a string, check if it starts with the prefix \"Hello\".\n"
      ],
      "metadata": {
        "id": "Ax-dfSlbm12y"
      }
    },
    {
      "cell_type": "code",
      "source": [
        "string=\"Hello,World,Python\"\n",
        "print(string.startswith(\"Hello\"))"
      ],
      "metadata": {
        "colab": {
          "base_uri": "https://localhost:8080/"
        },
        "id": "VrEbdfGXmww9",
        "outputId": "6d7a5a92-efbd-46fd-9b44-e70f498e8b29"
      },
      "execution_count": null,
      "outputs": [
        {
          "output_type": "stream",
          "name": "stdout",
          "text": [
            "True\n"
          ]
        }
      ]
    },
    {
      "cell_type": "markdown",
      "source": [
        " 8.⁠ ⁠You have a string with numbers and letters. Use a string method to check if the string is alphanumeric"
      ],
      "metadata": {
        "id": "-E6A6z0Xm-3o"
      }
    },
    {
      "cell_type": "code",
      "source": [
        "string=\"Hello,World,Python\"\n",
        "print(string.isalnum())"
      ],
      "metadata": {
        "colab": {
          "base_uri": "https://localhost:8080/"
        },
        "id": "Twwyx2Q2m9Mf",
        "outputId": "0caaaa2c-80e3-41dc-e08f-5f0e029b6f77"
      },
      "execution_count": null,
      "outputs": [
        {
          "output_type": "stream",
          "name": "stdout",
          "text": [
            "False\n"
          ]
        }
      ]
    },
    {
      "cell_type": "markdown",
      "source": [
        "9.⁠ ⁠Given a string containing multiple words, use a string method to join the words with a hyphen (\"-\").\n"
      ],
      "metadata": {
        "id": "XbRX9-oXnEzT"
      }
    },
    {
      "cell_type": "code",
      "source": [
        "\n",
        "\n",
        "words = [\"Hello\", \"World\", \"Python\"]\n",
        "\n",
        "hyphen_separated_string = \"-\".join(words)\n",
        "\n",
        "print(hyphen_separated_string)\n"
      ],
      "metadata": {
        "colab": {
          "base_uri": "https://localhost:8080/"
        },
        "id": "PBRa603OnC4g",
        "outputId": "813d6bac-f616-4245-e306-82f0d47c28a2"
      },
      "execution_count": null,
      "outputs": [
        {
          "output_type": "stream",
          "name": "stdout",
          "text": [
            "Hello-World-Python\n"
          ]
        }
      ]
    },
    {
      "cell_type": "markdown",
      "source": [
        "10.⁠ ⁠You have a string with different words separated by spaces. Use a string method to count the number of words in the string.\n"
      ],
      "metadata": {
        "id": "_cXm1Mqgn7sv"
      }
    },
    {
      "cell_type": "code",
      "source": [
        "str1=\"Find the first occurrence of the substring Python\"\n",
        "print(len(str1.split()))"
      ],
      "metadata": {
        "colab": {
          "base_uri": "https://localhost:8080/"
        },
        "id": "h35M3RfznSbT",
        "outputId": "6b497830-bae0-4c89-967f-eb6dffe001e9"
      },
      "execution_count": null,
      "outputs": [
        {
          "output_type": "stream",
          "name": "stdout",
          "text": [
            "8\n"
          ]
        }
      ]
    },
    {
      "cell_type": "markdown",
      "source": [
        "11.⁠ ⁠Given a string containing a sentence, use a string method to capitalize the first letter of each word.\n"
      ],
      "metadata": {
        "id": "mtTlVIVToSvs"
      }
    },
    {
      "cell_type": "code",
      "source": [
        "str1=\"find the first occurrence of the substring Python\"\n",
        "print(str1.title())"
      ],
      "metadata": {
        "colab": {
          "base_uri": "https://localhost:8080/"
        },
        "id": "0N_oTje5oNEK",
        "outputId": "d4ae4f14-1246-4020-8a81-3aeabb7dea45"
      },
      "execution_count": null,
      "outputs": [
        {
          "output_type": "stream",
          "name": "stdout",
          "text": [
            "Find The First Occurrence Of The Substring Python\n"
          ]
        }
      ]
    },
    {
      "cell_type": "markdown",
      "source": [
        "12.⁠ ⁠You have a string containing a URL. Use a string method to check if the URL ends with \".com\".\n"
      ],
      "metadata": {
        "id": "CoWv7nDuosP-"
      }
    },
    {
      "cell_type": "code",
      "source": [
        "str=\"https://www.google.com\"\n",
        "print(str.endswith(\".com\"))"
      ],
      "metadata": {
        "colab": {
          "base_uri": "https://localhost:8080/"
        },
        "id": "fNc7n_UjoawZ",
        "outputId": "5b380266-bd59-4a63-c412-33e8160d924b"
      },
      "execution_count": null,
      "outputs": [
        {
          "output_type": "stream",
          "name": "stdout",
          "text": [
            "True\n"
          ]
        }
      ]
    },
    {
      "cell_type": "markdown",
      "source": [
        "13.⁠ ⁠Given a string containing a list of names separated by commas, use a string method to sort the names alphabetically.\n"
      ],
      "metadata": {
        "id": "NdHksnx4oy4t"
      }
    },
    {
      "cell_type": "code",
      "source": [
        "names=\"Alice,Bob,Charlie,David\"\n",
        "print(sorted(names.split(\",\")))"
      ],
      "metadata": {
        "colab": {
          "base_uri": "https://localhost:8080/"
        },
        "id": "HJpHYd2Oowhi",
        "outputId": "a20ad6a7-3737-4b89-e6f1-e545f229a8b5"
      },
      "execution_count": null,
      "outputs": [
        {
          "output_type": "stream",
          "name": "stdout",
          "text": [
            "['Alice', 'Bob', 'Charlie', 'David']\n"
          ]
        }
      ]
    },
    {
      "cell_type": "markdown",
      "source": [
        "14.⁠ ⁠You have a string containing a sentence. Use a string method to find the number of times the word \"data\" appears in the string.\n"
      ],
      "metadata": {
        "id": "kvj4X9wUpAQt"
      }
    },
    {
      "cell_type": "code",
      "source": [
        "str1=\"Find the first occurrence of the substring Python\"\n",
        "print(str1.count(\"data\"))"
      ],
      "metadata": {
        "colab": {
          "base_uri": "https://localhost:8080/"
        },
        "id": "pQ4wPCP6o_ht",
        "outputId": "3ba9444e-b1b4-462d-86a3-9d93ba0ccd78"
      },
      "execution_count": null,
      "outputs": [
        {
          "output_type": "stream",
          "name": "stdout",
          "text": [
            "0\n"
          ]
        }
      ]
    },
    {
      "cell_type": "markdown",
      "source": [
        "\n",
        "16.⁠ ⁠You have a string containing multiple email addresses separated by semicolons. Use a string method to extract the domain of each email address.\n"
      ],
      "metadata": {
        "id": "BXFqWlfcpPS7"
      }
    },
    {
      "cell_type": "code",
      "source": [
        "string=\"Hello@gmail.com ; Wolrd2@gmail.com; Python@gmail.com\"\n",
        "string3=string.split(\";\")\n",
        "for i in string3:\n",
        "  print(i.split(\"@\")[1])\n"
      ],
      "metadata": {
        "colab": {
          "base_uri": "https://localhost:8080/"
        },
        "id": "kEc-_FyHpK-C",
        "outputId": "38781457-9034-42d2-84a4-73d6799ba0d6"
      },
      "execution_count": null,
      "outputs": [
        {
          "output_type": "stream",
          "name": "stdout",
          "text": [
            "gmail.com \n",
            "gmail.com\n",
            "gmail.com\n"
          ]
        }
      ]
    },
    {
      "cell_type": "markdown",
      "source": [
        "7.⁠ ⁠Given a string containing a paragraph, use a string method to replace all newline characters (\"\\n\") with spaces.\n",
        "\n"
      ],
      "metadata": {
        "id": "ME6iS-gXqyLP"
      }
    },
    {
      "cell_type": "code",
      "source": [
        "str1=\"Hello\\nWorld\\nPython\"\n",
        "print(str1.replace(\"\\n\",\" \"))"
      ],
      "metadata": {
        "colab": {
          "base_uri": "https://localhost:8080/"
        },
        "id": "9Ekk2f0OqXy_",
        "outputId": "b67b564e-8fa3-4bc7-bab9-8b5e98b23bd2"
      },
      "execution_count": null,
      "outputs": [
        {
          "output_type": "stream",
          "name": "stdout",
          "text": [
            "Hello World Python\n"
          ]
        }
      ]
    },
    {
      "cell_type": "markdown",
      "source": [
        "18.⁠ ⁠You have a string that contains both letters and digits. Use a string method to extract only the digits from the string.\n"
      ],
      "metadata": {
        "id": "57P9j3bkq7Ee"
      }
    },
    {
      "cell_type": "code",
      "source": [
        "str1=\"mehak123jacky234\"\n",
        "for i in str1:\n",
        "  if i.isdigit():\n",
        "    print(i,end=\" \")"
      ],
      "metadata": {
        "colab": {
          "base_uri": "https://localhost:8080/"
        },
        "id": "JnOohbf5q6EM",
        "outputId": "73c88fdd-32ae-4313-9416-a146ad3eb30d"
      },
      "execution_count": null,
      "outputs": [
        {
          "output_type": "stream",
          "name": "stdout",
          "text": [
            "1 2 3 2 3 4 "
          ]
        }
      ]
    },
    {
      "cell_type": "markdown",
      "source": [
        "22.⁠ ⁠You have a string with multiple lines of text. Use a string method to split the string into a list of lines.\n"
      ],
      "metadata": {
        "id": "LI4CRAnnryAn"
      }
    },
    {
      "cell_type": "code",
      "source": [
        "str1=\"Hello\\nWorld\\nPython\"\n",
        "print(str1.split(\"\\n\"))"
      ],
      "metadata": {
        "colab": {
          "base_uri": "https://localhost:8080/"
        },
        "id": "CLQtckLWroXF",
        "outputId": "de799531-f7bb-4bba-c043-5bbc50968275"
      },
      "execution_count": null,
      "outputs": [
        {
          "output_type": "stream",
          "name": "stdout",
          "text": [
            "['Hello', 'World', 'Python']\n"
          ]
        }
      ]
    },
    {
      "cell_type": "markdown",
      "source": [
        "26.⁠ ⁠You have a string containing a sentence. Use a string method to split the sentence into individual words and then join them back together with spaces.\n"
      ],
      "metadata": {
        "id": "4gWisXy3sP08"
      }
    },
    {
      "cell_type": "code",
      "source": [
        "str1=\"Hello World Python\"\n",
        "print(\" \".join(str1.split()))"
      ],
      "metadata": {
        "colab": {
          "base_uri": "https://localhost:8080/"
        },
        "id": "xGGO_3ZBr6G8",
        "outputId": "dd831cf5-0c63-48b5-acad-7f03c541b76b"
      },
      "execution_count": null,
      "outputs": [
        {
          "output_type": "stream",
          "name": "stdout",
          "text": [
            "Hello World Python\n"
          ]
        }
      ]
    },
    {
      "cell_type": "markdown",
      "source": [
        "27.⁠ ⁠Given a string containing a file path, use a string method to extract the file name.\n"
      ],
      "metadata": {
        "id": "tPXZW9dCtxVF"
      }
    },
    {
      "cell_type": "code",
      "source": [
        "str1=\"/window/users/hello.js\"\n",
        "print(str1.split(\"/\")[-1])"
      ],
      "metadata": {
        "colab": {
          "base_uri": "https://localhost:8080/"
        },
        "id": "zRlN7wdNtsT3",
        "outputId": "8b3afef0-2e74-41b1-9726-b142b764c273"
      },
      "execution_count": null,
      "outputs": [
        {
          "output_type": "stream",
          "name": "stdout",
          "text": [
            "hello.js\n"
          ]
        }
      ]
    },
    {
      "cell_type": "markdown",
      "source": [
        "30.⁠ ⁠You have a string containing a sentence with multiple spaces between words. Use a string method to remove all extra spaces, leaving only a single space between words."
      ],
      "metadata": {
        "id": "VclzAJ2aQK5g"
      }
    },
    {
      "cell_type": "code",
      "source": [
        "\n",
        "\n",
        "def remove_extra_spaces(sentence):\n",
        "\n",
        "  words = sentence.split()\n",
        "\n",
        "\n",
        "  return \" \".join(words)\n",
        "\n",
        "\n",
        "# Example usage:\n",
        "sentence = \"This  is  a    sentence    with    multiple    spaces.\"\n",
        "print(remove_extra_spaces(sentence))\n"
      ],
      "metadata": {
        "id": "bWv-017EuVfR",
        "colab": {
          "base_uri": "https://localhost:8080/"
        },
        "outputId": "df343124-a97c-47bf-85b7-ec98b7ab7226"
      },
      "execution_count": 3,
      "outputs": [
        {
          "output_type": "stream",
          "name": "stdout",
          "text": [
            "This is a sentence with multiple spaces.\n"
          ]
        }
      ]
    },
    {
      "cell_type": "markdown",
      "source": [
        "Operators-->>Practice questions\n",
        "1.⁠ ⁠You have two variables, ⁠ a ⁠ and ⁠ b ⁠, containing integer values. Use arithmetic operators to calculate and print the sum, difference, product, and quotient of these variables.\n"
      ],
      "metadata": {
        "id": "RqkD6euZRh7O"
      }
    },
    {
      "cell_type": "code",
      "source": [
        "a=10\n",
        "b=20\n",
        "print(a+b)\n",
        "print(a/b)\n",
        "print(a-b)\n",
        "print(a%b)\n",
        "print(a*b)"
      ],
      "metadata": {
        "colab": {
          "base_uri": "https://localhost:8080/"
        },
        "id": "QhS_8qHQQayN",
        "outputId": "4be82be5-201b-4326-9bd1-87b46f5973f8"
      },
      "execution_count": 4,
      "outputs": [
        {
          "output_type": "stream",
          "name": "stdout",
          "text": [
            "30\n",
            "0.5\n",
            "-10\n",
            "10\n",
            "200\n"
          ]
        }
      ]
    },
    {
      "cell_type": "markdown",
      "source": [
        "\n",
        " 2.⁠ ⁠Given a variable ⁠ x ⁠ containing an integer value, use the modulus operator to check if ⁠ x ⁠ is even or odd.\n"
      ],
      "metadata": {
        "id": "Xh3Smz1KR1pc"
      }
    },
    {
      "cell_type": "code",
      "source": [
        "x=10\n",
        "if x%2==0:\n",
        "  print(\"Even\")\n",
        "else:\n",
        "  print(\"Odd\")"
      ],
      "metadata": {
        "colab": {
          "base_uri": "https://localhost:8080/"
        },
        "id": "9AU2CKSpRyr9",
        "outputId": "1fbb20e3-a4ce-4459-e3df-7f6d1e7c6ad4"
      },
      "execution_count": 5,
      "outputs": [
        {
          "output_type": "stream",
          "name": "stdout",
          "text": [
            "Even\n"
          ]
        }
      ]
    },
    {
      "cell_type": "markdown",
      "source": [
        " 3.⁠ ⁠You have two variables, ⁠ a ⁠ and ⁠ b ⁠. Use comparison operators to check if ⁠ a ⁠ is greater than ⁠ b ⁠, and print the result.\n",
        "\n"
      ],
      "metadata": {
        "id": "_9-Olt4hR8hA"
      }
    },
    {
      "cell_type": "code",
      "source": [
        "a=10\n",
        "b=20\n",
        "if a>b:\n",
        "  print(\"a is greater than b\")\n",
        "else:\n",
        "  print(\"b is greater than a\")"
      ],
      "metadata": {
        "colab": {
          "base_uri": "https://localhost:8080/"
        },
        "id": "pRU-QDN8R6WP",
        "outputId": "0f2969b0-401e-4adf-ee28-cb7ce6b89e50"
      },
      "execution_count": 9,
      "outputs": [
        {
          "output_type": "stream",
          "name": "stdout",
          "text": [
            "b is greater than a\n"
          ]
        }
      ]
    },
    {
      "cell_type": "markdown",
      "source": [
        " 4.⁠ ⁠Given two boolean variables, ⁠ p ⁠ and ⁠ q ⁠, use logical operators to evaluate and print the result of ⁠ p AND q ⁠, ⁠ p OR q ⁠, and ⁠ NOT p ⁠.\n"
      ],
      "metadata": {
        "id": "e1YdGFqGSiRY"
      }
    },
    {
      "cell_type": "code",
      "source": [
        "p=10\n",
        "q=20\n",
        "print(p and q)\n",
        "print(p or q)"
      ],
      "metadata": {
        "colab": {
          "base_uri": "https://localhost:8080/"
        },
        "id": "yg9BFWqSSU6O",
        "outputId": "db0e4cca-de69-40b8-df03-f629fa3493ef"
      },
      "execution_count": 10,
      "outputs": [
        {
          "output_type": "stream",
          "name": "stdout",
          "text": [
            "20\n",
            "10\n"
          ]
        }
      ]
    },
    {
      "cell_type": "markdown",
      "source": [
        "\n",
        " 5.⁠ ⁠You have a variable ⁠ n ⁠ containing an integer value. Use the bitwise AND, OR, and XOR operators to perform operations with another integer ⁠ m ⁠.\n"
      ],
      "metadata": {
        "id": "o2MnB7-KTH7S"
      }
    },
    {
      "cell_type": "code",
      "source": [
        "n=10\n",
        "m=20\n",
        "print(n&m)\n",
        "print(n|m)\n",
        "print(n^m)"
      ],
      "metadata": {
        "colab": {
          "base_uri": "https://localhost:8080/"
        },
        "id": "v-EMsfxmSnM3",
        "outputId": "1e7d1e55-dc4d-4392-db18-dbd3f11578eb"
      },
      "execution_count": 11,
      "outputs": [
        {
          "output_type": "stream",
          "name": "stdout",
          "text": [
            "0\n",
            "30\n",
            "30\n"
          ]
        }
      ]
    },
    {
      "cell_type": "markdown",
      "source": [
        " 6.⁠ ⁠Given a variable ⁠ y ⁠ containing a floating-point number, use the floor division operator to divide ⁠ y ⁠ by 2 and print the result.\n",
        "\n"
      ],
      "metadata": {
        "id": "g97UyC3WTbm5"
      }
    },
    {
      "cell_type": "code",
      "source": [
        "y=19.98\n",
        "print(y//2)"
      ],
      "metadata": {
        "colab": {
          "base_uri": "https://localhost:8080/"
        },
        "id": "xxjpXOhcTW5O",
        "outputId": "4a746fcf-95dc-481e-dc23-9f54a9b4005c"
      },
      "execution_count": 13,
      "outputs": [
        {
          "output_type": "stream",
          "name": "stdout",
          "text": [
            "9.0\n"
          ]
        }
      ]
    },
    {
      "cell_type": "markdown",
      "source": [
        " 7.⁠ ⁠You have two strings, ⁠ str1 ⁠ and ⁠ str2 ⁠. Use the concatenation operator to join these strings and print the result.\n",
        "\n"
      ],
      "metadata": {
        "id": "4jwme7bkUOXT"
      }
    },
    {
      "cell_type": "code",
      "source": [
        "str1=\"Mehak\"\n",
        "str2=\"Jacky\"\n",
        "print(str1+\" \"+str2)"
      ],
      "metadata": {
        "colab": {
          "base_uri": "https://localhost:8080/"
        },
        "id": "UovRd7YJUCFt",
        "outputId": "cc4109ac-d363-4e14-d967-0133330cb657"
      },
      "execution_count": 14,
      "outputs": [
        {
          "output_type": "stream",
          "name": "stdout",
          "text": [
            "Mehak Jacky\n"
          ]
        }
      ]
    },
    {
      "cell_type": "markdown",
      "source": [
        " 8.⁠ ⁠Given a variable ⁠ z ⁠ containing an integer, use the increment operator to increase its value by 1 and print the result.\n"
      ],
      "metadata": {
        "id": "kTrMrLzwUZtG"
      }
    },
    {
      "cell_type": "code",
      "source": [
        "x=10\n",
        "x=x+1\n",
        "print(x)\n"
      ],
      "metadata": {
        "colab": {
          "base_uri": "https://localhost:8080/"
        },
        "id": "Fim7T2ZoUWVp",
        "outputId": "7f660108-3000-484c-e29b-274ca9f34ce0"
      },
      "execution_count": 17,
      "outputs": [
        {
          "output_type": "stream",
          "name": "stdout",
          "text": [
            "11\n"
          ]
        }
      ]
    },
    {
      "cell_type": "markdown",
      "source": [
        " 9.⁠ ⁠You have a list ⁠ my_list ⁠ and a value ⁠ val ⁠. Use the ⁠ in ⁠ operator to check if ⁠ val ⁠ is present in ⁠ my_list ⁠ and print the result.\n",
        "\n"
      ],
      "metadata": {
        "id": "AVERIduEU0Tr"
      }
    },
    {
      "cell_type": "code",
      "source": [
        "my_list={\"mehak\":123,\"jacky\":234,\"bob\":456,\"oggy\":789}\n",
        "value=input(\"Enter the value: \")\n",
        "if value in my_list:\n",
        "  print(\"present\")\n",
        "else:\n",
        "  print(\"Not present\")\n"
      ],
      "metadata": {
        "colab": {
          "base_uri": "https://localhost:8080/"
        },
        "id": "vG9QMaddUdJR",
        "outputId": "76396a0c-2d77-4f81-e637-8a6e63a733be"
      },
      "execution_count": 1,
      "outputs": [
        {
          "output_type": "stream",
          "name": "stdout",
          "text": [
            "Enter the value: mehak\n",
            "present\n"
          ]
        }
      ]
    },
    {
      "cell_type": "markdown",
      "source": [
        "10.⁠ ⁠Given two variables ⁠ a ⁠ and ⁠ b ⁠, use the assignment operator to assign the value of ⁠ b ⁠ to ⁠ a ⁠ and print ⁠ a ⁠.\n",
        "\n"
      ],
      "metadata": {
        "id": "dI51UdpqVfUh"
      }
    },
    {
      "cell_type": "code",
      "source": [
        "a=10\n",
        "b=20\n",
        "a=b\n",
        "print(a)"
      ],
      "metadata": {
        "colab": {
          "base_uri": "https://localhost:8080/"
        },
        "id": "3VwZlFPNVTr5",
        "outputId": "0d86502c-7dfa-43c9-9abe-9e990a002326"
      },
      "execution_count": 2,
      "outputs": [
        {
          "output_type": "stream",
          "name": "stdout",
          "text": [
            "20\n"
          ]
        }
      ]
    },
    {
      "cell_type": "markdown",
      "source": [
        "11.⁠ ⁠You have two variables, ⁠ x ⁠ and ⁠ y ⁠, containing integer values. Use the compound assignment operator to add ⁠ y ⁠ to ⁠ x ⁠ and print the result.\n",
        "\n"
      ],
      "metadata": {
        "id": "mRuVJRupVnMK"
      }
    },
    {
      "cell_type": "code",
      "source": [
        "x=10\n",
        "y=20\n",
        "x+=y\n",
        "print(x)"
      ],
      "metadata": {
        "colab": {
          "base_uri": "https://localhost:8080/"
        },
        "id": "LOr3MZ2oVlFT",
        "outputId": "408593dd-3c40-4489-d286-b0ed0dca9df4"
      },
      "execution_count": 3,
      "outputs": [
        {
          "output_type": "stream",
          "name": "stdout",
          "text": [
            "30\n"
          ]
        }
      ]
    },
    {
      "cell_type": "markdown",
      "source": [
        "\n",
        "12.⁠ ⁠Given a variable ⁠ num ⁠ containing an integer value, use the bitwise left shift operator to shift ⁠ num ⁠ by 2 bits and print the result.\n"
      ],
      "metadata": {
        "id": "F8XGFnmmVxcZ"
      }
    },
    {
      "cell_type": "code",
      "source": [
        "\n",
        "num = 1010\n",
        "\n",
        "print(num<<2)\n"
      ],
      "metadata": {
        "colab": {
          "base_uri": "https://localhost:8080/"
        },
        "id": "b3ayDn0KVvzS",
        "outputId": "bf6652ae-a5e6-433e-c9f6-e27905690b60"
      },
      "execution_count": 11,
      "outputs": [
        {
          "output_type": "stream",
          "name": "stdout",
          "text": [
            "4040\n"
          ]
        }
      ]
    },
    {
      "cell_type": "markdown",
      "source": [
        "13.⁠ ⁠You have a string ⁠ text ⁠ and an integer ⁠ n ⁠. Use the repetition operator to repeat ⁠ text ⁠ ⁠ n ⁠ times and print the result.\n"
      ],
      "metadata": {
        "id": "sjaF8hsQdKwS"
      }
    },
    {
      "cell_type": "code",
      "source": [
        "\n",
        "text = \"Hello\"\n",
        "n = 3\n",
        "\n",
        "repeated_text = text * n\n",
        "\n",
        "print(repeated_text)\n"
      ],
      "metadata": {
        "colab": {
          "base_uri": "https://localhost:8080/"
        },
        "id": "sXHZvuMkV7fZ",
        "outputId": "2c2a6b1f-ef55-46d7-cd71-e039805da1da"
      },
      "execution_count": 8,
      "outputs": [
        {
          "output_type": "stream",
          "name": "stdout",
          "text": [
            "HelloHelloHello\n"
          ]
        }
      ]
    },
    {
      "cell_type": "markdown",
      "source": [
        "14.⁠ ⁠Given two variables, ⁠ a ⁠ and ⁠ b ⁠, use the comparison operators to check if ⁠ a ⁠ is equal to ⁠ b ⁠ and if ⁠ a ⁠ is not equal to ⁠ b ⁠. Print the results.\n",
        "\n"
      ],
      "metadata": {
        "id": "iEve_FLYdQNO"
      }
    },
    {
      "cell_type": "code",
      "source": [
        "a=10\n",
        "b=20\n",
        "print(a==b)\n",
        "print(a!=b)"
      ],
      "metadata": {
        "colab": {
          "base_uri": "https://localhost:8080/"
        },
        "id": "lSaO2tcRdNPd",
        "outputId": "4d238804-8e22-43cd-f6fc-775da1d88efa"
      },
      "execution_count": 9,
      "outputs": [
        {
          "output_type": "stream",
          "name": "stdout",
          "text": [
            "False\n",
            "True\n"
          ]
        }
      ]
    },
    {
      "cell_type": "markdown",
      "source": [
        "\n",
        "15.⁠ ⁠You have two variables, ⁠ x ⁠ and ⁠ y ⁠, containing integer values. Use the bitwise right shift operator to shift ⁠ x ⁠ by 3 bits and print the result.\n",
        "\n"
      ],
      "metadata": {
        "id": "CmAXmJO4dWfD"
      }
    },
    {
      "cell_type": "code",
      "source": [
        "x=10\n",
        "y=20\n",
        "print(x>>3)"
      ],
      "metadata": {
        "colab": {
          "base_uri": "https://localhost:8080/"
        },
        "id": "jTCw-2hRdUXm",
        "outputId": "af059388-5839-4abb-da51-0ff7e40bdaad"
      },
      "execution_count": 10,
      "outputs": [
        {
          "output_type": "stream",
          "name": "stdout",
          "text": [
            "1\n"
          ]
        }
      ]
    },
    {
      "cell_type": "markdown",
      "source": [
        "22.⁠ ⁠Given a variable ⁠ num ⁠ containing an integer value, use the bitwise NOT operator to invert its bits and print the result.\n"
      ],
      "metadata": {
        "id": "C4Eh5e82dmT0"
      }
    },
    {
      "cell_type": "code",
      "source": [
        "x=10\n",
        "print(~x)"
      ],
      "metadata": {
        "colab": {
          "base_uri": "https://localhost:8080/"
        },
        "id": "j72vGVJedgSJ",
        "outputId": "560a5c95-d406-464b-8301-08c2e82377cf"
      },
      "execution_count": 12,
      "outputs": [
        {
          "output_type": "stream",
          "name": "stdout",
          "text": [
            "-11\n"
          ]
        }
      ]
    },
    {
      "cell_type": "markdown",
      "source": [
        "24.⁠ ⁠Given two boolean variables, ⁠ a ⁠ and ⁠ b ⁠, use the logical operator to evaluate ⁠ a AND NOT b ⁠ and print the result.\n"
      ],
      "metadata": {
        "id": "c6zPMthHeCuA"
      }
    },
    {
      "cell_type": "code",
      "source": [
        "\n",
        "\n",
        "a = True\n",
        "b = False\n",
        "\n",
        "result = a and not b\n",
        "\n",
        "print(result)\n"
      ],
      "metadata": {
        "colab": {
          "base_uri": "https://localhost:8080/"
        },
        "id": "GxFIJimqd2xD",
        "outputId": "8bb655f7-d050-4aec-ec16-923581ea7537"
      },
      "execution_count": 16,
      "outputs": [
        {
          "output_type": "stream",
          "name": "stdout",
          "text": [
            "True\n"
          ]
        }
      ]
    },
    {
      "cell_type": "markdown",
      "source": [
        "27.⁠ ⁠You have a string ⁠ str1 ⁠ and an integer ⁠ n ⁠. Use the slicing operator to get the first ⁠ n ⁠ characters of the string and print the result.\n"
      ],
      "metadata": {
        "id": "D_SRWJpNeaYF"
      }
    },
    {
      "cell_type": "code",
      "source": [
        "str1=\"Hello World\"\n",
        "n=2\n",
        "print(str1[:n])"
      ],
      "metadata": {
        "colab": {
          "base_uri": "https://localhost:8080/"
        },
        "id": "6S3J622BeHs5",
        "outputId": "f551fe17-119b-4184-e5e1-1affb953435a"
      },
      "execution_count": 17,
      "outputs": [
        {
          "output_type": "stream",
          "name": "stdout",
          "text": [
            "He\n"
          ]
        }
      ]
    },
    {
      "cell_type": "markdown",
      "source": [
        "30.⁠ ⁠Given a variable ⁠ x ⁠ containing an integer, use the decrement operator to decrease its value by 1 and print the result."
      ],
      "metadata": {
        "id": "5v0a6FWreplA"
      }
    },
    {
      "cell_type": "code",
      "source": [
        "a=10\n",
        "a-=1\n",
        "print(a)\n"
      ],
      "metadata": {
        "colab": {
          "base_uri": "https://localhost:8080/"
        },
        "id": "WAMOv74PewG1",
        "outputId": "0f0fcc09-f196-4a3f-9e1d-09862dada94e"
      },
      "execution_count": 18,
      "outputs": [
        {
          "output_type": "stream",
          "name": "stdout",
          "text": [
            "9\n"
          ]
        }
      ]
    },
    {
      "cell_type": "code",
      "source": [],
      "metadata": {
        "id": "hT2eJ4OVehiR"
      },
      "execution_count": null,
      "outputs": []
    }
  ]
}