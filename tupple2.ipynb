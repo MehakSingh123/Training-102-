{
  "nbformat": 4,
  "nbformat_minor": 0,
  "metadata": {
    "colab": {
      "provenance": [],
      "authorship_tag": "ABX9TyMLRGiY4w9C+SB1tYT+JQUt",
      "include_colab_link": true
    },
    "kernelspec": {
      "name": "python3",
      "display_name": "Python 3"
    },
    "language_info": {
      "name": "python"
    }
  },
  "cells": [
    {
      "cell_type": "markdown",
      "metadata": {
        "id": "view-in-github",
        "colab_type": "text"
      },
      "source": [
        "<a href=\"https://colab.research.google.com/github/MehakSingh123/Training-102-/blob/main/tupple2.ipynb\" target=\"_parent\"><img src=\"https://colab.research.google.com/assets/colab-badge.svg\" alt=\"Open In Colab\"/></a>"
      ]
    },
    {
      "cell_type": "markdown",
      "source": [
        "DONE WITHOUT FUNCTIONS\n"
      ],
      "metadata": {
        "id": "kS-_g6PS_DeU"
      }
    },
    {
      "cell_type": "markdown",
      "source": [
        "   - You are managing employee records for a company. Each employee's record is stored as a tuple containing their name, ID, and department. Create a list of tuples to store these records. Write a function to add a new employee, another to find an employee by their ID, and a function to update the department of a specific employee.\n",
        "\n"
      ],
      "metadata": {
        "id": "zOa_PdUtELWz"
      }
    },
    {
      "cell_type": "code",
      "execution_count": null,
      "metadata": {
        "id": "NziVCdWBEGzC",
        "colab": {
          "base_uri": "https://localhost:8080/"
        },
        "outputId": "15579e35-ad37-41c5-a1d7-111bc7278f2d"
      },
      "outputs": [
        {
          "output_type": "stream",
          "name": "stdout",
          "text": [
            "[('Mehak', 1234, 'cse'), ('b', 2345, 'ece'), ('c', 3456, 'mech')]\n",
            "[('Mehak', 1234, 'cse'), ('b', 2345, 'ece'), ('c', 3456, 'mech'), ('d', 12345, 'sdf')]\n",
            "Employee idex is: 0\n",
            "('Mehak', 1234, 'cse')\n",
            "[('Mehak', 1234, 'cse'), ('b', 2345, 'ece'), ('c', 3456, 'bcd'), ('d', 12345, 'sdf')]\n"
          ]
        }
      ],
      "source": [
        "t1=(\"Mehak\",1234,\"cse\")\n",
        "t2=(\"b\",2345,\"ece\")\n",
        "t3=(\"c\",3456,\"mech\")\n",
        "l1=[t1,t2,t3]\n",
        "print(l1)\n",
        "l1.append((\"d\",12345,\"sdf\"))\n",
        "print(l1)\n",
        "for i in range(0,len(l1)):\n",
        "   if l1[i][1]==1234:\n",
        "    print(\"Employee idex is:\",i)\n",
        "    print(l1[i])\n",
        "temp=list(l1[2])\n",
        "temp[2]=\"bcd\"\n",
        "l1[2]=tuple(temp);\n",
        "print(l1)\n",
        "\n",
        "\n",
        "\n"
      ]
    },
    {
      "cell_type": "markdown",
      "source": [],
      "metadata": {
        "id": "i4lmyk6d_COG"
      }
    },
    {
      "cell_type": "markdown",
      "source": [
        "2.\n",
        "   - You are working on a mapping application that stores geographical coordinates (latitude and longitude) as tuples. Create a list of these coordinate tuples. Write functions to add a new coordinate, find a specific coordinate, and calculate the distance between two coordinates.\n",
        "\n"
      ],
      "metadata": {
        "id": "yXKVIuOxrO2P"
      }
    },
    {
      "cell_type": "code",
      "source": [
        "from math import radians, sin, cos, sqrt, atan2\n",
        "coord1 = (40.7128, -74.0060)  # New York City\n",
        "coord2 = (34.0522, -118.2437) # Los Angeles\n",
        "coord3 = (51.5074, -0.1278)   # London\n",
        "coordinates = [coord1, coord2, coord3]\n",
        "print(\"Initial list of coordinates:\", coordinates)\n",
        "coordinates.append((35.6895, 139.6917))  # Tokyo\n",
        "print(\"List of coordinates after adding a new one:\", coordinates)\n",
        "\n",
        "# Find a specific coordinate (e.g., Los Angeles)\n",
        "target = (34.0522, -118.2437)\n",
        "for i in range(len(coordinates)):\n",
        "    if coordinates[i] == target:\n",
        "        print(\"Coordinate found at index:\", i)\n",
        "        print(\"Found coordinate:\", coordinates[i])\n",
        "\n",
        "# Calculate the distance between two coordinates using the Haversine formula\n",
        "coord1 = coordinates[0]  # New York City\n",
        "coord2 = coordinates[1]  # Los Angeles\n",
        "\n",
        "# Convert latitude and longitude from degrees to radians\n",
        "lat1, lon1 = radians(coord1[0]), radians(coord1[1])\n",
        "lat2, lon2 = radians(coord2[0]), radians(coord2[1])\n",
        "\n",
        "# Haversine formula\n",
        "dlon = lon2 - lon1\n",
        "dlat = lat2 - lat1\n",
        "a = sin(dlat/2)**2 + cos(lat1) * cos(lat2) * sin(dlon/2)**2\n",
        "c = 2 * atan2(sqrt(a), sqrt(1 - a))\n",
        "\n",
        "# Radius of Earth in kilometers (mean radius)\n",
        "R = 6371.01\n",
        "distance = R * c\n",
        "\n",
        "print(\"Distance between New York City and Los Angeles:\", distance, \"km\")\n",
        "\n",
        "# Modify the coordinates of London (index 2)\n",
        "temp = list(coordinates[2])\n",
        "temp[0], temp[1] = 48.8566, 2.3522  # Change coordinates to Paris\n",
        "coordinates[2] = tuple(temp)\n",
        "print(\"List of coordinates after modification:\", coordinates)\n"
      ],
      "metadata": {
        "id": "52gJJugUGeeM",
        "colab": {
          "base_uri": "https://localhost:8080/"
        },
        "outputId": "7934118b-d83b-400d-e728-10c6b7ee42c2"
      },
      "execution_count": null,
      "outputs": [
        {
          "output_type": "stream",
          "name": "stdout",
          "text": [
            "Initial list of coordinates: [(40.7128, -74.006), (34.0522, -118.2437), (51.5074, -0.1278)]\n",
            "List of coordinates after adding a new one: [(40.7128, -74.006), (34.0522, -118.2437), (51.5074, -0.1278), (35.6895, 139.6917)]\n",
            "Coordinate found at index: 1\n",
            "Found coordinate: (34.0522, -118.2437)\n",
            "Distance between New York City and Los Angeles: 3935.7524322054765 km\n",
            "List of coordinates after modification: [(40.7128, -74.006), (34.0522, -118.2437), (48.8566, 2.3522), (35.6895, 139.6917)]\n"
          ]
        }
      ]
    },
    {
      "cell_type": "markdown",
      "source": [
        "   - You have a list of students, where each student is represented as a tuple containing their name, age, and grade. Write a function to add a new student, another function to remove a student by name, and a function to find the student with the highest grade.\n"
      ],
      "metadata": {
        "id": "dgnujrXNwGjK"
      }
    },
    {
      "cell_type": "code",
      "source": [
        "student1 = (\"Alice\", 20, 88)\n",
        "student2 = (\"Bob\", 22, 76)\n",
        "student3 = (\"Charlie\", 21, 95)\n",
        "students = [student1, student2, student3]\n",
        "print(\"Initial list of students:\", students)\n",
        "new_student = (\"David\", 23, 82)\n",
        "students.append(new_student)\n",
        "print(\"List of students after adding a new one:\", students)\n",
        "\n",
        "for i in range(len(students)):\n",
        "    if students[i][0] == \"Bob\":\n",
        "        del students[i]\n",
        "        break\n",
        "print(\"List of students after removing Bob:\", students)\n",
        "highest_grade = -1\n",
        "for student in students:\n",
        "    if student[2] > highest_grade:\n",
        "        highest_grade = student[2]\n",
        "        top_student = student\n",
        "print(\"Highest grade:\",highest_grade)\n"
      ],
      "metadata": {
        "colab": {
          "base_uri": "https://localhost:8080/"
        },
        "id": "yVvB76aSrpbg",
        "outputId": "ab0bcbf4-70ba-4bb3-a6d1-db6195ec2db8"
      },
      "execution_count": null,
      "outputs": [
        {
          "output_type": "stream",
          "name": "stdout",
          "text": [
            "Initial list of students: [('Alice', 20, 88), ('Bob', 22, 76), ('Charlie', 21, 95)]\n",
            "List of students after adding a new one: [('Alice', 20, 88), ('Bob', 22, 76), ('Charlie', 21, 95), ('David', 23, 82)]\n",
            "List of students after removing Bob: [('Alice', 20, 88), ('Charlie', 21, 95), ('David', 23, 82)]\n",
            "Highest grade: 95\n"
          ]
        }
      ]
    },
    {
      "cell_type": "markdown",
      "source": [
        "4.⁠ ⁠on system for a software application where configurations are stored as tuples. Each configuration contains a setting name and its value. Write a function to add a new configuration, check if a specific setting exists, and retrieve the value of a specific setting.\n",
        "\n"
      ],
      "metadata": {
        "id": "q5TeqDQtyFpC"
      }
    },
    {
      "cell_type": "code",
      "source": [
        "config1 = (\"volume\", 75)\n",
        "config2 = (\"brightness\", 50)\n",
        "config3 = (\"resolution\", \"1080p\")\n",
        "configurations = [config1, config2, config3]\n",
        "\n",
        "# Print initial list of configurations\n",
        "print(\"Initial list of configurations:\", configurations)\n",
        "\n",
        "# Adding a new configuration\n",
        "new_config = (\"language\", \"English\")\n",
        "configurations.append(new_config)\n",
        "print(\"List of configurations after adding a new one:\", configurations)\n",
        "\n",
        "setting_to_check = \"brightness\"\n",
        "for i in range(len(configurations)):\n",
        "    if configurations[i][0] == setting_to_check:\n",
        "        print(\"Setting exists at index:\", i)\n",
        "        print(\"Value of the setting:\", configurations[i][1])\n",
        "setting_to_retrieve = \"volume\"\n",
        "for config in configurations:\n",
        "    if config[0] == setting_to_retrieve:\n",
        "        print(\"Value of the setting:\", config[1])"
      ],
      "metadata": {
        "colab": {
          "base_uri": "https://localhost:8080/"
        },
        "id": "fLcJX9JpxuDV",
        "outputId": "574bea55-8cd0-4e51-ac18-ca41ebcfa14d"
      },
      "execution_count": null,
      "outputs": [
        {
          "output_type": "stream",
          "name": "stdout",
          "text": [
            "Initial list of configurations: [('volume', 75), ('brightness', 50), ('resolution', '1080p')]\n",
            "List of configurations after adding a new one: [('volume', 75), ('brightness', 50), ('resolution', '1080p'), ('language', 'English')]\n",
            "Setting exists at index: 1\n",
            "Value of the setting: 50\n",
            "Value of the setting: 75\n"
          ]
        }
      ]
    },
    {
      "cell_type": "markdown",
      "source": [
        "  - Develop a contact list application where each contact is stored as a tuple containing their name, phone number, and email address. Write functions to add a new contact, search for a contact by name, and update the phone number of a specific contact.\n"
      ],
      "metadata": {
        "id": "YpPwpgEyy8Wm"
      }
    },
    {
      "cell_type": "code",
      "source": [
        "contact1 = (\"Alice\", \"123-456-7890\", \"alice@example.com\")\n",
        "contact2 = (\"Bob\", \"234-567-8901\", \"bob@example.com\")\n",
        "contact3 = (\"Charlie\", \"345-678-9012\", \"charlie@example.com\")\n",
        "contacts = [contact1, contact2, contact3]\n",
        "\n",
        "# Print initial list of contacts\n",
        "print(\"Initial list of contacts:\", contacts)\n",
        "\n",
        "# Adding a new contact\n",
        "new_contact = (\"David\", \"456-789-0123\", \"david@example.com\")\n",
        "contacts.append(new_contact)\n",
        "print(\"List of contacts after adding a new one:\", contacts)\n",
        "\n",
        "# Search for a contact by name\n",
        "name_to_search = \"Bob\"\n",
        "for contact in contacts:\n",
        "    if contact[0] == name_to_search:\n",
        "        print(\"Contact found:\", contact)\n",
        "temp=list(contacts[1]);\n",
        "temp[1]=\"+91-xxxxxxxxxxx\"\n",
        "contacts[1]=tuple(temp)\n",
        "print(\"List of contacts after updating the phone number:\", contacts)\n"
      ],
      "metadata": {
        "id": "hM8TeVyayt_i",
        "colab": {
          "base_uri": "https://localhost:8080/"
        },
        "outputId": "3c64d16d-b110-47f0-d708-667758b9d97e"
      },
      "execution_count": null,
      "outputs": [
        {
          "output_type": "stream",
          "name": "stdout",
          "text": [
            "Initial list of contacts: [('Alice', '123-456-7890', 'alice@example.com'), ('Bob', '234-567-8901', 'bob@example.com'), ('Charlie', '345-678-9012', 'charlie@example.com')]\n",
            "List of contacts after adding a new one: [('Alice', '123-456-7890', 'alice@example.com'), ('Bob', '234-567-8901', 'bob@example.com'), ('Charlie', '345-678-9012', 'charlie@example.com'), ('David', '456-789-0123', 'david@example.com')]\n",
            "Contact found: ('Bob', '234-567-8901', 'bob@example.com')\n",
            "List of contacts after updating the phone number: [('Alice', '123-456-7890', 'alice@example.com'), ('Bob', '+91-xxxxxxxxxxx', 'bob@example.com'), ('Charlie', '345-678-9012', 'charlie@example.com'), ('David', '456-789-0123', 'david@example.com')]\n"
          ]
        }
      ]
    },
    {
      "cell_type": "markdown",
      "source": [
        "  - Represent points in 3D space as tuples containing x, y, and z coordinates. Create a list of these point tuples. Write functions to add a new point, calculate the distance between two points, and find the point closest to the origin.\n"
      ],
      "metadata": {
        "id": "DlppgIoGSHOt"
      }
    },
    {
      "cell_type": "code",
      "source": [
        "import math\n",
        "# Initial list of points in 3D space as tuples (x, y, z)\n",
        "point1 = (1, 2, 3)\n",
        "point2 = (4, 5, 6)\n",
        "point3 = (7, 8, 9)\n",
        "points = [point1, point2, point3]\n",
        "\n",
        "# Print initial list of points\n",
        "print(\"Initial list of points:\", points)\n",
        "\n",
        "# Adding a new point\n",
        "new_point = (10, 11, 12)\n",
        "points.append(new_point)\n",
        "print(\"List of points after adding a new one:\", points)\n",
        "pointA = points[0]  # (1, 2, 3)\n",
        "pointB = points[1]  # (4, 5, 6)\n",
        "\n",
        "distance = math.sqrt((pointA[0] - pointB[0])**2 + (pointA[1] - pointB[1])**2 + (pointA[2] - pointB[2])**2)\n",
        "print(f\"Distance between points {pointA} and {pointB}: {distance}\")\n",
        "origin=(0,0,0)\n",
        "for point in points:\n",
        "  distance=min(math.sqrt((point[0]-origin[0])**2+(point[1]-origin[1])**2+(point[2]-origin[2])**2),distance)\n",
        "print(\"Min distance is: \",distance)\n",
        "\n"
      ],
      "metadata": {
        "colab": {
          "base_uri": "https://localhost:8080/"
        },
        "id": "NkK09oeORiy6",
        "outputId": "9518dcc4-a3a1-4750-cdaa-165accc6da99"
      },
      "execution_count": null,
      "outputs": [
        {
          "output_type": "stream",
          "name": "stdout",
          "text": [
            "Initial list of points: [(1, 2, 3), (4, 5, 6), (7, 8, 9)]\n",
            "List of points after adding a new one: [(1, 2, 3), (4, 5, 6), (7, 8, 9), (10, 11, 12)]\n",
            "Distance between points (1, 2, 3) and (4, 5, 6): 5.196152422706632\n",
            "Min distance is:  3.7416573867739413\n"
          ]
        }
      ]
    },
    {
      "cell_type": "markdown",
      "source": [
        " - Create a restaurant menu where each item is represented as a tuple containing the item name, description, and price. Write functions to add a new menu item, update the description of an existing item, and find all items below a certain price.\n"
      ],
      "metadata": {
        "id": "xoamUgjhVCTy"
      }
    },
    {
      "cell_type": "code",
      "source": [
        "\n",
        "item1 = (\"Burger\", \"A delicious beef burger with lettuce, tomato, and cheese.\", 8.99)\n",
        "item2 = (\"Pizza\", \"A large pizza with your choice of toppings.\", 12.99)\n",
        "item3 = (\"Salad\", \"A fresh garden salad with a variety of vegetables.\", 7.49)\n",
        "menu = [item1, item2, item3]\n",
        "\n",
        "# Print initial list of menu items\n",
        "print(\"Initial menu items:\", menu)\n",
        "\n",
        "# Adding a new menu item\n",
        "new_item = (\"Pasta\", \"A classic Italian pasta with marinara sauce.\", 10.99)\n",
        "menu.append(new_item)\n",
        "print(\"Menu after adding a new item:\", menu)\n",
        "item_name_to_update = \"Pizza\"\n",
        "new_description = \"A large pizza with your choice of toppings and extra cheese.\"\n",
        "for i in range(len(menu)):\n",
        "    if menu[i][0] == item_name_to_update:\n",
        "        menu[i] = (menu[i][0], new_description, menu[i][2])\n",
        "        break\n",
        "print(\"Menu after updating the description:\", menu)\n",
        "price_limit = 9.00\n",
        "for i in menu:\n",
        "  if i[2]<price_limit:\n",
        "    print(\"Afordable items are:\",i)"
      ],
      "metadata": {
        "colab": {
          "base_uri": "https://localhost:8080/"
        },
        "id": "2nmQtLXzS0TW",
        "outputId": "f7e17c5e-d51c-4639-a2a4-3c5416f36efd"
      },
      "execution_count": null,
      "outputs": [
        {
          "output_type": "stream",
          "name": "stdout",
          "text": [
            "Initial menu items: [('Burger', 'A delicious beef burger with lettuce, tomato, and cheese.', 8.99), ('Pizza', 'A large pizza with your choice of toppings.', 12.99), ('Salad', 'A fresh garden salad with a variety of vegetables.', 7.49)]\n",
            "Menu after adding a new item: [('Burger', 'A delicious beef burger with lettuce, tomato, and cheese.', 8.99), ('Pizza', 'A large pizza with your choice of toppings.', 12.99), ('Salad', 'A fresh garden salad with a variety of vegetables.', 7.49), ('Pasta', 'A classic Italian pasta with marinara sauce.', 10.99)]\n",
            "Menu after updating the description: [('Burger', 'A delicious beef burger with lettuce, tomato, and cheese.', 8.99), ('Pizza', 'A large pizza with your choice of toppings and extra cheese.', 12.99), ('Salad', 'A fresh garden salad with a variety of vegetables.', 7.49), ('Pasta', 'A classic Italian pasta with marinara sauce.', 10.99)]\n",
            "Afordable items are: ('Burger', 'A delicious beef burger with lettuce, tomato, and cheese.', 8.99)\n",
            "Afordable items are: ('Salad', 'A fresh garden salad with a variety of vegetables.', 7.49)\n"
          ]
        }
      ]
    },
    {
      "cell_type": "code",
      "source": [
        "#    - Develop an immutable shopping cart system where each cart item is represented as a tuple containing the item name, quantity, and price. Write functions to add a new item to the cart, update the quantity of an existing item, and calculate the total cost of the cart.\n",
        "\n",
        "item1 = (\"Apple\", 3, 0.99)\n",
        "item2 = (\"Banana\", 6, 0.59)\n",
        "item3 = (\"Orange\", 2, 1.29)\n",
        "cart = [item1, item2, item3]\n",
        "\n",
        "# Print initial cart items\n",
        "print(\"Initial cart items:\", cart)\n",
        "\n",
        "# Function to add a new item to the cart\n",
        "new_item = (\"Grapes\", 4, 2.99)\n",
        "cart = cart + [new_item]  # Immutable addition\n",
        "print(\"Cart after adding a new item:\", cart)\n",
        "item_name_to_update = \"Banana\"\n",
        "new_quantity = 10\n",
        "for i in cart:\n",
        "    i[0] == item_name_to_update\n",
        "    i = (i[0], new_quantity, i[2])\n",
        "    break\n",
        "print(\"Cart after updating the quantity:\", cart)\n",
        "total_cost = 0\n",
        "for item in cart:\n",
        "    total_cost += item[1] * item[2]\n",
        "print(\"Total cost of the cart:\", total_cost)"
      ],
      "metadata": {
        "colab": {
          "base_uri": "https://localhost:8080/"
        },
        "id": "8ZKa5QtHXilG",
        "outputId": "ded055d7-dc68-4141-e2dd-1d4711dcac61"
      },
      "execution_count": null,
      "outputs": [
        {
          "output_type": "stream",
          "name": "stdout",
          "text": [
            "Initial cart items: [('Apple', 3, 0.99), ('Banana', 6, 0.59), ('Orange', 2, 1.29)]\n",
            "Cart after adding a new item: [('Apple', 3, 0.99), ('Banana', 6, 0.59), ('Orange', 2, 1.29), ('Grapes', 4, 2.99)]\n",
            "Cart after updating the quantity: [('Apple', 3, 0.99), ('Banana', 6, 0.59), ('Orange', 2, 1.29), ('Grapes', 4, 2.99)]\n",
            "Total cost of the cart: 21.05\n"
          ]
        }
      ]
    }
  ]
}