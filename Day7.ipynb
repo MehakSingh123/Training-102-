{
  "nbformat": 4,
  "nbformat_minor": 0,
  "metadata": {
    "colab": {
      "provenance": [],
      "authorship_tag": "ABX9TyMuDdAyhi91idZ7ir+/4zk3",
      "include_colab_link": true
    },
    "kernelspec": {
      "name": "python3",
      "display_name": "Python 3"
    },
    "language_info": {
      "name": "python"
    }
  },
  "cells": [
    {
      "cell_type": "markdown",
      "metadata": {
        "id": "view-in-github",
        "colab_type": "text"
      },
      "source": [
        "<a href=\"https://colab.research.google.com/github/MehakSingh123/Training-102-/blob/main/Day7.ipynb\" target=\"_parent\"><img src=\"https://colab.research.google.com/assets/colab-badge.svg\" alt=\"Open In Colab\"/></a>"
      ]
    },
    {
      "cell_type": "markdown",
      "source": [
        "OBJECT ORIENTED PROGRAMMING----->>>>> It is a fundamental concept in Python, empowering developers to build modular, maintainable, and scalable applications. By understanding the core OOP principles—classes, objects, inheritance, encapsulation, polymorphism, and abstraction—programmers can leverage the full potential of Python’s OOP capabilities to design elegant and efficient solutions to complex problems.\n",
        "\n",
        "\n",
        "In Python object-oriented Programming (OOPs) is a programming paradigm that uses objects and classes in programming. It aims to implement real-world entities like inheritance, polymorphisms, encapsulation, etc. in the programming. The main concept of object-oriented Programming (OOPs) or oops concepts in Python is to bind the data and the functions that work together as a single unit so that no other part of the code can access this data.\n",
        "\n",
        "OOPs Concepts in Python\n",
        "Class in Python\n",
        "Objects in Python\n",
        "Polymorphism in Python\n",
        "Encapsulation in Python\n",
        "Inheritance in Python\n",
        "Data Abstraction in Python\n",
        "\n",
        "\n",
        "TYPES OF VARIABLES--->>\n",
        "1.GLOBAL VARIABLES\n",
        "2.LOCAL VARIABLES\n",
        "\n",
        "PYTHON CLASSES-->>\n",
        "\n",
        "A class is a collection of objects. A class contains the blueprints or the prototype from which the objects are being created. It is a logical entity that contains some attributes and methods.\n",
        "\n",
        "To understand the need for creating a class let’s consider an example, let’s say you wanted to track the number of dogs that may have different attributes like breed, and age. If a list is used, the first element could be the dog’s breed while the second element could represent its age. Let’s suppose there are 100 different dogs, then how would you know which element is supposed to be which? What if you wanted to add other properties to these dogs? This lacks organization and it’s the exact need for classes.\n",
        "\n",
        "\n",
        "class Dog:\n",
        "    pass\n",
        "\n",
        "\n",
        "PYHTON OBJECTS---->>>\n",
        "\n",
        "\n",
        "In object oriented programming Python, The object is an entity that has a state and behavior associated with it. It may be any real-world object like a mouse, keyboard, chair, table, pen, etc. Integers, strings, floating-point numbers, even arrays, and dictionaries, are all objects. More specifically, any single integer or any single string is an object. The number 12 is an object, the string “Hello, world” is an object, a list is an object that can hold other objects, and so on. You’ve been using objects all along and may not even realize it."
      ],
      "metadata": {
        "id": "DroLkhKEv4DH"
      }
    },
    {
      "cell_type": "markdown",
      "source": [
        " 1.⁠ ⁠Define a simple ⁠ Car ⁠ class with attributes for make, model, and year. Create an object of this class and print its attributes.\n"
      ],
      "metadata": {
        "id": "0kAYel4V7Iop"
      }
    },
    {
      "cell_type": "code",
      "source": [
        "class car:\n",
        "  def __init__(self,make,model,year):\n",
        "    self.make=make\n",
        "    self.model=model\n",
        "    self.year=year\n",
        "mob1=car(\"toyota\",\"camry\",1987)\n",
        "mob2=car(\"honda\",\"hoda city\",2004)\n",
        "print(mob1.make,mob1.model,mob1.year)\n",
        "print(mob2.make,mob2.model,mob2.year)"
      ],
      "metadata": {
        "id": "tnEPyr6KwJj9",
        "colab": {
          "base_uri": "https://localhost:8080/"
        },
        "outputId": "5d7b6b85-3f84-47b3-9f60-ca721dc03958"
      },
      "execution_count": null,
      "outputs": [
        {
          "output_type": "stream",
          "name": "stdout",
          "text": [
            "toyota camry 1987\n",
            "honda hoda city 2004\n"
          ]
        }
      ]
    },
    {
      "cell_type": "markdown",
      "source": [
        " 2.⁠ ⁠Create a ⁠ Person ⁠ class with attributes for name and age. Add a method to print a greeting message. Create an object and call the method.\n"
      ],
      "metadata": {
        "id": "e-FnoJaj8KR_"
      }
    },
    {
      "cell_type": "code",
      "source": [
        "class person:\n",
        "  def __init__(self,name,age):\n",
        "    self.name=name\n",
        "    self.age=age\n",
        "per1=person(\"mehak\",19)\n",
        "print(per1.name,per1.age)"
      ],
      "metadata": {
        "colab": {
          "base_uri": "https://localhost:8080/"
        },
        "id": "0EWvbX-U72Ym",
        "outputId": "e6200328-a59c-49d9-9490-671a724874b7"
      },
      "execution_count": null,
      "outputs": [
        {
          "output_type": "stream",
          "name": "stdout",
          "text": [
            "mehak 19\n"
          ]
        }
      ]
    },
    {
      "cell_type": "markdown",
      "source": [
        " 3.⁠ ⁠Define a ⁠ Rectangle ⁠ class with attributes for length and width. Add a method to calculate the area of the rectangle. Create an object and print the area.\n"
      ],
      "metadata": {
        "id": "DrbRYTbd8vWZ"
      }
    },
    {
      "cell_type": "code",
      "source": [
        "class rectangle:\n",
        "  def __init__ (self,length,width):\n",
        "    self.length=length\n",
        "    self.width=width\n",
        "rec1=rectangle(10,5)\n",
        "print(rec1.length,rec1.length)"
      ],
      "metadata": {
        "colab": {
          "base_uri": "https://localhost:8080/"
        },
        "id": "Y_qRAZ8S8fDy",
        "outputId": "97b4b883-2aad-4ca6-f4a3-53b1561f4b3a"
      },
      "execution_count": null,
      "outputs": [
        {
          "output_type": "stream",
          "name": "stdout",
          "text": [
            "10 10\n"
          ]
        }
      ]
    },
    {
      "cell_type": "markdown",
      "source": [
        "4.⁠ ⁠Create a ⁠ Student ⁠ class with attributes for name and grades (a list of numbers). Add a method to calculate the average grade. Create an object and print the average grade.\n"
      ],
      "metadata": {
        "id": "mKNpxuFz9Pw2"
      }
    },
    {
      "cell_type": "code",
      "source": [
        "class student:\n",
        "  def __init__(self,name,grades):\n",
        "    self.name=name\n",
        "    self.grades=grades\n",
        "  def purchase(self):\n",
        "    print(self.name,self.grades)\n",
        "\n",
        "mob1=student(\"mehak\",19)\n",
        "\n",
        "mob1.purchase()\n"
      ],
      "metadata": {
        "colab": {
          "base_uri": "https://localhost:8080/"
        },
        "id": "dn2IrvPL9Gf6",
        "outputId": "4f7d89db-3eb0-48ab-9a9e-04160c149dbb"
      },
      "execution_count": null,
      "outputs": [
        {
          "output_type": "stream",
          "name": "stdout",
          "text": [
            "mehak 19\n"
          ]
        }
      ]
    },
    {
      "cell_type": "markdown",
      "source": [
        " 5.⁠ ⁠Define a ⁠ Book ⁠ class with attributes for title, author, and pages. Add a method to display the book's details. Create an object and call the method.\n",
        "\n"
      ],
      "metadata": {
        "id": "gv8nwkb9-UA5"
      }
    },
    {
      "cell_type": "code",
      "source": [
        "class book:\n",
        "  def __init__(self,title,author,pages):\n",
        "    self.title=title\n",
        "    self.author=author\n",
        "    self.pages=pages\n",
        "  def purchase(self):\n",
        "    print(self.title,self.author,self.pages)\n",
        "mob1=book(\"mehak\",19,22)\n",
        "mob1.purchase()"
      ],
      "metadata": {
        "colab": {
          "base_uri": "https://localhost:8080/"
        },
        "id": "3mEQsPgj9bUk",
        "outputId": "20203b56-fb6e-45dd-c9ca-2cab03925b3c"
      },
      "execution_count": null,
      "outputs": [
        {
          "output_type": "stream",
          "name": "stdout",
          "text": [
            "mehak 19 22\n"
          ]
        }
      ]
    },
    {
      "cell_type": "markdown",
      "source": [
        "\n",
        " 6.⁠ ⁠Create a ⁠ Dog ⁠ class with attributes for name and breed. Add a method to make the dog bark (print a bark message). Create an object and call the method.\n"
      ],
      "metadata": {
        "id": "bBvEqFO5_KRi"
      }
    },
    {
      "cell_type": "code",
      "source": [
        "class Dog:\n",
        "    def __init__(self, name, breed):\n",
        "        self.name = name\n",
        "        self.breed = breed\n",
        "\n",
        "    def bark(self):\n",
        "        print(f\"Name of dog is {self.name} and breed is {self.breed}\")\n",
        "\n",
        "dog1 = Dog(\"Tommy\", \"pug\")\n",
        "dog1.bark()\n"
      ],
      "metadata": {
        "colab": {
          "base_uri": "https://localhost:8080/"
        },
        "id": "Jb4bNPtU-XaX",
        "outputId": "fffa9fe5-711c-49c8-e213-d188f1de00e2"
      },
      "execution_count": null,
      "outputs": [
        {
          "output_type": "stream",
          "name": "stdout",
          "text": [
            "Name of dog is Tommy and breed is pug\n"
          ]
        }
      ]
    },
    {
      "cell_type": "markdown",
      "source": [
        "7.⁠ ⁠Define a ⁠ BankAccount ⁠ class with attributes for account number and balance. Add methods to deposit and withdraw money. Create an object and test the methods.\n",
        "\n"
      ],
      "metadata": {
        "id": "yLK4-eEqA1Yg"
      }
    },
    {
      "cell_type": "code",
      "source": [
        "class Bank_account:\n",
        "  def __init__(self,account_number,balance):\n",
        "     self.account_number=account_number\n",
        "     self.balance=balance\n",
        "  def account(self):\n",
        "    print(f\"Account detailes are -> {self.account_number} and {self.balance}\")\n",
        "\n",
        "mob1=Bank_account(12345,10000)\n",
        "mob1.account()\n"
      ],
      "metadata": {
        "colab": {
          "base_uri": "https://localhost:8080/"
        },
        "id": "3k7OzEicAGzA",
        "outputId": "f7496971-582f-4d2f-8990-d10dc8c37a70"
      },
      "execution_count": null,
      "outputs": [
        {
          "output_type": "stream",
          "name": "stdout",
          "text": [
            "Account detailes are -> 12345 and 10000\n"
          ]
        }
      ]
    },
    {
      "cell_type": "markdown",
      "source": [
        " 8.⁠ ⁠Create a ⁠ Circle ⁠ class with attributes for radius. Add a method to calculate the circumference. Create an object and print the circumference.\n",
        "\n"
      ],
      "metadata": {
        "id": "i9xCfnebBn-C"
      }
    },
    {
      "cell_type": "code",
      "source": [
        "import math as m\n",
        "class circle:\n",
        "    def __init__ (self,radius):\n",
        "        self.radius=radius\n",
        "    def circumference(self):\n",
        "        print(2*m.pi*self.radius)\n",
        "mob1=circle(10)\n",
        "mob1.circumference()"
      ],
      "metadata": {
        "colab": {
          "base_uri": "https://localhost:8080/"
        },
        "id": "BuRV8eO4Bll0",
        "outputId": "4e0fa6ea-e742-4f31-bc49-8c4791b65959"
      },
      "execution_count": null,
      "outputs": [
        {
          "output_type": "stream",
          "name": "stdout",
          "text": [
            "62.83185307179586\n"
          ]
        }
      ]
    },
    {
      "cell_type": "markdown",
      "source": [
        "9.⁠ ⁠Define a ⁠ Laptop ⁠ class with attributes for brand and price. Add a method to apply a discount to the price. Create an object and test the method.\n",
        "\n"
      ],
      "metadata": {
        "id": "cX0H1xYrB9ql"
      }
    },
    {
      "cell_type": "code",
      "source": [
        "class laptop:\n",
        "  def __init__ (self,brand,price):\n",
        "    self.brand=brand\n",
        "    self.price=price\n",
        "  def price_after(self):\n",
        "      discount=0.05\n",
        "      self.price=+self.price-self.price*discount\n",
        "      print(self.brand,self.price)\n",
        "mob1=laptop(\"hp\",10000)\n",
        "mob1.price_after()"
      ],
      "metadata": {
        "colab": {
          "base_uri": "https://localhost:8080/"
        },
        "id": "M5WvLg_dB7i3",
        "outputId": "f69bbcfc-14dc-4e41-9b0d-314ef93b7f10"
      },
      "execution_count": null,
      "outputs": [
        {
          "output_type": "stream",
          "name": "stdout",
          "text": [
            "hp 9500.0\n"
          ]
        }
      ]
    },
    {
      "cell_type": "markdown",
      "source": [
        "10.⁠ ⁠Create a ⁠ Employee ⁠ class with attributes for name and salary. Add a method to give a raise (increase the salary). Create an object and test the method.\n",
        "\n"
      ],
      "metadata": {
        "id": "-pHQ9morC7k1"
      }
    },
    {
      "cell_type": "code",
      "source": [
        "class Employee:\n",
        "    def __init__(self, name, salary):\n",
        "        self.name = name\n",
        "        self.salary = salary\n",
        "\n",
        "    def give_raise(self, amount):\n",
        "        self.salary += amount\n",
        "        print(self.salary)\n",
        "mob1=Employee(\"Rahul\",10000)\n",
        "mob1.give_raise(10)"
      ],
      "metadata": {
        "colab": {
          "base_uri": "https://localhost:8080/"
        },
        "id": "si9z8-DpCidb",
        "outputId": "acac3b4c-7bde-48b6-8e2c-26604f441454"
      },
      "execution_count": null,
      "outputs": [
        {
          "output_type": "stream",
          "name": "stdout",
          "text": [
            "10010\n"
          ]
        }
      ]
    },
    {
      "cell_type": "markdown",
      "source": [
        "\n",
        "11.⁠ ⁠Define a ⁠ Point ⁠ class with attributes for x and y coordinates. Add a method to calculate the distance from another point. Create two objects and print the distance between them.\n"
      ],
      "metadata": {
        "id": "ajfmHvzTD_F5"
      }
    },
    {
      "cell_type": "code",
      "source": [
        "class point:\n",
        "  def __init__(self,x,y):\n",
        "    self.x=x\n",
        "    self.y=y\n",
        "  def distance(self,other_point):\n",
        "    x_diff=self.x-other_point.x\n",
        "    y_diff=self.y-other_point.y\n",
        "    distance=(x_diff**2+y_diff**2)**0.5\n",
        "    print(distance)\n",
        "\n",
        "mob1=point(0,0)\n",
        "mob2=point(9,4)\n",
        "mob1.distance(mob2)"
      ],
      "metadata": {
        "colab": {
          "base_uri": "https://localhost:8080/"
        },
        "id": "bObhpKAdDsLt",
        "outputId": "b083b487-5415-4a14-93aa-2eafca0137f2"
      },
      "execution_count": null,
      "outputs": [
        {
          "output_type": "stream",
          "name": "stdout",
          "text": [
            "9.848857801796104\n"
          ]
        }
      ]
    },
    {
      "cell_type": "markdown",
      "source": [
        "2.⁠ ⁠Create a ⁠ Movie ⁠ class with attributes for title, director, and release year. Add a method to display the movie's information. Create an object and call the method."
      ],
      "metadata": {
        "id": "d7-A_9cWFEUk"
      }
    },
    {
      "cell_type": "code",
      "source": [
        "class movie:\n",
        "  def __init__(self,title,director,release_year):\n",
        "    self.title=title\n",
        "    self.director=director\n",
        "    self.release_year=release_year\n",
        "  def  display(self):\n",
        "    print(f\"The movie was creted by {self.director} of title {self.title} in year {self.release_year} \")\n",
        "mob1=movie(\"Tarzan\",\"abcd\",2004)\n",
        "mob1.display()"
      ],
      "metadata": {
        "colab": {
          "base_uri": "https://localhost:8080/"
        },
        "id": "TvdaSFzkFHwX",
        "outputId": "5f59ba5f-1690-4c52-9a01-b4e90a2a8743"
      },
      "execution_count": null,
      "outputs": [
        {
          "output_type": "stream",
          "name": "stdout",
          "text": [
            "The movie was creted by abcd of title Tarzan in year 2004 \n"
          ]
        }
      ]
    },
    {
      "cell_type": "markdown",
      "source": [
        "13.⁠ ⁠Define a ⁠ Product ⁠ class with attributes for name and price. Add a method to calculate the price after tax (assume a fixed tax rate). Create an object and print the price after tax.\n"
      ],
      "metadata": {
        "id": "XOHiumh2F0Be"
      }
    },
    {
      "cell_type": "code",
      "source": [
        "class product:\n",
        "  def __init__(self,name,price):\n",
        "    self.name=name\n",
        "    self.price=price\n",
        "  def purchase(self,tax_rate):\n",
        "    self.price=self.price+tax_rate\n",
        "    print(self.name,self.price)\n",
        "mob1=product(\"mehak\",1000)\n",
        "mob1.purchase(10)\n"
      ],
      "metadata": {
        "colab": {
          "base_uri": "https://localhost:8080/"
        },
        "id": "uNX1nD3IF10A",
        "outputId": "c5ca8269-059f-4ff2-f811-facdbc6c859d"
      },
      "execution_count": null,
      "outputs": [
        {
          "output_type": "stream",
          "name": "stdout",
          "text": [
            "mehak 1010\n"
          ]
        }
      ]
    },
    {
      "cell_type": "markdown",
      "source": [
        "14.⁠ ⁠Create a ⁠ Player ⁠ class with attributes for name and score. Add a method to update the score. Create an object and test the method.\n"
      ],
      "metadata": {
        "id": "Vrysa2CdIW_H"
      }
    },
    {
      "cell_type": "code",
      "source": [
        "class player:\n",
        "  def __init__(self,name,score):\n",
        "    self.name=name\n",
        "    self.score=score\n",
        "  def update(self,new_score):\n",
        "    self.score+=new_score\n",
        "    print(f\"{self.name} has score {self.score}\")\n",
        "mob1=player(\"Rahul\",50)\n",
        "mob1.update(50)"
      ],
      "metadata": {
        "colab": {
          "base_uri": "https://localhost:8080/"
        },
        "id": "HRz6zyHAIGSH",
        "outputId": "9cc30898-edf7-4baa-81de-3e4d212bc037"
      },
      "execution_count": null,
      "outputs": [
        {
          "output_type": "stream",
          "name": "stdout",
          "text": [
            "Rahul has score 100\n"
          ]
        }
      ]
    },
    {
      "cell_type": "markdown",
      "source": [
        "15.⁠ ⁠Define a ⁠ House ⁠ class with attributes for address and number of rooms. Add a method to display the house's details. Create an object and call the method.\n"
      ],
      "metadata": {
        "id": "QorTXSV1J-XP"
      }
    },
    {
      "cell_type": "code",
      "source": [
        "class house:\n",
        "  def __init__(self,address,number_of_rooms):\n",
        "    self.address=address\n",
        "    self.number_of_rooms=number_of_rooms\n",
        "  def display(self):\n",
        "    print(f\"The house is located at {self.address} and has {self.number_of_rooms} rooms\")\n",
        "mob1=house(\"123 Main St\",5)\n",
        "mob1.display()"
      ],
      "metadata": {
        "colab": {
          "base_uri": "https://localhost:8080/"
        },
        "id": "Xpo-MdJMJi-C",
        "outputId": "4e53a9d6-849c-4d43-f274-34c4af27ec80"
      },
      "execution_count": null,
      "outputs": [
        {
          "output_type": "stream",
          "name": "stdout",
          "text": [
            "The house is located at 123 Main St and has 5 rooms\n"
          ]
        }
      ]
    },
    {
      "cell_type": "markdown",
      "source": [
        "16.⁠ ⁠Create a ⁠ Shape ⁠ class with attributes for color and filled (a boolean). Add a method to display the shape's properties. Create an object and call the method.\n"
      ],
      "metadata": {
        "id": "7dpHiS8hLGz5"
      }
    },
    {
      "cell_type": "code",
      "source": [
        "class shape:\n",
        "  def __init__ (self,color,filled):\n",
        "    self.color=color\n",
        "    self.filled=filled\n",
        "  def display(self):\n",
        "    print(f\"The shape is {self.color} and {self.filled}\")\n",
        "mob1=shape(\"red\",True)\n",
        "mob1.display()"
      ],
      "metadata": {
        "id": "hxIZIE-xLFpz",
        "colab": {
          "base_uri": "https://localhost:8080/"
        },
        "outputId": "0c48fb2d-aec8-4b76-dc90-6bc27aa0ef88"
      },
      "execution_count": 1,
      "outputs": [
        {
          "output_type": "stream",
          "name": "stdout",
          "text": [
            "The shape is red and True\n"
          ]
        }
      ]
    },
    {
      "cell_type": "markdown",
      "source": [
        "17.⁠ ⁠Define a ⁠ Vehicle ⁠ class with attributes for type and speed. Add a method to accelerate (increase the speed). Create an object and test the method.\n"
      ],
      "metadata": {
        "id": "o2oRqhUqqfDV"
      }
    },
    {
      "cell_type": "code",
      "source": [
        "class vehicle:\n",
        "  def __init__(self,type,speed):\n",
        "    self.type=type\n",
        "    self.speed=speed\n",
        "  def accelerate(self,new_speed):\n",
        "    self.speed+=new_speed\n",
        "    print(self.speed)\n",
        "mob1=vehicle(\"car\",100)\n",
        "mob1.accelerate(10)"
      ],
      "metadata": {
        "colab": {
          "base_uri": "https://localhost:8080/"
        },
        "id": "5A8UdpYKqchN",
        "outputId": "ae442a4e-25cf-4c1e-f9df-9324d9c60d3f"
      },
      "execution_count": 2,
      "outputs": [
        {
          "output_type": "stream",
          "name": "stdout",
          "text": [
            "110\n"
          ]
        }
      ]
    },
    {
      "cell_type": "markdown",
      "source": [
        "Practice Questions: 1.Given a class for a BasicPlan, write the classes for StandardPlan and PremiumPlan which have class attributes of the following:\n",
        "\n",
        "BasicPlan\tStandardPlan\tPremium Plan\n",
        "✓\t            ✓\t                             ✓\t can_stream\n",
        "✓\t             ✓\t                     ✓\tcan_download\n",
        "✓\t             ✓\t                     ✓\thas_SD\n",
        "                     ✓\t                     ✓         has_HD                                                                                                                       Examples\n",
        "BasicPlan.has_SD ➞ True\n",
        "\n",
        "PremiumPlan.has_SD ➞ True\n",
        "\n",
        "BasicPlan.has_UHD ➞ False\n",
        "\n",
        "BasicPlan.price ➞ \"$8.99\"\n",
        "\n",
        "PremiumPlan.num_of_devices ➞ 4\n",
        "                                                    ✓\t         has_UHD\n",
        "1\t            2                          4\t         num_of_devices\n",
        "$8.99\t$12.99\t            $15.99\t          price"
      ],
      "metadata": {
        "id": "5IDVSQKpqvpm"
      }
    },
    {
      "cell_type": "code",
      "source": [
        "# prompt: Practice Questions: 1.Given a class for a BasicPlan, write the classes for StandardPlan and PremiumPlan which have class attributes of the following:\n",
        "# BasicPlan\tStandardPlan\tPremium Plan\n",
        "# ✓\t            ✓\t                             ✓\t can_stream\n",
        "# ✓\t             ✓\t                     ✓\tcan_download\n",
        "# ✓\t             ✓\t                     ✓\thas_SD\n",
        "#                      ✓\t                     ✓\n",
        "\n",
        "class BasicPlan:\n",
        "    can_stream = True\n",
        "    can_download = True\n",
        "    has_SD = True\n",
        "    price = \"$8.99\"\n",
        "\n",
        "class StandardPlan(BasicPlan):\n",
        "    has_HD = True\n",
        "    num_of_devices = 2\n",
        "    price = \"$12.99\"\n",
        "\n",
        "class PremiumPlan(StandardPlan):\n",
        "    has_UHD = True\n",
        "    num_of_devices = 4\n",
        "    price = \"$15.99\"\n",
        "\n",
        "print(BasicPlan.has_SD)  # True\n",
        "print(PremiumPlan.has_SD)  # True\n",
        "print(PremiumPlan.has_UHD)  # False\n",
        "print(BasicPlan.price)  # \"$8.99\"\n",
        "print(PremiumPlan.num_of_devices)  # 4\n"
      ],
      "metadata": {
        "colab": {
          "base_uri": "https://localhost:8080/"
        },
        "id": "PatVx8gnqtZh",
        "outputId": "2a0f9770-d256-45ea-c3b4-1ab85f6d6fe8"
      },
      "execution_count": 4,
      "outputs": [
        {
          "output_type": "stream",
          "name": "stdout",
          "text": [
            "True\n",
            "True\n",
            "True\n",
            "$8.99\n",
            "4\n"
          ]
        }
      ]
    },
    {
      "cell_type": "markdown",
      "source": [
        "2.⁠ ⁠Create a method in the Person class which returns how another person's age compares. Given the objects p1, p2 and p3, which will be initialised with the attributes name and age, return a sentence in the following format:\n",
        "\n",
        "{other_person} is {older than / younger than / the same age as} me."
      ],
      "metadata": {
        "id": "RxmrfHWLsPDJ"
      }
    },
    {
      "cell_type": "code",
      "source": [
        "\n",
        "class Person:\n",
        "  def __init__(self, name, age):\n",
        "    self.name = name\n",
        "    self.age = age\n",
        "\n",
        "  def compare_age(self, other):\n",
        "    if self.age > other.age:\n",
        "      return f\"{other.name} is younger than me.\"\n",
        "    elif self.age < other.age:\n",
        "      return f\"{other.name} is older than me.\"\n",
        "    else:\n",
        "      return f\"{other.name} is the same age as me.\"\n",
        "\n",
        "p1 = Person(\"Alice\", 25)\n",
        "p2 = Person(\"Bob\", 30)\n",
        "p3 = Person(\"Carol\", 25)\n",
        "\n",
        "print(p1.compare_age(p2))  # \"Bob is older than me.\"\n",
        "print(p1.compare_age(p3))  # \"Carol is the same age as me.\"\n"
      ],
      "metadata": {
        "id": "yebodND4r46a"
      },
      "execution_count": null,
      "outputs": []
    },
    {
      "cell_type": "markdown",
      "source": [
        "3.⁠ ⁠Create methods for the Calculator class that can do the following:\n",
        "\n",
        "Add two numbers.\n",
        "Subtract two numbers.\n",
        "Multiply two numbers.\n",
        "Divide two numbers."
      ],
      "metadata": {
        "id": "G-slbmDmtfYx"
      }
    },
    {
      "cell_type": "code",
      "source": [
        "# prompt: 3.⁠ ⁠Create methods for the Calculator class that can do the following:\n",
        "# Add two numbers.\n",
        "# Subtract two numbers.\n",
        "# Multiply two numbers.\n",
        "# Divide two numbers.\n",
        "\n",
        "class Calculator:\n",
        "  def __init__(self, num1, num2):\n",
        "    self.num1 = num1\n",
        "    self.num2 = num2\n",
        "\n",
        "  def add(self):\n",
        "    return self.num1 + self.num2\n",
        "\n",
        "  def subtract(self):\n",
        "    return self.num1 - self.num2\n",
        "\n",
        "  def multiply(self):\n",
        "    return self.num1 * self.num2\n",
        "\n",
        "  def divide(self):\n",
        "    if self.num2 == 0:\n",
        "      raise ZeroDivisionError(\"Cannot divide by zero.\")\n",
        "    return self.num1 / self.num2\n",
        "\n",
        "# Create a calculator object\n",
        "calc = Calculator(10, 5)\n",
        "\n",
        "# Add two numbers\n",
        "print(calc.add())  # Output: 15\n",
        "\n",
        "# Subtract two numbers\n",
        "print(calc.subtract())  # Output: 5\n",
        "\n",
        "# Multiply two numbers\n",
        "print(calc.multiply())  # Output: 50\n",
        "\n",
        "# Divide two numbers\n",
        "print(calc.divide())  # Output: 2.0\n"
      ],
      "metadata": {
        "id": "Vk8Qc8dxtjzl"
      },
      "execution_count": null,
      "outputs": []
    }
  ]
}