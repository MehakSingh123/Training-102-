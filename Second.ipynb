{
  "nbformat": 4,
  "nbformat_minor": 0,
  "metadata": {
    "colab": {
      "provenance": [],
      "authorship_tag": "ABX9TyOdmL+jsVPQkGk9/q10cgYC",
      "include_colab_link": true
    },
    "kernelspec": {
      "name": "python3",
      "display_name": "Python 3"
    },
    "language_info": {
      "name": "python"
    }
  },
  "cells": [
    {
      "cell_type": "markdown",
      "metadata": {
        "id": "view-in-github",
        "colab_type": "text"
      },
      "source": [
        "<a href=\"https://colab.research.google.com/github/MehakSingh123/Training-102-/blob/main/Second.ipynb\" target=\"_parent\"><img src=\"https://colab.research.google.com/assets/colab-badge.svg\" alt=\"Open In Colab\"/></a>"
      ]
    },
    {
      "cell_type": "markdown",
      "source": [],
      "metadata": {
        "id": "FYmUld090i-I"
      }
    },
    {
      "cell_type": "markdown",
      "source": [
        "List in python\n",
        "Used to store multiple items of different types i.e. hetrogeneous in nature.It can be implemented by the help of square brackets.Each item stored has its own index starting from 0.\n",
        "List is mutable while programming.Can be nested,sliced,combinable,copiable.These are always in an order.\n"
      ],
      "metadata": {
        "id": "ZLsNKvr9zWSn"
      }
    },
    {
      "cell_type": "code",
      "execution_count": null,
      "metadata": {
        "colab": {
          "base_uri": "https://localhost:8080/"
        },
        "id": "iHLInC5uy8E5",
        "outputId": "6d85e638-9205-4f6b-9b5c-3697e9949cee"
      },
      "outputs": [
        {
          "output_type": "stream",
          "name": "stdout",
          "text": [
            "['Mehak', 'Jacky', 'Jacky', 'Oggy']\n"
          ]
        }
      ],
      "source": [
        "list=[\"Mehak\",\"Jacky\",\"Jacky\",\"Oggy\"]\n",
        "print(list)"
      ]
    },
    {
      "cell_type": "markdown",
      "source": [
        "It can also be created using \"list\" constructor"
      ],
      "metadata": {
        "id": "URNcN07L1CU3"
      }
    },
    {
      "cell_type": "code",
      "source": [
        "# thislist = list((\"Mehak\",\"Jacky\",\"Jacky\",\"Oggy\"))\n",
        "# print(thislist)\n"
      ],
      "metadata": {
        "id": "1ymhwXMl0wRN"
      },
      "execution_count": null,
      "outputs": []
    },
    {
      "cell_type": "markdown",
      "source": [
        "Methods in list"
      ],
      "metadata": {
        "id": "mCMlA9u11rF-"
      }
    },
    {
      "cell_type": "code",
      "source": [
        "#append\n",
        "#list.append(\"item\")\n",
        "list1=[\"Mehak\",\"Jacky\",\"Jacky\",\"Oggy\"]\n",
        "list1.append(\"Bob\")\n",
        "print(list1)\n",
        "list2=[\"Cockroach\",\"Dogy\"]\n",
        "list1.append(list2)\n",
        "print(list1)\n",
        "\n",
        "#clear\n",
        "list3=[\"Mehak\",\"Jacky\"]\n",
        "list3.clear()\n",
        "print(list3)\n",
        "\n",
        "#copy\n",
        "list4=list1.copy()\n",
        "print(list4)\n",
        "\n",
        "#count\n",
        "print(list2.count(\"Dogy\"))\n",
        "\n",
        "#extend\n",
        "\n",
        "list3.extend(list4)\n",
        "print(list3)\n",
        "\n",
        "#index\n",
        "print(list1.index(\"Mehak\"))\n",
        "\n",
        "#insert\n",
        "list1.insert(1,\"Olivia\")\n",
        "print(list)\n",
        "\n",
        "#pop\n",
        "list5=[\"mehak\",\"Shinchan\",\"Doramon\",\"Nobita\"]\n",
        "list5.pop(2)\n",
        "print(list5)\n",
        "\n",
        "#remove\n",
        "list5.remove(\"mehak\")\n",
        "print(list5)\n",
        "\n",
        "#reverse\n",
        "list5.reverse()\n",
        "print(list5)\n",
        "\n",
        "\n",
        "#sort\n",
        "list5.sort()\n",
        "print(list5)"
      ],
      "metadata": {
        "colab": {
          "base_uri": "https://localhost:8080/"
        },
        "id": "WoMgjABj1Ogd",
        "outputId": "4b9e935e-2e69-4bd2-dcdd-ced26486a7db"
      },
      "execution_count": null,
      "outputs": [
        {
          "output_type": "stream",
          "name": "stdout",
          "text": [
            "['Mehak', 'Jacky', 'Jacky', 'Oggy', 'Bob']\n",
            "['Mehak', 'Jacky', 'Jacky', 'Oggy', 'Bob', ['Cockroach', 'Dogy']]\n",
            "[]\n",
            "['Mehak', 'Jacky', 'Jacky', 'Oggy', 'Bob', ['Cockroach', 'Dogy']]\n",
            "1\n",
            "['Mehak', 'Jacky', 'Jacky', 'Oggy', 'Bob', ['Cockroach', 'Dogy']]\n",
            "0\n",
            "['Mehak', 'Jacky', 'Jacky', 'Oggy']\n",
            "['mehak', 'Shinchan', 'Nobita']\n",
            "['Shinchan', 'Nobita']\n",
            "['Nobita', 'Shinchan']\n",
            "['Nobita', 'Shinchan']\n"
          ]
        }
      ]
    },
    {
      "cell_type": "markdown",
      "source": [
        "Q.1 colors = ['red', 'blue', 'green', 'yellow']\n",
        "\n",
        "Using the colors list defined above, print the:\n",
        "\n",
        "First element, Second element, Last element, Second-to-last element, Second and third elements, Element at index 4."
      ],
      "metadata": {
        "id": "6p04de8W7Vug"
      }
    },
    {
      "cell_type": "code",
      "source": [
        "colors = ['red', 'blue', 'green', 'yellow']\n",
        "print(colors[0], colors[1], colors[len(colors)-1], colors[len(colors)-2], colors[2], colors[3])\n"
      ],
      "metadata": {
        "colab": {
          "base_uri": "https://localhost:8080/"
        },
        "id": "0AGmQo3A11zS",
        "outputId": "628abe7e-58de-447e-c08a-b263206fe090"
      },
      "execution_count": null,
      "outputs": [
        {
          "output_type": "stream",
          "name": "stdout",
          "text": [
            "red blue yellow green green yellow\n"
          ]
        }
      ]
    },
    {
      "cell_type": "code",
      "source": [],
      "metadata": {
        "id": "KQAnPGyf8d0F"
      },
      "execution_count": null,
      "outputs": []
    },
    {
      "cell_type": "markdown",
      "source": [
        "Q.2 Below is a list with seven integer values representing the daily water level (in cm) in an imaginary lake. However, there is a mistake in the data. The third day’s water level should be 693. Correct the mistake and print the changed list.\n",
        "\n",
        "water_level = [730, 709, 682, 712, 733, 751, 740]"
      ],
      "metadata": {
        "id": "iluUmNTw84o2"
      }
    },
    {
      "cell_type": "code",
      "source": [
        "water_level = [730, 709, 682, 712, 733, 751, 740]\n",
        "water_level.pop(2)\n",
        "water_level.insert(2,693)\n",
        "print(water_level)"
      ],
      "metadata": {
        "colab": {
          "base_uri": "https://localhost:8080/"
        },
        "id": "hSkwGlGs86PP",
        "outputId": "29661f96-1bb3-4d8b-fab3-e1e9e9c1c8df"
      },
      "execution_count": null,
      "outputs": [
        {
          "output_type": "stream",
          "name": "stdout",
          "text": [
            "[730, 709, 693, 712, 733, 751, 740]\n"
          ]
        }
      ]
    },
    {
      "cell_type": "markdown",
      "source": [
        "Q.3 Add the data for the eighth day to the list from above. The water level was 772 cm on that day. Print the list contents afterwards."
      ],
      "metadata": {
        "id": "lVr0fLph9qhj"
      }
    },
    {
      "cell_type": "code",
      "source": [
        "water_level = [730, 709, 682, 712, 733, 751, 740]\n",
        "water_level.append(772)\n",
        "print(water_level)"
      ],
      "metadata": {
        "colab": {
          "base_uri": "https://localhost:8080/"
        },
        "id": "LW1HQtPC9UvJ",
        "outputId": "63451802-2035-4c65-890f-ac56e9720e1e"
      },
      "execution_count": null,
      "outputs": [
        {
          "output_type": "stream",
          "name": "stdout",
          "text": [
            "[730, 709, 682, 712, 733, 751, 740, 772]\n"
          ]
        }
      ]
    },
    {
      "cell_type": "markdown",
      "source": [
        "Q.4 Still using the same list, add three consecutive days using a single instruction. The water levels on the 9th through 11th days were 772 cm, 770 cm, and 745 cm. Add these values and then print the whole list."
      ],
      "metadata": {
        "id": "N54kHaaH-EV8"
      }
    },
    {
      "cell_type": "code",
      "source": [
        "water_level = [730, 709, 682, 712, 733, 751, 740]\n",
        "water_level.extend([772,770,745])\n",
        "print(water_level)"
      ],
      "metadata": {
        "colab": {
          "base_uri": "https://localhost:8080/"
        },
        "id": "k2d9oiCw9698",
        "outputId": "684f7940-48e7-4a73-80f3-e3030c1aaa89"
      },
      "execution_count": null,
      "outputs": [
        {
          "output_type": "stream",
          "name": "stdout",
          "text": [
            "[730, 709, 682, 712, 733, 751, 740, 772, 770, 745]\n"
          ]
        }
      ]
    },
    {
      "cell_type": "markdown",
      "source": [
        "Q.5 There are two ways to delete data from a list: by using the index or by using the value. Start with the original water_level list we defined in the second exercise and delete the first element using its index. Then define the list again and delete the first element using its value."
      ],
      "metadata": {
        "id": "JbCM2mlb-hYx"
      }
    },
    {
      "cell_type": "code",
      "source": [
        "water_level = [730, 709, 682, 712, 733, 751, 740]\n",
        "water_level.remove(730)\n",
        "print(water_level)\n",
        "water_level = [730, 709, 682, 712, 733, 751, 740]\n",
        "water_level.pop(0)\n",
        "print(water_level)"
      ],
      "metadata": {
        "colab": {
          "base_uri": "https://localhost:8080/"
        },
        "id": "4FAXn77S-cVC",
        "outputId": "dc4149a9-0761-4d88-f141-d1149054a03d"
      },
      "execution_count": null,
      "outputs": [
        {
          "output_type": "stream",
          "name": "stdout",
          "text": [
            "[709, 682, 712, 733, 751, 740]\n",
            "[709, 682, 712, 733, 751, 740]\n"
          ]
        }
      ]
    },
    {
      "cell_type": "markdown",
      "source": [
        "Tuples in python\n",
        "It is an ordered and immutable data-type in python,once it created it can't be modified like list.\n",
        "while making tuple of single element comma must be there also\n",
        "tup=(\"Mehak\",).\n",
        "Tuple constructor\n",
        "mytuple=tuple((\"itmen\"))\n",
        "to make it mutable first make it list then agin convert into tuple using list() and tuple().\n"
      ],
      "metadata": {
        "id": "UWy4cW2EAdW3"
      }
    },
    {
      "cell_type": "code",
      "source": [
        "#Methods\n",
        "\n",
        "#count()\n",
        "tup=((\"Mehak\",\"Jacky\",\"Jacky\",\"Oggy\"))\n",
        "print(tup.count(\"Mehak\"))\n",
        "\n",
        "#Index(element,start,end)\n",
        "print(tup.index(\"Jacky\",0,4))"
      ],
      "metadata": {
        "colab": {
          "base_uri": "https://localhost:8080/"
        },
        "id": "vt27ROEI-4JF",
        "outputId": "757b5cf2-466d-451b-c70c-3dbb0488b215"
      },
      "execution_count": null,
      "outputs": [
        {
          "output_type": "stream",
          "name": "stdout",
          "text": [
            "1\n",
            "1\n"
          ]
        }
      ]
    },
    {
      "cell_type": "markdown",
      "source": [
        "1. Tuple Creation and Access:\n",
        "Create a tuple named colors with the elements 'red', 'green', and 'blue'.\n",
        "Access the second element of the tuple and print it"
      ],
      "metadata": {
        "id": "eiNzaLDRC8UZ"
      }
    },
    {
      "cell_type": "code",
      "source": [
        "tup=( 'red', 'green','blue')\n",
        "print(tup[1])"
      ],
      "metadata": {
        "colab": {
          "base_uri": "https://localhost:8080/"
        },
        "id": "DJpLlg6SCK-T",
        "outputId": "001d368e-73d6-490c-db1c-e6c601b02c34"
      },
      "execution_count": null,
      "outputs": [
        {
          "output_type": "stream",
          "name": "stdout",
          "text": [
            "green\n"
          ]
        }
      ]
    },
    {
      "cell_type": "markdown",
      "source": [
        "2. Immutable Nature:\n",
        "Explain in your own words why tuples are considered immutable.\n",
        "Attempt to modify an element in an existing tuple and observe the resulting error."
      ],
      "metadata": {
        "id": "A-jxsC7VDImT"
      }
    },
    {
      "cell_type": "code",
      "source": [
        "# Creating a tuple\n",
        "my_tuple = ('red', 'green', 'blue')\n",
        "\n",
        "# Attempting to modify the first element\n",
        "# my_tuple[0] = 'yellow' THIS LINE WILL SHOW ERROR\n",
        "\n",
        "\n"
      ],
      "metadata": {
        "id": "1OcxaIJ6DEh7"
      },
      "execution_count": null,
      "outputs": []
    },
    {
      "cell_type": "markdown",
      "source": [
        "3. Tuple Slicing:\n",
        "Given the tuple numbers = (1, 2, 3, 4, 5), use slicing to extract the elements from index 1 to 3 (inclusive).\n",
        "What would be the output of numbers[::-1]?"
      ],
      "metadata": {
        "id": "5q6vogiqFKCI"
      }
    },
    {
      "cell_type": "code",
      "source": [
        "numbers = (1, 2, 3, 4, 5)\n",
        "print(numbers[::-1])\n",
        "\n",
        "print(numbers[1:3])\n",
        "\n"
      ],
      "metadata": {
        "colab": {
          "base_uri": "https://localhost:8080/"
        },
        "id": "H2vQPxp1DTbr",
        "outputId": "3cb0c74c-d252-4376-cc30-ae609d395699"
      },
      "execution_count": null,
      "outputs": [
        {
          "output_type": "stream",
          "name": "stdout",
          "text": [
            "(5, 4, 3, 2, 1)\n",
            "(2, 3)\n"
          ]
        }
      ]
    },
    {
      "cell_type": "markdown",
      "source": [
        ". Tuple Concatenation and Repetition:\n",
        "Create two tuples, fruits with elements 'apple', 'banana', and berries with elements 'strawberry', 'blueberry'.\n",
        "Concatenate the two tuples and store the result in a new tuple named combined\n",
        "_\n",
        "fruits.\n",
        "Repeat the combined\n",
        "_\n",
        "fruits tuple three times and print the result."
      ],
      "metadata": {
        "id": "vRHcaYQ-Fjh4"
      }
    },
    {
      "cell_type": "code",
      "source": [
        "fruit=('apple', 'banana', 'berries' )\n",
        "berry=('strawberry', 'blueberry')\n",
        "fruit=fruit+berry\n",
        "fruit=fruit*3\n",
        "print(fruit)"
      ],
      "metadata": {
        "colab": {
          "base_uri": "https://localhost:8080/"
        },
        "id": "bs9H6J7jFcpo",
        "outputId": "a99892e0-3646-435b-8f32-21ba8010640a"
      },
      "execution_count": null,
      "outputs": [
        {
          "output_type": "stream",
          "name": "stdout",
          "text": [
            "('apple', 'banana', 'berries', 'strawberry', 'blueberry', 'apple', 'banana', 'berries', 'strawberry', 'blueberry', 'apple', 'banana', 'berries', 'strawberry', 'blueberry')\n"
          ]
        }
      ]
    },
    {
      "cell_type": "markdown",
      "source": [
        "5. Built-in Tuple Methods:\n",
        "Create a tuple named grades with the elements 90, 85, 92, 88, 95.\n",
        "Use the count() method to find how many times the grade 88 appears in the tuple.\n",
        "Use the index() method to find the index of the grade 92."
      ],
      "metadata": {
        "id": "ZoVaap4iGxwe"
      }
    },
    {
      "cell_type": "code",
      "source": [
        "tup=(90, 85, 92, 88, 95)\n",
        "print(tup.count(88))\n",
        "print(tup.index(92))"
      ],
      "metadata": {
        "colab": {
          "base_uri": "https://localhost:8080/"
        },
        "id": "WSKKOk39Gr-g",
        "outputId": "6d2d08ab-6edd-4007-83b7-69a2c97911a4"
      },
      "execution_count": null,
      "outputs": [
        {
          "output_type": "stream",
          "name": "stdout",
          "text": [
            "1\n",
            "2\n"
          ]
        }
      ]
    },
    {
      "cell_type": "markdown",
      "source": [
        "Multiple Data Types in a Tuple:\n",
        "Create a tuple named mixed\n",
        "_\n",
        "types with elements 'apple', 42, and 3.14.\n",
        "Access and print the second element of the tuple."
      ],
      "metadata": {
        "id": "FovTI5xFG8JW"
      }
    },
    {
      "cell_type": "code",
      "source": [
        "mixed_types=('apple',42,3.14)\n",
        "print(mixed_types[1])"
      ],
      "metadata": {
        "colab": {
          "base_uri": "https://localhost:8080/"
        },
        "id": "SO0gWEM5G7jc",
        "outputId": "5eb856f1-7882-4957-b920-e84111d4ee92"
      },
      "execution_count": null,
      "outputs": [
        {
          "output_type": "stream",
          "name": "stdout",
          "text": [
            "42\n"
          ]
        }
      ]
    },
    {
      "cell_type": "markdown",
      "source": [
        "8. Conversion:\n",
        "Convert the list ['cat'\n",
        ",\n",
        "'dog'\n",
        ",\n",
        "'rabbit'] into a tuple named animals.\n",
        "Print the tuple to verify the conversion."
      ],
      "metadata": {
        "id": "MMvNz09-HUxa"
      }
    },
    {
      "cell_type": "code",
      "source": [
        "tup=['cat' , 'dog' , 'rabbit']\n",
        "animals=tuple(tup)\n",
        "print(animals)"
      ],
      "metadata": {
        "colab": {
          "base_uri": "https://localhost:8080/"
        },
        "id": "z4VqvsTTHUCu",
        "outputId": "b7883e94-1726-4785-a957-b8be592dab57"
      },
      "execution_count": null,
      "outputs": [
        {
          "output_type": "stream",
          "name": "stdout",
          "text": [
            "('cat', 'dog', 'rabbit')\n"
          ]
        }
      ]
    },
    {
      "cell_type": "markdown",
      "source": [
        "Create a tuple outer\n",
        "_\n",
        "tuple with two elements: 'apple' and another tuple ('red', 'green', 'yellow').\n",
        "Access the second element of the inner tuple and print it."
      ],
      "metadata": {
        "id": "DB1g2qBUHdSp"
      }
    },
    {
      "cell_type": "code",
      "source": [
        "outer_tuple=('red', 'green', 'yellow')\n",
        "print(outer_tuple[1])"
      ],
      "metadata": {
        "colab": {
          "base_uri": "https://localhost:8080/"
        },
        "id": "LNIPg8B4HbVD",
        "outputId": "e08d8f75-279b-483d-d81e-ef57394a9345"
      },
      "execution_count": null,
      "outputs": [
        {
          "output_type": "stream",
          "name": "stdout",
          "text": [
            "green\n"
          ]
        }
      ]
    },
    {
      "cell_type": "markdown",
      "source": [
        "1.\n",
        "   - You are managing the inventory for a small bookstore. Create a list of book titles available in the store. Add new titles to the list as they arrive. If a book is sold out, remove it from the list. Write a function to check if a specific book is in stock.\n",
        "\n"
      ],
      "metadata": {
        "id": "EzKawwA-KGez"
      }
    },
    {
      "cell_type": "code",
      "source": [
        "# Initial list of book titles available in the store\n",
        "book = [\"yoo\", \"joo\", \"goo\", \"soo\", \"boo\"]\n",
        "new_book = \"hello\"\n",
        "book.append(new_book)\n",
        "print(\"Current inventory:\", book)\n",
        "book_return = input(\"Enter the book you want: \")\n",
        "if book_return in book:\n",
        "    book.remove(book_return)\n",
        "    print(\"Updated inventory:\", book)\n",
        "else:\n",
        "    print(\"The book is not in the inventory.\")\n",
        "\n",
        "book_check=input(\"Enter the book to be checked: \")\n",
        "if book_check in book:\n",
        "  print(\"The book is in the inventory.\")\n",
        "else:\n",
        "  print(\"The book is not in the inventory.\")\n"
      ],
      "metadata": {
        "colab": {
          "base_uri": "https://localhost:8080/"
        },
        "id": "cYzd43TXHqIN",
        "outputId": "4aa190a3-7d31-4bcf-c7e0-bcd48048012f"
      },
      "execution_count": null,
      "outputs": [
        {
          "output_type": "stream",
          "name": "stdout",
          "text": [
            "Current inventory: ['yoo', 'joo', 'goo', 'soo', 'boo', 'hello']\n",
            "Enter the book you want: goo\n",
            "Updated inventory: ['yoo', 'joo', 'soo', 'boo', 'hello']\n",
            "Enter the book to be checked: joo\n",
            "The book is in the inventory.\n"
          ]
        }
      ]
    },
    {
      "cell_type": "code",
      "source": [
        "# prompt: check version of colab\n"
      ],
      "metadata": {
        "id": "mCm54KmGOgMJ"
      },
      "execution_count": null,
      "outputs": []
    },
    {
      "cell_type": "code",
      "source": [],
      "metadata": {
        "id": "Hcd_AwgLL84G"
      },
      "execution_count": null,
      "outputs": []
    },
    {
      "cell_type": "markdown",
      "source": [
        "3.\n",
        "   - Implement a simple to-do list application. Create a list to store tasks. Write functions to add a task, remove a task by its name, and display all tasks. Ensure that the tasks are displayed in the order they were added.\n"
      ],
      "metadata": {
        "id": "46cpE25K8kYs"
      }
    },
    {
      "cell_type": "code",
      "source": [
        "list=[\"Mehak\",\"Jacky\",\"Bob\",\"Good\",\"Jerry\",\"Sponge\"]\n",
        "new_item=input(\"Enter the new item: \")\n",
        "list.append(new_item)\n",
        "print(list)\n",
        "delete_item=input(\"Enter the item to be deleted: \")\n",
        "list.remove(delete_item)\n",
        "print(list)"
      ],
      "metadata": {
        "id": "TbsOCoCsOBC3",
        "colab": {
          "base_uri": "https://localhost:8080/"
        },
        "outputId": "8c8ddce0-a9b2-4466-ee52-2d0279c18736"
      },
      "execution_count": null,
      "outputs": [
        {
          "output_type": "stream",
          "name": "stdout",
          "text": [
            "Enter the new item: 12\n",
            "['Mehak', 'Jacky', 'Bob', 'Good', 'Jerry', 'Sponge', '12']\n",
            "Enter the item to be deleted: Bob\n",
            "['Mehak', 'Jacky', 'Good', 'Jerry', 'Sponge', '12']\n"
          ]
        }
      ]
    },
    {
      "cell_type": "markdown",
      "source": [
        "4.\n",
        "   - Create a list to store items you need to buy from the grocery store. Write functions to add items, remove items, and check if a specific item is already on the list. Ensure that duplicate items are not added.\n",
        "\n"
      ],
      "metadata": {
        "id": "MBnJSEn69lHX"
      }
    },
    {
      "cell_type": "code",
      "source": [
        "list=[\"Tomato\",\"Mango\",\"Watermelon\",\"Papaya\"]\n",
        "new_item=input(\"Enter the new item: \")\n",
        "if new_item not in list:\n",
        "  list.append(new_item)\n",
        "  print(list)\n",
        "else:\n",
        "  print(\"Item already exists\")"
      ],
      "metadata": {
        "id": "z2Jg7u2LOJmV",
        "colab": {
          "base_uri": "https://localhost:8080/"
        },
        "outputId": "e2f127ea-8f48-450c-f3c5-d0582dc08682"
      },
      "execution_count": null,
      "outputs": [
        {
          "output_type": "stream",
          "name": "stdout",
          "text": [
            "Enter the new item: papaita\n",
            "['Tomato', 'Mango', 'Watermelon', 'Papaya', 'papaita']\n"
          ]
        }
      ]
    },
    {
      "cell_type": "markdown",
      "source": [
        "   - You are tracking daily temperatures for a month. Create a list to store these temperatures. Write functions to find the highest and lowest temperatures, and to calculate the average temperature for the month.\n",
        "\n"
      ],
      "metadata": {
        "id": "gEElOP2C-E00"
      }
    },
    {
      "cell_type": "code",
      "source": [
        "list=[34.5,55.6,77,8,90.9]\n",
        "print(\"Highest temperature:\",max(list))\n",
        "print(\"Lowest temperature:\",min(list))\n",
        "print(\"Average temperature:\",sum(list)/len(list))"
      ],
      "metadata": {
        "colab": {
          "base_uri": "https://localhost:8080/"
        },
        "id": "jVsjDTB--BpT",
        "outputId": "2ab07f76-d346-42bb-8bc1-dca4805d1bdf"
      },
      "execution_count": null,
      "outputs": [
        {
          "output_type": "stream",
          "name": "stdout",
          "text": [
            "Highest temperature: 90.9\n",
            "Lowest temperature: 8\n",
            "Average temperature: 53.2\n"
          ]
        }
      ]
    },
    {
      "cell_type": "markdown",
      "source": [
        "6.\n",
        "   - You are responsible for assigning seats to students in a classroom. Create a list to represent the seating arrangement. Write functions to assign a seat to a new student, find a student's seat by name, and swap seats between two students.\n"
      ],
      "metadata": {
        "id": "HZi04F5A-QGr"
      }
    },
    {
      "cell_type": "code",
      "source": [
        "# Initial list of seat assignments as lists [student name, seat number]\n",
        "seat1 = [\"Alice\", 1]\n",
        "seat2 = [\"Bob\", 2]\n",
        "seat3 = [\"Charlie\", 3]\n",
        "seating_arrangement = [seat1, seat2, seat3]\n",
        "\n",
        "# Print initial seating arrangement\n",
        "print(\"Initial seating arrangement:\", seating_arrangement)\n",
        "\n",
        "# Assign a seat to a new student\n",
        "new_student = [\"David\", 4]\n",
        "seating_arrangement.append(new_student)\n",
        "print(\"Seating arrangement after assigning a seat to a new student:\", seating_arrangement)\n",
        "\n",
        "# Find a student's seat by name\n",
        "student_to_find = \"Bob\"\n",
        "found_seat = None\n",
        "for seat in seating_arrangement:\n",
        "    if seat[0] == student_to_find:\n",
        "        found_seat = seat\n",
        "        break\n",
        "\n",
        "if found_seat:\n",
        "    print(f\"{student_to_find} is seated at seat number: {found_seat[1]}\")\n",
        "else:\n",
        "    print(f\"{student_to_find} is not found in the seating arrangement.\")\n",
        "\n",
        "# Swap seats between two students\n",
        "student1 = \"Alice\"\n",
        "student2 = \"Charlie\"\n",
        "index1, index2 = None, None\n",
        "\n",
        "for i in range(len(seating_arrangement)):\n",
        "    if seating_arrangement[i][0] == student1:\n",
        "        index1 = i\n",
        "    if seating_arrangement[i][0] == student2:\n",
        "        index2 = i\n",
        "\n",
        "if index1 is not None and index2 is not None:\n",
        "    # Swap seats\n",
        "    seating_arrangement[index1], seating_arrangement[index2] = seating_arrangement[index2], seating_arrangement[index1]\n",
        "\n",
        "print(\"Seating arrangement after swapping seats between Alice and Charlie:\", seating_arrangement)\n"
      ],
      "metadata": {
        "id": "go4vfcgM-PJE",
        "colab": {
          "base_uri": "https://localhost:8080/"
        },
        "outputId": "da5dba56-034f-416b-9835-869696276938"
      },
      "execution_count": null,
      "outputs": [
        {
          "output_type": "stream",
          "name": "stdout",
          "text": [
            "Initial seating arrangement: [['Alice', 1], ['Bob', 2], ['Charlie', 3]]\n",
            "Seating arrangement after assigning a seat to a new student: [['Alice', 1], ['Bob', 2], ['Charlie', 3], ['David', 4]]\n",
            "Bob is seated at seat number: 2\n",
            "Seating arrangement after swapping seats between Alice and Charlie: [['Charlie', 3], ['Bob', 2], ['Alice', 1], ['David', 4]]\n"
          ]
        }
      ]
    },
    {
      "cell_type": "markdown",
      "source": [
        "   - Create a playlist for a party. Use a list to store song titles. Write functions to add a song, remove a song by title, and shuffle the playlist. Ensure no duplicate songs are added to the playlist.\n"
      ],
      "metadata": {
        "id": "R_Mz-f4ABo26"
      }
    },
    {
      "cell_type": "code",
      "source": [
        "import random\n",
        "party=[\"honey singh\",\"gippy\",\"diljit\",\"jackie\"]\n",
        "new_item=input(\"Enter the new item: \")\n",
        "if new_item not in party:\n",
        "  party.append(new_item)\n",
        "  print(party)\n",
        "else:\n",
        "  print(\"Item already exists\")\n",
        "random.shuffle(party)\n",
        "print(party)"
      ],
      "metadata": {
        "colab": {
          "base_uri": "https://localhost:8080/"
        },
        "id": "3bz-VMLEBp1a",
        "outputId": "042d9255-07df-4142-9ae5-baba06cd7e43"
      },
      "execution_count": null,
      "outputs": [
        {
          "output_type": "stream",
          "name": "stdout",
          "text": [
            "Enter the new item: gogo\n",
            "['honey singh', 'gippy', 'diljit', 'jackie', 'gogo']\n",
            "['jackie', 'honey singh', 'gippy', 'diljit', 'gogo']\n"
          ]
        }
      ]
    },
    {
      "cell_type": "code",
      "source": [],
      "metadata": {
        "id": "mwCjZBbpCX9P"
      },
      "execution_count": null,
      "outputs": []
    }
  ]
}