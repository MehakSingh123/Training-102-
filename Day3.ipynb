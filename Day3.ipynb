{
  "nbformat": 4,
  "nbformat_minor": 0,
  "metadata": {
    "colab": {
      "provenance": [],
      "authorship_tag": "ABX9TyPiHRctwNOXAJHM127wEidx",
      "include_colab_link": true
    },
    "kernelspec": {
      "name": "python3",
      "display_name": "Python 3"
    },
    "language_info": {
      "name": "python"
    }
  },
  "cells": [
    {
      "cell_type": "markdown",
      "metadata": {
        "id": "view-in-github",
        "colab_type": "text"
      },
      "source": [
        "<a href=\"https://colab.research.google.com/github/MehakSingh123/Training-102-/blob/main/Day3.ipynb\" target=\"_parent\"><img src=\"https://colab.research.google.com/assets/colab-badge.svg\" alt=\"Open In Colab\"/></a>"
      ]
    },
    {
      "cell_type": "markdown",
      "source": [
        "SETS --> Python set is a well defined collection of distinct objects.These are stored in curlly brackets i.e.{}.They are independent of order and immutable in nature.There are two types of sets like frozen sets.They can be constructed by simple form i.e. using {} and by using constructor.\n",
        "\n",
        "Operations-->\n",
        "1.Intersection\n",
        "2.Intersection_update\n",
        "3.difference\n",
        "4.differnce_update\n",
        "5.symmetric_difference\n",
        "6.symmetric_difference_update\n",
        "7.union\n",
        "8.Update\n",
        "9.issubset\n",
        "10.issuperset\n",
        "11.isdisjoint\n",
        "12.isproperset(<)"
      ],
      "metadata": {
        "id": "fpPyr8KX_jPw"
      }
    },
    {
      "cell_type": "code",
      "source": [
        "#intersection\n",
        "\n",
        "set1={1,2,3,4,5}\n",
        "set2={4,5,6,7,8}\n",
        "print(set1.intersection(set2))\n",
        "\n",
        "#update\n",
        "\n",
        "set1.update(set2)\n",
        "print(set1)\n",
        "\n",
        "#intersection_update\n",
        "set3={9,7,3,4}\n",
        "set4={4,7,6,3}\n",
        "set3.intersection_update(set4)\n",
        "print(set3)\n",
        "\n",
        "#symmetric_differnce\n",
        "\n",
        "set1={1,2,3,4,5}\n",
        "set2={4,5,6,7,8}\n",
        "print(set1.symmetric_difference(set2))\n",
        "\n",
        "\n",
        "#symmetric_difference_update\n",
        "\n",
        "set1={1,2,3,4,5}\n",
        "set2={4,5,6,7,8}\n",
        "set1.symmetric_difference_update(set2)\n",
        "print(set1)\n",
        "\n",
        "\n",
        "#difference\n",
        "\n",
        "set1={1,2,3,4,5}\n",
        "set2={4,5,6,7,8}\n",
        "print(set1.difference(set2))\n",
        "\n",
        "#differene_update\n",
        "\n",
        "set1={1,2,3,4,5}\n",
        "set2={4,5,6,7,8}\n",
        "set1.difference_update(set2)\n",
        "print(set1)\n",
        "\n",
        "\n",
        "#union\n",
        "\n",
        "set1={1,2,3,4,5}\n",
        "set2={4,5,6,7,8}\n",
        "print(set1.union(set2))\n",
        "\n",
        "\n",
        "#issuperset\n",
        "set1={1,2,3,4}\n",
        "set2={1,2,3,4,5,6}\n",
        "print(set2.issuperset(set1))\n",
        "\n",
        "#issubset\n",
        "set1={1,2,3,4}\n",
        "set2={1,2,3,4,5,6}\n",
        "print(set1.issubset(set2))\n",
        "\n",
        "#isdisjoint\n",
        "set1={1,2,3,4}\n",
        "set2={5,6,7,8}\n",
        "print(set1.isdisjoint(set2))\n",
        "\n",
        "#isproperset\n",
        "\n",
        "set1={1,2,3,4}\n",
        "set2={1,2,3,4,5,6}\n",
        "print(set1<set2)\n",
        "\n",
        "#add\n",
        "set1={1,2,3}\n",
        "set1.add(5)\n",
        "print(set1)\n",
        "\n",
        "#discard\n",
        "set1.discard(5)\n",
        "print(set1)\n",
        "\n",
        "#remove\n",
        "set1={1,2,3,4,5}\n",
        "set1.remove(5)\n",
        "print(set1)\n",
        "\n"
      ],
      "metadata": {
        "colab": {
          "base_uri": "https://localhost:8080/"
        },
        "id": "yBL5szADBTx8",
        "outputId": "fc204766-364d-496a-90cf-245badd9bbdf"
      },
      "execution_count": null,
      "outputs": [
        {
          "output_type": "stream",
          "name": "stdout",
          "text": [
            "{4, 5}\n",
            "{1, 2, 3, 4, 5, 6, 7, 8}\n",
            "{3, 4, 7}\n",
            "{1, 2, 3, 6, 7, 8}\n",
            "{1, 2, 3, 6, 7, 8}\n",
            "{1, 2, 3}\n",
            "{1, 2, 3}\n",
            "{1, 2, 3, 4, 5, 6, 7, 8}\n",
            "True\n",
            "True\n",
            "True\n",
            "True\n",
            "{1, 2, 3, 5}\n",
            "{1, 2, 3}\n",
            "{1, 2, 3, 4}\n",
            "{frozenset({3, 4}), frozenset({1, 2})}\n"
          ]
        }
      ]
    },
    {
      "cell_type": "markdown",
      "source": [
        "1. Create a set with the first five prime numbers."
      ],
      "metadata": {
        "id": "6v-thLEPHWob"
      }
    },
    {
      "cell_type": "code",
      "source": [
        "set1={2,3,5,7,11}\n",
        "print(set1)\n"
      ],
      "metadata": {
        "id": "F9Jps1XvCJ_9",
        "colab": {
          "base_uri": "https://localhost:8080/"
        },
        "outputId": "2c6b60e0-c204-4e4e-8a64-f0275a9306e4"
      },
      "execution_count": null,
      "outputs": [
        {
          "output_type": "stream",
          "name": "stdout",
          "text": [
            "{2, 3, 5, 7, 11}\n"
          ]
        }
      ]
    },
    {
      "cell_type": "markdown",
      "source": [
        "2. Add the number 7 to the set."
      ],
      "metadata": {
        "id": "EJWCTmzAHg94"
      }
    },
    {
      "cell_type": "code",
      "source": [
        "set1={2,3,4,5}\n",
        "set1.add(7)\n",
        "print(set1)"
      ],
      "metadata": {
        "colab": {
          "base_uri": "https://localhost:8080/"
        },
        "id": "ljQzJJLxHeCp",
        "outputId": "d2ed322a-e683-46d1-d6d3-c60e2da6d5f1"
      },
      "execution_count": null,
      "outputs": [
        {
          "output_type": "stream",
          "name": "stdout",
          "text": [
            "{2, 3, 4, 5, 7}\n"
          ]
        }
      ]
    },
    {
      "cell_type": "markdown",
      "source": [
        "3. Remove the number 3 from the set."
      ],
      "metadata": {
        "id": "9_gG-5nZHrtF"
      }
    },
    {
      "cell_type": "code",
      "source": [
        "set1={2,3,4,5}\n",
        "set1.remove(3)\n",
        "print(set1)"
      ],
      "metadata": {
        "colab": {
          "base_uri": "https://localhost:8080/"
        },
        "id": "UuQWr8UnHmuF",
        "outputId": "b9931bdd-79d2-486d-92ce-9be9fabbd52e"
      },
      "execution_count": null,
      "outputs": [
        {
          "output_type": "stream",
          "name": "stdout",
          "text": [
            "{2, 4, 5}\n"
          ]
        }
      ]
    },
    {
      "cell_type": "markdown",
      "source": [
        "4. Check if the set is a subset of {2, 3, 5, 7, 11}."
      ],
      "metadata": {
        "id": "TS8QZMwoH0AU"
      }
    },
    {
      "cell_type": "code",
      "source": [
        "set1={2,3,4,5}\n",
        "print(set2.issubset( {2, 3, 5, 7, 11}))"
      ],
      "metadata": {
        "colab": {
          "base_uri": "https://localhost:8080/"
        },
        "id": "Wo00jWo2Hyuw",
        "outputId": "66679f95-02c7-4cfb-d854-ddd4d6a26f18"
      },
      "execution_count": null,
      "outputs": [
        {
          "output_type": "stream",
          "name": "stdout",
          "text": [
            "False\n"
          ]
        }
      ]
    },
    {
      "cell_type": "markdown",
      "source": [
        "5. Find the union of the set with {7, 11, 13}."
      ],
      "metadata": {
        "id": "tITippYYISxn"
      }
    },
    {
      "cell_type": "code",
      "source": [
        "set1={2,3,4,5}\n",
        "set2={7,11,13}\n",
        "print(set1.union(set2))"
      ],
      "metadata": {
        "colab": {
          "base_uri": "https://localhost:8080/"
        },
        "id": "Rpgu1nEhIPu_",
        "outputId": "cb8e227e-77fe-4030-9bb2-da100ff3cd2e"
      },
      "execution_count": null,
      "outputs": [
        {
          "output_type": "stream",
          "name": "stdout",
          "text": [
            "{2, 3, 4, 5, 7, 11, 13}\n"
          ]
        }
      ]
    },
    {
      "cell_type": "markdown",
      "source": [
        "6. Create a frozen set from the original set."
      ],
      "metadata": {
        "id": "OQMas94jIaig"
      }
    },
    {
      "cell_type": "code",
      "source": [
        "set1={2,3,4,5}\n",
        "print(frozenset(set1))"
      ],
      "metadata": {
        "colab": {
          "base_uri": "https://localhost:8080/"
        },
        "id": "nWJkNtq-IX0C",
        "outputId": "4b615cd7-9131-4cfb-d564-781d6a970435"
      },
      "execution_count": null,
      "outputs": [
        {
          "output_type": "stream",
          "name": "stdout",
          "text": [
            "frozenset({2, 3, 4, 5})\n"
          ]
        }
      ]
    },
    {
      "cell_type": "markdown",
      "source": [
        "Check if the set has any common elements with {1, 4, 9}."
      ],
      "metadata": {
        "id": "45tToCTOJA7A"
      }
    },
    {
      "cell_type": "code",
      "source": [
        "print({1,2,3}.isdisjoint({1,4,9}))"
      ],
      "metadata": {
        "colab": {
          "base_uri": "https://localhost:8080/"
        },
        "id": "kmDIuaTSI6Xw",
        "outputId": "2dfddade-8011-4b28-8399-683a4d75451b"
      },
      "execution_count": null,
      "outputs": [
        {
          "output_type": "stream",
          "name": "stdout",
          "text": [
            "False\n"
          ]
        }
      ]
    },
    {
      "cell_type": "markdown",
      "source": [
        "Remove all elements from the set."
      ],
      "metadata": {
        "id": "yb_V9DKhJOJH"
      }
    },
    {
      "cell_type": "code",
      "source": [
        "set1={2,3,4,5}\n",
        "set1.clear()\n",
        "print(set1)"
      ],
      "metadata": {
        "colab": {
          "base_uri": "https://localhost:8080/"
        },
        "id": "jRLFVlsyJHB3",
        "outputId": "b1501080-e5a4-4adb-8574-7a82e21de63c"
      },
      "execution_count": null,
      "outputs": [
        {
          "output_type": "stream",
          "name": "stdout",
          "text": [
            "set()\n"
          ]
        }
      ]
    },
    {
      "cell_type": "markdown",
      "source": [
        "9. Create a set of your favorite fruits and find the intersection with { 'apple', 'banana', 'orange' }."
      ],
      "metadata": {
        "id": "Cfx0hBRsJWPU"
      }
    },
    {
      "cell_type": "code",
      "source": [
        "set1={'apple','banana','orange'}\n",
        "set2={'apple','mango','orange'}\n",
        "print(set1.intersection(set2))"
      ],
      "metadata": {
        "colab": {
          "base_uri": "https://localhost:8080/"
        },
        "id": "buqaDu5wJSI-",
        "outputId": "298be372-70e2-4192-bb4f-7d04e0f6bf02"
      },
      "execution_count": null,
      "outputs": [
        {
          "output_type": "stream",
          "name": "stdout",
          "text": [
            "{'orange', 'apple'}\n"
          ]
        }
      ]
    },
    {
      "cell_type": "markdown",
      "source": [
        " Use set comprehension to create a set of squares for numbers 1 to 10."
      ],
      "metadata": {
        "id": "fTkLnEssJiyd"
      }
    },
    {
      "cell_type": "code",
      "source": [
        "\n",
        "squares = {x**2 for x in range(1, 11)}\n",
        "print(squares)\n"
      ],
      "metadata": {
        "colab": {
          "base_uri": "https://localhost:8080/"
        },
        "id": "-32_L-b_Jekl",
        "outputId": "d2f06ff4-3665-4e12-c600-ab6fae28b679"
      },
      "execution_count": null,
      "outputs": [
        {
          "output_type": "stream",
          "name": "stdout",
          "text": [
            "{64, 1, 4, 36, 100, 9, 16, 49, 81, 25}\n"
          ]
        }
      ]
    },
    {
      "cell_type": "code",
      "source": [],
      "metadata": {
        "id": "rM6HHwQRJ6WY"
      },
      "execution_count": null,
      "outputs": []
    },
    {
      "cell_type": "markdown",
      "source": [
        "Dictionaries-->Python dictionaries are set of key value pairs and are unordered in nature.It can be implemented by {}.\n",
        "Keys can be used to identify specified values .A representation of {} without any element in it represent dictionary.Mapping in python means dictionary in python.\n",
        "\n",
        "RULES:\n",
        "1.Every key must be unique\n",
        "2.Every key must be hashable\n",
        "\n",
        "It can be constructed simply by using curly braces or by using constructor.\n",
        "\n",
        "Method:\n",
        "1 .get()\n",
        "2 .items()\n",
        "3 .clear()\n",
        "4 .keys()\n",
        "5 .values()\n",
        "6 .update()\n",
        "7 .pop()\n",
        "8 .popitem()\n",
        "\n"
      ],
      "metadata": {
        "id": "xJ5W4IziPmJZ"
      }
    },
    {
      "cell_type": "markdown",
      "source": [
        "1. Basic Dictionary Operations:\n",
        "Create a dictionary named student with keys \"name,\" \"age,\" and \"grade,\" and assign\n",
        "appropriate values.\n",
        "Print the value associated with the \"age\" key.\n",
        "Update the \"grade\" to a new value.\n",
        "Add a new key-value pair for \"subject\" and its corresponding value."
      ],
      "metadata": {
        "id": "jhwkX1M3UGkD"
      }
    },
    {
      "cell_type": "code",
      "source": [
        "dic={\"name\":\"mehak\",\"age\":19,\"grade\":10}\n",
        "print(dic)\n",
        "print(dic[\"age\"])\n",
        "dic[\"age\"]=20\n",
        "print(dic)\n",
        "dic[\"subject\"]=\"Chem\"\n",
        "print(dic)"
      ],
      "metadata": {
        "colab": {
          "base_uri": "https://localhost:8080/"
        },
        "id": "p40pwseYUIGh",
        "outputId": "808edd96-e784-49e7-ea97-4ca7c473c93c"
      },
      "execution_count": null,
      "outputs": [
        {
          "output_type": "stream",
          "name": "stdout",
          "text": [
            "{'name': 'mehak', 'age': 19, 'grade': 10}\n",
            "19\n",
            "{'name': 'mehak', 'age': 20, 'grade': 10}\n",
            "{'name': 'mehak', 'age': 20, 'grade': 10, 'subject': 'Chem'}\n"
          ]
        }
      ]
    },
    {
      "cell_type": "markdown",
      "source": [
        "2. Dictionary Manipulation:\n",
        "Create two dictionaries, dict1 and dict2, with at least three key-value pairs each.\n",
        "Merge these dictionaries into a new dictionary called merged\n",
        "_\n",
        "dict.\n",
        "Remove a key from merged\n",
        "_\n",
        "dict.\n",
        "Check if a specific key exists in dict1."
      ],
      "metadata": {
        "id": "F4cmI_xVU1lQ"
      }
    },
    {
      "cell_type": "code",
      "source": [
        "dic1={\"name1\":\"mehak\",\"age1\":19,\"grade1\":10}\n",
        "dic2={\"name2\":\"jacky\",\"age2\":10,\"grade2\":11}\n",
        "dic3=dic1.copy()\n",
        "print(dic3)\n",
        "dic3.update(dic2)\n",
        "print(dic3)\n",
        "dic3.pop(\"grade1\")\n",
        "print(dic3)\n",
        "key=\"grade2\"\n",
        "if key in dic3:\n",
        "  print(\"Present\")\n",
        "else:\n",
        "  print(\"error\")"
      ],
      "metadata": {
        "colab": {
          "base_uri": "https://localhost:8080/"
        },
        "id": "kw0SdN9qUSoS",
        "outputId": "7ecb6544-bc11-40f4-bdf1-dd21667982be"
      },
      "execution_count": null,
      "outputs": [
        {
          "output_type": "stream",
          "name": "stdout",
          "text": [
            "{'name1': 'mehak', 'age1': 19, 'grade1': 10}\n",
            "{'name1': 'mehak', 'age1': 19, 'grade1': 10, 'name2': 'jacky', 'age2': 10, 'grade2': 11}\n",
            "{'name1': 'mehak', 'age1': 19, 'name2': 'jacky', 'age2': 10, 'grade2': 11}\n",
            "Present\n"
          ]
        }
      ]
    },
    {
      "cell_type": "markdown",
      "source": [
        "3. Iterating Through a Dictionary:\n",
        "Use a loop to print all keys in the student dictionary.\n",
        "Use another loop to print all values in the student dictionary.\n",
        "Write a loop to print each key-value pair in the student dictionary."
      ],
      "metadata": {
        "id": "xEsaMSujW9vV"
      }
    },
    {
      "cell_type": "code",
      "source": [
        "dic1={\"name1\":\"mehak\",\"age1\":19,\"grade1\":10}\n",
        "for key,value in dic1.items():\n",
        "  print(f\"The specifid {key} have value {value}\")"
      ],
      "metadata": {
        "colab": {
          "base_uri": "https://localhost:8080/"
        },
        "id": "uzgyq_zrV3FD",
        "outputId": "aaca1893-7f02-4e42-ab81-e46afc240cac"
      },
      "execution_count": null,
      "outputs": [
        {
          "output_type": "stream",
          "name": "stdout",
          "text": [
            "The specifid name1 have value mehak\n",
            "The specifid age1 have value 19\n",
            "The specifid grade1 have value 10\n"
          ]
        }
      ]
    },
    {
      "cell_type": "markdown",
      "source": [
        "4. Dictionary Comprehension:\n",
        "Create a dictionary comprehension to generate a dictionary of squares from 1 to 10.\n",
        "Filter the above dictionary to include only even squares."
      ],
      "metadata": {
        "id": "i6YT3oI1XWlQ"
      }
    },
    {
      "cell_type": "code",
      "source": [
        "dic1={x**2 for x in range(1,11)}\n",
        "for ele in dic1:\n",
        "  if (ele%2==0):\n",
        "    print(ele)\n"
      ],
      "metadata": {
        "colab": {
          "base_uri": "https://localhost:8080/"
        },
        "id": "H7Sw-tPZXQH4",
        "outputId": "46b5ad04-90bd-440c-898b-af6692b439ce"
      },
      "execution_count": null,
      "outputs": [
        {
          "output_type": "stream",
          "name": "stdout",
          "text": [
            "64\n",
            "4\n",
            "36\n",
            "100\n",
            "16\n"
          ]
        }
      ]
    },
    {
      "cell_type": "markdown",
      "source": [
        "5. Nested Dictionaries:\n",
        "Create a dictionary named school with multiple students (nested dictionaries).\n",
        "Access and print information about a specific student within the school dictionary."
      ],
      "metadata": {
        "id": "xV632hzxYpic"
      }
    },
    {
      "cell_type": "code",
      "source": [
        "school={\"child\":{\n",
        "    \"name\":\"mehak\",\n",
        "    \"age\":19,\n",
        "    \"grade\":10\n",
        "},\"hobby\":{\n",
        "        \"name\":\"cricket\",\n",
        "        \"level\":\"champion\"\n",
        "    },\"diet\":{\n",
        "        \"meal\":\"Omelete\",\n",
        "        \"drink\":\"protien shake\"\n",
        "\n",
        "        }}\n",
        "\n",
        "print(school)"
      ],
      "metadata": {
        "colab": {
          "base_uri": "https://localhost:8080/"
        },
        "id": "BR6PSS32Yhe1",
        "outputId": "877ddd9a-b09d-4c3e-a6bf-b3b27b6f8f32"
      },
      "execution_count": null,
      "outputs": [
        {
          "output_type": "stream",
          "name": "stdout",
          "text": [
            "{'child': {'name': 'mehak', 'age': 19, 'grade': 10}, 'hobby': {'name': 'cricket', 'level': 'champion'}, 'diet': {'meal': 'Omelete', 'drink': 'protien shake'}}\n"
          ]
        }
      ]
    },
    {
      "cell_type": "markdown",
      "source": [
        "6. Dictionary Functions:\n",
        "Use the len() function to find the number of items in a dictionary.\n",
        "Use the keys(), values(), and items() methods on a dictionary and print the results."
      ],
      "metadata": {
        "id": "tl_gfZKLZxMp"
      }
    },
    {
      "cell_type": "code",
      "source": [
        "dic1={\"name\":\"mehak\",\"age\":\"19\",\"hobby\":\"coding\"}\n",
        "print(len(dic1))\n",
        "print(dic1.keys())\n",
        "print(dic1.values())\n",
        "print(dic1.items())"
      ],
      "metadata": {
        "id": "40cweGLzZEhG",
        "colab": {
          "base_uri": "https://localhost:8080/"
        },
        "outputId": "51072d4c-f1e5-4591-dc6b-aac60dfa2ec1"
      },
      "execution_count": null,
      "outputs": [
        {
          "output_type": "stream",
          "name": "stdout",
          "text": [
            "3\n",
            "dict_keys(['name', 'age', 'hobby'])\n",
            "dict_values(['mehak', '19', 'coding'])\n",
            "dict_items([('name', 'mehak'), ('age', '19'), ('hobby', 'coding')])\n"
          ]
        }
      ]
    },
    {
      "cell_type": "markdown",
      "source": [
        "7. Sorting a Dictionary:\n",
        "Create a dictionary with unsorted keys.\n",
        "Use the sorted() function to print the keys in alphabetical order."
      ],
      "metadata": {
        "id": "7W5C0YZhrJnS"
      }
    },
    {
      "cell_type": "code",
      "source": [
        "dic1={\"name\":\"mehak\",\"age\":\"19\",\"hobby\":\"coding\"}\n",
        "print(sorted(dic1))"
      ],
      "metadata": {
        "colab": {
          "base_uri": "https://localhost:8080/"
        },
        "id": "hs9g6NJSn8_E",
        "outputId": "37bea37d-793f-45db-8473-769685f39737"
      },
      "execution_count": null,
      "outputs": [
        {
          "output_type": "stream",
          "name": "stdout",
          "text": [
            "['age', 'hobby', 'name']\n"
          ]
        }
      ]
    },
    {
      "cell_type": "markdown",
      "source": [
        "8. Dictionary Methods:\n",
        "Use the get() method to retrieve a value with a default if the key doesn't exist.\n",
        "Use the pop() method to remove and return a specific key-value pair."
      ],
      "metadata": {
        "id": "UHC0CXINryTL"
      }
    },
    {
      "cell_type": "code",
      "source": [
        "dic1={\"name\":\"mehak\",\"age\":\"19\",\"hobby\":\"coding\"}\n",
        "key=input(\"Enter the value: \")\n",
        "if key in dic1:\n",
        "  print(dic1.get(key))\n",
        "else:\n",
        "  print(\"error\")"
      ],
      "metadata": {
        "colab": {
          "base_uri": "https://localhost:8080/"
        },
        "id": "2pPXcU2DrXop",
        "outputId": "0d0a3dfa-f74f-44ea-9bad-97ff73ffa21b"
      },
      "execution_count": null,
      "outputs": [
        {
          "output_type": "stream",
          "name": "stdout",
          "text": [
            "Enter the value: name\n",
            "mehak\n"
          ]
        }
      ]
    },
    {
      "cell_type": "markdown",
      "source": [
        "PRACTICE QUESTIONS -->>\n",
        "1. You have two sets representing students enrolled in Math and Science classes. Find the set of students who are enrolled in both classes.\n"
      ],
      "metadata": {
        "id": "Ctv2oaGjt_Uf"
      }
    },
    {
      "cell_type": "code",
      "source": [
        "set1={1,2,3,4,5}\n",
        "set2={4,5,6,7,8}\n",
        "print(set1.intersection(set2))"
      ],
      "metadata": {
        "colab": {
          "base_uri": "https://localhost:8080/"
        },
        "id": "fjJsCHMSsMy4",
        "outputId": "9516cb6e-b95e-499c-81db-ba62bd36cde1"
      },
      "execution_count": null,
      "outputs": [
        {
          "output_type": "stream",
          "name": "stdout",
          "text": [
            "{4, 5}\n"
          ]
        }
      ]
    },
    {
      "cell_type": "markdown",
      "source": [
        ".⁠ ⁠Given a set of unique employee IDs, add a new employee ID to the set.\n"
      ],
      "metadata": {
        "id": "uR-DNs4iudc1"
      }
    },
    {
      "cell_type": "code",
      "source": [
        "set1={\"1234\",\"2345\",\"4567\",\"6789\"}\n",
        "set1.add(\"9876\")\n",
        "print(set1)"
      ],
      "metadata": {
        "colab": {
          "base_uri": "https://localhost:8080/"
        },
        "id": "knGvoXH6uZ3i",
        "outputId": "f12eef09-b3ab-4fd1-dbad-947746206b2a"
      },
      "execution_count": null,
      "outputs": [
        {
          "output_type": "stream",
          "name": "stdout",
          "text": [
            "{'9876', '6789', '2345', '4567', '1234'}\n"
          ]
        }
      ]
    },
    {
      "cell_type": "markdown",
      "source": [
        "3.⁠ ⁠You are managing two different projects and have two sets representing the team members for each project. Find the set of team members who are working on either project or both projects.\n"
      ],
      "metadata": {
        "id": "6NG8lZ4YuxLm"
      }
    },
    {
      "cell_type": "code",
      "source": [
        "set1={\"neha\",\"girish\",\"falgun\",\"jacky\"}\n",
        "set2={\"bob\",\"jacky\",\"olivia\",\"cocroach\"}\n",
        "print(set1.union(set2))\n"
      ],
      "metadata": {
        "colab": {
          "base_uri": "https://localhost:8080/"
        },
        "id": "-skE_ix9urfz",
        "outputId": "d461aacf-4811-4049-dc6f-4a9e3eee86fa"
      },
      "execution_count": null,
      "outputs": [
        {
          "output_type": "stream",
          "name": "stdout",
          "text": [
            "{'falgun', 'neha', 'jacky', 'bob', 'girish', 'cocroach', 'olivia'}\n"
          ]
        }
      ]
    },
    {
      "cell_type": "markdown",
      "source": [
        " 4.⁠ ⁠You have a set of customer IDs who have made purchases this month. Remove a customer ID from the set who has canceled their order.\n",
        "\n"
      ],
      "metadata": {
        "id": "NBhwOnFyvmbp"
      }
    },
    {
      "cell_type": "code",
      "source": [
        "CUSTOMER_ID={1,2,3,4,5}\n",
        "CUSTOMER_ID.remove(4)\n",
        "print(CUSTOMER_ID)"
      ],
      "metadata": {
        "colab": {
          "base_uri": "https://localhost:8080/"
        },
        "id": "RlYLTFyCvjFs",
        "outputId": "2d7df23b-167e-464a-d556-4e5f03a14af4"
      },
      "execution_count": null,
      "outputs": [
        {
          "output_type": "stream",
          "name": "stdout",
          "text": [
            "{1, 2, 3, 5}\n"
          ]
        }
      ]
    },
    {
      "cell_type": "markdown",
      "source": [
        "5.⁠ ⁠Given two sets of product IDs, one representing products in stock and the other representing products that have been sold, find the set of products that are still in stock.\n"
      ],
      "metadata": {
        "id": "gzCd1DNhv_R_"
      }
    },
    {
      "cell_type": "code",
      "source": [
        "set1={1,2,3,4,5}\n",
        "set2={4,5,6,7,8}\n",
        "print(set1.difference(set2))"
      ],
      "metadata": {
        "colab": {
          "base_uri": "https://localhost:8080/"
        },
        "id": "aR4qwi96v8tX",
        "outputId": "b179453e-9548-4603-947b-15b927c94b46"
      },
      "execution_count": null,
      "outputs": [
        {
          "output_type": "stream",
          "name": "stdout",
          "text": [
            "{1, 2, 3}\n"
          ]
        }
      ]
    },
    {
      "cell_type": "markdown",
      "source": [
        " 6.⁠ ⁠You have a set of registered conference attendees. Check if a particular person is registered.\n",
        "\n"
      ],
      "metadata": {
        "id": "S4S-LQp3wSSY"
      }
    },
    {
      "cell_type": "code",
      "source": [
        "set1={\"mehak\",\"jacky\",\"bob\",\"cocroach\"}\n",
        "key=input(\"Enter the value: \")\n",
        "if key in set1:\n",
        "  print(\"Present\")\n",
        "else:\n",
        "  print(\"error\")"
      ],
      "metadata": {
        "colab": {
          "base_uri": "https://localhost:8080/"
        },
        "id": "G6GgP9FuwO1o",
        "outputId": "27ca3a8c-ad21-4ccf-c65c-186a6e6b2663"
      },
      "execution_count": null,
      "outputs": [
        {
          "output_type": "stream",
          "name": "stdout",
          "text": [
            "Enter the value: cocroach\n",
            "Present\n"
          ]
        }
      ]
    },
    {
      "cell_type": "markdown",
      "source": [
        " 7.⁠ ⁠Given two sets of book titles, one representing books available in the library and the other representing books borrowed by students, find the set of books that are not currently available in the library.\n"
      ],
      "metadata": {
        "id": "m6G0tkuawwlN"
      }
    },
    {
      "cell_type": "code",
      "source": [
        "set1={\"maths\",\"chem\",\"physics\",\"biology\",\"hindi\",\"punjabi\"}\n",
        "set2={\"maths\",\"chem\",\"physics\"}\n",
        "print(set1.intersection(set2))\n"
      ],
      "metadata": {
        "colab": {
          "base_uri": "https://localhost:8080/"
        },
        "id": "ftgJu0Vdwrla",
        "outputId": "27b3c722-7345-4ae1-daa9-5151919ccc72"
      },
      "execution_count": null,
      "outputs": [
        {
          "output_type": "stream",
          "name": "stdout",
          "text": [
            "{'physics', 'maths', 'chem'}\n"
          ]
        }
      ]
    },
    {
      "cell_type": "markdown",
      "source": [
        "8.⁠ ⁠You have a set of unique tags assigned to a blog post. Add multiple new tags to the set at once.\n"
      ],
      "metadata": {
        "id": "sI4INjq8xUmp"
      }
    },
    {
      "cell_type": "code",
      "source": [
        "tags = {\"python\", \"coding\", \"data science\"}\n",
        "new_tags = {\"machine learning\", \"deep learning\"}\n",
        "tags.update(new_tags)\n",
        "print(tags)\n"
      ],
      "metadata": {
        "colab": {
          "base_uri": "https://localhost:8080/"
        },
        "id": "VlzR0iJWxOMS",
        "outputId": "46a5ae55-b4c5-45f9-ac8a-6a76440c2d51"
      },
      "execution_count": null,
      "outputs": [
        {
          "output_type": "stream",
          "name": "stdout",
          "text": [
            "{'deep learning', 'coding', 'data science', 'python', 'machine learning'}\n"
          ]
        }
      ]
    },
    {
      "cell_type": "markdown",
      "source": [
        " 9.⁠ ⁠Given a set of employee skills and another set of skills required for a new project, find the set of skills that need to be acquired or improved.\n"
      ],
      "metadata": {
        "id": "jVR-A4Xlxi6N"
      }
    },
    {
      "cell_type": "code",
      "source": [
        "skill1={\"web\",\"c++\",\"cyber\",\"photoshop\"}\n",
        "skill2={\"AI\",\"Mern\",\"python\"}\n",
        "set3=skill1.difference(skill2)\n",
        "print(set3)"
      ],
      "metadata": {
        "colab": {
          "base_uri": "https://localhost:8080/"
        },
        "id": "fiYGfMmnxfVw",
        "outputId": "fed2e1e6-9788-44a8-dd93-6f54bb7312b6"
      },
      "execution_count": null,
      "outputs": [
        {
          "output_type": "stream",
          "name": "stdout",
          "text": [
            "{'web', 'photoshop', 'cyber', 'c++'}\n"
          ]
        }
      ]
    },
    {
      "cell_type": "markdown",
      "source": [
        "10.⁠ ⁠You have two sets of favorite movies from two different friends. Find the set of movies that are favorite to at least one of them but not both.\n"
      ],
      "metadata": {
        "id": "o1_C1YCHy67u"
      }
    },
    {
      "cell_type": "code",
      "source": [
        "friend1 = {\"yo\", \"bo\", \"so\", \"no\"}\n",
        "friend2 = {\"lo\", \"bo\", \"so\", \"go\"}\n",
        "not_both = friend1.symmetric_difference(friend2)\n",
        "print(not_both)\n"
      ],
      "metadata": {
        "colab": {
          "base_uri": "https://localhost:8080/"
        },
        "id": "ahkVwUs9zeF6",
        "outputId": "c4920c8f-7099-4cfe-897e-2fad24ceabd1"
      },
      "execution_count": null,
      "outputs": [
        {
          "output_type": "stream",
          "name": "stdout",
          "text": [
            "{'lo', 'go', 'yo', 'no'}\n"
          ]
        }
      ]
    },
    {
      "cell_type": "markdown",
      "source": [
        "11.⁠ ⁠Given a set of emails collected from a signup form, ensure that the set contains only unique emails by checking the length before and after adding more emails.\n"
      ],
      "metadata": {
        "id": "MFTFV27N0EuW"
      }
    },
    {
      "cell_type": "code",
      "source": [
        "# prompt: 11.⁠ ⁠Given a set of emails collected from a signup form, ensure that the set contains only unique emails by checking the length before and after adding more emails.\n",
        "\n",
        "# Create a set to store unique emails\n",
        "email_set = set()\n",
        "\n",
        "# Get the initial length of the set\n",
        "initial_length = len(email_set)\n",
        "\n",
        "# Add some new emails to the set\n",
        "email_set.add(\"john.doe@example.com\")\n",
        "email_set.add(\"jane.doe@example.com\")\n",
        "\n",
        "# Get the length of the set after adding emails\n",
        "updated_length = len(email_set)\n",
        "\n",
        "# Check if the length has changed\n",
        "if initial_length == updated_length:\n",
        "    print(\"Duplicate emails detected.\")\n",
        "else:\n",
        "    print(\"All emails are unique.\")\n"
      ],
      "metadata": {
        "colab": {
          "base_uri": "https://localhost:8080/"
        },
        "id": "GQKP9WV8z3oo",
        "outputId": "3b85d7d9-0448-40a0-b55d-640ed53fd2c4"
      },
      "execution_count": null,
      "outputs": [
        {
          "output_type": "stream",
          "name": "stdout",
          "text": [
            "All emails are unique.\n"
          ]
        }
      ]
    },
    {
      "cell_type": "markdown",
      "source": [
        "12.⁠ ⁠You have a set of courses you are interested in and another set of courses you have completed. Find the set of courses you are still interested in but have not yet completed.\n"
      ],
      "metadata": {
        "id": "LKTl8wzw8FjG"
      }
    },
    {
      "cell_type": "code",
      "source": [
        "interested_courses = {\"maths\", \"physics\", \"computer science\"}\n",
        "completed_courses = {\"maths\", \"chemistry\"}\n",
        "\n",
        "courses_still_interested = interested_courses.difference(completed_courses)\n",
        "\n",
        "print(courses_still_interested)\n"
      ],
      "metadata": {
        "colab": {
          "base_uri": "https://localhost:8080/"
        },
        "id": "VBOmCxhq1ub2",
        "outputId": "24a4bed1-1898-4b3a-cc3a-d00084d57c80"
      },
      "execution_count": null,
      "outputs": [
        {
          "output_type": "stream",
          "name": "stdout",
          "text": [
            "{'physics', 'computer science'}\n"
          ]
        }
      ]
    },
    {
      "cell_type": "markdown",
      "source": [
        "13.⁠ ⁠Given a set of cities visited last year and another set of cities visited this year, find the set of cities that were visited in either year but not both.\n"
      ],
      "metadata": {
        "id": "8PfOE1iP_a0M"
      }
    },
    {
      "cell_type": "code",
      "source": [
        "last={\"ludhiana\",\"delhi\",\"lonavala\",\"patiala\",\"jalandhar\"}\n",
        "now={\"ropar\",\"amritsar\",\"ludhiana\",\"patiala\",\"moga\",\"bathinda\"}\n",
        "print(last.symmetric_difference(now))"
      ],
      "metadata": {
        "colab": {
          "base_uri": "https://localhost:8080/"
        },
        "id": "9MxiD00N_W5w",
        "outputId": "cc80add1-8fb4-40c3-b471-85718e66fc20"
      },
      "execution_count": null,
      "outputs": [
        {
          "output_type": "stream",
          "name": "stdout",
          "text": [
            "{'jalandhar', 'amritsar', 'moga', 'lonavala', 'bathinda', 'delhi', 'ropar'}\n"
          ]
        }
      ]
    },
    {
      "cell_type": "markdown",
      "source": [],
      "metadata": {
        "id": "YxJfgn6w_63b"
      }
    },
    {
      "cell_type": "markdown",
      "source": [
        "15.⁠ ⁠Given two sets representing two different sports clubs' members, find the set of members who are exclusive to the first club.\n"
      ],
      "metadata": {
        "id": "gwgBmPin_00-"
      }
    },
    {
      "cell_type": "code",
      "source": [
        "\n",
        "club1 = {\"Alice\", \"Bob\", \"Charlie\", \"David\", \"Eve\"}\n",
        "club2 = {\"Bob\", \"Charlie\", \"Frank\", \"George\", \"Harry\"}\n",
        "\n",
        "exclusive_to_club1 = club1.difference(club2)\n",
        "\n",
        "print(exclusive_to_club1)\n"
      ],
      "metadata": {
        "colab": {
          "base_uri": "https://localhost:8080/"
        },
        "id": "8ijqhj8u_xhS",
        "outputId": "6048eb3b-8538-4780-8ffc-af3f8ac8add9"
      },
      "execution_count": null,
      "outputs": [
        {
          "output_type": "stream",
          "name": "stdout",
          "text": [
            "{'David', 'Alice', 'Eve'}\n"
          ]
        }
      ]
    },
    {
      "cell_type": "markdown",
      "source": [
        "⁠You have a set of ingredients required for a recipe. Check if a specific ingredient is missing.\n",
        "\n"
      ],
      "metadata": {
        "id": "bm71tHFqA0ck"
      }
    },
    {
      "cell_type": "code",
      "source": [
        "ingridient={\"haldi\",\"dahi\",\"masla\",\"mirch\"}\n",
        "check=input(\"Is thhere present the ingredient: \")\n",
        "if check in ingridient:\n",
        "  print(\"Present\")\n",
        "else:\n",
        "  print(\"error\")"
      ],
      "metadata": {
        "colab": {
          "base_uri": "https://localhost:8080/"
        },
        "id": "oIypGQxkAz5n",
        "outputId": "4ac8bdf6-e354-4d72-a4eb-b117037b7e0f"
      },
      "execution_count": null,
      "outputs": [
        {
          "output_type": "stream",
          "name": "stdout",
          "text": [
            "Is thhere present the ingredient: mirch\n",
            "Present\n"
          ]
        }
      ]
    },
    {
      "cell_type": "markdown",
      "source": [
        " ⁠Given a set of friends on social media and another set of mutual friends with a colleague, find the set of mutual friends.\n"
      ],
      "metadata": {
        "id": "xVfCXK1gBLQd"
      }
    },
    {
      "cell_type": "code",
      "source": [
        "set1={\"neha\",\"rahul\",\"nisha\",\"neha\"}\n",
        "set2={\"joy\",\"jacky\",\"naina\"}\n",
        "print(set1.intersection(set2))"
      ],
      "metadata": {
        "colab": {
          "base_uri": "https://localhost:8080/"
        },
        "id": "XF2SeZTcBHMG",
        "outputId": "8ba9d0bc-1277-43ec-b577-9774f713847b"
      },
      "execution_count": null,
      "outputs": [
        {
          "output_type": "stream",
          "name": "stdout",
          "text": [
            "set()\n"
          ]
        }
      ]
    },
    {
      "cell_type": "markdown",
      "source": [
        "18.⁠ ⁠You have a set of items in your inventory and another set representing items that need restocking. Find the set of items that are currently in stock and need restocking.\n"
      ],
      "metadata": {
        "id": "rvDm8oaJBdn9"
      }
    },
    {
      "cell_type": "code",
      "source": [
        "in_stock = {\"apple\", \"banana\", \"orange\"}\n",
        "need_restock = {\"banana\", \"grape\", \"mango\"}\n",
        "\n",
        "items_to_restock = in_stock.intersection(need_restock)\n",
        "\n",
        "print(items_to_restock)\n"
      ],
      "metadata": {
        "colab": {
          "base_uri": "https://localhost:8080/"
        },
        "id": "5D1i5gJhBfkL",
        "outputId": "e1525214-2195-4e6e-e766-9891a873a414"
      },
      "execution_count": null,
      "outputs": [
        {
          "output_type": "stream",
          "name": "stdout",
          "text": [
            "{'banana'}\n"
          ]
        }
      ]
    },
    {
      "cell_type": "markdown",
      "source": [
        "\n",
        "\n",
        "19. Given a set of languages spoken by employees in a company and another set of languages required for a new project, find the set of languages that are both spoken by employees and required for the project."
      ],
      "metadata": {
        "id": "uoO4jh8HBsiz"
      }
    },
    {
      "cell_type": "code",
      "source": [
        "\n",
        "\n",
        "spoken_languages = {\"English\", \"Spanish\", \"French\", \"German\"}\n",
        "project_languages = {\"English\", \"French\", \"Japanese\"}\n",
        "\n",
        "languages_needed = spoken_languages.intersection(project_languages)\n",
        "\n",
        "print(languages_needed)\n"
      ],
      "metadata": {
        "colab": {
          "base_uri": "https://localhost:8080/"
        },
        "id": "sr5T2N6TBpUE",
        "outputId": "f98cf5e2-5034-4bd7-9d54-905c8c2aa43e"
      },
      "execution_count": null,
      "outputs": [
        {
          "output_type": "stream",
          "name": "stdout",
          "text": [
            "{'English', 'French'}\n"
          ]
        }
      ]
    },
    {
      "cell_type": "markdown",
      "source": [
        "20. You have a set of completed tasks and another set of tasks for a project. Find the set of tasks that are yet to be completed.\n"
      ],
      "metadata": {
        "id": "ckbwG_YeCZoh"
      }
    },
    {
      "cell_type": "code",
      "source": [
        "\n",
        "\n",
        "completed_tasks = {\"Task 1\", \"Task 2\", \"Task 3\"}\n",
        "all_tasks = {\"Task 1\", \"Task 2\", \"Task 3\", \"Task 4\", \"Task 5\"}\n",
        "\n",
        "yet_to_complete = all_tasks.difference(completed_tasks)\n",
        "\n",
        "print(yet_to_complete)\n"
      ],
      "metadata": {
        "colab": {
          "base_uri": "https://localhost:8080/"
        },
        "id": "WFcIPm6oCN8D",
        "outputId": "ce49132d-d873-4b90-867b-c3272d191d41"
      },
      "execution_count": null,
      "outputs": [
        {
          "output_type": "stream",
          "name": "stdout",
          "text": [
            "{'Task 4', 'Task 5'}\n"
          ]
        }
      ]
    },
    {
      "cell_type": "markdown",
      "source": [
        "22. You have a set of students who have submitted an assignment and another set of students who have attended a class. Find the set of students who have either submitted the assignment or attended the class.\n"
      ],
      "metadata": {
        "id": "k-0i45dwC1bl"
      }
    },
    {
      "cell_type": "code",
      "source": [
        "\n",
        "\n",
        "submitted_students = {\"Alice\", \"Bob\", \"Charlie\"}\n",
        "attended_class_students = {\"Bob\", \"Charlie\", \"David\"}\n",
        "\n",
        "students_participated = submitted_students.union(attended_class_students)\n",
        "\n",
        "print(students_participated)\n"
      ],
      "metadata": {
        "colab": {
          "base_uri": "https://localhost:8080/"
        },
        "id": "DHfHn8uKCv3h",
        "outputId": "3a006f76-d437-4fcb-9b40-0eefda1e23d2"
      },
      "execution_count": null,
      "outputs": [
        {
          "output_type": "stream",
          "name": "stdout",
          "text": [
            "{'Bob', 'David', 'Alice', 'Charlie'}\n"
          ]
        }
      ]
    },
    {
      "cell_type": "markdown",
      "source": [
        "Given two sets representing the collection of books in two different libraries, find the set of books that are available in both libraries."
      ],
      "metadata": {
        "id": "NbCD9CDGDEGN"
      }
    },
    {
      "cell_type": "code",
      "source": [
        "\n",
        "\n",
        "library_1 = {\"Book 1\", \"Book 2\", \"Book 3\", \"Book 4\"}\n",
        "library_2 = {\"Book 2\", \"Book 3\", \"Book 5\", \"Book 6\"}\n",
        "\n",
        "common_books = library_1.intersection(library_2)\n",
        "\n",
        "print(common_books)\n"
      ],
      "metadata": {
        "colab": {
          "base_uri": "https://localhost:8080/"
        },
        "id": "Qr25-EL1C8nM",
        "outputId": "b1ff3ae1-cb24-46b4-cc4b-628c2e8e4d4b"
      },
      "execution_count": null,
      "outputs": [
        {
          "output_type": "stream",
          "name": "stdout",
          "text": [
            "{'Book 2', 'Book 3'}\n"
          ]
        }
      ]
    },
    {
      "cell_type": "markdown",
      "source": [
        "Practice questions-->>\n",
        ". You have a dictionary representing the inventory of a store with item names as keys and quantities as values. Add a new item to the inventory with a specific quantity.\n"
      ],
      "metadata": {
        "id": "ELZ48bQ0DaQT"
      }
    },
    {
      "cell_type": "code",
      "source": [
        "dic1={\"dahi\":20,\"ghee\":60,\"mehndi\":90,\"doodh\":80}\n",
        "dic1[\"masala\"]=100\n",
        "print(dic1)"
      ],
      "metadata": {
        "colab": {
          "base_uri": "https://localhost:8080/"
        },
        "id": "ktjr0sfYDKDZ",
        "outputId": "860ac1ce-9e6e-4e45-ba68-db8c941284fe"
      },
      "execution_count": null,
      "outputs": [
        {
          "output_type": "stream",
          "name": "stdout",
          "text": [
            "{'dahi': 20, 'ghee': 60, 'mehndi': 90, 'doodh': 80, 'masala': 100}\n"
          ]
        }
      ]
    },
    {
      "cell_type": "markdown",
      "source": [
        ". Given a dictionary of student names and their scores, find the score of a particular student.\n"
      ],
      "metadata": {
        "id": "wUmd8LTeEXg5"
      }
    },
    {
      "cell_type": "code",
      "source": [
        "student_scores = {\"Alice\": 95, \"Bob\": 80, \"Charlie\": 75}\n",
        "\n",
        "student_name = input(\"Enter the name of the student: \")\n",
        "\n",
        "if student_name in student_scores:\n",
        "  score = student_scores[student_name]\n",
        "  print(f\"{student_name}'s score is {score}\")\n",
        "else:\n",
        "  print(f\"{student_name} is not found in the dictionary.\")\n"
      ],
      "metadata": {
        "colab": {
          "base_uri": "https://localhost:8080/"
        },
        "id": "0mjKXUI9EKHu",
        "outputId": "f13b6edd-6ae9-4c7e-fd78-d87f84acedff"
      },
      "execution_count": null,
      "outputs": [
        {
          "output_type": "stream",
          "name": "stdout",
          "text": [
            "Enter the name of the student: alice\n",
            "alice is not found in the dictionary.\n"
          ]
        }
      ]
    },
    {
      "cell_type": "markdown",
      "source": [
        "3. You have a dictionary of country names as keys and their capitals as values. Update the capital of a specific country.\n"
      ],
      "metadata": {
        "id": "m_qfiqLUEoOf"
      }
    },
    {
      "cell_type": "code",
      "source": [
        "country_capitals = {\"India\": \"New Delhi\", \"USA\": \"Washington D.C.\", \"UK\": \"London\"}\n",
        "\n",
        "country = input(\"Enter the country name: \")\n",
        "new_capital = input(\"Enter the new capital: \")\n",
        "\n",
        "if country in country_capitals:\n",
        "  country_capitals[country] = new_capital\n",
        "  print(f\"The capital of {country} has been updated to {new_capital}\")\n",
        "else:\n",
        "  print(f\"{country} is not found in the dictionary.\")\n"
      ],
      "metadata": {
        "colab": {
          "base_uri": "https://localhost:8080/"
        },
        "id": "0rRShVBDEjWu",
        "outputId": "14f72076-7dd3-4c97-de9f-9cbc052e28fb"
      },
      "execution_count": null,
      "outputs": [
        {
          "output_type": "stream",
          "name": "stdout",
          "text": [
            "Enter the country name: India\n",
            "Enter the new capital: Chandigarh\n",
            "The capital of India has been updated to Chandigarh\n"
          ]
        }
      ]
    },
    {
      "cell_type": "markdown",
      "source": [
        "\n",
        "4. Given a dictionary of product prices with product names as keys, remove a product from the dictionary.\n"
      ],
      "metadata": {
        "id": "GY43YZPaE7-r"
      }
    },
    {
      "cell_type": "code",
      "source": [
        "dic1={\"dahi\":20,\"ghee\":60,\"mehndi\":90,\"doodh\":80}\n",
        "dic1.pop(\"dahi\")\n",
        "print(dic1)"
      ],
      "metadata": {
        "colab": {
          "base_uri": "https://localhost:8080/"
        },
        "id": "OgH1NeO7ExBC",
        "outputId": "54706a6c-f64c-434b-e3c2-167669f418f6"
      },
      "execution_count": null,
      "outputs": [
        {
          "output_type": "stream",
          "name": "stdout",
          "text": [
            "{'ghee': 60, 'mehndi': 90, 'doodh': 80}\n"
          ]
        }
      ]
    },
    {
      "cell_type": "markdown",
      "source": [
        "5. You have two dictionaries representing two different departments with employee names as keys and their salaries as values. Merge these two dictionaries into one.\n"
      ],
      "metadata": {
        "id": "ldu507IeFbtH"
      }
    },
    {
      "cell_type": "code",
      "source": [
        "library_1 = {\"Book 1\":1, \"Book 2\":2, \"Book 3\":3, \"Book 4\":4}\n",
        "library_2 = {\"Book 2\":5, \"Book 3\":6, \"Book 5\":7, \"Book 6\":8}\n",
        "library_1.update(library_2)\n",
        "print(library_1)"
      ],
      "metadata": {
        "colab": {
          "base_uri": "https://localhost:8080/"
        },
        "id": "JE019eHPFEH6",
        "outputId": "539fe935-769e-4a22-e898-462b90fc1355"
      },
      "execution_count": null,
      "outputs": [
        {
          "output_type": "stream",
          "name": "stdout",
          "text": [
            "{'Book 1': 1, 'Book 2': 5, 'Book 3': 6, 'Book 4': 4, 'Book 5': 7, 'Book 6': 8}\n"
          ]
        }
      ]
    },
    {
      "cell_type": "markdown",
      "source": [
        "6. Given a dictionary of city names and their populations, check if a particular city is in the dictionary.\n"
      ],
      "metadata": {
        "id": "BAoYQgMXFwi7"
      }
    },
    {
      "cell_type": "code",
      "source": [
        "\n",
        "\n",
        "city_populations = {\"New York City\": 8336817, \"Los Angeles\": 3971883, \"Chicago\": 2746388}\n",
        "\n",
        "city_name = input(\"Enter the name of the city: \")\n",
        "\n",
        "if city_name in city_populations:\n",
        "  print(f\"{city_name} is in the dictionary with a population of {city_populations[city_name]}\")\n",
        "else:\n",
        "  print(f\"{city_name} is not found in the dictionary.\")\n"
      ],
      "metadata": {
        "colab": {
          "base_uri": "https://localhost:8080/"
        },
        "id": "IRD0s04HFtCf",
        "outputId": "c7b36bd0-11ac-4e06-88fc-d15adf11d741"
      },
      "execution_count": null,
      "outputs": [
        {
          "output_type": "stream",
          "name": "stdout",
          "text": [
            "Enter the name of the city: delhi\n",
            "delhi is not found in the dictionary.\n"
          ]
        }
      ]
    },
    {
      "cell_type": "markdown",
      "source": [
        "7. You have a dictionary of book titles as keys and their authors as values. Add multiple new books to the dictionary at onc"
      ],
      "metadata": {
        "id": "05-5I-VVF5l2"
      }
    },
    {
      "cell_type": "code",
      "source": [
        "library_1 = {\"Book 1\":1, \"Book 2\":2, \"Book 3\":3, \"Book 4\":4}\n",
        "library_2 = {\"Book 2\":5, \"Book 3\":6, \"Book 5\":7, \"Book 6\":8}\n",
        "library_1.update(library_2)\n",
        "print(library_1)\n"
      ],
      "metadata": {
        "colab": {
          "base_uri": "https://localhost:8080/"
        },
        "id": "r-WjW5MrF2ML",
        "outputId": "849e5d33-51ed-4341-e763-1e6688cd9c4d"
      },
      "execution_count": null,
      "outputs": [
        {
          "output_type": "stream",
          "name": "stdout",
          "text": [
            "{'Book 1': 1, 'Book 2': 5, 'Book 3': 6, 'Book 4': 4, 'Book 5': 7, 'Book 6': 8}\n"
          ]
        }
      ]
    },
    {
      "cell_type": "markdown",
      "source": [
        "8. Given a dictionary of students' names and their grades, find the student with the highest grade.\n"
      ],
      "metadata": {
        "id": "jOP89YwJGTLD"
      }
    },
    {
      "cell_type": "code",
      "source": [
        "students_grades = {\n",
        "    \"Alice\": 85,\n",
        "    \"Bob\": 92,\n",
        "    \"Charlie\": 87,\n",
        "    \"Diana\": 100,\n",
        "    \"Eve\": 78\n",
        "}\n",
        "\n",
        "max_grade=-1\n",
        "for grade in students_grades.values():\n",
        "  if grade>max_grade:\n",
        "    max_grade=max(max_grade,grade)\n",
        "print(max_grade)"
      ],
      "metadata": {
        "colab": {
          "base_uri": "https://localhost:8080/"
        },
        "id": "y9ATesrkGPFa",
        "outputId": "21b64b93-c77e-46dd-8d3c-ecf4ecf846b8"
      },
      "execution_count": null,
      "outputs": [
        {
          "output_type": "stream",
          "name": "stdout",
          "text": [
            "100\n"
          ]
        }
      ]
    },
    {
      "cell_type": "markdown",
      "source": [
        "\n",
        "9. You have a dictionary representing a phone book with names as keys and phone numbers as values. Remove a contact from the phone book.\n"
      ],
      "metadata": {
        "id": "S3XwXaKgHF2h"
      }
    },
    {
      "cell_type": "code",
      "source": [
        "\n",
        "phone_book = {\"Alice\": \"555-1234\", \"Bob\": \"555-5678\", \"Charlie\": \"555-9012\"}\n",
        "\n",
        "name = input(\"Enter the name of the contact to remove: \")\n",
        "\n",
        "if name in phone_book:\n",
        "  del phone_book[name]\n",
        "  print(f\"{name} has been removed from the phone book.\")\n",
        "  print(phone_book)\n",
        "else:\n",
        "  print(f\"{name} is not found in the phone book.\")\n"
      ],
      "metadata": {
        "colab": {
          "base_uri": "https://localhost:8080/"
        },
        "id": "loWU-PvxG_hr",
        "outputId": "ac1bd4ee-2272-4a81-fcec-52649e472b15"
      },
      "execution_count": null,
      "outputs": [
        {
          "output_type": "stream",
          "name": "stdout",
          "text": [
            "Enter the name of the contact to remove: Alice\n",
            "Alice has been removed from the phone book.\n",
            "{'Bob': '555-5678', 'Charlie': '555-9012'}\n"
          ]
        }
      ]
    },
    {
      "cell_type": "markdown",
      "source": [
        "12. Given a dictionary of product names and their prices, calculate the total value of all the products in the dictionary.\n"
      ],
      "metadata": {
        "id": "B60DlF8kHzYt"
      }
    },
    {
      "cell_type": "code",
      "source": [
        "\n",
        "products = {\"apple\": 2.50, \"banana\": 1.75, \"orange\": 3.00}\n",
        "\n",
        "total_value = 0\n",
        "\n",
        "for price in products.values():\n",
        "  total_value += price\n",
        "\n",
        "print(f\"The total value of all products is ${total_value}\")\n"
      ],
      "metadata": {
        "colab": {
          "base_uri": "https://localhost:8080/"
        },
        "id": "cyr4xnfXHboS",
        "outputId": "c69d9e3c-c384-4144-a06c-a50ef23c804b"
      },
      "execution_count": null,
      "outputs": [
        {
          "output_type": "stream",
          "name": "stdout",
          "text": [
            "The total value of all products is $7.25\n"
          ]
        }
      ]
    },
    {
      "cell_type": "markdown",
      "source": [
        "13. You have a dictionary of movie titles as keys and their release years as values. Find all movies released before a specific year.\n"
      ],
      "metadata": {
        "id": "sDDi353bIbGv"
      }
    },
    {
      "cell_type": "code",
      "source": [
        "movies = {\n",
        "    \"The Shawshank Redemption\": 1994,\n",
        "    \"The Godfather\": 1972,\n",
        "    \"The Dark Knight\": 2008,\n",
        "    \"12 Angry Men\": 1957,\n",
        "    \"Schindler's List\": 1993\n",
        "}\n",
        "\n",
        "year = int(input(\"Enter a year: \"))\n",
        "for title, release_year in movies.items():\n",
        "  if release_year < year:\n",
        "    print(title)\n",
        "\n",
        "\n"
      ],
      "metadata": {
        "colab": {
          "base_uri": "https://localhost:8080/"
        },
        "id": "0336Wub4IO69",
        "outputId": "fa208ed5-0819-4abe-df9c-8024ce8192f7"
      },
      "execution_count": null,
      "outputs": [
        {
          "output_type": "stream",
          "name": "stdout",
          "text": [
            "Enter a year: 1994\n",
            "The Godfather\n",
            "12 Angry Men\n",
            "Schindler's List\n"
          ]
        }
      ]
    },
    {
      "cell_type": "markdown",
      "source": [
        "Given a dictionary of students and their grades, create a new dictionary where the grades are keys and the values are lists of students who have that grade.\n"
      ],
      "metadata": {
        "id": "_0zbJhwaJTXP"
      }
    },
    {
      "cell_type": "code",
      "source": [
        "\n",
        "\n",
        "students_grades = {\n",
        "    \"Alice\": 85,\n",
        "    \"Bob\": 92,\n",
        "    \"Charlie\": 85,\n",
        "    \"Diana\": 100,\n",
        "    \"Eve\": 78\n",
        "}\n",
        "\n",
        "grade_students = {}\n",
        "\n",
        "\n",
        "for student, grade in students_grades.items():\n",
        "\n",
        "    if grade not in grade_students:\n",
        "        grade_students[grade] = []\n",
        "\n",
        "    grade_students[grade].append(student)\n",
        "\n",
        "print(grade_students)\n"
      ],
      "metadata": {
        "colab": {
          "base_uri": "https://localhost:8080/"
        },
        "id": "NauNk0VfI43r",
        "outputId": "895b05f3-9f59-47a9-a3ed-5b079e2debfe"
      },
      "execution_count": null,
      "outputs": [
        {
          "output_type": "stream",
          "name": "stdout",
          "text": [
            "{85: ['Alice', 'Charlie'], 92: ['Bob'], 100: ['Diana'], 78: ['Eve']}\n"
          ]
        }
      ]
    },
    {
      "cell_type": "markdown",
      "source": [
        "Given a dictionary of employee names and their department names, find all employees in a specific department.\n"
      ],
      "metadata": {
        "id": "eEuEGvkOM-R7"
      }
    },
    {
      "cell_type": "code",
      "source": [
        "employees = {\n",
        "    \"John\": \"Marketing\",\n",
        "    \"Jane\": \"Sales\",\n",
        "    \"Bob\": \"Marketing\",\n",
        "    \"Alice\": \"Finance\",\n",
        "    \"Tom\": \"Sales\"\n",
        "}\n",
        "\n",
        "department = \"Marketing\"\n",
        "\n",
        "department_employees = []\n",
        "\n",
        "for employee, department_name in employees.items():\n",
        "  if department_name == department:\n",
        "    department_employees.append(employee)\n",
        "\n",
        "print(department_employees)"
      ],
      "metadata": {
        "colab": {
          "base_uri": "https://localhost:8080/"
        },
        "id": "Y9BREyNmJ7_z",
        "outputId": "edfa6dc4-2335-4cd8-cc2c-a0a7fdf0ebb4"
      },
      "execution_count": null,
      "outputs": [
        {
          "output_type": "stream",
          "name": "stdout",
          "text": [
            "['John', 'Bob']\n"
          ]
        }
      ]
    },
    {
      "cell_type": "markdown",
      "source": [
        " You have a dictionary of course names as keys and the number of enrolled students as values. Increase the number of enrolled students for a specific course by a given number.\n"
      ],
      "metadata": {
        "id": "pNIq7wCiNXSW"
      }
    },
    {
      "cell_type": "code",
      "source": [
        "\n",
        "courses = {\n",
        "    \"Math\": 20,\n",
        "    \"Science\": 15,\n",
        "    \"English\": 25,\n",
        "    \"History\": 30\n",
        "}\n",
        "\n",
        "course_name = \"Math\"\n",
        "increase_by = 5\n",
        "\n",
        "if course_name in courses:\n",
        "    courses[course_name] += increase_by\n",
        "    print(f\"The value of course maths increases to {courses[course_name]}\")\n",
        "else:\n",
        "    print(f\"{course_name} is not found in the dictionary.\")\n"
      ],
      "metadata": {
        "colab": {
          "base_uri": "https://localhost:8080/"
        },
        "id": "KeocLs7ANWAV",
        "outputId": "ad36877c-fdf4-4fe7-c17a-6a01f0ae296e"
      },
      "execution_count": null,
      "outputs": [
        {
          "output_type": "stream",
          "name": "stdout",
          "text": [
            "The value of course maths increases to 25\n"
          ]
        }
      ]
    },
    {
      "cell_type": "markdown",
      "source": [
        "Given a dictionary of book titles and their prices, create a list of all book titles that cost less than a specified amount.\n"
      ],
      "metadata": {
        "id": "IHuLejfnOBYm"
      }
    },
    {
      "cell_type": "code",
      "source": [
        "book= {\n",
        "    \"Math\": 20,\n",
        "    \"Science\": 15,\n",
        "    \"English\": 25,\n",
        "    \"History\": 30\n",
        "}\n",
        "book_list=[]\n",
        "for key,value in book.items():\n",
        "  if value<30:\n",
        "    book_list.append(key)\n",
        "print(book_list)"
      ],
      "metadata": {
        "colab": {
          "base_uri": "https://localhost:8080/"
        },
        "id": "OEy0M0VMN7iq",
        "outputId": "0869c3c8-931e-45af-969d-d697ff7ae05d"
      },
      "execution_count": null,
      "outputs": [
        {
          "output_type": "stream",
          "name": "stdout",
          "text": [
            "['Math', 'Science', 'English']\n"
          ]
        }
      ]
    },
    {
      "cell_type": "markdown",
      "source": [
        "You have a dictionary of country names as keys and their population as values. Sort the dictionary by population in ascending order.\n"
      ],
      "metadata": {
        "id": "CS7NAit_Opi9"
      }
    },
    {
      "cell_type": "code",
      "source": [
        "country_population = {\n",
        "    \"China\": 1_439_323_776,\n",
        "    \"India\": 1_380_004_385,\n",
        "    \"United States\": 331_002_651,\n",
        "    \"Indonesia\": 273_523_615,\n",
        "    \"Pakistan\": 220_892_340\n",
        "}\n",
        "\n",
        "sorted_country_population=dict(sorted(country_population.items(),key=lambda item:item[1]))\n",
        "print(sorted_country_population)\n",
        "\n",
        "\n"
      ],
      "metadata": {
        "colab": {
          "base_uri": "https://localhost:8080/"
        },
        "id": "-xnCv_d6OdvI",
        "outputId": "429bfc3c-750f-4b43-f6c1-94f5e37e9535"
      },
      "execution_count": null,
      "outputs": [
        {
          "output_type": "stream",
          "name": "stdout",
          "text": [
            "{'Pakistan': 220892340, 'Indonesia': 273523615, 'United States': 331002651, 'India': 1380004385, 'China': 1439323776}\n"
          ]
        }
      ]
    },
    {
      "cell_type": "markdown",
      "source": [],
      "metadata": {
        "id": "tvwagC4Snhla"
      }
    },
    {
      "cell_type": "markdown",
      "source": [
        "Given a dictionary of employee names and their salaries, create a new dictionary with only those employees who earn more than a specified amount.\n",
        "\n"
      ],
      "metadata": {
        "id": "VRqAvEcmpJW5"
      }
    },
    {
      "cell_type": "code",
      "source": [
        "employee = {\n",
        "    \"Alice\": 8500,\n",
        "    \"Bob\": 9200,\n",
        "    \"Charlie\": 8500,\n",
        "    \"Diana\": 10000,\n",
        "    \"Eve\": 7800\n",
        "}\n",
        "new_dic={}\n",
        "for key,value in employee.items():\n",
        "  if value>8000:\n",
        "    new_dic[key]=value\n",
        "print(new_dic)"
      ],
      "metadata": {
        "id": "lw2HR7mRPQY3",
        "colab": {
          "base_uri": "https://localhost:8080/"
        },
        "outputId": "3b082935-8780-4aa4-a374-7751d73c6526"
      },
      "execution_count": null,
      "outputs": [
        {
          "output_type": "stream",
          "name": "stdout",
          "text": [
            "{'Alice': 8500, 'Bob': 9200, 'Charlie': 8500, 'Diana': 10000}\n"
          ]
        }
      ]
    },
    {
      "cell_type": "markdown",
      "source": [
        " You have a dictionary of product names as keys and their quantities as values. Check if the inventory is empty and print an appropriate message.\n"
      ],
      "metadata": {
        "id": "b4AnjNvhpzOM"
      }
    },
    {
      "cell_type": "code",
      "source": [
        "dic1={\"dahi\":20,\"ghee\":60,\"mehndi\":90,\"doodh\":80}\n",
        "if len(dic1)==0:\n",
        "  print(\"inventory is empty\")\n",
        "else:\n",
        "  print(\"inventory is not empty\")"
      ],
      "metadata": {
        "colab": {
          "base_uri": "https://localhost:8080/"
        },
        "id": "woaUrs2Bpv7A",
        "outputId": "d31f8108-62b6-4dd5-ea18-78cc4b8c3d32"
      },
      "execution_count": null,
      "outputs": [
        {
          "output_type": "stream",
          "name": "stdout",
          "text": [
            "inventory is not empty\n"
          ]
        }
      ]
    },
    {
      "cell_type": "markdown",
      "source": [
        "You have a dictionary of student names and their test scores. Create a new dictionary where the keys are the test scores and the values are lists of students who achieved those scores.\n"
      ],
      "metadata": {
        "id": "OqQdvs8qqPW_"
      }
    },
    {
      "cell_type": "code",
      "source": [
        "students_grades = {\n",
        "    \"Alice\": 85,\n",
        "    \"Bob\": 92,\n",
        "    \"Charlie\": 85,\n",
        "    \"Diana\": 100,\n",
        "    \"Eve\": 78\n",
        "}\n",
        "\n",
        "grade_students = {}\n",
        "for key,value in students_grades.items():\n",
        "  if value not in grade_students:\n",
        "    grade_students[value]=[]\n",
        "  grade_students[value].append(key)\n",
        "print(grade_students)"
      ],
      "metadata": {
        "colab": {
          "base_uri": "https://localhost:8080/"
        },
        "id": "DwsByzrhqBAm",
        "outputId": "5379b2cc-af7a-4d3d-fbf1-f50d7c71c3bb"
      },
      "execution_count": null,
      "outputs": [
        {
          "output_type": "stream",
          "name": "stdout",
          "text": [
            "{85: ['Alice', 'Charlie'], 92: ['Bob'], 100: ['Diana'], 78: ['Eve']}\n"
          ]
        }
      ]
    },
    {
      "cell_type": "markdown",
      "source": [
        " Given a dictionary of items and their prices, calculate the average price of all items.\n"
      ],
      "metadata": {
        "id": "ODq-zLmwrnp7"
      }
    },
    {
      "cell_type": "code",
      "source": [
        "dic1={\"dahi\":20,\"ghee\":60,\"mehndi\":90,\"doodh\":80}\n",
        "price=0\n",
        "avg=0\n",
        "for key,value in dic1.items():\n",
        "  price+=dic1[key]\n",
        "  avg=price/len(dic1)\n",
        "print(avg)"
      ],
      "metadata": {
        "colab": {
          "base_uri": "https://localhost:8080/"
        },
        "id": "jEv2YGL5rjTa",
        "outputId": "c0265edd-614d-4820-d382-40a65b11f102"
      },
      "execution_count": null,
      "outputs": [
        {
          "output_type": "stream",
          "name": "stdout",
          "text": [
            "62.5\n"
          ]
        }
      ]
    },
    {
      "cell_type": "markdown",
      "source": [
        " You have a dictionary of employee names and their respective years of experience. Find the employee with the least experience.\n"
      ],
      "metadata": {
        "id": "SoY9XKoZsD1P"
      }
    },
    {
      "cell_type": "code",
      "source": [
        "employees = {\n",
        "    \"Alice\": 8,\n",
        "    \"Bob\": 9,\n",
        "    \"Charlie\": 8,\n",
        "    \"Diana\": 1,\n",
        "    \"Eve\": 7\n",
        "}\n",
        "\n",
        "least_experience = None\n",
        "least_experienced_employee = None\n",
        "\n",
        "for employee, experience in employees.items():\n",
        "    if least_experience is None or experience < least_experience:\n",
        "        least_experience = experience\n",
        "        least_experienced_employee = employee\n",
        "\n",
        "print(f\"Employee with least experience: {least_experienced_employee} with {least_experience} years\")\n"
      ],
      "metadata": {
        "colab": {
          "base_uri": "https://localhost:8080/"
        },
        "id": "Ipr8FiDqr9H2",
        "outputId": "4e38b11f-e1aa-4d25-d5c6-43db7f767101"
      },
      "execution_count": null,
      "outputs": [
        {
          "output_type": "stream",
          "name": "stdout",
          "text": [
            "Employee with least experience: Diana with 1 years\n"
          ]
        }
      ]
    }
  ]
}