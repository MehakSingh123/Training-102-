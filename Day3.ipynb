{
  "nbformat": 4,
  "nbformat_minor": 0,
  "metadata": {
    "colab": {
      "provenance": [],
      "authorship_tag": "ABX9TyPg8uwy4nJmTdqNTxbnM0W6",
      "include_colab_link": true
    },
    "kernelspec": {
      "name": "python3",
      "display_name": "Python 3"
    },
    "language_info": {
      "name": "python"
    }
  },
  "cells": [
    {
      "cell_type": "markdown",
      "metadata": {
        "id": "view-in-github",
        "colab_type": "text"
      },
      "source": [
        "<a href=\"https://colab.research.google.com/github/MehakSingh123/Training-102-/blob/main/Day3.ipynb\" target=\"_parent\"><img src=\"https://colab.research.google.com/assets/colab-badge.svg\" alt=\"Open In Colab\"/></a>"
      ]
    },
    {
      "cell_type": "markdown",
      "source": [
        "SETS --> Python set is a well defined collection of distinct objects.These are stored in curlly brackets i.e.{}.They are independent of order and immutable in nature.There are two types of sets like frozen sets.They can be constructed by simple form i.e. using {} and by using constructor.\n",
        "\n",
        "Operations-->\n",
        "1.Intersection\n",
        "2.Intersection_update\n",
        "3.difference\n",
        "4.differnce_update\n",
        "5.symmetric_difference\n",
        "6.symmetric_difference_update\n",
        "7.union\n",
        "8.Update\n",
        "9.issubset\n",
        "10.issuperset\n",
        "11.isdisjoint\n",
        "12.isproperset(<)"
      ],
      "metadata": {
        "id": "fpPyr8KX_jPw"
      }
    },
    {
      "cell_type": "code",
      "source": [
        "#intersection\n",
        "\n",
        "set1={1,2,3,4,5}\n",
        "set2={4,5,6,7,8}\n",
        "print(set1.intersection(set2))\n",
        "\n",
        "#update\n",
        "\n",
        "set1.update(set2)\n",
        "print(set1)\n",
        "\n",
        "#intersection_update\n",
        "set3={9,7,3,4}\n",
        "set4={4,7,6,3}\n",
        "set3.intersection_update(set4)\n",
        "print(set3)\n",
        "\n",
        "#symmetric_differnce\n",
        "\n",
        "set1={1,2,3,4,5}\n",
        "set2={4,5,6,7,8}\n",
        "print(set1.symmetric_difference(set2))\n",
        "\n",
        "\n",
        "#symmetric_difference_update\n",
        "\n",
        "set1={1,2,3,4,5}\n",
        "set2={4,5,6,7,8}\n",
        "set1.symmetric_difference_update(set2)\n",
        "print(set1)\n",
        "\n",
        "\n",
        "#difference\n",
        "\n",
        "set1={1,2,3,4,5}\n",
        "set2={4,5,6,7,8}\n",
        "print(set1.difference(set2))\n",
        "\n",
        "#differene_update\n",
        "\n",
        "set1={1,2,3,4,5}\n",
        "set2={4,5,6,7,8}\n",
        "set1.difference_update(set2)\n",
        "print(set1)\n",
        "\n",
        "\n",
        "#union\n",
        "\n",
        "set1={1,2,3,4,5}\n",
        "set2={4,5,6,7,8}\n",
        "print(set1.union(set2))\n",
        "\n",
        "\n",
        "#issuperset\n",
        "set1={1,2,3,4}\n",
        "set2={1,2,3,4,5,6}\n",
        "print(set2.issuperset(set1))\n",
        "\n",
        "#issubset\n",
        "set1={1,2,3,4}\n",
        "set2={1,2,3,4,5,6}\n",
        "print(set1.issubset(set2))\n",
        "\n",
        "#isdisjoint\n",
        "set1={1,2,3,4}\n",
        "set2={5,6,7,8}\n",
        "print(set1.isdisjoint(set2))\n",
        "\n",
        "#isproperset\n",
        "\n",
        "set1={1,2,3,4}\n",
        "set2={1,2,3,4,5,6}\n",
        "print(set1<set2)\n",
        "\n",
        "#add\n",
        "set1={1,2,3}\n",
        "set1.add(5)\n",
        "print(set1)\n",
        "\n",
        "#discard\n",
        "set1.discard(5)\n",
        "print(set1)\n",
        "\n",
        "#remove\n",
        "set1={1,2,3,4,5}\n",
        "set1.remove(5)\n",
        "print(set1)\n",
        "\n"
      ],
      "metadata": {
        "colab": {
          "base_uri": "https://localhost:8080/"
        },
        "id": "yBL5szADBTx8",
        "outputId": "fc204766-364d-496a-90cf-245badd9bbdf"
      },
      "execution_count": null,
      "outputs": [
        {
          "output_type": "stream",
          "name": "stdout",
          "text": [
            "{4, 5}\n",
            "{1, 2, 3, 4, 5, 6, 7, 8}\n",
            "{3, 4, 7}\n",
            "{1, 2, 3, 6, 7, 8}\n",
            "{1, 2, 3, 6, 7, 8}\n",
            "{1, 2, 3}\n",
            "{1, 2, 3}\n",
            "{1, 2, 3, 4, 5, 6, 7, 8}\n",
            "True\n",
            "True\n",
            "True\n",
            "True\n",
            "{1, 2, 3, 5}\n",
            "{1, 2, 3}\n",
            "{1, 2, 3, 4}\n",
            "{frozenset({3, 4}), frozenset({1, 2})}\n"
          ]
        }
      ]
    },
    {
      "cell_type": "markdown",
      "source": [
        "1. Create a set with the first five prime numbers."
      ],
      "metadata": {
        "id": "6v-thLEPHWob"
      }
    },
    {
      "cell_type": "code",
      "source": [
        "set1={2,3,5,7,11}\n",
        "print(set1)\n"
      ],
      "metadata": {
        "id": "F9Jps1XvCJ_9",
        "colab": {
          "base_uri": "https://localhost:8080/"
        },
        "outputId": "2c6b60e0-c204-4e4e-8a64-f0275a9306e4"
      },
      "execution_count": null,
      "outputs": [
        {
          "output_type": "stream",
          "name": "stdout",
          "text": [
            "{2, 3, 5, 7, 11}\n"
          ]
        }
      ]
    },
    {
      "cell_type": "markdown",
      "source": [
        "2. Add the number 7 to the set."
      ],
      "metadata": {
        "id": "EJWCTmzAHg94"
      }
    },
    {
      "cell_type": "code",
      "source": [
        "set1={2,3,4,5}\n",
        "set1.add(7)\n",
        "print(set1)"
      ],
      "metadata": {
        "colab": {
          "base_uri": "https://localhost:8080/"
        },
        "id": "ljQzJJLxHeCp",
        "outputId": "d2ed322a-e683-46d1-d6d3-c60e2da6d5f1"
      },
      "execution_count": null,
      "outputs": [
        {
          "output_type": "stream",
          "name": "stdout",
          "text": [
            "{2, 3, 4, 5, 7}\n"
          ]
        }
      ]
    },
    {
      "cell_type": "markdown",
      "source": [
        "3. Remove the number 3 from the set."
      ],
      "metadata": {
        "id": "9_gG-5nZHrtF"
      }
    },
    {
      "cell_type": "code",
      "source": [
        "set1={2,3,4,5}\n",
        "set1.remove(3)\n",
        "print(set1)"
      ],
      "metadata": {
        "colab": {
          "base_uri": "https://localhost:8080/"
        },
        "id": "UuQWr8UnHmuF",
        "outputId": "b9931bdd-79d2-486d-92ce-9be9fabbd52e"
      },
      "execution_count": null,
      "outputs": [
        {
          "output_type": "stream",
          "name": "stdout",
          "text": [
            "{2, 4, 5}\n"
          ]
        }
      ]
    },
    {
      "cell_type": "markdown",
      "source": [
        "4. Check if the set is a subset of {2, 3, 5, 7, 11}."
      ],
      "metadata": {
        "id": "TS8QZMwoH0AU"
      }
    },
    {
      "cell_type": "code",
      "source": [
        "set1={2,3,4,5}\n",
        "print(set2.issubset( {2, 3, 5, 7, 11}))"
      ],
      "metadata": {
        "colab": {
          "base_uri": "https://localhost:8080/"
        },
        "id": "Wo00jWo2Hyuw",
        "outputId": "66679f95-02c7-4cfb-d854-ddd4d6a26f18"
      },
      "execution_count": null,
      "outputs": [
        {
          "output_type": "stream",
          "name": "stdout",
          "text": [
            "False\n"
          ]
        }
      ]
    },
    {
      "cell_type": "markdown",
      "source": [
        "5. Find the union of the set with {7, 11, 13}."
      ],
      "metadata": {
        "id": "tITippYYISxn"
      }
    },
    {
      "cell_type": "code",
      "source": [
        "set1={2,3,4,5}\n",
        "set2={7,11,13}\n",
        "print(set1.union(set2))"
      ],
      "metadata": {
        "colab": {
          "base_uri": "https://localhost:8080/"
        },
        "id": "Rpgu1nEhIPu_",
        "outputId": "cb8e227e-77fe-4030-9bb2-da100ff3cd2e"
      },
      "execution_count": null,
      "outputs": [
        {
          "output_type": "stream",
          "name": "stdout",
          "text": [
            "{2, 3, 4, 5, 7, 11, 13}\n"
          ]
        }
      ]
    },
    {
      "cell_type": "markdown",
      "source": [
        "6. Create a frozen set from the original set."
      ],
      "metadata": {
        "id": "OQMas94jIaig"
      }
    },
    {
      "cell_type": "code",
      "source": [
        "set1={2,3,4,5}\n",
        "print(frozenset(set1))"
      ],
      "metadata": {
        "colab": {
          "base_uri": "https://localhost:8080/"
        },
        "id": "nWJkNtq-IX0C",
        "outputId": "4b615cd7-9131-4cfb-d564-781d6a970435"
      },
      "execution_count": null,
      "outputs": [
        {
          "output_type": "stream",
          "name": "stdout",
          "text": [
            "frozenset({2, 3, 4, 5})\n"
          ]
        }
      ]
    },
    {
      "cell_type": "markdown",
      "source": [
        "Check if the set has any common elements with {1, 4, 9}."
      ],
      "metadata": {
        "id": "45tToCTOJA7A"
      }
    },
    {
      "cell_type": "code",
      "source": [
        "print({1,2,3}.isdisjoint({1,4,9}))"
      ],
      "metadata": {
        "colab": {
          "base_uri": "https://localhost:8080/"
        },
        "id": "kmDIuaTSI6Xw",
        "outputId": "2dfddade-8011-4b28-8399-683a4d75451b"
      },
      "execution_count": null,
      "outputs": [
        {
          "output_type": "stream",
          "name": "stdout",
          "text": [
            "False\n"
          ]
        }
      ]
    },
    {
      "cell_type": "markdown",
      "source": [
        "Remove all elements from the set."
      ],
      "metadata": {
        "id": "yb_V9DKhJOJH"
      }
    },
    {
      "cell_type": "code",
      "source": [
        "set1={2,3,4,5}\n",
        "set1.clear()\n",
        "print(set1)"
      ],
      "metadata": {
        "colab": {
          "base_uri": "https://localhost:8080/"
        },
        "id": "jRLFVlsyJHB3",
        "outputId": "b1501080-e5a4-4adb-8574-7a82e21de63c"
      },
      "execution_count": null,
      "outputs": [
        {
          "output_type": "stream",
          "name": "stdout",
          "text": [
            "set()\n"
          ]
        }
      ]
    },
    {
      "cell_type": "markdown",
      "source": [
        "9. Create a set of your favorite fruits and find the intersection with { 'apple', 'banana', 'orange' }."
      ],
      "metadata": {
        "id": "Cfx0hBRsJWPU"
      }
    },
    {
      "cell_type": "code",
      "source": [
        "set1={'apple','banana','orange'}\n",
        "set2={'apple','mango','orange'}\n",
        "print(set1.intersection(set2))"
      ],
      "metadata": {
        "colab": {
          "base_uri": "https://localhost:8080/"
        },
        "id": "buqaDu5wJSI-",
        "outputId": "298be372-70e2-4192-bb4f-7d04e0f6bf02"
      },
      "execution_count": null,
      "outputs": [
        {
          "output_type": "stream",
          "name": "stdout",
          "text": [
            "{'orange', 'apple'}\n"
          ]
        }
      ]
    },
    {
      "cell_type": "markdown",
      "source": [
        " Use set comprehension to create a set of squares for numbers 1 to 10."
      ],
      "metadata": {
        "id": "fTkLnEssJiyd"
      }
    },
    {
      "cell_type": "code",
      "source": [
        "\n",
        "squares = {x**2 for x in range(1, 11)}\n",
        "print(squares)\n"
      ],
      "metadata": {
        "colab": {
          "base_uri": "https://localhost:8080/"
        },
        "id": "-32_L-b_Jekl",
        "outputId": "d2f06ff4-3665-4e12-c600-ab6fae28b679"
      },
      "execution_count": null,
      "outputs": [
        {
          "output_type": "stream",
          "name": "stdout",
          "text": [
            "{64, 1, 4, 36, 100, 9, 16, 49, 81, 25}\n"
          ]
        }
      ]
    },
    {
      "cell_type": "code",
      "source": [],
      "metadata": {
        "id": "rM6HHwQRJ6WY"
      },
      "execution_count": null,
      "outputs": []
    },
    {
      "cell_type": "markdown",
      "source": [
        "Dictionaries-->Python dictionaries are set of key value pairs and are unordered in nature.It can be implemented by {}.\n",
        "Keys can be used to identify specified values .A representation of {} without any element in it represent dictionary.Mapping in python means dictionary in python.\n",
        "\n",
        "RULES:\n",
        "1.Every key must be unique\n",
        "2.Every key must be hashable\n",
        "\n",
        "It can be constructed simply by using curly braces or by using constructor.\n",
        "\n",
        "Method:\n",
        "1 .get()\n",
        "2 .items()\n",
        "3 .clear()\n",
        "4 .keys()\n",
        "5 .values()\n",
        "6 .update()\n",
        "7 .pop()\n",
        "8 .popitem()\n",
        "\n"
      ],
      "metadata": {
        "id": "xJ5W4IziPmJZ"
      }
    },
    {
      "cell_type": "markdown",
      "source": [
        "1. Basic Dictionary Operations:\n",
        "Create a dictionary named student with keys \"name,\" \"age,\" and \"grade,\" and assign\n",
        "appropriate values.\n",
        "Print the value associated with the \"age\" key.\n",
        "Update the \"grade\" to a new value.\n",
        "Add a new key-value pair for \"subject\" and its corresponding value."
      ],
      "metadata": {
        "id": "jhwkX1M3UGkD"
      }
    },
    {
      "cell_type": "code",
      "source": [
        "dic={\"name\":\"mehak\",\"age\":19,\"grade\":10}\n",
        "print(dic)\n",
        "print(dic[\"age\"])\n",
        "dic[\"age\"]=20\n",
        "print(dic)\n",
        "dic[\"subject\"]=\"Chem\"\n",
        "print(dic)"
      ],
      "metadata": {
        "colab": {
          "base_uri": "https://localhost:8080/"
        },
        "id": "p40pwseYUIGh",
        "outputId": "808edd96-e784-49e7-ea97-4ca7c473c93c"
      },
      "execution_count": null,
      "outputs": [
        {
          "output_type": "stream",
          "name": "stdout",
          "text": [
            "{'name': 'mehak', 'age': 19, 'grade': 10}\n",
            "19\n",
            "{'name': 'mehak', 'age': 20, 'grade': 10}\n",
            "{'name': 'mehak', 'age': 20, 'grade': 10, 'subject': 'Chem'}\n"
          ]
        }
      ]
    },
    {
      "cell_type": "markdown",
      "source": [
        "2. Dictionary Manipulation:\n",
        "Create two dictionaries, dict1 and dict2, with at least three key-value pairs each.\n",
        "Merge these dictionaries into a new dictionary called merged\n",
        "_\n",
        "dict.\n",
        "Remove a key from merged\n",
        "_\n",
        "dict.\n",
        "Check if a specific key exists in dict1."
      ],
      "metadata": {
        "id": "F4cmI_xVU1lQ"
      }
    },
    {
      "cell_type": "code",
      "source": [
        "dic1={\"name1\":\"mehak\",\"age1\":19,\"grade1\":10}\n",
        "dic2={\"name2\":\"jacky\",\"age2\":10,\"grade2\":11}\n",
        "dic3=dic1.copy()\n",
        "print(dic3)\n",
        "dic3.update(dic2)\n",
        "print(dic3)\n",
        "dic3.pop(\"grade1\")\n",
        "print(dic3)\n",
        "key=\"grade2\"\n",
        "if key in dic3:\n",
        "  print(\"Present\")\n",
        "else:\n",
        "  print(\"error\")"
      ],
      "metadata": {
        "colab": {
          "base_uri": "https://localhost:8080/"
        },
        "id": "kw0SdN9qUSoS",
        "outputId": "7ecb6544-bc11-40f4-bdf1-dd21667982be"
      },
      "execution_count": null,
      "outputs": [
        {
          "output_type": "stream",
          "name": "stdout",
          "text": [
            "{'name1': 'mehak', 'age1': 19, 'grade1': 10}\n",
            "{'name1': 'mehak', 'age1': 19, 'grade1': 10, 'name2': 'jacky', 'age2': 10, 'grade2': 11}\n",
            "{'name1': 'mehak', 'age1': 19, 'name2': 'jacky', 'age2': 10, 'grade2': 11}\n",
            "Present\n"
          ]
        }
      ]
    },
    {
      "cell_type": "markdown",
      "source": [
        "3. Iterating Through a Dictionary:\n",
        "Use a loop to print all keys in the student dictionary.\n",
        "Use another loop to print all values in the student dictionary.\n",
        "Write a loop to print each key-value pair in the student dictionary."
      ],
      "metadata": {
        "id": "xEsaMSujW9vV"
      }
    },
    {
      "cell_type": "code",
      "source": [
        "dic1={\"name1\":\"mehak\",\"age1\":19,\"grade1\":10}\n",
        "for key,value in dic1.items():\n",
        "  print(f\"The specifid {key} have value {value}\")"
      ],
      "metadata": {
        "colab": {
          "base_uri": "https://localhost:8080/"
        },
        "id": "uzgyq_zrV3FD",
        "outputId": "aaca1893-7f02-4e42-ab81-e46afc240cac"
      },
      "execution_count": null,
      "outputs": [
        {
          "output_type": "stream",
          "name": "stdout",
          "text": [
            "The specifid name1 have value mehak\n",
            "The specifid age1 have value 19\n",
            "The specifid grade1 have value 10\n"
          ]
        }
      ]
    },
    {
      "cell_type": "markdown",
      "source": [
        "4. Dictionary Comprehension:\n",
        "Create a dictionary comprehension to generate a dictionary of squares from 1 to 10.\n",
        "Filter the above dictionary to include only even squares."
      ],
      "metadata": {
        "id": "i6YT3oI1XWlQ"
      }
    },
    {
      "cell_type": "code",
      "source": [
        "dic1={x**2 for x in range(1,11)}\n",
        "for ele in dic1:\n",
        "  if (ele%2==0):\n",
        "    print(ele)\n"
      ],
      "metadata": {
        "colab": {
          "base_uri": "https://localhost:8080/"
        },
        "id": "H7Sw-tPZXQH4",
        "outputId": "46b5ad04-90bd-440c-898b-af6692b439ce"
      },
      "execution_count": null,
      "outputs": [
        {
          "output_type": "stream",
          "name": "stdout",
          "text": [
            "64\n",
            "4\n",
            "36\n",
            "100\n",
            "16\n"
          ]
        }
      ]
    },
    {
      "cell_type": "markdown",
      "source": [
        "5. Nested Dictionaries:\n",
        "Create a dictionary named school with multiple students (nested dictionaries).\n",
        "Access and print information about a specific student within the school dictionary."
      ],
      "metadata": {
        "id": "xV632hzxYpic"
      }
    },
    {
      "cell_type": "code",
      "source": [
        "school={\"child\":{\n",
        "    \"name\":\"mehak\",\n",
        "    \"age\":19,\n",
        "    \"grade\":10\n",
        "},\"hobby\":{\n",
        "        \"name\":\"cricket\",\n",
        "        \"level\":\"champion\"\n",
        "    },\"diet\":{\n",
        "        \"meal\":\"Omelete\",\n",
        "        \"drink\":\"protien shake\"\n",
        "\n",
        "        }}\n",
        "\n",
        "print(school)"
      ],
      "metadata": {
        "colab": {
          "base_uri": "https://localhost:8080/"
        },
        "id": "BR6PSS32Yhe1",
        "outputId": "877ddd9a-b09d-4c3e-a6bf-b3b27b6f8f32"
      },
      "execution_count": null,
      "outputs": [
        {
          "output_type": "stream",
          "name": "stdout",
          "text": [
            "{'child': {'name': 'mehak', 'age': 19, 'grade': 10}, 'hobby': {'name': 'cricket', 'level': 'champion'}, 'diet': {'meal': 'Omelete', 'drink': 'protien shake'}}\n"
          ]
        }
      ]
    },
    {
      "cell_type": "markdown",
      "source": [
        "6. Dictionary Functions:\n",
        "Use the len() function to find the number of items in a dictionary.\n",
        "Use the keys(), values(), and items() methods on a dictionary and print the results."
      ],
      "metadata": {
        "id": "tl_gfZKLZxMp"
      }
    },
    {
      "cell_type": "code",
      "source": [],
      "metadata": {
        "id": "40cweGLzZEhG"
      },
      "execution_count": null,
      "outputs": []
    }
  ]
}