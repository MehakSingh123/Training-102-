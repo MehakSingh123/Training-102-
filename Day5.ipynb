{
  "nbformat": 4,
  "nbformat_minor": 0,
  "metadata": {
    "colab": {
      "provenance": [],
      "authorship_tag": "ABX9TyOslkNbw5MQu7f9BvfntbaA",
      "include_colab_link": true
    },
    "kernelspec": {
      "name": "python3",
      "display_name": "Python 3"
    },
    "language_info": {
      "name": "python"
    }
  },
  "cells": [
    {
      "cell_type": "markdown",
      "metadata": {
        "id": "view-in-github",
        "colab_type": "text"
      },
      "source": [
        "<a href=\"https://colab.research.google.com/github/MehakSingh123/Training-102-/blob/main/Day5.ipynb\" target=\"_parent\"><img src=\"https://colab.research.google.com/assets/colab-badge.svg\" alt=\"Open In Colab\"/></a>"
      ]
    },
    {
      "cell_type": "markdown",
      "source": [
        "\n",
        "Conditional Statement\n",
        "\n",
        "IN PYTHON, THERE ARE FOUR FORMS OF THE IF.........ELSE STATEMENT\n",
        "\n",
        "IF STATEMENT\n",
        "IF...ELSE STATEMENT\n",
        "IF...ELIF STATEMENT\n",
        "IF..ELIF...ELSE STATEMENT\n",
        "NESTED IF\n",
        "\n",
        "\n",
        "PRACTICE QUESTIONS: "
      ],
      "metadata": {
        "id": "UXWHSdHZhij1"
      }
    },
    {
      "cell_type": "markdown",
      "source": [
        "You have a variable age. Write a conditional statement to check if age is greater than or equal to 18. If true, print \"You are an adult\", otherwise print \"You are a minor\""
      ],
      "metadata": {
        "id": "obCwN1KPhp08"
      }
    },
    {
      "cell_type": "code",
      "execution_count": null,
      "metadata": {
        "colab": {
          "base_uri": "https://localhost:8080/"
        },
        "id": "Ke6952nohc32",
        "outputId": "c5178435-d561-4ef1-cbf0-c9964a0c99cb"
      },
      "outputs": [
        {
          "output_type": "stream",
          "name": "stdout",
          "text": [
            "You are a minor\n"
          ]
        }
      ],
      "source": [
        "age=10\n",
        "if age>=18:\n",
        "  print(\"You are an adult\")\n",
        "else:\n",
        "  print(\"You are a minor\")"
      ]
    },
    {
      "cell_type": "markdown",
      "source": [
        "Given a variable temperature, write a conditional statement to check if temperature is below 0. If true, print \"It's freezing\", otherwise print \"It's not freezing\"."
      ],
      "metadata": {
        "id": "qZl9K19OhtMA"
      }
    },
    {
      "cell_type": "code",
      "source": [
        "temp=38.4\n",
        "if temp<0:\n",
        "  print(\"It's freezing\")\n",
        "else:\n",
        "  print(\"It's not freezing\")"
      ],
      "metadata": {
        "colab": {
          "base_uri": "https://localhost:8080/"
        },
        "id": "KT8vfEzEhsHe",
        "outputId": "cbc6a6d4-f064-466d-bcac-b719a7a555e4"
      },
      "execution_count": null,
      "outputs": [
        {
          "output_type": "stream",
          "name": "stdout",
          "text": [
            "It's not freezing\n"
          ]
        }
      ]
    },
    {
      "cell_type": "markdown",
      "source": [
        "You have a variable score. Write a conditional statement to check if score is greater than 90. If true, print \"Grade A\", if score is between 80 and 90, print \"Grade B\", otherwise print \"Grade C\"."
      ],
      "metadata": {
        "id": "VU7LhbJBh1lQ"
      }
    },
    {
      "cell_type": "code",
      "source": [
        "score=20\n",
        "if score>90:\n",
        "  print(\"Grade A\")\n",
        "elif score>=80 and score<=90:\n",
        "  print(\"Grade B\")\n",
        "else:\n",
        "  print(\"Grade C\")"
      ],
      "metadata": {
        "colab": {
          "base_uri": "https://localhost:8080/"
        },
        "id": "YAF00UlNhxlJ",
        "outputId": "f84f7b65-13ce-4252-e426-0018b280e356"
      },
      "execution_count": null,
      "outputs": [
        {
          "output_type": "stream",
          "name": "stdout",
          "text": [
            "Grade C\n"
          ]
        }
      ]
    },
    {
      "cell_type": "markdown",
      "source": [
        "Given two variables a and b, write a conditional statement to check if a is equal to b. If true, print \"a and b are equal\", otherwise print \"a and b are not equal\"."
      ],
      "metadata": {
        "id": "U_DcXiuch8kI"
      }
    },
    {
      "cell_type": "code",
      "source": [
        "a=int(input(\"Enter a number\"))\n",
        "b=int(input(\"Enter a number\"))\n",
        "if a==b:\n",
        "  print(\"a and b are equal\")\n",
        "else:\n",
        "  print(\"a and b are not equal\")"
      ],
      "metadata": {
        "colab": {
          "base_uri": "https://localhost:8080/"
        },
        "id": "TTJt7FRdh6BI",
        "outputId": "98d908ed-5e12-46d6-9ee5-41ef277d68c1"
      },
      "execution_count": null,
      "outputs": [
        {
          "output_type": "stream",
          "name": "stdout",
          "text": [
            "Enter a number10\n",
            "Enter a number20\n",
            "a and b are not equal\n"
          ]
        }
      ]
    },
    {
      "cell_type": "markdown",
      "source": [
        "You have a variable number. Write a conditional statement to check if number is even or odd. If even, print \"Even number\", otherwise print \"Odd number\"."
      ],
      "metadata": {
        "id": "lmsd6p7HiH6a"
      }
    },
    {
      "cell_type": "code",
      "source": [
        "a=int(input(\"The number: \"))\n",
        "if a%2==0:\n",
        "  print(\"Even number\")\n",
        "else:\n",
        "  print(\"Odd number\")"
      ],
      "metadata": {
        "colab": {
          "base_uri": "https://localhost:8080/"
        },
        "id": "NiA14tWzh__T",
        "outputId": "e95e2b73-271d-4205-cc29-fbf877455d4d"
      },
      "execution_count": null,
      "outputs": [
        {
          "output_type": "stream",
          "name": "stdout",
          "text": [
            "The number: 10\n",
            "Even number\n"
          ]
        }
      ]
    },
    {
      "cell_type": "markdown",
      "source": [
        "Given a variable day which can be any day of the week, write a conditional statement to print \"Weekend\" if the day is \"Saturday\" or \"Sunday\", otherwise print \"Weekday\"."
      ],
      "metadata": {
        "id": "96D0piSDiU68"
      }
    },
    {
      "cell_type": "code",
      "source": [
        "day=input(\"Enter the day: \")\n",
        "if day==\"Saturday\" or day==\"Sunday\":\n",
        "  print(\"Weekend\")\n",
        "else:\n",
        "  print(\"Weekday\")"
      ],
      "metadata": {
        "colab": {
          "base_uri": "https://localhost:8080/"
        },
        "id": "EqdZqhyEiPaV",
        "outputId": "e770d390-0aad-4b14-e8ce-18a90efded52"
      },
      "execution_count": null,
      "outputs": [
        {
          "output_type": "stream",
          "name": "stdout",
          "text": [
            "Enter the day: saturday\n",
            "Weekday\n"
          ]
        }
      ]
    },
    {
      "cell_type": "markdown",
      "source": [
        "You have a variable marks. Write a conditional statement to check if marks are greater than 75. If true, print \"Distinction\", if marks are between 50 and 75, print \"Pass\", otherwise print \"Fail\"."
      ],
      "metadata": {
        "id": "jypdy02riio5"
      }
    },
    {
      "cell_type": "code",
      "source": [
        "rks=int(input(\"Enter number: \"))\n",
        "if rks>75:\n",
        "  print(\"Distinction\")\n",
        "elif rks>=50 and rks<=75:\n",
        "  print(\"Pass\")\n",
        "else:\n",
        "  print(\"Fail\")"
      ],
      "metadata": {
        "colab": {
          "base_uri": "https://localhost:8080/"
        },
        "id": "su71gpkRik38",
        "outputId": "4c51bf22-8732-4aa7-aa26-d7701a539070"
      },
      "execution_count": null,
      "outputs": [
        {
          "output_type": "stream",
          "name": "stdout",
          "text": [
            "Enter number: 20\n",
            "Fail\n"
          ]
        }
      ]
    },
    {
      "cell_type": "markdown",
      "source": [
        "Given a variable speed, write a conditional statement to check if speed is greater than 120. If true, print \"Over speed limit\", otherwise print \"Within speed limit\"."
      ],
      "metadata": {
        "id": "EbCca40NitCl"
      }
    },
    {
      "cell_type": "code",
      "source": [
        "speed=int(input(\"Enter speed: \"))\n",
        "if speed>120:\n",
        "  print(\"Over speed limit\")"
      ],
      "metadata": {
        "colab": {
          "base_uri": "https://localhost:8080/"
        },
        "id": "KkmSolx2iczN",
        "outputId": "560661b8-5da4-4e61-d072-90ba7b3e735d"
      },
      "execution_count": null,
      "outputs": [
        {
          "name": "stdout",
          "output_type": "stream",
          "text": [
            "Enter speed: 10\n"
          ]
        }
      ]
    },
    {
      "cell_type": "markdown",
      "source": [
        "You have a variable year. Write a conditional statement to check if year is a leap year. If true, print \"Leap year\", otherwise print \"Not a leap year\""
      ],
      "metadata": {
        "id": "NLh027ami2qK"
      }
    },
    {
      "cell_type": "code",
      "source": [
        "r=int(input(\"Enter the year: \"))\n",
        "if r%4==0:\n",
        "  print(\"Leap year\")"
      ],
      "metadata": {
        "colab": {
          "base_uri": "https://localhost:8080/"
        },
        "id": "LAgo7Q7Ni34E",
        "outputId": "c19cc844-e2ca-4abf-8292-4d129beea019"
      },
      "execution_count": null,
      "outputs": [
        {
          "output_type": "stream",
          "name": "stdout",
          "text": [
            "Enter the year: 2004\n",
            "Leap year\n"
          ]
        }
      ]
    },
    {
      "cell_type": "markdown",
      "source": [
        "Given a variable char, write a conditional statement to check if char is a vowel (a, e, i, o, u). If true, print \"Vowel\", otherwise print \"Consonant\"."
      ],
      "metadata": {
        "id": "_16TkcELjCHQ"
      }
    },
    {
      "cell_type": "code",
      "source": [
        "a=input(\"Enter a char variable: \")\n",
        "if a==\"a\" or a==\"e\" or a==\"i\" or a==\"o\" or a==\"u\":\n",
        "  print(\"Vowel\")\n",
        "else:\n",
        "  print(\"Consonant\")"
      ],
      "metadata": {
        "colab": {
          "base_uri": "https://localhost:8080/"
        },
        "id": "DMiy4M0Ki0dV",
        "outputId": "0a06836a-2ae4-4abd-a781-27c4d00b8a6b"
      },
      "execution_count": null,
      "outputs": [
        {
          "output_type": "stream",
          "name": "stdout",
          "text": [
            "Enter a char variable: b\n",
            "Consonant\n"
          ]
        }
      ]
    },
    {
      "cell_type": "markdown",
      "source": [
        "You have two variables x and y. Write a conditional statement to check if both x and y are positive. If true, print \"Both are positive\", otherwise print \"At least one is not positive\"."
      ],
      "metadata": {
        "id": "Y_Q0nDVrjZPc"
      }
    },
    {
      "cell_type": "code",
      "source": [
        "a=int(input(\"Enter value: \"))\n",
        "b=int(input(\"Enter value: \"))\n",
        "if (a and b)>0:\n",
        "  print(\"positive\")\n",
        "else:\n",
        "  print(\"negative\")"
      ],
      "metadata": {
        "colab": {
          "base_uri": "https://localhost:8080/"
        },
        "id": "pNbU9Z5BjSLk",
        "outputId": "4431c21b-7b1d-4fbb-ea7a-e9d2969eabc4"
      },
      "execution_count": null,
      "outputs": [
        {
          "output_type": "stream",
          "name": "stdout",
          "text": [
            "Enter value: -1\n",
            "Enter value: -1\n",
            "negative\n"
          ]
        }
      ]
    },
    {
      "cell_type": "markdown",
      "source": [
        "Given a variable time representing the hour of the day in 24-hour format, write a conditional statement to print \"Good morning\" if time is between 6 and 12, \"Good afternoon\" if time is between 12 and 18, and \"Good evening\" if time is between 18 and 24.\n",
        "\n"
      ],
      "metadata": {
        "id": "xmWacP8jkpQe"
      }
    },
    {
      "cell_type": "code",
      "source": [
        "time=int(input(\"Enter time: \"))\n",
        "if time>=6 and time<=12:\n",
        "  print(\"Good morning\")\n",
        "elif time>=12 and time<=18:\n",
        "  print(\"Good afternoon\")\n",
        "else:\n",
        "  print(\"Good evening\")"
      ],
      "metadata": {
        "colab": {
          "base_uri": "https://localhost:8080/"
        },
        "id": "6xs6bUArj5rT",
        "outputId": "89ef3a72-5080-49b3-8e8e-32196ec4fdc2"
      },
      "execution_count": null,
      "outputs": [
        {
          "output_type": "stream",
          "name": "stdout",
          "text": [
            "Enter time: 17\n",
            "Good afternoon\n"
          ]
        }
      ]
    },
    {
      "cell_type": "markdown",
      "source": [
        "You have a variable budget and a variable price. Write a conditional statement to check if budget is greater than or equal to price. If true, print \"Purchase possible\", otherwise print \"Not enough budget\"."
      ],
      "metadata": {
        "id": "WCVWo3j4lImf"
      }
    },
    {
      "cell_type": "code",
      "source": [],
      "metadata": {
        "id": "5Q4dGcCKlDew"
      },
      "execution_count": null,
      "outputs": []
    },
    {
      "cell_type": "code",
      "source": [
        "budget=int(input(\"Enter budget: \"))\n",
        "price=int(input(\"Enter price: \"))\n",
        "if budget>=price:\n",
        "  print(\"Purchase possible\")\n",
        "else:\n",
        "  print(\"Not enough budget\")"
      ],
      "metadata": {
        "colab": {
          "base_uri": "https://localhost:8080/"
        },
        "id": "VeQelhyylKdj",
        "outputId": "5a2209c7-a076-4cbf-eb0f-5bca5c2031a5"
      },
      "execution_count": null,
      "outputs": [
        {
          "output_type": "stream",
          "name": "stdout",
          "text": [
            "Enter budget: 15\n",
            "Enter price: 10\n",
            "Purchase possible\n"
          ]
        }
      ]
    },
    {
      "cell_type": "markdown",
      "source": [
        "Given a variable username, write a conditional statement to check if username is not empty. If true, print \"Username is valid\", otherwise print \"Username cannot be empty\"."
      ],
      "metadata": {
        "id": "qHKQbjjal0A-"
      }
    },
    {
      "cell_type": "code",
      "source": [
        "username=input(\"Enter username: \")\n",
        "if username!=\"\":\n",
        "  print(\"Username is valid\")\n",
        "else:\n",
        "  print(\"Username cannot be empty\")"
      ],
      "metadata": {
        "colab": {
          "base_uri": "https://localhost:8080/"
        },
        "id": "hJ-fjcxAlvI6",
        "outputId": "0cbb7120-5e06-4190-8aef-72c1528c9bcc"
      },
      "execution_count": null,
      "outputs": [
        {
          "output_type": "stream",
          "name": "stdout",
          "text": [
            "Enter username: mehak\n",
            "Username is valid\n"
          ]
        }
      ]
    },
    {
      "cell_type": "markdown",
      "source": [
        "You have a variable weight and a variable height. Write a conditional statement to calculate BMI and print \"Underweight\" if BMI is less than 18.5, \"Normal weight\" if BMI is between 18.5 and 24.9, and \"Overweight\" if BMI is 25 or above."
      ],
      "metadata": {
        "id": "FUs8zpJ9m7m6"
      }
    },
    {
      "cell_type": "code",
      "source": [
        "BMI=int(input(\"Enter BMI: \"))\n",
        "if BMI<18.5:\n",
        "  print(\"Underweight\")\n",
        "elif BMI>=18.5 and BMI<=24.9:\n",
        "  print(\"Normal weight\")\n",
        "else:\n",
        "  print(\"Overweight\")"
      ],
      "metadata": {
        "colab": {
          "base_uri": "https://localhost:8080/"
        },
        "id": "RlT74xpRmkoD",
        "outputId": "6e038a98-a0b0-42c2-c426-a883e75a08d2"
      },
      "execution_count": null,
      "outputs": [
        {
          "output_type": "stream",
          "name": "stdout",
          "text": [
            "Enter BMI: 30\n",
            "Overweight\n"
          ]
        }
      ]
    },
    {
      "cell_type": "markdown",
      "source": [
        "Given a variable password, write a conditional statement to check if the length of password is greater than or equal to 8. If true, print \"Strong password\", otherwise print \"Weak password\"."
      ],
      "metadata": {
        "id": "yoYaOc3jpIFb"
      }
    },
    {
      "cell_type": "code",
      "source": [
        "password=input(\"Enter password: \")\n",
        "if len(password)>=8:\n",
        "  print(\"Strong password\")\n",
        "else:\n",
        "  print(\"Weak password\")"
      ],
      "metadata": {
        "colab": {
          "base_uri": "https://localhost:8080/"
        },
        "id": "v8K-V00WpCXd",
        "outputId": "7f8aa754-a981-4889-c3e8-024ab33b8a96"
      },
      "execution_count": null,
      "outputs": [
        {
          "output_type": "stream",
          "name": "stdout",
          "text": [
            "Enter password: mehak\n",
            "Weak password\n"
          ]
        }
      ]
    },
    {
      "cell_type": "markdown",
      "source": [
        "You have a variable grade. Write a conditional statement to print \"Excellent\" if grade is 'A', \"Good\" if grade is 'B', \"Average\" if grade is 'C', and \"Poor\" if grade is 'D'."
      ],
      "metadata": {
        "id": "BdV5IPt-pUgh"
      }
    },
    {
      "cell_type": "code",
      "source": [
        "grade=input(\"Enter the grade: \")\n",
        "if grade==\"A\":\n",
        "  print(\"Excellent\")\n",
        "elif grade==\"B\":\n",
        "  print(\"Good\")\n",
        "elif grade==\"C\":\n",
        "  print(\"Average\")\n",
        "else:\n",
        "  print(\"Poor\")"
      ],
      "metadata": {
        "colab": {
          "base_uri": "https://localhost:8080/"
        },
        "id": "_S9cbWNQpM-2",
        "outputId": "c30bbe26-5bf6-40c9-e985-89e02f43021a"
      },
      "execution_count": null,
      "outputs": [
        {
          "output_type": "stream",
          "name": "stdout",
          "text": [
            "Enter the grade: C\n",
            "Average\n"
          ]
        }
      ]
    },
    {
      "cell_type": "markdown",
      "source": [
        "Given a variable month, write a conditional statement to check if month is \"December\", \"January\", or \"February\". If true, print \"Winter\", if month is \"June\", \"July\", or \"August\", print \"Summer\", otherwise print \"Other season\"."
      ],
      "metadata": {
        "id": "PJfJ1gk1p3yy"
      }
    },
    {
      "cell_type": "code",
      "source": [
        "month=input(\"Enter the month:\")\n",
        "if month==\"Decmber\" or month==\"January\" or month==\"Feburary\":\n",
        "  print(\"Winter\")\n",
        "elif month==\"June\" or month==\"July\" or month==\"August\":\n",
        "  print(\"Summer\")\n",
        "else:\n",
        "  print(\"Enter valid input\")"
      ],
      "metadata": {
        "colab": {
          "base_uri": "https://localhost:8080/"
        },
        "id": "02YkXWIpprJw",
        "outputId": "7a48d112-a81f-4e5c-b4ee-84489bd7b217"
      },
      "execution_count": null,
      "outputs": [
        {
          "output_type": "stream",
          "name": "stdout",
          "text": [
            "Enter the month:January\n",
            "Winter\n"
          ]
        }
      ]
    },
    {
      "cell_type": "markdown",
      "source": [
        "You have a variable balance. Write a conditional statement to check if balance is greater than or equal to 1000. If true, print \"Sufficient balance\", otherwise print \"Insufficient balance\"."
      ],
      "metadata": {
        "id": "S2uG8smkqdc8"
      }
    },
    {
      "cell_type": "code",
      "source": [
        "balance=int(input(\"Enter balance: \"))\n",
        "if balance>=1000:\n",
        "  print(\"Sufficient balance\")\n",
        "else:\n",
        "  print(\"Insufficient balance\")"
      ],
      "metadata": {
        "colab": {
          "base_uri": "https://localhost:8080/"
        },
        "id": "nnIpxDudqYct",
        "outputId": "9a59797b-d838-4abd-cb7e-e3d8087d9d5f"
      },
      "execution_count": null,
      "outputs": [
        {
          "output_type": "stream",
          "name": "stdout",
          "text": [
            "Enter balance: 1000\n",
            "Sufficient balance\n"
          ]
        }
      ]
    },
    {
      "cell_type": "markdown",
      "source": [
        "You have a variable income. Write a conditional statement to print \"High income\" if income is above 100000, \"Middle income\" if income is between 50000 and 100000, and \"Low income\" if income is below 50000."
      ],
      "metadata": {
        "id": "Nt8o7ud2q8pB"
      }
    },
    {
      "cell_type": "code",
      "source": [
        "income=int(input(\"Enter income: \"))\n",
        "if income>100000:\n",
        "  print(\"High income\")\n",
        "elif income>=50000 and income<=100000:\n",
        "  print(\"Middle income\")\n",
        "else:\n",
        "    print(\"Low income\")"
      ],
      "metadata": {
        "colab": {
          "base_uri": "https://localhost:8080/"
        },
        "id": "L9xIyU0FqhT-",
        "outputId": "ec8a18bd-3133-42e5-d5da-a1f6f57914ac"
      },
      "execution_count": null,
      "outputs": [
        {
          "output_type": "stream",
          "name": "stdout",
          "text": [
            "Enter income: 500\n",
            "Low income\n"
          ]
        }
      ]
    },
    {
      "cell_type": "markdown",
      "source": [
        "\n",
        "Loops--->>>\n",
        "These are important in Python or in any other programming language as they help you to execute a block of code repeatedly. You will often come face to face with situations where you would need to use a piece of code over and over but you don't want to write the same line of code multiple times.\n",
        "\n",
        "In Python we have mainly two different types of loops :\n",
        "for loop : In the context of most data science work, Python for loops are used to loop through an iterable object (like a list, tuple, set, etc.) and perform the same action for each entry. For example, a for loop would allow us to iterate through a list, performing the same action on each item in the list.\n",
        "\n",
        "while loop : The while loop is somewhat similar to an if statement, it executes the code inside, if the condition is True. However, as opposed to the if statement, the while loop continues to execute the code repeatedly as long as the condition is True."
      ],
      "metadata": {
        "id": "y1Wo37Jvv95w"
      }
    },
    {
      "cell_type": "markdown",
      "source": [
        "Practice questions-->>\n",
        "\n",
        "1. You are managing a list of employee ages. Print each age from the list using a for loop.\n",
        "\n"
      ],
      "metadata": {
        "id": "TkD_E94EwZ3l"
      }
    },
    {
      "cell_type": "code",
      "source": [
        "\n",
        "list=[19,20,21,22,23,24,25]\n",
        "for i in list:\n",
        "  print(i ,end=\" \")"
      ],
      "metadata": {
        "colab": {
          "base_uri": "https://localhost:8080/"
        },
        "id": "gLW7HI3orDqy",
        "outputId": "e87d98c0-a53b-4d2a-830a-5b395a75ad73"
      },
      "execution_count": null,
      "outputs": [
        {
          "output_type": "stream",
          "name": "stdout",
          "text": [
            "19 20 21 22 23 24 25 "
          ]
        }
      ]
    },
    {
      "cell_type": "markdown",
      "source": [
        "2. You have a string representing a secret message. Use a while loop to print each character until you reach a period (`.`).\n"
      ],
      "metadata": {
        "id": "9dBXmcArw-3A"
      }
    },
    {
      "cell_type": "code",
      "source": [
        "str1=\"Hello my name is mehak.\"\n",
        "for i in str1:\n",
        "  if i==\".\":\n",
        "    break\n",
        "  print(i,end=\" \")"
      ],
      "metadata": {
        "colab": {
          "base_uri": "https://localhost:8080/"
        },
        "id": "a4vuVsd5vHh_",
        "outputId": "b5c68efe-de19-4d39-e8c7-a1d126c41035"
      },
      "execution_count": null,
      "outputs": [
        {
          "output_type": "stream",
          "name": "stdout",
          "text": [
            "H e l l o   m y   n a m e   i s   m e h a k "
          ]
        }
      ]
    },
    {
      "cell_type": "markdown",
      "source": [
        "3. You are given a list of daily temperatures. Use a for loop to calculate and print the average temperature for the week.\n"
      ],
      "metadata": {
        "id": "6Ju03Rnfxoxg"
      }
    },
    {
      "cell_type": "code",
      "source": [
        "list=[12,23,34,56,78]\n",
        "sum=0\n",
        "for i in list:\n",
        "  sum=sum+i\n",
        "print(sum/len(list))"
      ],
      "metadata": {
        "colab": {
          "base_uri": "https://localhost:8080/"
        },
        "id": "Cb-vtsohxNue",
        "outputId": "98c94ab3-6017-49bf-dce8-1b55e7fd03c7"
      },
      "execution_count": null,
      "outputs": [
        {
          "output_type": "stream",
          "name": "stdout",
          "text": [
            "40.6\n"
          ]
        }
      ]
    },
    {
      "cell_type": "markdown",
      "source": [
        "4. You need to distribute candies to children. Print each child's name and the number of candies they receive, distributing 1 to 20 candies using a for loop.\n"
      ],
      "metadata": {
        "id": "aY6YqU9Gy6yv"
      }
    },
    {
      "cell_type": "code",
      "source": [
        "# prompt: 4. You need to distribute candies to children. Print each child's name and the number of candies they receive, distributing 1 to 20 candies using a for loop.\n",
        "\n",
        "children = ['Alice', 'Bob', 'Charlie', 'Diana', 'Eve']\n",
        "candies = range(1, 21)\n",
        "for child, candy in zip(children, candies):\n",
        "  print(f'{child} gets {candy} candies.')\n"
      ],
      "metadata": {
        "colab": {
          "base_uri": "https://localhost:8080/"
        },
        "id": "dR9RuW7cx2K2",
        "outputId": "ed0cbbc8-2393-46fc-d0a2-49dae1ae1399"
      },
      "execution_count": null,
      "outputs": [
        {
          "output_type": "stream",
          "name": "stdout",
          "text": [
            "Alice gets 1 candies.\n",
            "Bob gets 2 candies.\n",
            "Charlie gets 3 candies.\n",
            "Diana gets 4 candies.\n",
            "Eve gets 5 candies.\n"
          ]
        }
      ]
    },
    {
      "cell_type": "markdown",
      "source": [
        "\n",
        "5. You are processing a list of book titles. Use a for loop to print each title in uppercase.\n"
      ],
      "metadata": {
        "id": "q-ZXDKoG0BJD"
      }
    },
    {
      "cell_type": "code",
      "source": [
        "book=['book1','book2','book3','book4','book5']\n",
        "for i in book:\n",
        "  print(i.upper())"
      ],
      "metadata": {
        "colab": {
          "base_uri": "https://localhost:8080/"
        },
        "id": "tcciVe8DzVbx",
        "outputId": "305a3d8e-6480-405f-d76f-d8c0e8c3b6d6"
      },
      "execution_count": null,
      "outputs": [
        {
          "output_type": "stream",
          "name": "stdout",
          "text": [
            "BOOK1\n",
            "BOOK2\n",
            "BOOK3\n",
            "BOOK4\n",
            "BOOK5\n"
          ]
        }
      ]
    },
    {
      "cell_type": "markdown",
      "source": [
        "6. You are counting items in a warehouse. Use a for loop to skip printing the count for the item labeled \"defective\", but print counts for all other items.\n"
      ],
      "metadata": {
        "id": "_HadAjvV0JwV"
      }
    },
    {
      "cell_type": "code",
      "source": [
        "items=['item1','item2','item3','defective','item4','item5']\n",
        "for i in items:\n",
        "  if i==\"defective\":\n",
        "    continue\n",
        "  print(i)"
      ],
      "metadata": {
        "colab": {
          "base_uri": "https://localhost:8080/"
        },
        "id": "zFZoP0MX0G0D",
        "outputId": "a168582f-affe-4ace-d9d2-58afec18eed1"
      },
      "execution_count": null,
      "outputs": [
        {
          "output_type": "stream",
          "name": "stdout",
          "text": [
            "item1\n",
            "item2\n",
            "item3\n",
            "item4\n",
            "item5\n"
          ]
        }
      ]
    },
    {
      "cell_type": "markdown",
      "source": [
        "\n",
        "7. You are programming a countdown timer. Write a while loop to print the countdown from 10 to 0.\n",
        "\n"
      ],
      "metadata": {
        "id": "T4MS5TzB0VuQ"
      }
    },
    {
      "cell_type": "code",
      "source": [
        "count=10\n",
        "while(count>=0):\n",
        "  print(count,end=\" \")\n",
        "  count-=1"
      ],
      "metadata": {
        "colab": {
          "base_uri": "https://localhost:8080/"
        },
        "id": "A7ZuQG5L0TZf",
        "outputId": "763cb24e-1d2c-4088-aae4-3c707b403871"
      },
      "execution_count": null,
      "outputs": [
        {
          "output_type": "stream",
          "name": "stdout",
          "text": [
            "10 9 8 7 6 5 4 3 2 1 0 "
          ]
        }
      ]
    },
    {
      "cell_type": "markdown",
      "source": [],
      "metadata": {
        "id": "YpfNJXLm05gm"
      }
    },
    {
      "cell_type": "markdown",
      "source": [
        "8. You are analyzing sales data. Use a for loop to find and print the highest sale amount from a list of sales figures.\n"
      ],
      "metadata": {
        "id": "vCNWn5TE05cu"
      }
    },
    {
      "cell_type": "code",
      "source": [
        "sales= [100, 200, 300, 400, 500]\n",
        "max=sales[0]\n",
        "for i in sales:\n",
        "  if i>max:\n",
        "    max=i\n",
        "print(max)"
      ],
      "metadata": {
        "id": "oZ8tzLUg0nDP",
        "colab": {
          "base_uri": "https://localhost:8080/"
        },
        "outputId": "77e5631b-3e71-4fb0-e1db-ab2fe20fb728"
      },
      "execution_count": 2,
      "outputs": [
        {
          "output_type": "stream",
          "name": "stdout",
          "text": [
            "500\n"
          ]
        }
      ]
    },
    {
      "cell_type": "markdown",
      "source": [
        "9. You are creating a sequence of special offers. Use a for loop to generate and print the first 10 offers based on the Fibonacci sequence.\n"
      ],
      "metadata": {
        "id": "y5FwKbVhDoos"
      }
    },
    {
      "cell_type": "code",
      "source": [
        "num = 10\n",
        "n1, n2 = 0, 1\n",
        "print(\"Fibonacci Series:\", n1, n2, end=\" \")\n",
        "for i in range(2, num):\n",
        "    n3 = n1 + n2\n",
        "    n1 = n2\n",
        "    n2 = n3\n",
        "    print(n3, end=\" \")\n",
        "\n",
        "print()\n"
      ],
      "metadata": {
        "colab": {
          "base_uri": "https://localhost:8080/"
        },
        "id": "o-h1QrGRDeVa",
        "outputId": "8ad0d952-5ab7-4e3c-c531-91b83aad6834"
      },
      "execution_count": 5,
      "outputs": [
        {
          "output_type": "stream",
          "name": "stdout",
          "text": [
            "Fibonacci Series: 0 1 1 2 3 5 8 13 21 34 \n"
          ]
        }
      ]
    },
    {
      "cell_type": "markdown",
      "source": [
        "10. You are maintaining a guest list. Use a for loop to print each guest's name, but stop if you encounter the name \"VIP\".\n",
        "\n"
      ],
      "metadata": {
        "id": "cI79bGJ_E9fr"
      }
    },
    {
      "cell_type": "code",
      "source": [
        "guest=[\"mehak\",\"jacky\",\"bob\",\"oggy\",\"VIP\",\"cocroach\"]\n",
        "for i in guest:\n",
        "  if i==\"VIP\":\n",
        "    break\n",
        "  print(i)"
      ],
      "metadata": {
        "colab": {
          "base_uri": "https://localhost:8080/"
        },
        "id": "lmBumpqZD4VR",
        "outputId": "73f91537-f212-4de0-c6b9-639cce6f0935"
      },
      "execution_count": 6,
      "outputs": [
        {
          "output_type": "stream",
          "name": "stdout",
          "text": [
            "mehak\n",
            "jacky\n",
            "bob\n",
            "oggy\n"
          ]
        }
      ]
    },
    {
      "cell_type": "markdown",
      "source": [
        "\n",
        "11. You are designing a game where players' names are stored in a string. Use a while loop to print the players' names in reverse order.\n"
      ],
      "metadata": {
        "id": "NHu62WeKFTRM"
      }
    },
    {
      "cell_type": "code",
      "source": [
        "players=[\"mehak\",\"jacky\",\"bob\",\"oggy\"]\n",
        "i=len(players)-1\n",
        "while i>=0:\n",
        "  print(players[i])\n",
        "  i-=1"
      ],
      "metadata": {
        "colab": {
          "base_uri": "https://localhost:8080/"
        },
        "id": "_aMVnarIFKEt",
        "outputId": "4292b541-d30a-4268-b5c2-d8ba196fb000"
      },
      "execution_count": 1,
      "outputs": [
        {
          "output_type": "stream",
          "name": "stdout",
          "text": [
            "oggy\n",
            "bob\n",
            "jacky\n",
            "mehak\n"
          ]
        }
      ]
    },
    {
      "cell_type": "markdown",
      "source": [
        "12. You are calculating class averages. Use a for loop to calculate and print the average grade from a list of grades.\n"
      ],
      "metadata": {
        "id": "9AFKou6oKZzC"
      }
    },
    {
      "cell_type": "code",
      "source": [
        "num=[1,2,3,4,5]\n",
        "sum=0\n",
        "for i in num:\n",
        "  sum+=i\n",
        "  avg=sum/len(num)\n",
        "print(avg)"
      ],
      "metadata": {
        "colab": {
          "base_uri": "https://localhost:8080/"
        },
        "id": "xVXHg-G_FxIS",
        "outputId": "3388ccce-70b6-4857-b4da-0c167a813642"
      },
      "execution_count": 2,
      "outputs": [
        {
          "output_type": "stream",
          "name": "stdout",
          "text": [
            "3.0\n"
          ]
        }
      ]
    },
    {
      "cell_type": "markdown",
      "source": [
        "13. You are creating a list of odd-numbered lockers. Use a for loop to print all odd locker numbers from 1 to 50.\n",
        "\n"
      ],
      "metadata": {
        "id": "h81-dK8lKsrW"
      }
    },
    {
      "cell_type": "code",
      "source": [
        "list=[]\n",
        "for i in range (1,51):\n",
        "  if i%2!=0:\n",
        "    list.append(i)\n",
        "print(list)"
      ],
      "metadata": {
        "colab": {
          "base_uri": "https://localhost:8080/"
        },
        "id": "gMhz1ak6Kphr",
        "outputId": "22d2ead4-dd0a-4a10-b580-8fdfb5fdea5a"
      },
      "execution_count": 3,
      "outputs": [
        {
          "output_type": "stream",
          "name": "stdout",
          "text": [
            "[1, 3, 5, 7, 9, 11, 13, 15, 17, 19, 21, 23, 25, 27, 29, 31, 33, 35, 37, 39, 41, 43, 45, 47, 49]\n"
          ]
        }
      ]
    },
    {
      "cell_type": "markdown",
      "source": [
        "14. You are checking production line output. Use a while loop to print each item produced until you encounter a defective item marked with a negative number.\n"
      ],
      "metadata": {
        "id": "cC5KG0XuK8ht"
      }
    },
    {
      "cell_type": "code",
      "source": [
        "# prompt:\n",
        "\n",
        "production = [10, 20, 30, -1, 40, 50]\n",
        "\n",
        "i = 0\n",
        "while production[i] > 0:\n",
        "    print(production[i])\n",
        "    i += 1\n"
      ],
      "metadata": {
        "id": "pAI5d6NWK5JN"
      },
      "execution_count": null,
      "outputs": []
    },
    {
      "cell_type": "markdown",
      "source": [
        "\n",
        "15. You are performing data analysis on a list of survey responses. Use a for loop to create a new list containing the squared value of each response.\n",
        "\n"
      ],
      "metadata": {
        "id": "IU5rs223LZud"
      }
    },
    {
      "cell_type": "code",
      "source": [
        "list=[1,2,3,4,5]\n",
        "for i in num:\n",
        "  print(i**2)"
      ],
      "metadata": {
        "colab": {
          "base_uri": "https://localhost:8080/"
        },
        "id": "8JtpvVJALaqI",
        "outputId": "e9f07357-95ef-4e0b-b05d-1c3276c2cf9c"
      },
      "execution_count": 4,
      "outputs": [
        {
          "output_type": "stream",
          "name": "stdout",
          "text": [
            "1\n",
            "4\n",
            "9\n",
            "16\n",
            "25\n"
          ]
        }
      ]
    },
    {
      "cell_type": "markdown",
      "source": [
        "16. You are organizing a fun run. Use a for loop to iterate over participant numbers from 1 to 30, printing \"Short Run\" for multiples of 3, \"Long Run\" for multiples of 5, and \"Marathon\" for multiples of both 3 and 5.\n"
      ],
      "metadata": {
        "id": "4KKQoU0dLkva"
      }
    },
    {
      "cell_type": "code",
      "source": [
        "for i in range(1,31):\n",
        "  if i%3==0 and i%5==0:\n",
        "    print(\"Marathon\")\n",
        "  elif i%3==0:\n",
        "    print(\"Short Run\")\n",
        "  elif i%5==0:\n",
        "    print(\"Long Run\")"
      ],
      "metadata": {
        "colab": {
          "base_uri": "https://localhost:8080/"
        },
        "id": "RA8zq0TzLhXU",
        "outputId": "a6abb4cb-28bc-4a4c-d029-ee27eebb8e44"
      },
      "execution_count": 5,
      "outputs": [
        {
          "output_type": "stream",
          "name": "stdout",
          "text": [
            "Short Run\n",
            "Long Run\n",
            "Short Run\n",
            "Short Run\n",
            "Long Run\n",
            "Short Run\n",
            "Marathon\n",
            "Short Run\n",
            "Long Run\n",
            "Short Run\n",
            "Short Run\n",
            "Long Run\n",
            "Short Run\n",
            "Marathon\n"
          ]
        }
      ]
    },
    {
      "cell_type": "markdown",
      "source": [
        "17. You are managing a grid-based game. Use nested for loops to print each cell value in a 2D grid representing the game board.\n"
      ],
      "metadata": {
        "id": "YY8WoPjJMBxh"
      }
    },
    {
      "cell_type": "code",
      "source": [
        "game_board = [\n",
        "    [1, 2, 3],\n",
        "    [4, 5, 6],\n",
        "    [7, 8, 9]\n",
        "]\n",
        "for row in game_board:\n",
        "    for cell in row:\n",
        "        print(cell, end=' ')\n",
        "    print(\"\\n\")\n"
      ],
      "metadata": {
        "colab": {
          "base_uri": "https://localhost:8080/"
        },
        "id": "0K1IBnzPMAIy",
        "outputId": "c469a660-18f7-48a3-f6d7-0a26459af63d"
      },
      "execution_count": 12,
      "outputs": [
        {
          "output_type": "stream",
          "name": "stdout",
          "text": [
            "1 2 3 \n",
            "\n",
            "4 5 6 \n",
            "\n",
            "7 8 9 \n",
            "\n"
          ]
        }
      ]
    },
    {
      "cell_type": "markdown",
      "source": [
        "18. You are summing digits of a player's score repeatedly until the score is a single digit. Use a while loop to perform this sum.\n"
      ],
      "metadata": {
        "id": "PJwrDztuNgXt"
      }
    },
    {
      "cell_type": "code",
      "source": [
        "score = 9875\n",
        "\n",
        "while score >= 10:\n",
        "    sum = 0\n",
        "    while score > 0:\n",
        "        sum += score % 10\n",
        "        score //= 10\n",
        "    score = sum\n",
        "print(score)\n",
        "print()"
      ],
      "metadata": {
        "colab": {
          "base_uri": "https://localhost:8080/"
        },
        "id": "NjL7HLH0MfXh",
        "outputId": "6a8cbf9c-07e1-4870-db9e-7168441e0b2b"
      },
      "execution_count": 15,
      "outputs": [
        {
          "output_type": "stream",
          "name": "stdout",
          "text": [
            "2\n",
            "\n"
          ]
        }
      ]
    },
    {
      "cell_type": "markdown",
      "source": [
        "\n",
        "20. You are developing a text analysis tool. Use a for loop to count and print the number of vowels in a given string.\n"
      ],
      "metadata": {
        "id": "Sjyy0dGkOeZR"
      }
    },
    {
      "cell_type": "code",
      "source": [
        "\n",
        "vowels = \"Hello where are you\"\n",
        "count=0\n",
        "for i in vowels:\n",
        "  if i==\"a\"or i==\"e\" or i==\"i\" or i==\"o\" or i==\"u\":\n",
        "    count+=1\n",
        "print(\"Task 20:\", count)\n",
        "print()\n"
      ],
      "metadata": {
        "colab": {
          "base_uri": "https://localhost:8080/"
        },
        "id": "cFkVf6CxNumm",
        "outputId": "146bca40-eec6-4070-d410-ca7cd7b6721d"
      },
      "execution_count": 18,
      "outputs": [
        {
          "output_type": "stream",
          "name": "stdout",
          "text": [
            "Task 20: 8\n",
            "\n"
          ]
        }
      ]
    },
    {
      "cell_type": "markdown",
      "source": [
        "# Task 21: Print the multiplication table for a given number up to 10\n"
      ],
      "metadata": {
        "id": "M9KHFJ5LPVLS"
      }
    },
    {
      "cell_type": "code",
      "source": [
        "number = 7\n",
        "print(\"Task 21:\")\n",
        "i = 1\n",
        "while i <= 10:\n",
        "    print(f\"{number} x {i} = {number * i}\")\n",
        "    i += 1\n",
        "print()"
      ],
      "metadata": {
        "colab": {
          "base_uri": "https://localhost:8080/"
        },
        "id": "ouQP73ToO0Rf",
        "outputId": "3bd4aad8-546f-434f-d535-31a8491cdf5d"
      },
      "execution_count": 19,
      "outputs": [
        {
          "output_type": "stream",
          "name": "stdout",
          "text": [
            "Task 21:\n",
            "7 x 1 = 7\n",
            "7 x 2 = 14\n",
            "7 x 3 = 21\n",
            "7 x 4 = 28\n",
            "7 x 5 = 35\n",
            "7 x 6 = 42\n",
            "7 x 7 = 49\n",
            "7 x 8 = 56\n",
            "7 x 9 = 63\n",
            "7 x 10 = 70\n",
            "\n"
          ]
        }
      ]
    },
    {
      "cell_type": "markdown",
      "source": [
        "21. You are writing a program to print multiplication tables. Use a while loop to print the multiplication table for a given number up to 10.\n"
      ],
      "metadata": {
        "id": "e6dJRgwePhBV"
      }
    },
    {
      "cell_type": "code",
      "source": [
        "number=10\n",
        "i=1\n",
        "while i<=10:\n",
        "  print(number,\"x\",i,\"=\",number*i)\n",
        "  i+=1"
      ],
      "metadata": {
        "colab": {
          "base_uri": "https://localhost:8080/"
        },
        "id": "onnw_FK2PZl1",
        "outputId": "99e4ad20-8e2d-442b-f8ae-f65ec4da5f17"
      },
      "execution_count": 20,
      "outputs": [
        {
          "output_type": "stream",
          "name": "stdout",
          "text": [
            "10 x 1 = 10\n",
            "10 x 2 = 20\n",
            "10 x 3 = 30\n",
            "10 x 4 = 40\n",
            "10 x 5 = 50\n",
            "10 x 6 = 60\n",
            "10 x 7 = 70\n",
            "10 x 8 = 80\n",
            "10 x 9 = 90\n",
            "10 x 10 = 100\n"
          ]
        }
      ]
    },
    {
      "cell_type": "markdown",
      "source": [
        "22. You are filtering a list of survey responses. Use a for loop to create a new list containing only positive responses.\n"
      ],
      "metadata": {
        "id": "DUptIzt7QNnQ"
      }
    },
    {
      "cell_type": "code",
      "source": [
        "list=[1,2,3,4,5]\n",
        "new_list=[]\n",
        "for i in list:\n",
        "  if i>0:\n",
        "    new_list.append(i)\n",
        "print(new_list)"
      ],
      "metadata": {
        "colab": {
          "base_uri": "https://localhost:8080/"
        },
        "id": "VwUUsLf9P1_6",
        "outputId": "7c42b6a9-0816-471a-e12f-d40783759d26"
      },
      "execution_count": 21,
      "outputs": [
        {
          "output_type": "stream",
          "name": "stdout",
          "text": [
            "[1, 2, 3, 4, 5]\n"
          ]
        }
      ]
    },
    {
      "cell_type": "markdown",
      "source": [
        "24. You are creating a menu-driven application. Use a while loop to repeatedly ask the user for input until they type \"exit\".\n"
      ],
      "metadata": {
        "id": "2KP9qx8rQb-R"
      }
    },
    {
      "cell_type": "code",
      "source": [
        "menu=input(\"Enter menu: \")\n",
        "while menu!=\"exit\":\n",
        "  menu=input(\"Enter menu:\")\n"
      ],
      "metadata": {
        "colab": {
          "base_uri": "https://localhost:8080/"
        },
        "id": "0HWm3tijQWfC",
        "outputId": "7c892de3-3e0e-4e45-d571-d170e9e5a618"
      },
      "execution_count": 22,
      "outputs": [
        {
          "name": "stdout",
          "output_type": "stream",
          "text": [
            "Enter menu: hello\n",
            "Enter menu:exit\n"
          ]
        }
      ]
    },
    {
      "cell_type": "markdown",
      "source": [
        "26. You are converting temperatures for a weather app. Use a for loop to convert each temperature from Celsius to Fahrenheit and print the results.\n"
      ],
      "metadata": {
        "id": "lz0JS5WXQ6s8"
      }
    },
    {
      "cell_type": "code",
      "source": [
        "celsius_temperatures = [0, 20, 100]\n",
        "for celsius in celsius_temperatures:\n",
        "  fahrenheit = (celsius * 9/5) + 32\n",
        "  print(f\"{celsius}°C = {fahrenheit}°F\")"
      ],
      "metadata": {
        "colab": {
          "base_uri": "https://localhost:8080/"
        },
        "id": "VDzjpifMQwCi",
        "outputId": "d1e6f637-fece-44d0-f98e-52f6d81bb52c"
      },
      "execution_count": 25,
      "outputs": [
        {
          "output_type": "stream",
          "name": "stdout",
          "text": [
            "0°C = 32.0°F\n",
            "20°C = 68.0°F\n",
            "100°C = 212.0°F\n"
          ]
        }
      ]
    },
    {
      "cell_type": "code",
      "source": [
        "# Task 27: Print each key-value pair in a list of dictionaries\n",
        "configurations = [\n",
        "    {\"setting1\": \"value1\", \"setting2\": \"value2\"},\n",
        "    {\"settingA\": \"valueA\", \"settingB\": \"valueB\"}\n",
        "]\n",
        "print(\"Task 27:\")\n",
        "for config in configurations:\n",
        "    for key, value in config.items():\n",
        "        print(f\"{key}: {value}\")\n",
        "print()\n",
        "\n",
        "# Task 28: Reverse a list and print the reversed list\n",
        "data_points = [1, 2, 3, 4, 5]\n",
        "reversed_list = []\n",
        "index = len(data_points) - 1\n",
        "print(\"Task 28:\")\n",
        "while index >= 0:\n",
        "    reversed_list.append(data_points[index])\n",
        "    index -= 1\n",
        "print(reversed_list)\n",
        "print()\n",
        "\n",
        "# Task 29: Determine and print the longest keyword\n",
        "keywords = [\"python\", \"java\", \"c\", \"javascript\"]\n",
        "longest_keyword = max(keywords, key=len)\n",
        "print(\"Task 29:\", longest_keyword)\n",
        "print()\n",
        "\n",
        "# Task 30: Print the factorial of a given number\n",
        "number = 5\n",
        "factorial = 1\n",
        "print(\"Task 30:\")\n",
        "for i in range(1, number + 1):\n",
        "    factorial *= i\n",
        "print(factorial)\n",
        "print()\n",
        "\n",
        "# Task 31: Print the sum of each pair from a list of tuples\n",
        "pairs = [(1, 2), (3, 4), (5, 6)]\n",
        "print(\"Task 31:\")\n",
        "for pair in pairs:\n",
        "  sum+=pair[0]+pair[1]\n",
        "  print(sum)\n",
        "print()\n",
        "\n",
        "# Task 32: Print each character and its index\n",
        "string = \"example\"\n",
        "print(\"Task 32:\")\n",
        "for index, char in enumerate(string):\n",
        "    print(f\"Index: {index}, Character: {char}\")\n",
        "print()\n",
        "\n",
        "# Task 33: Generate the first 15 terms of a sequence based on the sum of the two preceding numbers\n",
        "terms = [0, 1]\n",
        "print(\"Task 33:\")\n",
        "while len(terms) < 15:\n",
        "    terms.append(terms[-1] + terms[-2])\n",
        "print(terms)\n",
        "print()\n",
        "\n",
        "# Task 34: Print each number in a list along with its square\n",
        "numbers = [1, 2, 3, 4, 5]\n",
        "print(\"Task 34:\")\n",
        "for number in numbers:\n",
        "    print(f\"{number} squared is {number ** 2}\")\n",
        "print()\n",
        "\n",
        "# Task 35: Print the transpose of a given matrix\n",
        "matrix = [\n",
        "    [1, 2, 3],\n",
        "    [4, 5, 6],\n",
        "    [7, 8, 9]\n",
        "]\n",
        "print(\"Task 35:\")\n",
        "for i in range(len(matrix[0])):\n",
        "    for j in range(len(matrix)):\n",
        "        print(matrix[j][i], end=' ')\n",
        "    print()\n",
        "print()\n",
        "\n",
        "# Task 36: Find the greatest common divisor (GCD) of two numbers using the Euclidean algorithm\n",
        "a, b = 48, 18\n",
        "print(\"Task 36:\")\n",
        "while b:\n",
        "    a, b = b, a % b\n",
        "print(\"GCD:\", a)\n",
        "print()\n",
        "\n",
        "# Task 37: Print each word in a sentence on a new line\n",
        "sentence = \"This is a sample sentence\"\n",
        "print(\"Task 37:\")\n",
        "for word in sentence.split():\n",
        "    print(word)\n",
        "print()\n",
        "\n",
        "# Task 38: Print event messages until a \"stop\" event is encountered\n",
        "events = [\"start\", \"load\", \"process\", \"stop\", \"unload\"]\n",
        "index = 0\n",
        "print(\"Task 38:\")\n",
        "while index < len(events):\n",
        "    event = events[index]\n",
        "    if event == \"stop\":\n",
        "        break\n",
        "    print(event)\n",
        "    index += 1\n",
        "print()\n",
        "\n",
        "# Task 39: Print the cumulative sum and stop once the threshold is exceeded\n",
        "numbers = [10, 20, 30, 40, 50]\n",
        "threshold = 100\n",
        "cumulative_sum = 0\n",
        "print(\"Task 39:\")\n",
        "for number in numbers:\n",
        "    cumulative_sum += number\n",
        "    print(cumulative_sum)\n",
        "    if cumulative_sum > threshold:\n",
        "        break\n",
        "print()\n",
        "\n",
        "# Task 40: Print each name in \"Last, First\" format\n",
        "names = [\"John Doe\", \"Jane Smith\", \"Alice Johnson\"]\n",
        "print(\"Task 40:\")\n",
        "for name in names:\n",
        "    first, last = name.split()\n",
        "    print(f\"{last}, {first}\")"
      ],
      "metadata": {
        "colab": {
          "base_uri": "https://localhost:8080/"
        },
        "id": "aG4zzdU5SQpQ",
        "outputId": "d680d422-596c-4454-e711-6fdb8f21ba63"
      },
      "execution_count": 29,
      "outputs": [
        {
          "output_type": "stream",
          "name": "stdout",
          "text": [
            "Task 27:\n",
            "setting1: value1\n",
            "setting2: value2\n",
            "settingA: valueA\n",
            "settingB: valueB\n",
            "\n",
            "Task 28:\n",
            "[5, 4, 3, 2, 1]\n",
            "\n",
            "Task 29: javascript\n",
            "\n",
            "Task 30:\n",
            "120\n",
            "\n",
            "Task 31:\n",
            "5\n",
            "12\n",
            "23\n",
            "\n",
            "Task 32:\n",
            "Index: 0, Character: e\n",
            "Index: 1, Character: x\n",
            "Index: 2, Character: a\n",
            "Index: 3, Character: m\n",
            "Index: 4, Character: p\n",
            "Index: 5, Character: l\n",
            "Index: 6, Character: e\n",
            "\n",
            "Task 33:\n",
            "[0, 1, 1, 2, 3, 5, 8, 13, 21, 34, 55, 89, 144, 233, 377]\n",
            "\n",
            "Task 34:\n",
            "1 squared is 1\n",
            "2 squared is 4\n",
            "3 squared is 9\n",
            "4 squared is 16\n",
            "5 squared is 25\n",
            "\n",
            "Task 35:\n",
            "1 4 7 \n",
            "2 5 8 \n",
            "3 6 9 \n",
            "\n",
            "Task 36:\n",
            "GCD: 6\n",
            "\n",
            "Task 37:\n",
            "This\n",
            "is\n",
            "a\n",
            "sample\n",
            "sentence\n",
            "\n",
            "Task 38:\n",
            "start\n",
            "load\n",
            "process\n",
            "\n",
            "Task 39:\n",
            "10\n",
            "30\n",
            "60\n",
            "100\n",
            "150\n",
            "\n",
            "Task 40:\n",
            "Doe, John\n",
            "Smith, Jane\n",
            "Johnson, Alice\n"
          ]
        }
      ]
    },
    {
      "cell_type": "code",
      "source": [],
      "metadata": {
        "id": "rBm3GTdJSfsM"
      },
      "execution_count": null,
      "outputs": []
    }
  ]
}