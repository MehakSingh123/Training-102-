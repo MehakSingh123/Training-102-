{
  "nbformat": 4,
  "nbformat_minor": 0,
  "metadata": {
    "colab": {
      "provenance": [],
      "authorship_tag": "ABX9TyNvgKMrRliGR2LT1bSMhPPd",
      "include_colab_link": true
    },
    "kernelspec": {
      "name": "python3",
      "display_name": "Python 3"
    },
    "language_info": {
      "name": "python"
    }
  },
  "cells": [
    {
      "cell_type": "markdown",
      "metadata": {
        "id": "view-in-github",
        "colab_type": "text"
      },
      "source": [
        "<a href=\"https://colab.research.google.com/github/MehakSingh123/Training-102-/blob/main/First_.ipynb\" target=\"_parent\"><img src=\"https://colab.research.google.com/assets/colab-badge.svg\" alt=\"Open In Colab\"/></a>"
      ]
    },
    {
      "cell_type": "code",
      "execution_count": null,
      "metadata": {
        "colab": {
          "base_uri": "https://localhost:8080/"
        },
        "id": "FJywJW6axOyw",
        "outputId": "1b14da08-ee77-417b-8b1b-329927a23fc3"
      },
      "outputs": [
        {
          "output_type": "stream",
          "name": "stdout",
          "text": [
            "Hello World\n"
          ]
        }
      ],
      "source": [
        "print(\"Hello World\")"
      ]
    },
    {
      "cell_type": "code",
      "source": [
        "a=complex(2,6)\n",
        "print(a)"
      ],
      "metadata": {
        "colab": {
          "base_uri": "https://localhost:8080/"
        },
        "id": "Yp48ZAHOyyhE",
        "outputId": "6aa322ba-c422-4358-8d54-affc6691f3e6"
      },
      "execution_count": null,
      "outputs": [
        {
          "output_type": "stream",
          "name": "stdout",
          "text": [
            "(2+6j)\n"
          ]
        }
      ]
    },
    {
      "cell_type": "code",
      "source": [
        "#Addition\n",
        "print(22+30)\n",
        "#Subtract\n",
        "print(52-10)\n",
        "#divide\n",
        "print(5/2)\n",
        "#Multiply\n",
        "print(2*1)\n",
        "#Modulo\n",
        "e=5%2\n",
        "print(e)\n",
        "\n",
        "print(5//2)\n",
        "print(3**2)"
      ],
      "metadata": {
        "colab": {
          "base_uri": "https://localhost:8080/"
        },
        "id": "BUqrih3Ezk9N",
        "outputId": "8ee89afc-a61d-4845-d11b-a99182795540"
      },
      "execution_count": null,
      "outputs": [
        {
          "output_type": "stream",
          "name": "stdout",
          "text": [
            "52\n",
            "42\n",
            "2.5\n",
            "2\n",
            "1\n",
            "2\n",
            "9\n"
          ]
        }
      ]
    },
    {
      "cell_type": "code",
      "source": [
        "#If no of operators are taken thus their implementation is based on precedence and associtivity like bodmas\n",
        "print((5+2)*3**2-1)"
      ],
      "metadata": {
        "colab": {
          "base_uri": "https://localhost:8080/"
        },
        "id": "Xnblbfdr0oLo",
        "outputId": "e66d0ca7-acb7-4d1e-879f-868444c81d4c"
      },
      "execution_count": null,
      "outputs": [
        {
          "output_type": "stream",
          "name": "stdout",
          "text": [
            "62\n"
          ]
        }
      ]
    },
    {
      "cell_type": "code",
      "source": [
        "# An operator working behind the scoreboard of a inter cohort AlmaBetter cricket tournament, is responsible for updating the scores and points of each team. However, the operator is currently facing a challenge. He has been tasked with updating the total number of points gained by Team London, but he does not possess the necessary programming skills to complete this task. According to the tournament's rules, teams are awarded the following points based on the outcome of a match:\n",
        "# ﻿﻿wins: 3 points\n",
        "# ﻿﻿draws: 1 point\n",
        "# ﻿﻿losses: 0 points\n",
        "# Team London has played 9 matches in this tournament. They won 6 matches, lost 2 matches and drew 1. The operator is in need of assistance o calculate the total number of points earned by Team London. As a python expert adept with knowledge of integer, floats and boolean, you an help the operator by writing a solution for the following problem.\n",
        "# Vhat would your approach be?\n",
        "won=int(input(\"Enter the won matches\"))\n",
        "draw=int(input(\"Enter draw matches\"))\n",
        "lose=int(input(\"Enter lose matches\"))\n",
        "match=9\n",
        "total=6*won+2*lose+1*draw\n",
        "print(total)"
      ],
      "metadata": {
        "colab": {
          "base_uri": "https://localhost:8080/"
        },
        "id": "Irq8mzXH12eI",
        "outputId": "434e42f8-b830-483a-aff5-34a85686e24f"
      },
      "execution_count": null,
      "outputs": [
        {
          "output_type": "stream",
          "name": "stdout",
          "text": [
            "Enter the won matches3\n",
            "Enter draw matches1\n",
            "Enter lose matches0\n",
            "19\n"
          ]
        }
      ]
    },
    {
      "cell_type": "code",
      "source": [
        "#type() function\n",
        "#rules of writing variables\n",
        "#different data types\n",
        "# Imagine you are a data analyst at a nutrition bar manufacturing company. Your department head approaches you with a question. The company produces a nutrition bar that contains 50g of raisins, 60g of almonds, and 20g of apricots. The head of the manufacturing department wants you to create an ingredient percentage list for the nutrition bar using python.\n",
        "# Equipped with the knowledge of int, float and booleans in python, how would you approach this situation?\n",
        "rasins=50\n",
        "almonds=60\n",
        "apricot=20\n",
        "sum=rasins+almonds+apricot\n",
        "percentapri=(apricot/sum)*100\n",
        "percentalmond=(almonds/sum)*100\n",
        "percentrasins=(rasins/sum)*100\n",
        "print(round(percentapri),round(percentalmond),round(percentrasins))"
      ],
      "metadata": {
        "colab": {
          "base_uri": "https://localhost:8080/"
        },
        "id": "a3BP9i1l3fNq",
        "outputId": "68ec7a8f-bd35-4b02-817c-875c218d3032"
      },
      "execution_count": null,
      "outputs": [
        {
          "output_type": "stream",
          "name": "stdout",
          "text": [
            "15 46 38\n"
          ]
        }
      ]
    },
    {
      "cell_type": "code",
      "source": [
        "\n",
        "#BOLLEAN values-TRUE FALSE->Decision making statements used in programming\n",
        "#Comparison operators->==,<=,>=,!=,<,>\n",
        "boolean_var=False\n",
        "type(boolean_var)"
      ],
      "metadata": {
        "colab": {
          "base_uri": "https://localhost:8080/"
        },
        "id": "JBJ7zhPi8D_y",
        "outputId": "caf42b87-46e7-4bf1-9235-793f44cc58b5"
      },
      "execution_count": null,
      "outputs": [
        {
          "output_type": "execute_result",
          "data": {
            "text/plain": [
              "bool"
            ]
          },
          "metadata": {},
          "execution_count": 39
        }
      ]
    },
    {
      "cell_type": "markdown",
      "source": [
        "#Questions\n",
        "#Q1.⁠*You're creating a program to manage a zoo's animal population. Declare a variable ⁠ lion_population ⁠ with an initial value of ⁠ 10 ⁠. The zoo welcomes ⁠ 5 ⁠ new lion cubs. Update the ⁠ lion_population ⁠ variable and print the total lion population.*"
      ],
      "metadata": {
        "id": "8QrTN-g0llvD"
      }
    },
    {
      "cell_type": "code",
      "source": [
        "#Assignment operators\n",
        "\n",
        "lion_population=10\n",
        "new_lio=5\n",
        "lion_population+=new_lio\n",
        "print(lion_population)"
      ],
      "metadata": {
        "colab": {
          "base_uri": "https://localhost:8080/"
        },
        "id": "geHczanQAB9C",
        "outputId": "c1af82e8-a692-46f9-83b6-c4ede47c9599"
      },
      "execution_count": null,
      "outputs": [
        {
          "output_type": "stream",
          "name": "stdout",
          "text": [
            "15\n"
          ]
        }
      ]
    },
    {
      "cell_type": "markdown",
      "source": [
        "2.⁠ ⁠*You're developing a weather monitoring system. Declare a variable ⁠ temperature ⁠ with a value of ⁠ 25.5 ⁠ degrees Celsius. Due to a sudden heatwave, the temperature increases by ⁠ 8 ⁠ degrees. Update and print the new temperature.*\n",
        "temp=25.5"
      ],
      "metadata": {
        "id": "wkj_NAuSliQp"
      }
    },
    {
      "cell_type": "code",
      "source": [
        "\n",
        "increase=int(input(\"Enter increase\"))\n",
        "temp=temp+temp*(increase/100)\n",
        "print(temp)"
      ],
      "metadata": {
        "colab": {
          "base_uri": "https://localhost:8080/"
        },
        "id": "A6PQXG1XCNlN",
        "outputId": "05c6ca04-2f91-43ff-b1aa-61e004e368a4"
      },
      "execution_count": null,
      "outputs": [
        {
          "output_type": "stream",
          "name": "stdout",
          "text": [
            "Enter increase8\n",
            "27.54\n"
          ]
        }
      ]
    },
    {
      "cell_type": "markdown",
      "source": [
        "3.⁠ ⁠*A science experiment involves tracking the growth of a plant. Declare a variable ⁠ plant_height ⁠ with an initial value of ⁠ 15 ⁠ centimeters. Over a week, the plant grows ⁠ 2.5 ⁠ centimeters taller each day. Update and print the final height of the plant after the week.*"
      ],
      "metadata": {
        "id": "u-qZO7pGlfXi"
      }
    },
    {
      "cell_type": "code",
      "source": [
        "\n",
        "plant_height=5\n",
        "increae=2.5\n",
        "plant_height=(plant_height+increase)*7\n",
        "print(plant_height)"
      ],
      "metadata": {
        "colab": {
          "base_uri": "https://localhost:8080/"
        },
        "id": "5J14zAmkC3PS",
        "outputId": "e4352a3e-4536-4af3-fca1-312b92048e6a"
      },
      "execution_count": null,
      "outputs": [
        {
          "output_type": "stream",
          "name": "stdout",
          "text": [
            "91\n"
          ]
        }
      ]
    },
    {
      "cell_type": "markdown",
      "source": [
        "4.⁠ ⁠*You're designing a space mission trajectory. Declare variables ⁠ initial_velocity ⁠ and ⁠ acceleration ⁠ with values ⁠ 3000 ⁠ meters per second and ⁠ 500 ⁠ meters per second squared respectively. Calculate and print the final velocity after ⁠ 10 ⁠ seconds.*\n",
        "\n",
        "intial_velocity=3000"
      ],
      "metadata": {
        "id": "tH6oyhryldHi"
      }
    },
    {
      "cell_type": "code",
      "source": [
        "\n",
        "acc=500\n",
        "final_velocity=intial_velocity+(acc*10)\n",
        "print(final_velocity)"
      ],
      "metadata": {
        "colab": {
          "base_uri": "https://localhost:8080/"
        },
        "id": "Ii8r4h4aDaMs",
        "outputId": "6db62068-a7e4-4479-ccf4-a13061608e18"
      },
      "execution_count": null,
      "outputs": [
        {
          "output_type": "stream",
          "name": "stdout",
          "text": [
            "8000\n"
          ]
        }
      ]
    },
    {
      "cell_type": "markdown",
      "source": [],
      "metadata": {
        "id": "g0N3lDCDFEcY"
      }
    },
    {
      "cell_type": "markdown",
      "source": [
        "5.⁠ ⁠*A group of friends is sharing a pizza. Declare a variable ⁠ pizza_slices ⁠ with a value of ⁠ 8 ⁠. Each friend wants to have an equal number of slices, and there are ⁠ 5 ⁠ friends. Calculate and print the maximum number of slices each friend can have without cutting the pizza.*\n",
        "pizza=8"
      ],
      "metadata": {
        "id": "Jou9842tlX6L"
      }
    },
    {
      "cell_type": "code",
      "source": [
        "\n",
        "pizza=8\n",
        "friends=5\n",
        "print(pizza//friends)"
      ],
      "metadata": {
        "colab": {
          "base_uri": "https://localhost:8080/"
        },
        "id": "DrabUtpbD-TQ",
        "outputId": "cace5ed6-14a4-4432-845c-8a410261a918"
      },
      "execution_count": null,
      "outputs": [
        {
          "output_type": "stream",
          "name": "stdout",
          "text": [
            "1\n"
          ]
        }
      ]
    },
    {
      "cell_type": "markdown",
      "source": [
        "⁠*You're modeling the movement of a pendulum. Declare a variable ⁠ pendulum_length ⁠ with a value of ⁠ 1.2 ⁠ meters. Calculate and print the period of oscillation (time taken for one complete swing) using the formula \\( T = 2\\pi \\sqrt{\\frac{L}{g}} \\), where \\( \\pi \\) is pi (approximately 3.14159) and \\( g \\) is the acceleration due to gravity (approximately \\( 9.81 \\) meters per second squared).*"
      ],
      "metadata": {
        "id": "1a22Vy4ilSqe"
      }
    },
    {
      "cell_type": "code",
      "source": [
        "\n",
        "pendulum=1.2\n",
        "pi=3.14159\n",
        "g=9.8\n",
        "time=2*pi*(math.sqrt(pendulum/g))\n",
        "print(time)\n"
      ],
      "metadata": {
        "colab": {
          "base_uri": "https://localhost:8080/"
        },
        "id": "0ikUyPz1E_B0",
        "outputId": "db6218a3-b695-48c5-df39-1798d5c9daab"
      },
      "execution_count": null,
      "outputs": [
        {
          "output_type": "stream",
          "name": "stdout",
          "text": [
            "2.198654994580058\n"
          ]
        }
      ]
    },
    {
      "cell_type": "markdown",
      "source": [
        " 7.⁠ ⁠*A software company is tracking the number of bugs in their codebase. Declare a variable ⁠ bug_count ⁠ with an initial value of ⁠ 100 ⁠. After a round of debugging, ⁠ 35 ⁠ bugs are fixed. Update and print the new ⁠ bug_count ⁠.*\n"
      ],
      "metadata": {
        "id": "CB5P2iDTGtVG"
      }
    },
    {
      "cell_type": "code",
      "source": [
        "bug_count=100\n",
        "bug_fixed=35\n",
        "bug_count-=bug_fixed\n",
        "print(bug_count)"
      ],
      "metadata": {
        "colab": {
          "base_uri": "https://localhost:8080/"
        },
        "id": "3W1que3OF2he",
        "outputId": "052ae90e-0db7-4dfd-9f1f-afa174966af6"
      },
      "execution_count": null,
      "outputs": [
        {
          "output_type": "stream",
          "name": "stdout",
          "text": [
            "65\n"
          ]
        }
      ]
    },
    {
      "cell_type": "markdown",
      "source": [
        " 8.⁠ ⁠*You're building a game where players collect gems. Declare a variable ⁠ gem_count ⁠ with an initial value of ⁠ 50 ⁠. Each time a player finds a gem, ⁠ 5 ⁠ gems are added to their collection. Update and print the new ⁠ gem_count ⁠.*"
      ],
      "metadata": {
        "id": "tXtGHcicHBCz"
      }
    },
    {
      "cell_type": "code",
      "source": [
        "gem_count=50\n",
        "gem_count+=5\n",
        "print(gem_count)"
      ],
      "metadata": {
        "colab": {
          "base_uri": "https://localhost:8080/"
        },
        "id": "jYZc3dJlG_Ep",
        "outputId": "a2a104a6-735a-4b91-9622-0bcfb47096f0"
      },
      "execution_count": null,
      "outputs": [
        {
          "output_type": "stream",
          "name": "stdout",
          "text": [
            "55\n"
          ]
        }
      ]
    },
    {
      "cell_type": "markdown",
      "source": [
        " 9.⁠ ⁠*A fitness tracker is monitoring a user's heart rate variability (HRV). Declare a variable ⁠ hrv_index ⁠ with an initial value of ⁠ 80 ⁠. After a relaxation session, the user's HRV improves by ⁠ 10 ⁠ points. Update and print the new ⁠ hrv_index ⁠.*\n"
      ],
      "metadata": {
        "id": "zs4sDap5HWjF"
      }
    },
    {
      "cell_type": "code",
      "source": [
        "hrv_index=80\n",
        "hrv_index+=10\n",
        "print(hrv_index)\n"
      ],
      "metadata": {
        "colab": {
          "base_uri": "https://localhost:8080/"
        },
        "id": "4qEldgWeHPDR",
        "outputId": "f0db55c5-b4ea-41ab-8ce4-46b5394e87b7"
      },
      "execution_count": null,
      "outputs": [
        {
          "output_type": "stream",
          "name": "stdout",
          "text": [
            "90\n"
          ]
        }
      ]
    },
    {
      "cell_type": "markdown",
      "source": [
        "10.⁠ ⁠*You're simulating the growth of a bacterial colony. Declare a variable ⁠ bacteria_count ⁠ with an initial value of ⁠ 5000 ⁠. Over a day, the colony doubles in size every ⁠ 4 ⁠ hours. Update and print the new ⁠ bacteria_count ⁠.*"
      ],
      "metadata": {
        "id": "jyS7d0W0Hxwu"
      }
    },
    {
      "cell_type": "code",
      "source": [
        "bacteria=5000\n",
        "hour=4\n",
        "bacteria=bacteria*2**(24/hour)\n",
        "print(bacteria)\n"
      ],
      "metadata": {
        "colab": {
          "base_uri": "https://localhost:8080/"
        },
        "id": "zSelhBSUHwkZ",
        "outputId": "58eb5a9f-416e-475a-a0de-db5de0a8bf09"
      },
      "execution_count": null,
      "outputs": [
        {
          "output_type": "stream",
          "name": "stdout",
          "text": [
            "320000.0\n"
          ]
        }
      ]
    },
    {
      "cell_type": "code",
      "source": [
        "\n"
      ],
      "metadata": {
        "id": "Neg4nEgJIOnW"
      },
      "execution_count": null,
      "outputs": []
    },
    {
      "cell_type": "code",
      "source": [],
      "metadata": {
        "id": "VVW0DyebJIMc"
      },
      "execution_count": null,
      "outputs": []
    }
  ]
}